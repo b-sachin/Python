{
 "cells": [
  {
   "cell_type": "markdown",
   "id": "475c1ab5",
   "metadata": {},
   "source": [
    "### Import Entire Module/Package"
   ]
  },
  {
   "cell_type": "code",
   "execution_count": 1,
   "id": "e35b2fa9",
   "metadata": {},
   "outputs": [],
   "source": [
    "import math"
   ]
  },
  {
   "cell_type": "code",
   "execution_count": 2,
   "id": "7d4c9f0c",
   "metadata": {},
   "outputs": [
    {
     "data": {
      "text/plain": [
       "2.0"
      ]
     },
     "execution_count": 2,
     "metadata": {},
     "output_type": "execute_result"
    }
   ],
   "source": [
    "math.sqrt(4)"
   ]
  },
  {
   "cell_type": "code",
   "execution_count": 3,
   "id": "96fd974f",
   "metadata": {},
   "outputs": [
    {
     "ename": "NameError",
     "evalue": "name 'sqrt' is not defined",
     "output_type": "error",
     "traceback": [
      "\u001b[1;31m---------------------------------------------------------------------------\u001b[0m",
      "\u001b[1;31mNameError\u001b[0m                                 Traceback (most recent call last)",
      "\u001b[1;32mC:\\Users\\ITDEPA~1\\AppData\\Local\\Temp/ipykernel_4952/1103852951.py\u001b[0m in \u001b[0;36m<module>\u001b[1;34m\u001b[0m\n\u001b[1;32m----> 1\u001b[1;33m \u001b[0msqrt\u001b[0m\u001b[1;33m(\u001b[0m\u001b[1;36m4\u001b[0m\u001b[1;33m)\u001b[0m\u001b[1;33m\u001b[0m\u001b[1;33m\u001b[0m\u001b[0m\n\u001b[0m",
      "\u001b[1;31mNameError\u001b[0m: name 'sqrt' is not defined"
     ]
    }
   ],
   "source": [
    "sqrt(4)"
   ]
  },
  {
   "cell_type": "markdown",
   "id": "80208e77",
   "metadata": {},
   "source": [
    "In above type of import; you need to specify package name before calling function. `math.sqrt(4)`"
   ]
  },
  {
   "cell_type": "markdown",
   "id": "5dc92813",
   "metadata": {},
   "source": [
    "### Import only Specific function from Package and not entire Package"
   ]
  },
  {
   "cell_type": "code",
   "execution_count": 4,
   "id": "1714dd54",
   "metadata": {},
   "outputs": [],
   "source": [
    "from math import sqrt"
   ]
  },
  {
   "cell_type": "code",
   "execution_count": 5,
   "id": "f1ba9985",
   "metadata": {},
   "outputs": [
    {
     "data": {
      "text/plain": [
       "2.23606797749979"
      ]
     },
     "execution_count": 5,
     "metadata": {},
     "output_type": "execute_result"
    }
   ],
   "source": [
    "sqrt(5)"
   ]
  },
  {
   "cell_type": "code",
   "execution_count": 6,
   "id": "1a476549",
   "metadata": {},
   "outputs": [],
   "source": [
    "from math import sqrt, pi"
   ]
  },
  {
   "cell_type": "code",
   "execution_count": 7,
   "id": "24a7051c",
   "metadata": {},
   "outputs": [
    {
     "data": {
      "text/plain": [
       "3.141592653589793"
      ]
     },
     "execution_count": 7,
     "metadata": {},
     "output_type": "execute_result"
    }
   ],
   "source": [
    "pi"
   ]
  },
  {
   "cell_type": "markdown",
   "id": "6bb1f30a",
   "metadata": {},
   "source": [
    "In this type of import you don't need to specify package name while calling function. `sqrt(5)` "
   ]
  },
  {
   "cell_type": "markdown",
   "id": "1834b0e1",
   "metadata": {},
   "source": [
    "### Import all function from specific Package"
   ]
  },
  {
   "cell_type": "code",
   "execution_count": 8,
   "id": "3286fe68",
   "metadata": {},
   "outputs": [],
   "source": [
    "from math import *"
   ]
  },
  {
   "cell_type": "code",
   "execution_count": 9,
   "id": "28ce3bee",
   "metadata": {},
   "outputs": [
    {
     "data": {
      "text/plain": [
       "0.0"
      ]
     },
     "execution_count": 9,
     "metadata": {},
     "output_type": "execute_result"
    }
   ],
   "source": [
    "sin(0)"
   ]
  },
  {
   "cell_type": "code",
   "execution_count": 10,
   "id": "e23848b2",
   "metadata": {},
   "outputs": [
    {
     "data": {
      "text/plain": [
       "2.449489742783178"
      ]
     },
     "execution_count": 10,
     "metadata": {},
     "output_type": "execute_result"
    }
   ],
   "source": [
    "sqrt(6)"
   ]
  },
  {
   "cell_type": "code",
   "execution_count": 11,
   "id": "f513d0b4",
   "metadata": {},
   "outputs": [
    {
     "data": {
      "text/plain": [
       "3.141592653589793"
      ]
     },
     "execution_count": 11,
     "metadata": {},
     "output_type": "execute_result"
    }
   ],
   "source": [
    "pi"
   ]
  },
  {
   "cell_type": "markdown",
   "id": "efea8b92",
   "metadata": {},
   "source": [
    "### How to create our own Module/Package"
   ]
  },
  {
   "cell_type": "code",
   "execution_count": 12,
   "id": "bd66bc8d",
   "metadata": {},
   "outputs": [
    {
     "data": {
      "text/plain": [
       "'C:\\\\Users\\\\it department'"
      ]
     },
     "execution_count": 12,
     "metadata": {},
     "output_type": "execute_result"
    }
   ],
   "source": [
    "pwd()"
   ]
  },
  {
   "cell_type": "markdown",
   "id": "e3cda4c2",
   "metadata": {},
   "source": [
    "In present working directory create one file `mymodule.py` and write one print statement in it. (eg: `print(\"this is my first ever module\")`) and save it. now in jupyter notebook `import mymodule` using following statement to import mymodule package successfully."
   ]
  },
  {
   "cell_type": "code",
   "execution_count": 13,
   "id": "bd944f27",
   "metadata": {},
   "outputs": [
    {
     "name": "stdout",
     "output_type": "stream",
     "text": [
      "this is my first ever module\n"
     ]
    }
   ],
   "source": [
    "import mymodule"
   ]
  },
  {
   "cell_type": "code",
   "execution_count": 14,
   "id": "87b58083",
   "metadata": {},
   "outputs": [],
   "source": [
    "import mymodule"
   ]
  },
  {
   "cell_type": "code",
   "execution_count": 15,
   "id": "4ad77b7f",
   "metadata": {},
   "outputs": [],
   "source": [
    "import mymodule"
   ]
  },
  {
   "cell_type": "markdown",
   "id": "f37ccd35",
   "metadata": {},
   "source": [
    "#### To get output just like first import"
   ]
  },
  {
   "cell_type": "code",
   "execution_count": 16,
   "id": "684cfe5f",
   "metadata": {},
   "outputs": [],
   "source": [
    "import imp"
   ]
  },
  {
   "cell_type": "code",
   "execution_count": 17,
   "id": "1ac3ebf9",
   "metadata": {},
   "outputs": [
    {
     "name": "stdout",
     "output_type": "stream",
     "text": [
      "this is my first ever module\n"
     ]
    },
    {
     "data": {
      "text/plain": [
       "<module 'mymodule' from 'C:\\\\Users\\\\it department\\\\mymodule.py'>"
      ]
     },
     "execution_count": 17,
     "metadata": {},
     "output_type": "execute_result"
    }
   ],
   "source": [
    "imp.reload(mymodule)"
   ]
  },
  {
   "cell_type": "markdown",
   "id": "815a478a",
   "metadata": {},
   "source": [
    "### Create Another Package with function and import"
   ]
  },
  {
   "cell_type": "code",
   "execution_count": 18,
   "id": "2f981c5e",
   "metadata": {},
   "outputs": [],
   "source": [
    "import addition"
   ]
  },
  {
   "cell_type": "code",
   "execution_count": 19,
   "id": "4641f1de",
   "metadata": {},
   "outputs": [
    {
     "data": {
      "text/plain": [
       "9"
      ]
     },
     "execution_count": 19,
     "metadata": {},
     "output_type": "execute_result"
    }
   ],
   "source": [
    "addition.addup(4,5)"
   ]
  },
  {
   "cell_type": "code",
   "execution_count": 20,
   "id": "85f59529",
   "metadata": {},
   "outputs": [],
   "source": [
    "import mymath"
   ]
  },
  {
   "cell_type": "code",
   "execution_count": 21,
   "id": "5d17caf6",
   "metadata": {},
   "outputs": [
    {
     "data": {
      "text/plain": [
       "10"
      ]
     },
     "execution_count": 21,
     "metadata": {},
     "output_type": "execute_result"
    }
   ],
   "source": [
    "mymath.addition(4,6)"
   ]
  },
  {
   "cell_type": "code",
   "execution_count": 23,
   "id": "a4ec28da",
   "metadata": {},
   "outputs": [
    {
     "data": {
      "text/plain": [
       "3"
      ]
     },
     "execution_count": 23,
     "metadata": {},
     "output_type": "execute_result"
    }
   ],
   "source": [
    "mymath.subtraction(10,7)"
   ]
  },
  {
   "cell_type": "code",
   "execution_count": 24,
   "id": "f3f17498",
   "metadata": {},
   "outputs": [
    {
     "data": {
      "text/plain": [
       "12"
      ]
     },
     "execution_count": 24,
     "metadata": {},
     "output_type": "execute_result"
    }
   ],
   "source": [
    "mymath.multiplication(3,4)"
   ]
  },
  {
   "cell_type": "code",
   "execution_count": 30,
   "id": "def28eff",
   "metadata": {},
   "outputs": [],
   "source": [
    "import sample2"
   ]
  },
  {
   "cell_type": "code",
   "execution_count": 31,
   "id": "d01f783e",
   "metadata": {},
   "outputs": [
    {
     "data": {
      "text/plain": [
       "'This is my class'"
      ]
     },
     "execution_count": 31,
     "metadata": {},
     "output_type": "execute_result"
    }
   ],
   "source": [
    "sample2.get_msg()"
   ]
  },
  {
   "cell_type": "code",
   "execution_count": 32,
   "id": "5e0b0ae8",
   "metadata": {},
   "outputs": [],
   "source": [
    "from sample2 import get_subject"
   ]
  },
  {
   "cell_type": "code",
   "execution_count": 33,
   "id": "5475c3d9",
   "metadata": {},
   "outputs": [
    {
     "data": {
      "text/plain": [
       "['Java', 'Python', 'C', 'R']"
      ]
     },
     "execution_count": 33,
     "metadata": {},
     "output_type": "execute_result"
    }
   ],
   "source": [
    "get_subject()"
   ]
  },
  {
   "cell_type": "markdown",
   "id": "23a08e79",
   "metadata": {},
   "source": [
    "### Exercise:\n",
    "\n",
    "1. Create a directory `InsideDir` in which create 3 python files like `mod1.py`, `mod2.py`,`mod3.py` and in each python file create 3 functions like `fun11()`,`fun12()`,`fun13()` in first file and `fun21()`,`fun22()` and so on in respective files. \n",
    "2. In `InsideDir` directory create jupyter notebook `Inside.ipynb` and import al function in this notebook\n",
    "3. Outside `InsideDir` directory create a new directory `OutsideDir` and inside `OutsideDir` create jupyter notebook `Outside.ipynb` and import all functions in this notebook."
   ]
  },
  {
   "cell_type": "code",
   "execution_count": null,
   "id": "0cbbd8f7",
   "metadata": {},
   "outputs": [],
   "source": []
  }
 ],
 "metadata": {
  "kernelspec": {
   "display_name": "Python 3 (ipykernel)",
   "language": "python",
   "name": "python3"
  },
  "language_info": {
   "codemirror_mode": {
    "name": "ipython",
    "version": 3
   },
   "file_extension": ".py",
   "mimetype": "text/x-python",
   "name": "python",
   "nbconvert_exporter": "python",
   "pygments_lexer": "ipython3",
   "version": "3.9.7"
  }
 },
 "nbformat": 4,
 "nbformat_minor": 5
}
