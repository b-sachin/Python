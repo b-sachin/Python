{
 "cells": [
  {
   "cell_type": "markdown",
   "id": "ccf7e2aa",
   "metadata": {},
   "source": [
    "## File Handling"
   ]
  },
  {
   "cell_type": "markdown",
   "id": "14726b33",
   "metadata": {},
   "source": [
    "### 1. Open File"
   ]
  },
  {
   "cell_type": "code",
   "execution_count": 12,
   "id": "ffc5cab9",
   "metadata": {},
   "outputs": [
    {
     "ename": "FileNotFoundError",
     "evalue": "[Errno 2] No such file or directory: 'text.txt'",
     "output_type": "error",
     "traceback": [
      "\u001b[1;31m---------------------------------------------------------------------------\u001b[0m",
      "\u001b[1;31mFileNotFoundError\u001b[0m                         Traceback (most recent call last)",
      "\u001b[1;32mC:\\Users\\ITDEPA~1\\AppData\\Local\\Temp/ipykernel_9132/2365094185.py\u001b[0m in \u001b[0;36m<module>\u001b[1;34m\u001b[0m\n\u001b[1;32m----> 1\u001b[1;33m \u001b[0mf\u001b[0m \u001b[1;33m=\u001b[0m \u001b[0mopen\u001b[0m\u001b[1;33m(\u001b[0m\u001b[1;34m\"text.txt\"\u001b[0m\u001b[1;33m)\u001b[0m\u001b[1;33m\u001b[0m\u001b[1;33m\u001b[0m\u001b[0m\n\u001b[0m",
      "\u001b[1;31mFileNotFoundError\u001b[0m: [Errno 2] No such file or directory: 'text.txt'"
     ]
    }
   ],
   "source": [
    "f = open(\"text.txt\")"
   ]
  },
  {
   "cell_type": "markdown",
   "id": "eda96352",
   "metadata": {},
   "source": [
    "If file is not present in current directory then we get error same as above"
   ]
  },
  {
   "cell_type": "code",
   "execution_count": 13,
   "id": "c25a5a5c",
   "metadata": {},
   "outputs": [],
   "source": [
    "f = open(\"test.txt\",\"w\")"
   ]
  },
  {
   "cell_type": "markdown",
   "id": "ab39a3e0",
   "metadata": {},
   "source": [
    "Above code will check whether file is present or not. If file is present then it will open in **write** mode. If file is not present then new file will be created with same name (in above case \"test.txt\").\n",
    "\n",
    "\n",
    "we check details of function (shift+tab) then we will see second parameter is **mode = 'r'** which means if file present it will open in read mode (we cannot edit file). there are various modes are available (r,r+,rb,rb+,w,wb,wb+,a -> scrolldown in function detail to see details about these mode) ."
   ]
  },
  {
   "cell_type": "code",
   "execution_count": 14,
   "id": "85416df7",
   "metadata": {},
   "outputs": [
    {
     "data": {
      "text/plain": [
       "38"
      ]
     },
     "execution_count": 14,
     "metadata": {},
     "output_type": "execute_result"
    }
   ],
   "source": [
    "f.write(\"Hi this file is created through python\")"
   ]
  },
  {
   "cell_type": "code",
   "execution_count": 15,
   "id": "f76562a3",
   "metadata": {},
   "outputs": [],
   "source": [
    "f.close()"
   ]
  },
  {
   "cell_type": "markdown",
   "id": "8f372d5a",
   "metadata": {},
   "source": [
    "#### Opening in Read Mode"
   ]
  },
  {
   "cell_type": "code",
   "execution_count": 16,
   "id": "955121b1",
   "metadata": {},
   "outputs": [],
   "source": [
    "f2 = open(\"test.txt\")"
   ]
  },
  {
   "cell_type": "code",
   "execution_count": 17,
   "id": "008ebbc2",
   "metadata": {},
   "outputs": [
    {
     "data": {
      "text/plain": [
       "'Hi this file is created through python'"
      ]
     },
     "execution_count": 17,
     "metadata": {},
     "output_type": "execute_result"
    }
   ],
   "source": [
    "f2.read()"
   ]
  },
  {
   "cell_type": "code",
   "execution_count": 18,
   "id": "d41096ac",
   "metadata": {},
   "outputs": [
    {
     "data": {
      "text/plain": [
       "''"
      ]
     },
     "execution_count": 18,
     "metadata": {},
     "output_type": "execute_result"
    }
   ],
   "source": [
    "f2.read()"
   ]
  },
  {
   "cell_type": "markdown",
   "id": "2b730146",
   "metadata": {},
   "source": [
    "1st time file able to read data successfully but why it is not showing any data when i gave read command 2nd time?"
   ]
  },
  {
   "cell_type": "markdown",
   "id": "5109e8fe",
   "metadata": {},
   "source": [
    "When i 1st time read file then pointer start moving from first character of the file till last character in file. So when 2nd time i gave read command file read pointer is at after last character of the file and it will start reading from there thatswhy we didn't get any result but blank."
   ]
  },
  {
   "cell_type": "markdown",
   "id": "1f2ede6e",
   "metadata": {},
   "source": [
    "#### Change read pointer of file"
   ]
  },
  {
   "cell_type": "code",
   "execution_count": 24,
   "id": "ef6c14a6",
   "metadata": {},
   "outputs": [
    {
     "data": {
      "text/plain": [
       "13"
      ]
     },
     "execution_count": 24,
     "metadata": {},
     "output_type": "execute_result"
    }
   ],
   "source": [
    "f2.seek(13)"
   ]
  },
  {
   "cell_type": "code",
   "execution_count": 25,
   "id": "4edad052",
   "metadata": {},
   "outputs": [
    {
     "data": {
      "text/plain": [
       "'is created through python'"
      ]
     },
     "execution_count": 25,
     "metadata": {},
     "output_type": "execute_result"
    }
   ],
   "source": [
    "f2.read()"
   ]
  },
  {
   "cell_type": "markdown",
   "id": "d3ff2d2d",
   "metadata": {},
   "source": [
    "##### To read from 1st location"
   ]
  },
  {
   "cell_type": "code",
   "execution_count": 26,
   "id": "ac3e82ec",
   "metadata": {},
   "outputs": [
    {
     "data": {
      "text/plain": [
       "0"
      ]
     },
     "execution_count": 26,
     "metadata": {},
     "output_type": "execute_result"
    }
   ],
   "source": [
    "f2.seek(0)"
   ]
  },
  {
   "cell_type": "code",
   "execution_count": 27,
   "id": "c3effbb4",
   "metadata": {},
   "outputs": [
    {
     "data": {
      "text/plain": [
       "'Hi this file is created through python'"
      ]
     },
     "execution_count": 27,
     "metadata": {},
     "output_type": "execute_result"
    }
   ],
   "source": [
    "f2.read()"
   ]
  },
  {
   "cell_type": "code",
   "execution_count": 29,
   "id": "af30bad1",
   "metadata": {},
   "outputs": [],
   "source": [
    "f2.close()"
   ]
  },
  {
   "cell_type": "markdown",
   "id": "7397a65d",
   "metadata": {},
   "source": [
    "### Opening file in read mode and trying to perform write operation"
   ]
  },
  {
   "cell_type": "code",
   "execution_count": 30,
   "id": "65907f1c",
   "metadata": {},
   "outputs": [],
   "source": [
    "f3 = open(\"test.txt\",\"r\")"
   ]
  },
  {
   "cell_type": "code",
   "execution_count": 31,
   "id": "f7be2ff0",
   "metadata": {},
   "outputs": [
    {
     "ename": "UnsupportedOperation",
     "evalue": "not writable",
     "output_type": "error",
     "traceback": [
      "\u001b[1;31m---------------------------------------------------------------------------\u001b[0m",
      "\u001b[1;31mUnsupportedOperation\u001b[0m                      Traceback (most recent call last)",
      "\u001b[1;32mC:\\Users\\ITDEPA~1\\AppData\\Local\\Temp/ipykernel_9132/2591754717.py\u001b[0m in \u001b[0;36m<module>\u001b[1;34m\u001b[0m\n\u001b[1;32m----> 1\u001b[1;33m \u001b[0mf3\u001b[0m\u001b[1;33m.\u001b[0m\u001b[0mwrite\u001b[0m\u001b[1;33m(\u001b[0m\u001b[1;34m\"Abcd\"\u001b[0m\u001b[1;33m)\u001b[0m\u001b[1;33m\u001b[0m\u001b[1;33m\u001b[0m\u001b[0m\n\u001b[0m",
      "\u001b[1;31mUnsupportedOperation\u001b[0m: not writable"
     ]
    }
   ],
   "source": [
    "f3.write(\"Abcd\")"
   ]
  },
  {
   "cell_type": "code",
   "execution_count": 32,
   "id": "60ad7d36",
   "metadata": {},
   "outputs": [
    {
     "data": {
      "text/plain": [
       "'Hi this file is created through python'"
      ]
     },
     "execution_count": 32,
     "metadata": {},
     "output_type": "execute_result"
    }
   ],
   "source": [
    "f3.read()"
   ]
  },
  {
   "cell_type": "code",
   "execution_count": 33,
   "id": "03d2a592",
   "metadata": {},
   "outputs": [
    {
     "data": {
      "text/plain": [
       "''"
      ]
     },
     "execution_count": 33,
     "metadata": {},
     "output_type": "execute_result"
    }
   ],
   "source": [
    "f3.read(13)"
   ]
  },
  {
   "cell_type": "code",
   "execution_count": 34,
   "id": "168b5278",
   "metadata": {},
   "outputs": [
    {
     "data": {
      "text/plain": [
       "0"
      ]
     },
     "execution_count": 34,
     "metadata": {},
     "output_type": "execute_result"
    }
   ],
   "source": [
    "f3.seek(0)"
   ]
  },
  {
   "cell_type": "code",
   "execution_count": 35,
   "id": "51ff1d9f",
   "metadata": {},
   "outputs": [
    {
     "data": {
      "text/plain": [
       "'Hi this file '"
      ]
     },
     "execution_count": 35,
     "metadata": {},
     "output_type": "execute_result"
    }
   ],
   "source": [
    "f3.read(13)"
   ]
  },
  {
   "cell_type": "markdown",
   "id": "bcf29fbe",
   "metadata": {},
   "source": [
    "read(13) will read data upto 13 character from current pointer."
   ]
  },
  {
   "cell_type": "code",
   "execution_count": 53,
   "id": "a3e76950",
   "metadata": {},
   "outputs": [
    {
     "data": {
      "text/plain": [
       "8"
      ]
     },
     "execution_count": 53,
     "metadata": {},
     "output_type": "execute_result"
    }
   ],
   "source": [
    "f3.seek(8)"
   ]
  },
  {
   "cell_type": "code",
   "execution_count": 54,
   "id": "3fed7189",
   "metadata": {},
   "outputs": [
    {
     "data": {
      "text/plain": [
       "'file is create'"
      ]
     },
     "execution_count": 54,
     "metadata": {},
     "output_type": "execute_result"
    }
   ],
   "source": [
    "f3.read(14)"
   ]
  },
  {
   "cell_type": "markdown",
   "id": "d74f5bed",
   "metadata": {},
   "source": [
    "#### To Close file"
   ]
  },
  {
   "cell_type": "code",
   "execution_count": 55,
   "id": "943f6b02",
   "metadata": {},
   "outputs": [],
   "source": [
    "f3.close()"
   ]
  },
  {
   "cell_type": "code",
   "execution_count": 56,
   "id": "64afad18",
   "metadata": {},
   "outputs": [
    {
     "ename": "ValueError",
     "evalue": "I/O operation on closed file.",
     "output_type": "error",
     "traceback": [
      "\u001b[1;31m---------------------------------------------------------------------------\u001b[0m",
      "\u001b[1;31mValueError\u001b[0m                                Traceback (most recent call last)",
      "\u001b[1;32mC:\\Users\\ITDEPA~1\\AppData\\Local\\Temp/ipykernel_9132/3770553465.py\u001b[0m in \u001b[0;36m<module>\u001b[1;34m\u001b[0m\n\u001b[1;32m----> 1\u001b[1;33m \u001b[0mf3\u001b[0m\u001b[1;33m.\u001b[0m\u001b[0mread\u001b[0m\u001b[1;33m(\u001b[0m\u001b[1;33m)\u001b[0m\u001b[1;33m\u001b[0m\u001b[1;33m\u001b[0m\u001b[0m\n\u001b[0m",
      "\u001b[1;31mValueError\u001b[0m: I/O operation on closed file."
     ]
    }
   ],
   "source": [
    "f3.read()"
   ]
  },
  {
   "cell_type": "markdown",
   "id": "5745013d",
   "metadata": {},
   "source": [
    "### File Modes"
   ]
  },
  {
   "cell_type": "markdown",
   "id": "797963f6",
   "metadata": {},
   "source": [
    "#### Difference between 'w' mode and 'a' mode"
   ]
  },
  {
   "cell_type": "code",
   "execution_count": 67,
   "id": "b3d76a3d",
   "metadata": {},
   "outputs": [],
   "source": [
    "f4 = open(\"test.txt\",'w')"
   ]
  },
  {
   "cell_type": "markdown",
   "id": "75dc23cb",
   "metadata": {},
   "source": [
    "If you go through GUI and open file then you can see all text that were present earlier in the file has been removed. Because **'w'** wil truncate file and open for writing new data."
   ]
  },
  {
   "cell_type": "code",
   "execution_count": 68,
   "id": "f6990ad5",
   "metadata": {},
   "outputs": [
    {
     "data": {
      "text/plain": [
       "84"
      ]
     },
     "execution_count": 68,
     "metadata": {},
     "output_type": "execute_result"
    }
   ],
   "source": [
    "f4.write(\"This is new text inside file as earlier text were removed because of 'w' mode open. \")"
   ]
  },
  {
   "cell_type": "code",
   "execution_count": 69,
   "id": "c63841ce",
   "metadata": {},
   "outputs": [],
   "source": [
    "f4.close()"
   ]
  },
  {
   "cell_type": "code",
   "execution_count": 70,
   "id": "3b4bc02b",
   "metadata": {},
   "outputs": [],
   "source": [
    "f5 = open(\"test.txt\",\"a\")"
   ]
  },
  {
   "cell_type": "code",
   "execution_count": 71,
   "id": "fd10201b",
   "metadata": {},
   "outputs": [
    {
     "data": {
      "text/plain": [
       "88"
      ]
     },
     "execution_count": 71,
     "metadata": {},
     "output_type": "execute_result"
    }
   ],
   "source": [
    "f5.write(\"This is 'a' mode open. It will keep previous data as it is and append this data at end. \")"
   ]
  },
  {
   "cell_type": "code",
   "execution_count": 72,
   "id": "22c173f9",
   "metadata": {},
   "outputs": [],
   "source": [
    "f5.close()"
   ]
  },
  {
   "cell_type": "markdown",
   "id": "a0c2bbfa",
   "metadata": {},
   "source": [
    "If you go through GUI and open file then you can see all text that were present earlier in the file remains as it is. Because **'a'** wil append file with new data."
   ]
  },
  {
   "cell_type": "markdown",
   "id": "3f042897",
   "metadata": {},
   "source": [
    "### Binary Mode"
   ]
  },
  {
   "cell_type": "code",
   "execution_count": 287,
   "id": "7fe02fc9",
   "metadata": {},
   "outputs": [],
   "source": [
    "f6 = open(\"test1.txt\",\"wb\")"
   ]
  },
  {
   "cell_type": "code",
   "execution_count": 288,
   "id": "19848d5c",
   "metadata": {},
   "outputs": [
    {
     "ename": "TypeError",
     "evalue": "a bytes-like object is required, not 'str'",
     "output_type": "error",
     "traceback": [
      "\u001b[1;31m---------------------------------------------------------------------------\u001b[0m",
      "\u001b[1;31mTypeError\u001b[0m                                 Traceback (most recent call last)",
      "\u001b[1;32mC:\\Users\\ITDEPA~1\\AppData\\Local\\Temp/ipykernel_9132/3045090845.py\u001b[0m in \u001b[0;36m<module>\u001b[1;34m\u001b[0m\n\u001b[1;32m----> 1\u001b[1;33m \u001b[0mf6\u001b[0m\u001b[1;33m.\u001b[0m\u001b[0mwrite\u001b[0m\u001b[1;33m(\u001b[0m\u001b[1;34m\"Text in Binary file\"\u001b[0m\u001b[1;33m)\u001b[0m\u001b[1;33m\u001b[0m\u001b[1;33m\u001b[0m\u001b[0m\n\u001b[0m",
      "\u001b[1;31mTypeError\u001b[0m: a bytes-like object is required, not 'str'"
     ]
    }
   ],
   "source": [
    "f6.write(\"Text in Binary file\")"
   ]
  },
  {
   "cell_type": "code",
   "execution_count": 289,
   "id": "d48532e9",
   "metadata": {},
   "outputs": [
    {
     "data": {
      "text/plain": [
       "19"
      ]
     },
     "execution_count": 289,
     "metadata": {},
     "output_type": "execute_result"
    }
   ],
   "source": [
    "f6.write(b\"Text in Binary file\")"
   ]
  },
  {
   "cell_type": "code",
   "execution_count": 290,
   "id": "20abab4d",
   "metadata": {},
   "outputs": [],
   "source": [
    "f6.close()"
   ]
  },
  {
   "cell_type": "code",
   "execution_count": 291,
   "id": "021bd6bf",
   "metadata": {},
   "outputs": [],
   "source": [
    "f7 = open(\"test1.txt\", 'rb')"
   ]
  },
  {
   "cell_type": "code",
   "execution_count": 292,
   "id": "3da25a21",
   "metadata": {},
   "outputs": [
    {
     "data": {
      "text/plain": [
       "b'Text in Binary file'"
      ]
     },
     "execution_count": 292,
     "metadata": {},
     "output_type": "execute_result"
    }
   ],
   "source": [
    "f7.read()"
   ]
  },
  {
   "cell_type": "code",
   "execution_count": 293,
   "id": "7399fb48",
   "metadata": {},
   "outputs": [
    {
     "data": {
      "text/plain": [
       "2"
      ]
     },
     "execution_count": 293,
     "metadata": {},
     "output_type": "execute_result"
    }
   ],
   "source": [
    "f7.seek(2)"
   ]
  },
  {
   "cell_type": "code",
   "execution_count": 294,
   "id": "7e4a9b99",
   "metadata": {},
   "outputs": [
    {
     "data": {
      "text/plain": [
       "b'x'"
      ]
     },
     "execution_count": 294,
     "metadata": {},
     "output_type": "execute_result"
    }
   ],
   "source": [
    "f7.read(1)"
   ]
  },
  {
   "cell_type": "code",
   "execution_count": 295,
   "id": "c35ff2a7",
   "metadata": {},
   "outputs": [
    {
     "data": {
      "text/plain": [
       "0"
      ]
     },
     "execution_count": 295,
     "metadata": {},
     "output_type": "execute_result"
    }
   ],
   "source": [
    "f7.seek(0)"
   ]
  },
  {
   "cell_type": "code",
   "execution_count": 296,
   "id": "648bdbe2",
   "metadata": {},
   "outputs": [
    {
     "data": {
      "text/plain": [
       "16"
      ]
     },
     "execution_count": 296,
     "metadata": {},
     "output_type": "execute_result"
    }
   ],
   "source": [
    "f7.seek(-3,2)"
   ]
  },
  {
   "cell_type": "code",
   "execution_count": 297,
   "id": "ba2f5e64",
   "metadata": {},
   "outputs": [
    {
     "data": {
      "text/plain": [
       "13"
      ]
     },
     "execution_count": 297,
     "metadata": {},
     "output_type": "execute_result"
    }
   ],
   "source": [
    "f7.seek(-3,1)"
   ]
  },
  {
   "cell_type": "code",
   "execution_count": 298,
   "id": "3e3c51aa",
   "metadata": {},
   "outputs": [
    {
     "ename": "OSError",
     "evalue": "[Errno 22] Invalid argument",
     "output_type": "error",
     "traceback": [
      "\u001b[1;31m---------------------------------------------------------------------------\u001b[0m",
      "\u001b[1;31mOSError\u001b[0m                                   Traceback (most recent call last)",
      "\u001b[1;32mC:\\Users\\ITDEPA~1\\AppData\\Local\\Temp/ipykernel_9132/998491999.py\u001b[0m in \u001b[0;36m<module>\u001b[1;34m\u001b[0m\n\u001b[1;32m----> 1\u001b[1;33m \u001b[0mf7\u001b[0m\u001b[1;33m.\u001b[0m\u001b[0mseek\u001b[0m\u001b[1;33m(\u001b[0m\u001b[1;33m-\u001b[0m\u001b[1;36m3\u001b[0m\u001b[1;33m,\u001b[0m\u001b[1;36m0\u001b[0m\u001b[1;33m)\u001b[0m\u001b[1;33m\u001b[0m\u001b[1;33m\u001b[0m\u001b[0m\n\u001b[0m",
      "\u001b[1;31mOSError\u001b[0m: [Errno 22] Invalid argument"
     ]
    }
   ],
   "source": [
    "f7.seek(-3,0)"
   ]
  },
  {
   "cell_type": "code",
   "execution_count": 299,
   "id": "15d8d06a",
   "metadata": {},
   "outputs": [],
   "source": [
    "f8 = open(\"test1.txt\", \"w\")"
   ]
  },
  {
   "cell_type": "code",
   "execution_count": 300,
   "id": "64c33585",
   "metadata": {},
   "outputs": [
    {
     "data": {
      "text/plain": [
       "57"
      ]
     },
     "execution_count": 300,
     "metadata": {},
     "output_type": "execute_result"
    }
   ],
   "source": [
    "f8.write(\"This is new text after open('test1.txt', 'w')') operation\")"
   ]
  },
  {
   "cell_type": "code",
   "execution_count": 301,
   "id": "4ddff8d9",
   "metadata": {},
   "outputs": [],
   "source": [
    "f8.close()"
   ]
  },
  {
   "cell_type": "code",
   "execution_count": 302,
   "id": "4dffb9cc",
   "metadata": {},
   "outputs": [],
   "source": [
    "f9 = open(\"test1.txt\",\"r\")"
   ]
  },
  {
   "cell_type": "code",
   "execution_count": 303,
   "id": "78eee9f8",
   "metadata": {},
   "outputs": [
    {
     "data": {
      "text/plain": [
       "\"This is new text after open('test1.txt', 'w')') operation\""
      ]
     },
     "execution_count": 303,
     "metadata": {},
     "output_type": "execute_result"
    }
   ],
   "source": [
    "f9.read()"
   ]
  },
  {
   "cell_type": "markdown",
   "id": "b0365b3a",
   "metadata": {},
   "source": [
    "Now let's modify test2.txt file from GUI and then perform read() operation here"
   ]
  },
  {
   "cell_type": "code",
   "execution_count": 304,
   "id": "7ffcb444",
   "metadata": {},
   "outputs": [
    {
     "data": {
      "text/plain": [
       "'.\\nThis is new text added for testing.\\nAdded one more additional line.'"
      ]
     },
     "execution_count": 304,
     "metadata": {},
     "output_type": "execute_result"
    }
   ],
   "source": [
    "f9.read()"
   ]
  },
  {
   "cell_type": "code",
   "execution_count": 305,
   "id": "6e0f5e19",
   "metadata": {},
   "outputs": [
    {
     "data": {
      "text/plain": [
       "0"
      ]
     },
     "execution_count": 305,
     "metadata": {},
     "output_type": "execute_result"
    }
   ],
   "source": [
    "f9.seek(0)"
   ]
  },
  {
   "cell_type": "code",
   "execution_count": 306,
   "id": "147bc056",
   "metadata": {},
   "outputs": [
    {
     "data": {
      "text/plain": [
       "\"This is new text after open('test1.txt', 'w')') operation.\\n\""
      ]
     },
     "execution_count": 306,
     "metadata": {},
     "output_type": "execute_result"
    }
   ],
   "source": [
    "f9.readline()"
   ]
  },
  {
   "cell_type": "markdown",
   "id": "af84dfe0",
   "metadata": {},
   "source": [
    "As you can see above **readline()** reads one line at a time"
   ]
  },
  {
   "cell_type": "code",
   "execution_count": 307,
   "id": "a9276089",
   "metadata": {},
   "outputs": [
    {
     "data": {
      "text/plain": [
       "0"
      ]
     },
     "execution_count": 307,
     "metadata": {},
     "output_type": "execute_result"
    }
   ],
   "source": [
    "f9.seek(0)"
   ]
  },
  {
   "cell_type": "code",
   "execution_count": 308,
   "id": "9d9e7458",
   "metadata": {},
   "outputs": [
    {
     "data": {
      "text/plain": [
       "\"This is new text after open('test1.txt', 'w')') operation.\\n\""
      ]
     },
     "execution_count": 308,
     "metadata": {},
     "output_type": "execute_result"
    }
   ],
   "source": [
    "f9.readline()"
   ]
  },
  {
   "cell_type": "code",
   "execution_count": 309,
   "id": "86caf411",
   "metadata": {},
   "outputs": [
    {
     "data": {
      "text/plain": [
       "'Th'"
      ]
     },
     "execution_count": 309,
     "metadata": {},
     "output_type": "execute_result"
    }
   ],
   "source": [
    "f9.readline(2)"
   ]
  },
  {
   "cell_type": "code",
   "execution_count": 310,
   "id": "0cad8d51",
   "metadata": {},
   "outputs": [
    {
     "data": {
      "text/plain": [
       "'is '"
      ]
     },
     "execution_count": 310,
     "metadata": {},
     "output_type": "execute_result"
    }
   ],
   "source": [
    "f9.readline(3)"
   ]
  },
  {
   "cell_type": "code",
   "execution_count": 311,
   "id": "30a1f0dd",
   "metadata": {},
   "outputs": [
    {
     "data": {
      "text/plain": [
       "'is '"
      ]
     },
     "execution_count": 311,
     "metadata": {},
     "output_type": "execute_result"
    }
   ],
   "source": [
    "f9.readline(3)"
   ]
  },
  {
   "cell_type": "code",
   "execution_count": 312,
   "id": "be7c926d",
   "metadata": {},
   "outputs": [],
   "source": [
    "f9.close()"
   ]
  },
  {
   "cell_type": "markdown",
   "id": "092f456e",
   "metadata": {},
   "source": []
  },
  {
   "cell_type": "code",
   "execution_count": 313,
   "id": "7188f31a",
   "metadata": {},
   "outputs": [],
   "source": [
    "f10 = open(\"test1.txt\",\"r\")"
   ]
  },
  {
   "cell_type": "code",
   "execution_count": 314,
   "id": "b03ca60d",
   "metadata": {},
   "outputs": [
    {
     "name": "stdout",
     "output_type": "stream",
     "text": [
      "This is new text after open('test1.txt', 'w')') operation.\n",
      "\n",
      "This is new text added for testing.\n",
      "\n",
      "Added one more additional line.\n"
     ]
    }
   ],
   "source": [
    "for i in f10:\n",
    "    print(i)"
   ]
  },
  {
   "cell_type": "code",
   "execution_count": 315,
   "id": "4f985d7e",
   "metadata": {},
   "outputs": [
    {
     "data": {
      "text/plain": [
       "0"
      ]
     },
     "execution_count": 315,
     "metadata": {},
     "output_type": "execute_result"
    }
   ],
   "source": [
    "f10.seek(0)"
   ]
  },
  {
   "cell_type": "code",
   "execution_count": 316,
   "id": "8ef52353",
   "metadata": {},
   "outputs": [
    {
     "name": "stdout",
     "output_type": "stream",
     "text": [
      "This is new text after open('test1.txt', 'w')') operation.\n",
      " This is new text added for testing.\n",
      " Added one more additional line. "
     ]
    }
   ],
   "source": [
    "for i in f10:\n",
    "    print(i, end = \" \")"
   ]
  },
  {
   "cell_type": "code",
   "execution_count": 317,
   "id": "e1c50481",
   "metadata": {},
   "outputs": [],
   "source": [
    "f10.close()"
   ]
  },
  {
   "cell_type": "markdown",
   "id": "badc39fe",
   "metadata": {},
   "source": [
    "### Exercise\n",
    "Q. Try to open a file and give all the data in a list."
   ]
  },
  {
   "cell_type": "code",
   "execution_count": 318,
   "id": "8fd38640",
   "metadata": {},
   "outputs": [],
   "source": [
    "f11 = open(\"test1.txt\", \"r\")"
   ]
  },
  {
   "cell_type": "code",
   "execution_count": 319,
   "id": "be1a3c83",
   "metadata": {},
   "outputs": [
    {
     "data": {
      "text/plain": [
       "[\"This is new text after open('test1.txt', 'w')') operation.\\n\",\n",
       " 'This is new text added for testing.\\n',\n",
       " 'Added one more additional line.']"
      ]
     },
     "execution_count": 319,
     "metadata": {},
     "output_type": "execute_result"
    }
   ],
   "source": [
    "list(f11)"
   ]
  },
  {
   "cell_type": "code",
   "execution_count": 320,
   "id": "64b2400d",
   "metadata": {},
   "outputs": [],
   "source": [
    "f11.close()"
   ]
  },
  {
   "cell_type": "markdown",
   "id": "bbde5152",
   "metadata": {},
   "source": [
    "### How to open a file in both Read & Write mode"
   ]
  },
  {
   "cell_type": "code",
   "execution_count": 321,
   "id": "9fdc3be8",
   "metadata": {},
   "outputs": [],
   "source": [
    "f12 = open(\"test1.txt\",\"r+\")"
   ]
  },
  {
   "cell_type": "code",
   "execution_count": 322,
   "id": "85d06157",
   "metadata": {},
   "outputs": [
    {
     "data": {
      "text/plain": [
       "\"This is new text after open('test1.txt', 'w')') operation.\\nThis is new text added for testing.\\nAdded one more additional line.\""
      ]
     },
     "execution_count": 322,
     "metadata": {},
     "output_type": "execute_result"
    }
   ],
   "source": [
    "f12.read()"
   ]
  },
  {
   "cell_type": "code",
   "execution_count": 323,
   "id": "669ccbcb",
   "metadata": {},
   "outputs": [
    {
     "data": {
      "text/plain": [
       "37"
      ]
     },
     "execution_count": 323,
     "metadata": {},
     "output_type": "execute_result"
    }
   ],
   "source": [
    "f12.write(\"Line added for Read + Write Operation\")"
   ]
  },
  {
   "cell_type": "code",
   "execution_count": 324,
   "id": "8e2efa65",
   "metadata": {},
   "outputs": [
    {
     "data": {
      "text/plain": [
       "0"
      ]
     },
     "execution_count": 324,
     "metadata": {},
     "output_type": "execute_result"
    }
   ],
   "source": [
    "f12.seek(0)"
   ]
  },
  {
   "cell_type": "code",
   "execution_count": 325,
   "id": "b7316c5e",
   "metadata": {},
   "outputs": [
    {
     "data": {
      "text/plain": [
       "\"This is new text after open('test1.txt', 'w')') operation.\\nThis is new text added for testing.\\nAdded one more additional line.Line added for Read + Write Operation\""
      ]
     },
     "execution_count": 325,
     "metadata": {},
     "output_type": "execute_result"
    }
   ],
   "source": [
    "f12.read()"
   ]
  },
  {
   "cell_type": "code",
   "execution_count": 326,
   "id": "017eb8b2",
   "metadata": {},
   "outputs": [],
   "source": [
    "f12.close()"
   ]
  },
  {
   "cell_type": "markdown",
   "id": "79616fa5",
   "metadata": {},
   "source": [
    "### Writelines()"
   ]
  },
  {
   "cell_type": "code",
   "execution_count": 327,
   "id": "ff0269bd",
   "metadata": {},
   "outputs": [],
   "source": [
    "f13 = open(\"test1.txt\", \"r+\")"
   ]
  },
  {
   "cell_type": "code",
   "execution_count": 328,
   "id": "344e7855",
   "metadata": {},
   "outputs": [],
   "source": [
    "f13.writelines(\"Text for Writelines\\n\")"
   ]
  },
  {
   "cell_type": "code",
   "execution_count": 329,
   "id": "2a83c646",
   "metadata": {},
   "outputs": [
    {
     "data": {
      "text/plain": [
       "\"r open('test1.txt', 'w')') operation.\\nThis is new text added for testing.\\nAdded one more additional line.Line added for Read + Write Operation\""
      ]
     },
     "execution_count": 329,
     "metadata": {},
     "output_type": "execute_result"
    }
   ],
   "source": [
    "f13.read()"
   ]
  },
  {
   "cell_type": "markdown",
   "id": "24108b51",
   "metadata": {},
   "source": [
    "Above statement write line of data from current pointer"
   ]
  },
  {
   "cell_type": "code",
   "execution_count": 330,
   "id": "55417dd7",
   "metadata": {},
   "outputs": [
    {
     "data": {
      "text/plain": [
       "6"
      ]
     },
     "execution_count": 330,
     "metadata": {},
     "output_type": "execute_result"
    }
   ],
   "source": [
    "f13.fileno()"
   ]
  },
  {
   "cell_type": "markdown",
   "id": "0b2b6331",
   "metadata": {},
   "source": [
    "Above statement returns integer descriptor of the file."
   ]
  },
  {
   "cell_type": "code",
   "execution_count": 332,
   "id": "8a0e78ee",
   "metadata": {},
   "outputs": [
    {
     "name": "stdout",
     "output_type": "stream",
     "text": [
      "Writing test2.txt\n"
     ]
    }
   ],
   "source": [
    "%%writefile test2.txt\n",
    "Hello, This is another way to create file"
   ]
  },
  {
   "cell_type": "markdown",
   "id": "8ffb662c",
   "metadata": {},
   "source": [
    "### Additional operation using os package"
   ]
  },
  {
   "cell_type": "code",
   "execution_count": 333,
   "id": "ab9eabdc",
   "metadata": {},
   "outputs": [],
   "source": [
    " import os"
   ]
  },
  {
   "cell_type": "markdown",
   "id": "79cc31b4",
   "metadata": {},
   "source": [
    "#### what is present working directory"
   ]
  },
  {
   "cell_type": "code",
   "execution_count": 334,
   "id": "7f1684ed",
   "metadata": {},
   "outputs": [
    {
     "data": {
      "text/plain": [
       "'C:\\\\Users\\\\it department'"
      ]
     },
     "execution_count": 334,
     "metadata": {},
     "output_type": "execute_result"
    }
   ],
   "source": [
    "pwd()"
   ]
  },
  {
   "cell_type": "code",
   "execution_count": 335,
   "id": "53c5e7d2",
   "metadata": {},
   "outputs": [
    {
     "data": {
      "text/plain": [
       "'C:\\\\Users\\\\it department'"
      ]
     },
     "execution_count": 335,
     "metadata": {},
     "output_type": "execute_result"
    }
   ],
   "source": [
    "os.getcwd()"
   ]
  },
  {
   "cell_type": "code",
   "execution_count": 336,
   "id": "209d9d12",
   "metadata": {},
   "outputs": [
    {
     "data": {
      "text/plain": [
       "['.android',\n",
       " '.conda',\n",
       " '.condarc',\n",
       " '.continuum',\n",
       " '.ipynb_checkpoints',\n",
       " '.ipython',\n",
       " '.jupyter',\n",
       " 'advanced_ip_scanner_Aliases.bin',\n",
       " 'advanced_ip_scanner_Comments.bin',\n",
       " 'advanced_ip_scanner_MAC.bin',\n",
       " 'anaconda3',\n",
       " 'AppData',\n",
       " 'Contacts',\n",
       " 'Desktop',\n",
       " 'Documents',\n",
       " 'Downloads',\n",
       " 'dwhelper',\n",
       " 'Favorites',\n",
       " 'File_handling.ipynb',\n",
       " 'IntelGraphicsProfiles',\n",
       " 'Links',\n",
       " 'Music',\n",
       " 'NTUSER.DAT',\n",
       " 'ntuser.dat.LOG1',\n",
       " 'ntuser.dat.LOG2',\n",
       " 'NTUSER.DAT{bbed3e3b-0b41-11e3-8249-d6927d06400b}.TM.blf',\n",
       " 'NTUSER.DAT{bbed3e3b-0b41-11e3-8249-d6927d06400b}.TMContainer00000000000000000001.regtrans-ms',\n",
       " 'NTUSER.DAT{bbed3e3b-0b41-11e3-8249-d6927d06400b}.TMContainer00000000000000000002.regtrans-ms',\n",
       " 'ntuser.ini',\n",
       " 'Pictures',\n",
       " 'Python_Functions.ipynb',\n",
       " 'Saved Games',\n",
       " 'ScStore',\n",
       " 'Searches',\n",
       " 'test.txt',\n",
       " 'test1.txt',\n",
       " 'test2.txt',\n",
       " 'Tuple_Set_Dictionary.ipynb',\n",
       " 'Videos',\n",
       " 'wekafiles']"
      ]
     },
     "execution_count": 336,
     "metadata": {},
     "output_type": "execute_result"
    }
   ],
   "source": [
    "os.listdir()"
   ]
  },
  {
   "cell_type": "code",
   "execution_count": 337,
   "id": "e715544a",
   "metadata": {},
   "outputs": [
    {
     "data": {
      "text/plain": [
       "['All Users',\n",
       " 'Default',\n",
       " 'Default User',\n",
       " 'desktop.ini',\n",
       " 'it',\n",
       " 'it department',\n",
       " 'Public']"
      ]
     },
     "execution_count": 337,
     "metadata": {},
     "output_type": "execute_result"
    }
   ],
   "source": [
    "os.listdir('C:\\\\Users')"
   ]
  },
  {
   "cell_type": "code",
   "execution_count": 338,
   "id": "eb0b2b59",
   "metadata": {},
   "outputs": [
    {
     "data": {
      "text/plain": [
       "['All Users',\n",
       " 'Default',\n",
       " 'Default User',\n",
       " 'desktop.ini',\n",
       " 'it',\n",
       " 'it department',\n",
       " 'Public']"
      ]
     },
     "execution_count": 338,
     "metadata": {},
     "output_type": "execute_result"
    }
   ],
   "source": [
    "os.listdir('C:/Users')"
   ]
  },
  {
   "cell_type": "markdown",
   "id": "10aeca01",
   "metadata": {},
   "source": [
    "#### Change working directory"
   ]
  },
  {
   "cell_type": "code",
   "execution_count": 339,
   "id": "a2efbfa7",
   "metadata": {},
   "outputs": [],
   "source": [
    "os.chdir('C:/Users')"
   ]
  },
  {
   "cell_type": "code",
   "execution_count": 340,
   "id": "37037302",
   "metadata": {},
   "outputs": [
    {
     "data": {
      "text/plain": [
       "'C:\\\\Users'"
      ]
     },
     "execution_count": 340,
     "metadata": {},
     "output_type": "execute_result"
    }
   ],
   "source": [
    "pwd()"
   ]
  },
  {
   "cell_type": "code",
   "execution_count": 341,
   "id": "9d02d846",
   "metadata": {},
   "outputs": [
    {
     "name": "stdout",
     "output_type": "stream",
     "text": [
      "Writing test3.txt\n"
     ]
    },
    {
     "ename": "PermissionError",
     "evalue": "[Errno 13] Permission denied: 'test3.txt'",
     "output_type": "error",
     "traceback": [
      "\u001b[1;31m---------------------------------------------------------------------------\u001b[0m",
      "\u001b[1;31mPermissionError\u001b[0m                           Traceback (most recent call last)",
      "\u001b[1;32mC:\\Users\\ITDEPA~1\\AppData\\Local\\Temp/ipykernel_9132/3065215454.py\u001b[0m in \u001b[0;36m<module>\u001b[1;34m\u001b[0m\n\u001b[1;32m----> 1\u001b[1;33m \u001b[0mget_ipython\u001b[0m\u001b[1;33m(\u001b[0m\u001b[1;33m)\u001b[0m\u001b[1;33m.\u001b[0m\u001b[0mrun_cell_magic\u001b[0m\u001b[1;33m(\u001b[0m\u001b[1;34m'writefile'\u001b[0m\u001b[1;33m,\u001b[0m \u001b[1;34m'test3.txt'\u001b[0m\u001b[1;33m,\u001b[0m \u001b[1;34m'To test changed directory\\n'\u001b[0m\u001b[1;33m)\u001b[0m\u001b[1;33m\u001b[0m\u001b[1;33m\u001b[0m\u001b[0m\n\u001b[0m",
      "\u001b[1;32m~\\anaconda3\\lib\\site-packages\\IPython\\core\\interactiveshell.py\u001b[0m in \u001b[0;36mrun_cell_magic\u001b[1;34m(self, magic_name, line, cell)\u001b[0m\n\u001b[0;32m   2404\u001b[0m             \u001b[1;32mwith\u001b[0m \u001b[0mself\u001b[0m\u001b[1;33m.\u001b[0m\u001b[0mbuiltin_trap\u001b[0m\u001b[1;33m:\u001b[0m\u001b[1;33m\u001b[0m\u001b[1;33m\u001b[0m\u001b[0m\n\u001b[0;32m   2405\u001b[0m                 \u001b[0margs\u001b[0m \u001b[1;33m=\u001b[0m \u001b[1;33m(\u001b[0m\u001b[0mmagic_arg_s\u001b[0m\u001b[1;33m,\u001b[0m \u001b[0mcell\u001b[0m\u001b[1;33m)\u001b[0m\u001b[1;33m\u001b[0m\u001b[1;33m\u001b[0m\u001b[0m\n\u001b[1;32m-> 2406\u001b[1;33m                 \u001b[0mresult\u001b[0m \u001b[1;33m=\u001b[0m \u001b[0mfn\u001b[0m\u001b[1;33m(\u001b[0m\u001b[1;33m*\u001b[0m\u001b[0margs\u001b[0m\u001b[1;33m,\u001b[0m \u001b[1;33m**\u001b[0m\u001b[0mkwargs\u001b[0m\u001b[1;33m)\u001b[0m\u001b[1;33m\u001b[0m\u001b[1;33m\u001b[0m\u001b[0m\n\u001b[0m\u001b[0;32m   2407\u001b[0m             \u001b[1;32mreturn\u001b[0m \u001b[0mresult\u001b[0m\u001b[1;33m\u001b[0m\u001b[1;33m\u001b[0m\u001b[0m\n\u001b[0;32m   2408\u001b[0m \u001b[1;33m\u001b[0m\u001b[0m\n",
      "\u001b[1;32m~\\anaconda3\\lib\\site-packages\\decorator.py\u001b[0m in \u001b[0;36mfun\u001b[1;34m(*args, **kw)\u001b[0m\n\u001b[0;32m    230\u001b[0m             \u001b[1;32mif\u001b[0m \u001b[1;32mnot\u001b[0m \u001b[0mkwsyntax\u001b[0m\u001b[1;33m:\u001b[0m\u001b[1;33m\u001b[0m\u001b[1;33m\u001b[0m\u001b[0m\n\u001b[0;32m    231\u001b[0m                 \u001b[0margs\u001b[0m\u001b[1;33m,\u001b[0m \u001b[0mkw\u001b[0m \u001b[1;33m=\u001b[0m \u001b[0mfix\u001b[0m\u001b[1;33m(\u001b[0m\u001b[0margs\u001b[0m\u001b[1;33m,\u001b[0m \u001b[0mkw\u001b[0m\u001b[1;33m,\u001b[0m \u001b[0msig\u001b[0m\u001b[1;33m)\u001b[0m\u001b[1;33m\u001b[0m\u001b[1;33m\u001b[0m\u001b[0m\n\u001b[1;32m--> 232\u001b[1;33m             \u001b[1;32mreturn\u001b[0m \u001b[0mcaller\u001b[0m\u001b[1;33m(\u001b[0m\u001b[0mfunc\u001b[0m\u001b[1;33m,\u001b[0m \u001b[1;33m*\u001b[0m\u001b[1;33m(\u001b[0m\u001b[0mextras\u001b[0m \u001b[1;33m+\u001b[0m \u001b[0margs\u001b[0m\u001b[1;33m)\u001b[0m\u001b[1;33m,\u001b[0m \u001b[1;33m**\u001b[0m\u001b[0mkw\u001b[0m\u001b[1;33m)\u001b[0m\u001b[1;33m\u001b[0m\u001b[1;33m\u001b[0m\u001b[0m\n\u001b[0m\u001b[0;32m    233\u001b[0m     \u001b[0mfun\u001b[0m\u001b[1;33m.\u001b[0m\u001b[0m__name__\u001b[0m \u001b[1;33m=\u001b[0m \u001b[0mfunc\u001b[0m\u001b[1;33m.\u001b[0m\u001b[0m__name__\u001b[0m\u001b[1;33m\u001b[0m\u001b[1;33m\u001b[0m\u001b[0m\n\u001b[0;32m    234\u001b[0m     \u001b[0mfun\u001b[0m\u001b[1;33m.\u001b[0m\u001b[0m__doc__\u001b[0m \u001b[1;33m=\u001b[0m \u001b[0mfunc\u001b[0m\u001b[1;33m.\u001b[0m\u001b[0m__doc__\u001b[0m\u001b[1;33m\u001b[0m\u001b[1;33m\u001b[0m\u001b[0m\n",
      "\u001b[1;32m~\\anaconda3\\lib\\site-packages\\IPython\\core\\magic.py\u001b[0m in \u001b[0;36m<lambda>\u001b[1;34m(f, *a, **k)\u001b[0m\n\u001b[0;32m    185\u001b[0m     \u001b[1;31m# but it's overkill for just that one bit of state.\u001b[0m\u001b[1;33m\u001b[0m\u001b[1;33m\u001b[0m\u001b[0m\n\u001b[0;32m    186\u001b[0m     \u001b[1;32mdef\u001b[0m \u001b[0mmagic_deco\u001b[0m\u001b[1;33m(\u001b[0m\u001b[0marg\u001b[0m\u001b[1;33m)\u001b[0m\u001b[1;33m:\u001b[0m\u001b[1;33m\u001b[0m\u001b[1;33m\u001b[0m\u001b[0m\n\u001b[1;32m--> 187\u001b[1;33m         \u001b[0mcall\u001b[0m \u001b[1;33m=\u001b[0m \u001b[1;32mlambda\u001b[0m \u001b[0mf\u001b[0m\u001b[1;33m,\u001b[0m \u001b[1;33m*\u001b[0m\u001b[0ma\u001b[0m\u001b[1;33m,\u001b[0m \u001b[1;33m**\u001b[0m\u001b[0mk\u001b[0m\u001b[1;33m:\u001b[0m \u001b[0mf\u001b[0m\u001b[1;33m(\u001b[0m\u001b[1;33m*\u001b[0m\u001b[0ma\u001b[0m\u001b[1;33m,\u001b[0m \u001b[1;33m**\u001b[0m\u001b[0mk\u001b[0m\u001b[1;33m)\u001b[0m\u001b[1;33m\u001b[0m\u001b[1;33m\u001b[0m\u001b[0m\n\u001b[0m\u001b[0;32m    188\u001b[0m \u001b[1;33m\u001b[0m\u001b[0m\n\u001b[0;32m    189\u001b[0m         \u001b[1;32mif\u001b[0m \u001b[0mcallable\u001b[0m\u001b[1;33m(\u001b[0m\u001b[0marg\u001b[0m\u001b[1;33m)\u001b[0m\u001b[1;33m:\u001b[0m\u001b[1;33m\u001b[0m\u001b[1;33m\u001b[0m\u001b[0m\n",
      "\u001b[1;32m~\\anaconda3\\lib\\site-packages\\IPython\\core\\magics\\osm.py\u001b[0m in \u001b[0;36mwritefile\u001b[1;34m(self, line, cell)\u001b[0m\n\u001b[0;32m    854\u001b[0m \u001b[1;33m\u001b[0m\u001b[0m\n\u001b[0;32m    855\u001b[0m         \u001b[0mmode\u001b[0m \u001b[1;33m=\u001b[0m \u001b[1;34m'a'\u001b[0m \u001b[1;32mif\u001b[0m \u001b[0margs\u001b[0m\u001b[1;33m.\u001b[0m\u001b[0mappend\u001b[0m \u001b[1;32melse\u001b[0m \u001b[1;34m'w'\u001b[0m\u001b[1;33m\u001b[0m\u001b[1;33m\u001b[0m\u001b[0m\n\u001b[1;32m--> 856\u001b[1;33m         \u001b[1;32mwith\u001b[0m \u001b[0mio\u001b[0m\u001b[1;33m.\u001b[0m\u001b[0mopen\u001b[0m\u001b[1;33m(\u001b[0m\u001b[0mfilename\u001b[0m\u001b[1;33m,\u001b[0m \u001b[0mmode\u001b[0m\u001b[1;33m,\u001b[0m \u001b[0mencoding\u001b[0m\u001b[1;33m=\u001b[0m\u001b[1;34m'utf-8'\u001b[0m\u001b[1;33m)\u001b[0m \u001b[1;32mas\u001b[0m \u001b[0mf\u001b[0m\u001b[1;33m:\u001b[0m\u001b[1;33m\u001b[0m\u001b[1;33m\u001b[0m\u001b[0m\n\u001b[0m\u001b[0;32m    857\u001b[0m             \u001b[0mf\u001b[0m\u001b[1;33m.\u001b[0m\u001b[0mwrite\u001b[0m\u001b[1;33m(\u001b[0m\u001b[0mcell\u001b[0m\u001b[1;33m)\u001b[0m\u001b[1;33m\u001b[0m\u001b[1;33m\u001b[0m\u001b[0m\n",
      "\u001b[1;31mPermissionError\u001b[0m: [Errno 13] Permission denied: 'test3.txt'"
     ]
    }
   ],
   "source": []
  },
  {
   "cell_type": "code",
   "execution_count": 342,
   "id": "3dcf5c03",
   "metadata": {},
   "outputs": [],
   "source": [
    "os.chdir('C:\\\\Users\\\\it department')"
   ]
  },
  {
   "cell_type": "code",
   "execution_count": 343,
   "id": "11a047f0",
   "metadata": {},
   "outputs": [
    {
     "data": {
      "text/plain": [
       "'C:\\\\Users\\\\it department'"
      ]
     },
     "execution_count": 343,
     "metadata": {},
     "output_type": "execute_result"
    }
   ],
   "source": [
    "pwd()"
   ]
  },
  {
   "cell_type": "code",
   "execution_count": 344,
   "id": "e46a6c37",
   "metadata": {},
   "outputs": [],
   "source": [
    "os.mkdir(\"sach\")"
   ]
  },
  {
   "cell_type": "code",
   "execution_count": 345,
   "id": "fed56851",
   "metadata": {},
   "outputs": [],
   "source": [
    "os.chdir('C:\\\\Users\\\\it department\\\\sach')"
   ]
  },
  {
   "cell_type": "code",
   "execution_count": 346,
   "id": "5e783208",
   "metadata": {},
   "outputs": [
    {
     "data": {
      "text/plain": [
       "'C:\\\\Users\\\\it department\\\\sach'"
      ]
     },
     "execution_count": 346,
     "metadata": {},
     "output_type": "execute_result"
    }
   ],
   "source": [
    "pwd()"
   ]
  },
  {
   "cell_type": "code",
   "execution_count": 347,
   "id": "b7197527",
   "metadata": {},
   "outputs": [],
   "source": [
    "os.chdir('C:\\\\Users\\\\it department')"
   ]
  },
  {
   "cell_type": "code",
   "execution_count": 352,
   "id": "ffa8275c",
   "metadata": {},
   "outputs": [
    {
     "data": {
      "text/plain": [
       "'C:\\\\Users\\\\it department'"
      ]
     },
     "execution_count": 352,
     "metadata": {},
     "output_type": "execute_result"
    }
   ],
   "source": [
    "os.getcwd()"
   ]
  },
  {
   "cell_type": "code",
   "execution_count": 359,
   "id": "376925e4",
   "metadata": {},
   "outputs": [
    {
     "name": "stdout",
     "output_type": "stream",
     "text": [
      "File Available\n",
      "\n",
      "<_io.TextIOWrapper name='test1.txt' mode='r+' encoding='cp1252'>\n",
      "Text for Writelines\n",
      "\n",
      "r open('test1.txt', 'w')') operation.\n",
      "\n",
      "This is new text added for testing.\n",
      "\n",
      "Added one more additional line.Line added for Read + Write Operation\n"
     ]
    }
   ],
   "source": [
    "if \"test1.txt\" in os.listdir():\n",
    "    print(\"File Available\\n\")\n",
    "    \n",
    "    f = open(\"test1.txt\", 'r+')\n",
    "    print(f)\n",
    "    \n",
    "    for i in f:\n",
    "        print(i)\n",
    "        \n",
    "else:\n",
    "    print(\"File Not Available\")"
   ]
  },
  {
   "cell_type": "code",
   "execution_count": 360,
   "id": "7076bb59",
   "metadata": {},
   "outputs": [
    {
     "ename": "FileExistsError",
     "evalue": "[WinError 183] Cannot create a file when that file already exists: 'sach'",
     "output_type": "error",
     "traceback": [
      "\u001b[1;31m---------------------------------------------------------------------------\u001b[0m",
      "\u001b[1;31mFileExistsError\u001b[0m                           Traceback (most recent call last)",
      "\u001b[1;32mC:\\Users\\ITDEPA~1\\AppData\\Local\\Temp/ipykernel_9132/843713890.py\u001b[0m in \u001b[0;36m<module>\u001b[1;34m\u001b[0m\n\u001b[1;32m----> 1\u001b[1;33m \u001b[0mos\u001b[0m\u001b[1;33m.\u001b[0m\u001b[0mmkdir\u001b[0m\u001b[1;33m(\u001b[0m\u001b[1;34m\"sach\"\u001b[0m\u001b[1;33m)\u001b[0m\u001b[1;33m\u001b[0m\u001b[1;33m\u001b[0m\u001b[0m\n\u001b[0m",
      "\u001b[1;31mFileExistsError\u001b[0m: [WinError 183] Cannot create a file when that file already exists: 'sach'"
     ]
    }
   ],
   "source": [
    "os.mkdir(\"sach\")"
   ]
  },
  {
   "cell_type": "code",
   "execution_count": 368,
   "id": "08e10847",
   "metadata": {},
   "outputs": [],
   "source": [
    "if not os.path.isdir(\"sach\"):\n",
    "    os.mkdir(\"sach\")"
   ]
  },
  {
   "cell_type": "markdown",
   "id": "226fb273",
   "metadata": {},
   "source": [
    "#### To Rename file"
   ]
  },
  {
   "cell_type": "code",
   "execution_count": 362,
   "id": "3598b6bb",
   "metadata": {},
   "outputs": [],
   "source": [
    "os.rename(\"test2.txt\",\"abc.txt\")"
   ]
  },
  {
   "cell_type": "code",
   "execution_count": 363,
   "id": "75137574",
   "metadata": {},
   "outputs": [
    {
     "ename": "FileNotFoundError",
     "evalue": "[Errno 2] No such file or directory: 'test2.txt'",
     "output_type": "error",
     "traceback": [
      "\u001b[1;31m---------------------------------------------------------------------------\u001b[0m",
      "\u001b[1;31mFileNotFoundError\u001b[0m                         Traceback (most recent call last)",
      "\u001b[1;32mC:\\Users\\ITDEPA~1\\AppData\\Local\\Temp/ipykernel_9132/2447551291.py\u001b[0m in \u001b[0;36m<module>\u001b[1;34m\u001b[0m\n\u001b[1;32m----> 1\u001b[1;33m \u001b[0mf\u001b[0m \u001b[1;33m=\u001b[0m \u001b[0mopen\u001b[0m\u001b[1;33m(\u001b[0m\u001b[1;34m\"test2.txt\"\u001b[0m\u001b[1;33m,\u001b[0m\u001b[1;34m\"r+\"\u001b[0m\u001b[1;33m)\u001b[0m\u001b[1;33m\u001b[0m\u001b[1;33m\u001b[0m\u001b[0m\n\u001b[0m",
      "\u001b[1;31mFileNotFoundError\u001b[0m: [Errno 2] No such file or directory: 'test2.txt'"
     ]
    }
   ],
   "source": [
    "f = open(\"test2.txt\",\"r+\")"
   ]
  },
  {
   "cell_type": "code",
   "execution_count": 364,
   "id": "d0b32c5b",
   "metadata": {},
   "outputs": [],
   "source": [
    "f = open(\"abc.txt\",\"r+\")"
   ]
  },
  {
   "cell_type": "code",
   "execution_count": 365,
   "id": "f2c7e11e",
   "metadata": {},
   "outputs": [
    {
     "data": {
      "text/plain": [
       "'Hello, This is another way to create file\\n'"
      ]
     },
     "execution_count": 365,
     "metadata": {},
     "output_type": "execute_result"
    }
   ],
   "source": [
    "f.read()"
   ]
  },
  {
   "cell_type": "markdown",
   "id": "3a411faf",
   "metadata": {},
   "source": [
    "#### Remove Directory"
   ]
  },
  {
   "cell_type": "code",
   "execution_count": 369,
   "id": "6effc60d",
   "metadata": {},
   "outputs": [
    {
     "data": {
      "text/plain": [
       "True"
      ]
     },
     "execution_count": 369,
     "metadata": {},
     "output_type": "execute_result"
    }
   ],
   "source": [
    "os.path.isdir(\"sach\")"
   ]
  },
  {
   "cell_type": "code",
   "execution_count": 370,
   "id": "61719d10",
   "metadata": {},
   "outputs": [],
   "source": [
    "os.rmdir(\"sach\")"
   ]
  },
  {
   "cell_type": "code",
   "execution_count": 371,
   "id": "514ef664",
   "metadata": {},
   "outputs": [
    {
     "data": {
      "text/plain": [
       "False"
      ]
     },
     "execution_count": 371,
     "metadata": {},
     "output_type": "execute_result"
    }
   ],
   "source": [
    "os.path.isdir(\"sach\")"
   ]
  },
  {
   "cell_type": "markdown",
   "id": "b11e85c0",
   "metadata": {},
   "source": [
    "#### Move file from one location to new location"
   ]
  },
  {
   "cell_type": "code",
   "execution_count": 372,
   "id": "fb5c4d58",
   "metadata": {},
   "outputs": [
    {
     "data": {
      "text/plain": [
       "'C:\\\\Users\\\\it department\\\\Desktop\\\\New Folder\\\\Folder1'"
      ]
     },
     "execution_count": 372,
     "metadata": {},
     "output_type": "execute_result"
    }
   ],
   "source": [
    "import shutil\n",
    "\n",
    "shutil.move('C:\\\\Users\\\\it department\\\\Folder1', \"C:\\\\Users\\\\it department\\\\Desktop\\\\New Folder\")"
   ]
  },
  {
   "cell_type": "markdown",
   "id": "e3066b90",
   "metadata": {},
   "source": [
    "### Exercise\n",
    "\n",
    "1. create a new directory\n",
    "2. create 10 txt files inside newly created directory and write some data in all 10 txt at a time.\n",
    "3. read all the data from above created dir/files and print in console\n",
    "4. hold all the data in list\n",
    "5. write all the data in a new file from list\n",
    "6. keep only a new file in present directory and move rest in new dir."
   ]
  },
  {
   "cell_type": "code",
   "execution_count": 1,
   "id": "fd8f2b1f",
   "metadata": {},
   "outputs": [],
   "source": [
    "# 1. create a new directory\n",
    "\n",
    "import os\n",
    "os.mkdir(\"Question\")\n",
    "\n",
    "os.chdir('C:\\\\Users\\\\it department\\\\Question')"
   ]
  },
  {
   "cell_type": "code",
   "execution_count": 2,
   "id": "14ec7eb4",
   "metadata": {},
   "outputs": [
    {
     "data": {
      "text/plain": [
       "'C:\\\\Users\\\\it department\\\\Question'"
      ]
     },
     "execution_count": 2,
     "metadata": {},
     "output_type": "execute_result"
    }
   ],
   "source": [
    "pwd()"
   ]
  },
  {
   "cell_type": "code",
   "execution_count": 3,
   "id": "32479688",
   "metadata": {},
   "outputs": [],
   "source": [
    "# 2. create 10 txt files inside newly created directory and write some data in all 10 txt at a time.\n",
    "\n",
    "s = \"\"\n",
    "for i in range(1,11):\n",
    "    s = \"tt\"+str(i)+\".txt\"\n",
    "    f = open(s,'w')\n",
    "    f.write(s + \" is newly created file\")\n",
    "    f.close()\n",
    "    "
   ]
  },
  {
   "cell_type": "code",
   "execution_count": 4,
   "id": "81390840",
   "metadata": {},
   "outputs": [
    {
     "name": "stdout",
     "output_type": "stream",
     "text": [
      "tt1.txt is newly created file\n",
      "tt10.txt is newly created file\n",
      "tt2.txt is newly created file\n",
      "tt3.txt is newly created file\n",
      "tt4.txt is newly created file\n",
      "tt5.txt is newly created file\n",
      "tt6.txt is newly created file\n",
      "tt7.txt is newly created file\n",
      "tt8.txt is newly created file\n",
      "tt9.txt is newly created file\n"
     ]
    }
   ],
   "source": [
    "# 3. read all the data from above created dir/files and print in console\n",
    "\n",
    "l = os.listdir()\n",
    "\n",
    "for i in l:\n",
    "    if i.endswith(\".txt\"):\n",
    "        f = open(i,'r')\n",
    "        print(f.read())\n",
    "        f.close()\n",
    "\n"
   ]
  },
  {
   "cell_type": "code",
   "execution_count": 5,
   "id": "6399236f",
   "metadata": {},
   "outputs": [
    {
     "name": "stdout",
     "output_type": "stream",
     "text": [
      "['tt1.txt is newly created file', 'tt10.txt is newly created file', 'tt2.txt is newly created file', 'tt3.txt is newly created file', 'tt4.txt is newly created file', 'tt5.txt is newly created file', 'tt6.txt is newly created file', 'tt7.txt is newly created file', 'tt8.txt is newly created file', 'tt9.txt is newly created file']\n"
     ]
    }
   ],
   "source": [
    "# 4. hold all the data in list\n",
    "\n",
    "l = os.listdir()\n",
    "l2 =[]\n",
    "\n",
    "for i in l:\n",
    "    if i.endswith(\".txt\"):\n",
    "        f = open(i,'r')\n",
    "        l2.append(f.read())\n",
    "        f.close()\n",
    "print(l2)"
   ]
  },
  {
   "cell_type": "code",
   "execution_count": 7,
   "id": "5844cc46",
   "metadata": {},
   "outputs": [],
   "source": [
    "# 5. write all the data in a new file from list\n",
    "\n",
    "f2 = open(\"final.txt\",\"a\")\n",
    "\n",
    "for i in l2:\n",
    "    f2.write(i)\n",
    "f2.close()"
   ]
  },
  {
   "cell_type": "code",
   "execution_count": 8,
   "id": "a5f50b83",
   "metadata": {},
   "outputs": [
    {
     "data": {
      "text/plain": [
       "'C:\\\\Users\\\\it department\\\\Question'"
      ]
     },
     "execution_count": 8,
     "metadata": {},
     "output_type": "execute_result"
    }
   ],
   "source": [
    "pwd()"
   ]
  },
  {
   "cell_type": "code",
   "execution_count": 13,
   "id": "c71e87fe",
   "metadata": {},
   "outputs": [],
   "source": [
    "# 6. keep only a new file in present directory and move rest in new dir.\n",
    "import os\n",
    "import shutil\n",
    "\n",
    "\n",
    "l = os.listdir()\n",
    "l.remove(\"final.txt\")\n",
    "\n",
    "\n",
    "for i in l:\n",
    "    original = r'C:\\\\Users\\\\it department\\\\Question\\\\'+str(i)\n",
    "    target = r'C:\\\\Users\\\\it department\\\\Desktop\\\\New folder\\\\'+str(i)\n",
    "    shutil.move(original,target)"
   ]
  },
  {
   "cell_type": "markdown",
   "id": "368e61f6",
   "metadata": {},
   "source": [
    "### Excercise:\n",
    "\n",
    "1. download all the assignments in download folder: \n",
    "    i. theory assignment (basic & advance) \n",
    "    ii. programming assignment (basic & advance)\n",
    "2. There will be 2 files with same name like\n",
    "    - Assignment_1 in theory assignment\n",
    "    - Programming Assignment_1 in programming assignment\n",
    "    keep first Assignment_1 as it is but for next Assignment_1 file rename to Assignment_11 or Advance Assignment_1. Similarly Programming Assignment_1 and Programming Assignment_11\n",
    "3. Now:\n",
    "        i. make 2 folders automatically by extracting name from file name like \n",
    "            - Assignment & Programming Assignment respectively.\n",
    "        ii. In Assignment folder all theory assignment (basic and advance) need to moved. Similarly all the programming assignment need to move to Programming Assignment folder.\n",
    "4. Make only one file containing data from files out of both the folders and  make folder name as heading and Q.1 from Assignment_1 file  will be rename as Assignment_1_Q.1 and so on."
   ]
  },
  {
   "cell_type": "code",
   "execution_count": null,
   "id": "e37bff8e",
   "metadata": {},
   "outputs": [],
   "source": []
  }
 ],
 "metadata": {
  "kernelspec": {
   "display_name": "Python 3 (ipykernel)",
   "language": "python",
   "name": "python3"
  },
  "language_info": {
   "codemirror_mode": {
    "name": "ipython",
    "version": 3
   },
   "file_extension": ".py",
   "mimetype": "text/x-python",
   "name": "python",
   "nbconvert_exporter": "python",
   "pygments_lexer": "ipython3",
   "version": "3.9.7"
  }
 },
 "nbformat": 4,
 "nbformat_minor": 5
}
