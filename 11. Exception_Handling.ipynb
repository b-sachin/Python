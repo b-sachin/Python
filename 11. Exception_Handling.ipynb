{
 "cells": [
  {
   "cell_type": "code",
   "execution_count": 1,
   "id": "d7d05fac",
   "metadata": {},
   "outputs": [
    {
     "ename": "SyntaxError",
     "evalue": "EOL while scanning string literal (Temp/ipykernel_1924/145924344.py, line 1)",
     "output_type": "error",
     "traceback": [
      "\u001b[1;36m  File \u001b[1;32m\"C:\\Users\\ITDEPA~1\\AppData\\Local\\Temp/ipykernel_1924/145924344.py\"\u001b[1;36m, line \u001b[1;32m1\u001b[0m\n\u001b[1;33m    print(\"asdf;lkj)\u001b[0m\n\u001b[1;37m                    ^\u001b[0m\n\u001b[1;31mSyntaxError\u001b[0m\u001b[1;31m:\u001b[0m EOL while scanning string literal\n"
     ]
    }
   ],
   "source": [
    "print(\"asdf;lkj)"
   ]
  },
  {
   "cell_type": "code",
   "execution_count": 3,
   "id": "2819e17b",
   "metadata": {},
   "outputs": [
    {
     "ename": "SyntaxError",
     "evalue": "invalid syntax (Temp/ipykernel_1924/2323308807.py, line 1)",
     "output_type": "error",
     "traceback": [
      "\u001b[1;36m  File \u001b[1;32m\"C:\\Users\\ITDEPA~1\\AppData\\Local\\Temp/ipykernel_1924/2323308807.py\"\u001b[1;36m, line \u001b[1;32m1\u001b[0m\n\u001b[1;33m    def fun1()\u001b[0m\n\u001b[1;37m              ^\u001b[0m\n\u001b[1;31mSyntaxError\u001b[0m\u001b[1;31m:\u001b[0m invalid syntax\n"
     ]
    }
   ],
   "source": [
    "def fun1()\n",
    "print(\"qwerty\")"
   ]
  },
  {
   "cell_type": "code",
   "execution_count": 4,
   "id": "53b90c11",
   "metadata": {},
   "outputs": [],
   "source": [
    "def div(a,b):\n",
    "    return a/b"
   ]
  },
  {
   "cell_type": "code",
   "execution_count": 5,
   "id": "8e5ffc4b",
   "metadata": {},
   "outputs": [
    {
     "ename": "ZeroDivisionError",
     "evalue": "division by zero",
     "output_type": "error",
     "traceback": [
      "\u001b[1;31m---------------------------------------------------------------------------\u001b[0m",
      "\u001b[1;31mZeroDivisionError\u001b[0m                         Traceback (most recent call last)",
      "\u001b[1;32mC:\\Users\\ITDEPA~1\\AppData\\Local\\Temp/ipykernel_1924/993296447.py\u001b[0m in \u001b[0;36m<module>\u001b[1;34m\u001b[0m\n\u001b[1;32m----> 1\u001b[1;33m \u001b[0mdiv\u001b[0m\u001b[1;33m(\u001b[0m\u001b[1;36m4\u001b[0m\u001b[1;33m,\u001b[0m\u001b[1;36m0\u001b[0m\u001b[1;33m)\u001b[0m\u001b[1;33m\u001b[0m\u001b[1;33m\u001b[0m\u001b[0m\n\u001b[0m",
      "\u001b[1;32mC:\\Users\\ITDEPA~1\\AppData\\Local\\Temp/ipykernel_1924/3173384365.py\u001b[0m in \u001b[0;36mdiv\u001b[1;34m(a, b)\u001b[0m\n\u001b[0;32m      1\u001b[0m \u001b[1;32mdef\u001b[0m \u001b[0mdiv\u001b[0m\u001b[1;33m(\u001b[0m\u001b[0ma\u001b[0m\u001b[1;33m,\u001b[0m\u001b[0mb\u001b[0m\u001b[1;33m)\u001b[0m\u001b[1;33m:\u001b[0m\u001b[1;33m\u001b[0m\u001b[1;33m\u001b[0m\u001b[0m\n\u001b[1;32m----> 2\u001b[1;33m     \u001b[1;32mreturn\u001b[0m \u001b[0ma\u001b[0m\u001b[1;33m/\u001b[0m\u001b[0mb\u001b[0m\u001b[1;33m\u001b[0m\u001b[1;33m\u001b[0m\u001b[0m\n\u001b[0m",
      "\u001b[1;31mZeroDivisionError\u001b[0m: division by zero"
     ]
    }
   ],
   "source": [
    "div(4,0)"
   ]
  },
  {
   "cell_type": "code",
   "execution_count": 6,
   "id": "bb1cbf82",
   "metadata": {},
   "outputs": [
    {
     "data": {
      "text/plain": [
       "1.3333333333333333"
      ]
     },
     "execution_count": 6,
     "metadata": {},
     "output_type": "execute_result"
    }
   ],
   "source": [
    "div(4,3)"
   ]
  },
  {
   "cell_type": "code",
   "execution_count": 7,
   "id": "d6716e2c",
   "metadata": {},
   "outputs": [
    {
     "ename": "FileNotFoundError",
     "evalue": "[Errno 2] No such file or directory: 'trytest.txt'",
     "output_type": "error",
     "traceback": [
      "\u001b[1;31m---------------------------------------------------------------------------\u001b[0m",
      "\u001b[1;31mFileNotFoundError\u001b[0m                         Traceback (most recent call last)",
      "\u001b[1;32mC:\\Users\\ITDEPA~1\\AppData\\Local\\Temp/ipykernel_1924/1219777560.py\u001b[0m in \u001b[0;36m<module>\u001b[1;34m\u001b[0m\n\u001b[1;32m----> 1\u001b[1;33m \u001b[0mf\u001b[0m \u001b[1;33m=\u001b[0m \u001b[0mopen\u001b[0m\u001b[1;33m(\u001b[0m\u001b[1;34m\"trytest.txt\"\u001b[0m\u001b[1;33m,\u001b[0m\u001b[1;34m\"r\"\u001b[0m\u001b[1;33m)\u001b[0m\u001b[1;33m\u001b[0m\u001b[1;33m\u001b[0m\u001b[0m\n\u001b[0m",
      "\u001b[1;31mFileNotFoundError\u001b[0m: [Errno 2] No such file or directory: 'trytest.txt'"
     ]
    }
   ],
   "source": [
    "f = open(\"trytest.txt\",\"r\")"
   ]
  },
  {
   "cell_type": "code",
   "execution_count": 8,
   "id": "4ac6560a",
   "metadata": {},
   "outputs": [],
   "source": [
    "try:\n",
    "    f = open(\"trytest.txt\",\"r\")\n",
    "except:\n",
    "    pass"
   ]
  },
  {
   "cell_type": "code",
   "execution_count": 9,
   "id": "235ab732",
   "metadata": {},
   "outputs": [
    {
     "ename": "SyntaxError",
     "evalue": "invalid syntax (Temp/ipykernel_1924/2396479002.py, line 3)",
     "output_type": "error",
     "traceback": [
      "\u001b[1;36m  File \u001b[1;32m\"C:\\Users\\ITDEPA~1\\AppData\\Local\\Temp/ipykernel_1924/2396479002.py\"\u001b[1;36m, line \u001b[1;32m3\u001b[0m\n\u001b[1;33m    except:\u001b[0m\n\u001b[1;37m    ^\u001b[0m\n\u001b[1;31mSyntaxError\u001b[0m\u001b[1;31m:\u001b[0m invalid syntax\n"
     ]
    }
   ],
   "source": [
    "try:\n",
    "    f = open(\"trytest.txt\",\"r\"\n",
    "except:\n",
    "    pass"
   ]
  },
  {
   "cell_type": "markdown",
   "id": "8a22c6e4",
   "metadata": {},
   "source": [
    "As we can see in above code: Syntactical error can't be handled using exception handling"
   ]
  },
  {
   "cell_type": "code",
   "execution_count": 10,
   "id": "f9a7cb9f",
   "metadata": {},
   "outputs": [
    {
     "name": "stdout",
     "output_type": "stream",
     "text": [
      "there is some issue with code\n"
     ]
    }
   ],
   "source": [
    "try:\n",
    "    f = open(\"trytest.txt\",\"r\")\n",
    "except:\n",
    "    print(\"there is some issue with code\")"
   ]
  },
  {
   "cell_type": "markdown",
   "id": "79f936e6",
   "metadata": {},
   "source": [
    "### Exception Specific Handling"
   ]
  },
  {
   "cell_type": "code",
   "execution_count": 11,
   "id": "eb23738c",
   "metadata": {},
   "outputs": [
    {
     "name": "stdout",
     "output_type": "stream",
     "text": [
      "there is some issue with code\n"
     ]
    }
   ],
   "source": [
    "try:\n",
    "    f = open(\"trytest.txt\",\"r\")\n",
    "except IOError:\n",
    "    print(\"there is some issue with code\")"
   ]
  },
  {
   "cell_type": "code",
   "execution_count": 12,
   "id": "92dc6fb0",
   "metadata": {},
   "outputs": [
    {
     "ename": "ZeroDivisionError",
     "evalue": "division by zero",
     "output_type": "error",
     "traceback": [
      "\u001b[1;31m---------------------------------------------------------------------------\u001b[0m",
      "\u001b[1;31mZeroDivisionError\u001b[0m                         Traceback (most recent call last)",
      "\u001b[1;32mC:\\Users\\ITDEPA~1\\AppData\\Local\\Temp/ipykernel_1924/3747146286.py\u001b[0m in \u001b[0;36m<module>\u001b[1;34m\u001b[0m\n\u001b[0;32m      1\u001b[0m \u001b[1;32mtry\u001b[0m\u001b[1;33m:\u001b[0m\u001b[1;33m\u001b[0m\u001b[1;33m\u001b[0m\u001b[0m\n\u001b[1;32m----> 2\u001b[1;33m     \u001b[0mf\u001b[0m \u001b[1;33m=\u001b[0m \u001b[1;36m5\u001b[0m\u001b[1;33m/\u001b[0m\u001b[1;36m0\u001b[0m\u001b[1;33m\u001b[0m\u001b[1;33m\u001b[0m\u001b[0m\n\u001b[0m\u001b[0;32m      3\u001b[0m \u001b[1;32mexcept\u001b[0m \u001b[0mIOError\u001b[0m\u001b[1;33m:\u001b[0m\u001b[1;33m\u001b[0m\u001b[1;33m\u001b[0m\u001b[0m\n\u001b[0;32m      4\u001b[0m     \u001b[0mprint\u001b[0m\u001b[1;33m(\u001b[0m\u001b[1;34m\"there is some issue with code\"\u001b[0m\u001b[1;33m)\u001b[0m\u001b[1;33m\u001b[0m\u001b[1;33m\u001b[0m\u001b[0m\n",
      "\u001b[1;31mZeroDivisionError\u001b[0m: division by zero"
     ]
    }
   ],
   "source": [
    "try:\n",
    "    f = 5/0\n",
    "except IOError:\n",
    "    print(\"there is some issue with code\")"
   ]
  },
  {
   "cell_type": "code",
   "execution_count": 13,
   "id": "cecacb36",
   "metadata": {},
   "outputs": [
    {
     "name": "stdout",
     "output_type": "stream",
     "text": [
      "there is some issue with code\n"
     ]
    }
   ],
   "source": [
    "try:\n",
    "    f = 5/0\n",
    "except ArithmeticError:\n",
    "    print(\"there is some issue with code\")"
   ]
  },
  {
   "cell_type": "code",
   "execution_count": 14,
   "id": "61e64215",
   "metadata": {},
   "outputs": [
    {
     "name": "stdout",
     "output_type": "stream",
     "text": [
      "there is some issue with code:  division by zero\n"
     ]
    }
   ],
   "source": [
    "try:\n",
    "    f = 5/0\n",
    "except ArithmeticError as e:\n",
    "    print(\"there is some issue with code: \",e)"
   ]
  },
  {
   "cell_type": "code",
   "execution_count": 15,
   "id": "7dfcc3d1",
   "metadata": {},
   "outputs": [
    {
     "name": "stdout",
     "output_type": "stream",
     "text": [
      "This will execute once try will execute with success\n"
     ]
    }
   ],
   "source": [
    "try:\n",
    "    f = 5/4\n",
    "except ArithmeticError as e:\n",
    "    print(\"there is some issue with code: \",e)\n",
    "else:\n",
    "    print(\"This will execute once try will execute with success\")"
   ]
  },
  {
   "cell_type": "code",
   "execution_count": 16,
   "id": "b6d6dd0e",
   "metadata": {},
   "outputs": [
    {
     "name": "stdout",
     "output_type": "stream",
     "text": [
      "This will execute once try will execute with success\n"
     ]
    }
   ],
   "source": [
    "try:\n",
    "    f = 5/4\n",
    "except ArithmeticError as e:\n",
    "    print(\"there is some issue with code: \",e)\n",
    "else:\n",
    "    print(\"This will execute once try will execute with success\")\n",
    "    f = open(\"mytest.txt\",\"r\")"
   ]
  },
  {
   "cell_type": "code",
   "execution_count": 17,
   "id": "d5b9531e",
   "metadata": {},
   "outputs": [
    {
     "name": "stdout",
     "output_type": "stream",
     "text": [
      "This will execute once try will execute with success\n"
     ]
    }
   ],
   "source": [
    "try:\n",
    "    f = 5/4\n",
    "except ArithmeticError as e:\n",
    "    print(\"there is some issue with code: \",e)\n",
    "else:\n",
    "    print(\"This will execute once try will execute with success\")\n",
    "    try:\n",
    "        f = open(\"mytest.txt\",\"r\")\n",
    "    except:\n",
    "        print(\"there is a issue with internal try block\")"
   ]
  },
  {
   "cell_type": "code",
   "execution_count": 18,
   "id": "cfd6bd8d",
   "metadata": {},
   "outputs": [
    {
     "name": "stdout",
     "output_type": "stream",
     "text": [
      "there is some issue with code:  division by zero\n"
     ]
    }
   ],
   "source": [
    "try:\n",
    "    a = 6\n",
    "    b = 0\n",
    "    #a = int(input(\"Enter first number: \"))\n",
    "    #b = int(input(\"Enter second Number: \"))\n",
    "    f = a/b\n",
    "except ArithmeticError as e:\n",
    "    print(\"there is some issue with code: \",e)\n",
    "    f = open(\"mytest.txt\",\"w\")\n",
    "else:\n",
    "    print(\"This will execute once try will execute with success\")\n",
    "    try:\n",
    "        f = open(\"mytest.txt\",\"r\")\n",
    "    except:\n",
    "        print(\"there is a issue with internal try block\")"
   ]
  },
  {
   "cell_type": "code",
   "execution_count": 19,
   "id": "84e37846",
   "metadata": {},
   "outputs": [
    {
     "ename": "IndexError",
     "evalue": "list index out of range",
     "output_type": "error",
     "traceback": [
      "\u001b[1;31m---------------------------------------------------------------------------\u001b[0m",
      "\u001b[1;31mIndexError\u001b[0m                                Traceback (most recent call last)",
      "\u001b[1;32mC:\\Users\\ITDEPA~1\\AppData\\Local\\Temp/ipykernel_1924/718826501.py\u001b[0m in \u001b[0;36m<module>\u001b[1;34m\u001b[0m\n\u001b[0;32m      1\u001b[0m \u001b[0ml\u001b[0m \u001b[1;33m=\u001b[0m \u001b[1;33m[\u001b[0m\u001b[1;36m4\u001b[0m\u001b[1;33m,\u001b[0m\u001b[1;36m5\u001b[0m\u001b[1;33m,\u001b[0m\u001b[1;36m6\u001b[0m\u001b[1;33m,\u001b[0m\u001b[1;36m7\u001b[0m\u001b[1;33m,\u001b[0m\u001b[1;36m8\u001b[0m\u001b[1;33m,\u001b[0m\u001b[1;36m9\u001b[0m\u001b[1;33m,\u001b[0m\u001b[1;36m0\u001b[0m\u001b[1;33m]\u001b[0m\u001b[1;33m\u001b[0m\u001b[1;33m\u001b[0m\u001b[0m\n\u001b[1;32m----> 2\u001b[1;33m \u001b[0ml\u001b[0m\u001b[1;33m[\u001b[0m\u001b[1;36m100\u001b[0m\u001b[1;33m]\u001b[0m\u001b[1;33m\u001b[0m\u001b[1;33m\u001b[0m\u001b[0m\n\u001b[0m\u001b[0;32m      3\u001b[0m \u001b[0mt\u001b[0m \u001b[1;33m=\u001b[0m \u001b[1;33m(\u001b[0m\u001b[1;36m4\u001b[0m\u001b[1;33m,\u001b[0m\u001b[1;36m5\u001b[0m\u001b[1;33m,\u001b[0m\u001b[1;36m6\u001b[0m\u001b[1;33m,\u001b[0m\u001b[1;36m7\u001b[0m\u001b[1;33m,\u001b[0m\u001b[1;36m7\u001b[0m\u001b[1;33m,\u001b[0m\u001b[1;36m8\u001b[0m\u001b[1;33m,\u001b[0m\u001b[1;36m9\u001b[0m\u001b[1;33m)\u001b[0m\u001b[1;33m\u001b[0m\u001b[1;33m\u001b[0m\u001b[0m\n\u001b[0;32m      4\u001b[0m \u001b[0mprint\u001b[0m\u001b[1;33m(\u001b[0m\u001b[0mt\u001b[0m\u001b[1;33m)\u001b[0m\u001b[1;33m\u001b[0m\u001b[1;33m\u001b[0m\u001b[0m\n",
      "\u001b[1;31mIndexError\u001b[0m: list index out of range"
     ]
    }
   ],
   "source": [
    "l = [4,5,6,7,8,9,0]\n",
    "l[100]\n",
    "t = (4,5,6,7,7,8,9)\n",
    "print(t)"
   ]
  },
  {
   "cell_type": "code",
   "execution_count": 20,
   "id": "d2c71289",
   "metadata": {},
   "outputs": [
    {
     "name": "stdout",
     "output_type": "stream",
     "text": [
      "There is issue in code\n",
      "(4, 5, 6, 7, 7, 8, 9)\n"
     ]
    }
   ],
   "source": [
    "try:\n",
    "    l = [4,5,6,7,8,9,0]\n",
    "    l[100]\n",
    "except:\n",
    "    print(\"There is issue in code\")\n",
    "else:\n",
    "    print(\"There is no issue with code\")\n",
    "\n",
    "t = (4,5,6,7,7,8,9)\n",
    "print(t)"
   ]
  },
  {
   "cell_type": "code",
   "execution_count": 21,
   "id": "de7302ac",
   "metadata": {},
   "outputs": [
    {
     "name": "stdout",
     "output_type": "stream",
     "text": [
      "There is issue in code\n",
      "(4, 5, 6, 7, 7, 8, 9)\n"
     ]
    }
   ],
   "source": [
    "try:\n",
    "    l = [4,5,6,7,8,9,0]\n",
    "    l[100]\n",
    "except:\n",
    "    print(\"There is issue in code\")\n",
    "    t = (4,5,6,7,7,8,9)\n",
    "    print(t)\n",
    "else:\n",
    "    print(\"There is no issue with code\")\n",
    "\n"
   ]
  },
  {
   "cell_type": "code",
   "execution_count": 22,
   "id": "86e0767c",
   "metadata": {},
   "outputs": [
    {
     "name": "stdout",
     "output_type": "stream",
     "text": [
      "There is issue in code\n",
      "(4, 5, 6, 7, 7, 8, 9)\n",
      "this is another issue\n"
     ]
    }
   ],
   "source": [
    "try:\n",
    "    l = [4,5,6,7,8,9,0]\n",
    "    l[100]\n",
    "except:\n",
    "    print(\"There is issue in code\")\n",
    "    t = (4,5,6,7,7,8,9)\n",
    "    print(t)\n",
    "    \n",
    "    try:\n",
    "        t[0] = \"sach\"\n",
    "    except:\n",
    "        print(\"this is another issue\")\n",
    "else:\n",
    "    print(\"There is no issue with code\")\n",
    "\n"
   ]
  },
  {
   "cell_type": "markdown",
   "id": "a84a20fe",
   "metadata": {},
   "source": [
    "### Finally Block"
   ]
  },
  {
   "cell_type": "code",
   "execution_count": 23,
   "id": "b1a2d859",
   "metadata": {},
   "outputs": [
    {
     "name": "stdout",
     "output_type": "stream",
     "text": [
      "finally block will execute always execute regardless there is issue in code or not\n"
     ]
    }
   ],
   "source": [
    "try:\n",
    "    f = open(\"mytest.txt\",\"r\")\n",
    "finally:\n",
    "    print(\"finally block will execute always execute regardless there is issue in code or not\")"
   ]
  },
  {
   "cell_type": "code",
   "execution_count": 24,
   "id": "13ae8c26",
   "metadata": {},
   "outputs": [
    {
     "name": "stdout",
     "output_type": "stream",
     "text": [
      "finally block will execute always execute regardless there is issue in code or not\n",
      "4\n"
     ]
    }
   ],
   "source": [
    "  try:\n",
    "    f = open(\"mytest.txt\",\"r\")\n",
    "finally:\n",
    "    print(\"finally block will execute always execute regardless there is issue in code or not\")\n",
    "    l = [4,5,6,7]\n",
    "    print(l[0])"
   ]
  },
  {
   "cell_type": "code",
   "execution_count": 25,
   "id": "8a8d4417",
   "metadata": {},
   "outputs": [
    {
     "name": "stdout",
     "output_type": "stream",
     "text": [
      "finally block will execute always execute regardless there is issue in code or not\n"
     ]
    },
    {
     "ename": "IndexError",
     "evalue": "list index out of range",
     "output_type": "error",
     "traceback": [
      "\u001b[1;31m---------------------------------------------------------------------------\u001b[0m",
      "\u001b[1;31mIndexError\u001b[0m                                Traceback (most recent call last)",
      "\u001b[1;32mC:\\Users\\ITDEPA~1\\AppData\\Local\\Temp/ipykernel_1924/929840071.py\u001b[0m in \u001b[0;36m<module>\u001b[1;34m\u001b[0m\n\u001b[0;32m      4\u001b[0m   \u001b[0mprint\u001b[0m\u001b[1;33m(\u001b[0m\u001b[1;34m\"finally block will execute always execute regardless there is issue in code or not\"\u001b[0m\u001b[1;33m)\u001b[0m\u001b[1;33m\u001b[0m\u001b[1;33m\u001b[0m\u001b[0m\n\u001b[0;32m      5\u001b[0m   \u001b[0ml\u001b[0m \u001b[1;33m=\u001b[0m \u001b[1;33m[\u001b[0m\u001b[1;36m4\u001b[0m\u001b[1;33m,\u001b[0m\u001b[1;36m5\u001b[0m\u001b[1;33m,\u001b[0m\u001b[1;36m6\u001b[0m\u001b[1;33m,\u001b[0m\u001b[1;36m7\u001b[0m\u001b[1;33m]\u001b[0m\u001b[1;33m\u001b[0m\u001b[1;33m\u001b[0m\u001b[0m\n\u001b[1;32m----> 6\u001b[1;33m   \u001b[0mprint\u001b[0m\u001b[1;33m(\u001b[0m\u001b[0ml\u001b[0m\u001b[1;33m[\u001b[0m\u001b[1;36m8\u001b[0m\u001b[1;33m]\u001b[0m\u001b[1;33m)\u001b[0m\u001b[1;33m\u001b[0m\u001b[1;33m\u001b[0m\u001b[0m\n\u001b[0m",
      "\u001b[1;31mIndexError\u001b[0m: list index out of range"
     ]
    }
   ],
   "source": [
    "  try:\n",
    "    f = open(\"mytest.txt\",\"r\")\n",
    "finally:\n",
    "    print(\"finally block will execute always execute regardless there is issue in code or not\")\n",
    "    l = [4,5,6,7]\n",
    "    print(l[8])"
   ]
  },
  {
   "cell_type": "code",
   "execution_count": 26,
   "id": "b9d2477a",
   "metadata": {},
   "outputs": [
    {
     "name": "stdout",
     "output_type": "stream",
     "text": [
      "Else will execute if try runs successfully\n",
      "finally block will execute always execute regardless there is issue in code or not\n"
     ]
    }
   ],
   "source": [
    "try:\n",
    "    f = open(\"mytest.txt\",\"r\")\n",
    "except:\n",
    "    pass\n",
    "else:\n",
    "    print(\"Else will execute if try runs successfully\")\n",
    "finally:\n",
    "    print(\"finally block will execute always execute regardless there is issue in code or not\")\n",
    "    l = [4,5,6,7]\n",
    "    try:\n",
    "        print(l[8])\n",
    "    except:\n",
    "        pass"
   ]
  },
  {
   "cell_type": "code",
   "execution_count": 27,
   "id": "60849e90",
   "metadata": {},
   "outputs": [
    {
     "name": "stdout",
     "output_type": "stream",
     "text": [
      "This is my error [Errno 2] No such file or directory: 'mytest1.txt'\n"
     ]
    }
   ],
   "source": [
    "try:\n",
    "    f = open(\"mytest1.txt\",\"r\")\n",
    "except IOError as e:\n",
    "    print(\"This is my error\",e)"
   ]
  },
  {
   "cell_type": "code",
   "execution_count": 28,
   "id": "2d90d2ca",
   "metadata": {},
   "outputs": [],
   "source": [
    "def askforint():\n",
    "    while True:\n",
    "        try:\n",
    "            #a = as / 66\n",
    "            a = int(input(\"Enter an Integer\"))\n",
    "        except Exception as e:\n",
    "            print(\"This is my error message: \",e)\n",
    "        else:\n",
    "            print(\"Entered Value is Correct\")\n",
    "            break\n",
    "        finally:\n",
    "            print(\"close this issue\")"
   ]
  },
  {
   "cell_type": "code",
   "execution_count": 29,
   "id": "388be11f",
   "metadata": {},
   "outputs": [
    {
     "name": "stdout",
     "output_type": "stream",
     "text": [
      "Enter an Integer\n",
      "This is my error message:  invalid literal for int() with base 10: ''\n",
      "close this issue\n",
      "Enter an Integer\n",
      "This is my error message:  invalid literal for int() with base 10: ''\n",
      "close this issue\n",
      "Enter an Integeras\n",
      "This is my error message:  invalid literal for int() with base 10: 'as'\n",
      "close this issue\n",
      "Enter an Integer66\n",
      "Entered Value is Correct\n",
      "close this issue\n"
     ]
    }
   ],
   "source": [
    "askforint()"
   ]
  },
  {
   "cell_type": "markdown",
   "id": "beb4eabe",
   "metadata": {},
   "source": [
    "### Multiple except Block"
   ]
  },
  {
   "cell_type": "code",
   "execution_count": 30,
   "id": "e7420617",
   "metadata": {},
   "outputs": [],
   "source": [
    "def askforint():\n",
    "    while True:\n",
    "        try:\n",
    "            # a = fdf / 8\n",
    "            a = int(input(\"Enter an Integer\"))\n",
    "        except FileNotFoundError as e:\n",
    "            print(\"This is my error message: \",e)\n",
    "        except IOError as e:\n",
    "            print(e)        \n",
    "        except ValueError as e:\n",
    "            print(e)    \n",
    "        else:\n",
    "            print(\"Entered Value is Correct\")\n",
    "            break\n",
    "        finally:\n",
    "            print(\"close this issue\")"
   ]
  },
  {
   "cell_type": "code",
   "execution_count": 31,
   "id": "a7128156",
   "metadata": {},
   "outputs": [
    {
     "name": "stdout",
     "output_type": "stream",
     "text": [
      "Enter an Integerfdf\n",
      "invalid literal for int() with base 10: 'fdf'\n",
      "close this issue\n",
      "Enter an Integer8\n",
      "Entered Value is Correct\n",
      "close this issue\n"
     ]
    }
   ],
   "source": [
    "askforint()"
   ]
  },
  {
   "cell_type": "code",
   "execution_count": 32,
   "id": "93171cb2",
   "metadata": {},
   "outputs": [],
   "source": [
    "def askforint():\n",
    "    while True:\n",
    "        try:\n",
    "            #a = as / ada / 0\n",
    "            a = int(input(\"Enter an Integer\"))\n",
    "            c = 8/a\n",
    "        except FileNotFoundError as e:\n",
    "            print(\"This is my error message: \",e)\n",
    "        except IOError as e:\n",
    "            print(e)        \n",
    "        except ValueError as e:\n",
    "            print(e)    \n",
    "        else:\n",
    "            print(\"Entered Value is Correct\")\n",
    "            break\n",
    "        finally:\n",
    "            print(\"close this issue\")"
   ]
  },
  {
   "cell_type": "code",
   "execution_count": 33,
   "id": "a4dff2c8",
   "metadata": {},
   "outputs": [
    {
     "name": "stdout",
     "output_type": "stream",
     "text": [
      "Enter an Integeras\n",
      "invalid literal for int() with base 10: 'as'\n",
      "close this issue\n",
      "Enter an Integerada\n",
      "invalid literal for int() with base 10: 'ada'\n",
      "close this issue\n",
      "Enter an Integer0\n",
      "close this issue\n"
     ]
    },
    {
     "ename": "ZeroDivisionError",
     "evalue": "division by zero",
     "output_type": "error",
     "traceback": [
      "\u001b[1;31m---------------------------------------------------------------------------\u001b[0m",
      "\u001b[1;31mZeroDivisionError\u001b[0m                         Traceback (most recent call last)",
      "\u001b[1;32mC:\\Users\\ITDEPA~1\\AppData\\Local\\Temp/ipykernel_1924/861601814.py\u001b[0m in \u001b[0;36m<module>\u001b[1;34m\u001b[0m\n\u001b[1;32m----> 1\u001b[1;33m \u001b[0maskforint\u001b[0m\u001b[1;33m(\u001b[0m\u001b[1;33m)\u001b[0m\u001b[1;33m\u001b[0m\u001b[1;33m\u001b[0m\u001b[0m\n\u001b[0m",
      "\u001b[1;32mC:\\Users\\ITDEPA~1\\AppData\\Local\\Temp/ipykernel_1924/3324012951.py\u001b[0m in \u001b[0;36maskforint\u001b[1;34m()\u001b[0m\n\u001b[0;32m      3\u001b[0m         \u001b[1;32mtry\u001b[0m\u001b[1;33m:\u001b[0m\u001b[1;33m\u001b[0m\u001b[1;33m\u001b[0m\u001b[0m\n\u001b[0;32m      4\u001b[0m             \u001b[0ma\u001b[0m \u001b[1;33m=\u001b[0m \u001b[0mint\u001b[0m\u001b[1;33m(\u001b[0m\u001b[0minput\u001b[0m\u001b[1;33m(\u001b[0m\u001b[1;34m\"Enter an Integer\"\u001b[0m\u001b[1;33m)\u001b[0m\u001b[1;33m)\u001b[0m\u001b[1;33m\u001b[0m\u001b[1;33m\u001b[0m\u001b[0m\n\u001b[1;32m----> 5\u001b[1;33m             \u001b[0mc\u001b[0m \u001b[1;33m=\u001b[0m \u001b[1;36m8\u001b[0m\u001b[1;33m/\u001b[0m\u001b[0ma\u001b[0m\u001b[1;33m\u001b[0m\u001b[1;33m\u001b[0m\u001b[0m\n\u001b[0m\u001b[0;32m      6\u001b[0m         \u001b[1;32mexcept\u001b[0m \u001b[0mFileNotFoundError\u001b[0m \u001b[1;32mas\u001b[0m \u001b[0me\u001b[0m\u001b[1;33m:\u001b[0m\u001b[1;33m\u001b[0m\u001b[1;33m\u001b[0m\u001b[0m\n\u001b[0;32m      7\u001b[0m             \u001b[0mprint\u001b[0m\u001b[1;33m(\u001b[0m\u001b[1;34m\"This is my error message: \"\u001b[0m\u001b[1;33m,\u001b[0m\u001b[0me\u001b[0m\u001b[1;33m)\u001b[0m\u001b[1;33m\u001b[0m\u001b[1;33m\u001b[0m\u001b[0m\n",
      "\u001b[1;31mZeroDivisionError\u001b[0m: division by zero"
     ]
    }
   ],
   "source": [
    "askforint()"
   ]
  },
  {
   "cell_type": "code",
   "execution_count": 34,
   "id": "199eef9a",
   "metadata": {},
   "outputs": [],
   "source": [
    "def askforint():\n",
    "    while True:\n",
    "        try:\n",
    "            #a = adad / 0 / 2        \n",
    "            a = int(input(\"Enter an Integer\"))\n",
    "            c = 8/a\n",
    "        except FileNotFoundError as e:\n",
    "            print(\"This is my error message: \",e)\n",
    "        except IOError as e:\n",
    "            print(e)        \n",
    "        except ValueError as e:\n",
    "            print(e)\n",
    "        except ZeroDivisionError as e:\n",
    "            print(e)\n",
    "        else:\n",
    "            print(\"Entered Value is Correct\")\n",
    "            break\n",
    "        finally:\n",
    "            print(\"close this issue\")"
   ]
  },
  {
   "cell_type": "code",
   "execution_count": 35,
   "id": "c6a769a6",
   "metadata": {},
   "outputs": [
    {
     "name": "stdout",
     "output_type": "stream",
     "text": [
      "Enter an Integeradad\n",
      "invalid literal for int() with base 10: 'adad'\n",
      "close this issue\n",
      "Enter an Integer0\n",
      "division by zero\n",
      "close this issue\n",
      "Enter an Integer2\n",
      "Entered Value is Correct\n",
      "close this issue\n"
     ]
    }
   ],
   "source": [
    "askforint()"
   ]
  },
  {
   "cell_type": "code",
   "execution_count": 84,
   "id": "1cdadd01",
   "metadata": {},
   "outputs": [],
   "source": [
    "def askforint():\n",
    "    while True:\n",
    "        try:\n",
    "            #a = hj / 0 / 4\n",
    "            a = int(input(\"Enter an Integer\"))\n",
    "            c = 8/a\n",
    "        except FileNotFoundError as e:\n",
    "            print(\"This is my error message: \",e)\n",
    "        except IOError as e:\n",
    "            print(e)        \n",
    "        except ValueError as e:\n",
    "            print(e)\n",
    "        except ArithmeticError as e:\n",
    "            print(\"This is arithmetic error\",e)\n",
    "        except ZeroDivisionError as e:\n",
    "            print(e)\n",
    "        else:\n",
    "            print(\"Entered Value is Correct\")\n",
    "            break\n",
    "        finally:\n",
    "            print(\"close this issue\")"
   ]
  },
  {
   "cell_type": "code",
   "execution_count": 37,
   "id": "fd6b1585",
   "metadata": {},
   "outputs": [
    {
     "name": "stdout",
     "output_type": "stream",
     "text": [
      "Enter an Integerhj\n",
      "invalid literal for int() with base 10: 'hj'\n",
      "close this issue\n",
      "Enter an Integer0\n",
      "This is arithmetic error division by zero\n",
      "close this issue\n",
      "Enter an Integer4\n",
      "Entered Value is Correct\n",
      "close this issue\n"
     ]
    }
   ],
   "source": [
    "askforint()"
   ]
  },
  {
   "cell_type": "code",
   "execution_count": 38,
   "id": "4a82cb55",
   "metadata": {},
   "outputs": [],
   "source": [
    "def askforint():\n",
    "    while True:\n",
    "        try:\n",
    "            #a = ds / 0 / 5\n",
    "            a = int(input(\"Enter an Integer\"))\n",
    "            c = 8/a\n",
    "        except FileNotFoundError as e:\n",
    "            print(\"This is my error message: \",e)\n",
    "        except IOError as e:\n",
    "            print(e)        \n",
    "        except ValueError as e:\n",
    "            print(e)\n",
    "        except Exception as e:\n",
    "            print(\"This is Parent Exception class\",e)\n",
    "        except ArithmeticError as e:\n",
    "            print(\"This is arithmetic error\",e)\n",
    "        except ZeroDivisionError as e:\n",
    "            print(e)\n",
    "        else:\n",
    "            print(\"Entered Value is Correct\")\n",
    "            break\n",
    "        finally:\n",
    "            print(\"close this issue\")"
   ]
  },
  {
   "cell_type": "code",
   "execution_count": 39,
   "id": "0aa1f4ea",
   "metadata": {},
   "outputs": [
    {
     "name": "stdout",
     "output_type": "stream",
     "text": [
      "Enter an Integerds\n",
      "invalid literal for int() with base 10: 'ds'\n",
      "close this issue\n",
      "Enter an Integer0\n",
      "This is Parent Exception class division by zero\n",
      "close this issue\n",
      "Enter an Integer5\n",
      "Entered Value is Correct\n",
      "close this issue\n"
     ]
    }
   ],
   "source": [
    "askforint()"
   ]
  },
  {
   "cell_type": "markdown",
   "id": "a6850f91",
   "metadata": {},
   "source": [
    "### User Defined Exception"
   ]
  },
  {
   "cell_type": "code",
   "execution_count": 40,
   "id": "d99853bc",
   "metadata": {},
   "outputs": [
    {
     "ename": "ZeroDivisionError",
     "evalue": "division by zero",
     "output_type": "error",
     "traceback": [
      "\u001b[1;31m---------------------------------------------------------------------------\u001b[0m",
      "\u001b[1;31mZeroDivisionError\u001b[0m                         Traceback (most recent call last)",
      "\u001b[1;32mC:\\Users\\ITDEPA~1\\AppData\\Local\\Temp/ipykernel_1924/2874912419.py\u001b[0m in \u001b[0;36m<module>\u001b[1;34m\u001b[0m\n\u001b[1;32m----> 1\u001b[1;33m \u001b[1;36m5\u001b[0m\u001b[1;33m/\u001b[0m\u001b[1;36m0\u001b[0m\u001b[1;33m\u001b[0m\u001b[1;33m\u001b[0m\u001b[0m\n\u001b[0m",
      "\u001b[1;31mZeroDivisionError\u001b[0m: division by zero"
     ]
    }
   ],
   "source": [
    "5/0"
   ]
  },
  {
   "cell_type": "code",
   "execution_count": 41,
   "id": "ba603b10",
   "metadata": {},
   "outputs": [
    {
     "data": {
      "text/plain": [
       "0.8333333333333334"
      ]
     },
     "execution_count": 41,
     "metadata": {},
     "output_type": "execute_result"
    }
   ],
   "source": [
    "5/6"
   ]
  },
  {
   "cell_type": "markdown",
   "id": "b664c6a1",
   "metadata": {},
   "source": [
    "In above case we can see somebody has written exception code for **divide by zero**. Suppose we want **divide by six** Exception as Custom or User define exception the we can do that in following way"
   ]
  },
  {
   "cell_type": "code",
   "execution_count": 64,
   "id": "9975a33c",
   "metadata": {},
   "outputs": [],
   "source": [
    "def create_your_exception(a):\n",
    "    if a == 6:\n",
    "        raise Exception(\"Six as Input Not Allowed\")\n",
    "    else:\n",
    "        print(\"Input is fine\")"
   ]
  },
  {
   "cell_type": "code",
   "execution_count": 65,
   "id": "ddfe846e",
   "metadata": {},
   "outputs": [
    {
     "ename": "Exception",
     "evalue": "Six as Input Not Allowed",
     "output_type": "error",
     "traceback": [
      "\u001b[1;31m---------------------------------------------------------------------------\u001b[0m",
      "\u001b[1;31mException\u001b[0m                                 Traceback (most recent call last)",
      "\u001b[1;32mC:\\Users\\ITDEPA~1\\AppData\\Local\\Temp/ipykernel_1924/2402796548.py\u001b[0m in \u001b[0;36m<module>\u001b[1;34m\u001b[0m\n\u001b[1;32m----> 1\u001b[1;33m \u001b[0mcreate_your_exception\u001b[0m\u001b[1;33m(\u001b[0m\u001b[1;36m6\u001b[0m\u001b[1;33m)\u001b[0m\u001b[1;33m\u001b[0m\u001b[1;33m\u001b[0m\u001b[0m\n\u001b[0m",
      "\u001b[1;32mC:\\Users\\ITDEPA~1\\AppData\\Local\\Temp/ipykernel_1924/4201543760.py\u001b[0m in \u001b[0;36mcreate_your_exception\u001b[1;34m(a)\u001b[0m\n\u001b[0;32m      1\u001b[0m \u001b[1;32mdef\u001b[0m \u001b[0mcreate_your_exception\u001b[0m\u001b[1;33m(\u001b[0m\u001b[0ma\u001b[0m\u001b[1;33m)\u001b[0m\u001b[1;33m:\u001b[0m\u001b[1;33m\u001b[0m\u001b[1;33m\u001b[0m\u001b[0m\n\u001b[0;32m      2\u001b[0m     \u001b[1;32mif\u001b[0m \u001b[0ma\u001b[0m \u001b[1;33m==\u001b[0m \u001b[1;36m6\u001b[0m\u001b[1;33m:\u001b[0m\u001b[1;33m\u001b[0m\u001b[1;33m\u001b[0m\u001b[0m\n\u001b[1;32m----> 3\u001b[1;33m         \u001b[1;32mraise\u001b[0m \u001b[0mException\u001b[0m\u001b[1;33m(\u001b[0m\u001b[1;34m\"Six as Input Not Allowed\"\u001b[0m\u001b[1;33m)\u001b[0m\u001b[1;33m\u001b[0m\u001b[1;33m\u001b[0m\u001b[0m\n\u001b[0m\u001b[0;32m      4\u001b[0m     \u001b[1;32melse\u001b[0m\u001b[1;33m:\u001b[0m\u001b[1;33m\u001b[0m\u001b[1;33m\u001b[0m\u001b[0m\n\u001b[0;32m      5\u001b[0m         \u001b[0mprint\u001b[0m\u001b[1;33m(\u001b[0m\u001b[1;34m\"Input is fine\"\u001b[0m\u001b[1;33m)\u001b[0m\u001b[1;33m\u001b[0m\u001b[1;33m\u001b[0m\u001b[0m\n",
      "\u001b[1;31mException\u001b[0m: Six as Input Not Allowed"
     ]
    }
   ],
   "source": [
    "create_your_exception(6)"
   ]
  },
  {
   "cell_type": "code",
   "execution_count": 66,
   "id": "7d2cf41e",
   "metadata": {},
   "outputs": [
    {
     "name": "stdout",
     "output_type": "stream",
     "text": [
      "Six as Input Not Allowed\n"
     ]
    }
   ],
   "source": [
    "try:\n",
    "    create_your_exception(6)\n",
    "except Exception as e:\n",
    "        print(e)"
   ]
  },
  {
   "cell_type": "code",
   "execution_count": 67,
   "id": "10a145ae",
   "metadata": {},
   "outputs": [
    {
     "name": "stdout",
     "output_type": "stream",
     "text": [
      "Input is fine\n"
     ]
    }
   ],
   "source": [
    "create_your_exception(7)"
   ]
  },
  {
   "cell_type": "markdown",
   "id": "aadf68b8",
   "metadata": {},
   "source": [
    "### Code for not excepting value above six"
   ]
  },
  {
   "cell_type": "code",
   "execution_count": 68,
   "id": "392e9ce3",
   "metadata": {},
   "outputs": [],
   "source": [
    "def create_your_exception(a):\n",
    "    if a > 6:\n",
    "        raise Exception(\"Value is Greater than Six\")\n",
    "    else:\n",
    "        print(\"Input is fine\")\n",
    "    return a"
   ]
  },
  {
   "cell_type": "code",
   "execution_count": 69,
   "id": "38e22df0",
   "metadata": {},
   "outputs": [
    {
     "name": "stdout",
     "output_type": "stream",
     "text": [
      "Value is Greater than Six\n"
     ]
    }
   ],
   "source": [
    "try:\n",
    "    create_your_exception(7)\n",
    "except Exception as e:\n",
    "    print(e)"
   ]
  },
  {
   "cell_type": "code",
   "execution_count": 70,
   "id": "331b3973",
   "metadata": {},
   "outputs": [
    {
     "name": "stdout",
     "output_type": "stream",
     "text": [
      "Input is fine\n"
     ]
    }
   ],
   "source": [
    "try:\n",
    "    create_your_exception(4)\n",
    "except Exception as e:\n",
    "    print(e)"
   ]
  },
  {
   "cell_type": "markdown",
   "id": "d15b68c6",
   "metadata": {},
   "source": [
    "### Exercise:\n",
    "\n",
    "1. Create Directory `Test` inside that create module `mod.py` inside `mod.py` write a function `even_number(n)` to print all the even number from 0 till n.\n",
    "2. Inside `Test` directory only create `ex1.ipynb` file and through this call `mod.py` and print all even numbers.\n",
    "    - from user take input to pass to `even_number()` function. it can be anything Char, special_char etc.\n",
    "    - Try to handle all the edge cases"
   ]
  },
  {
   "cell_type": "markdown",
   "id": "e61a721d",
   "metadata": {},
   "source": [
    "Code inside mod.py\n",
    "\n",
    "`def even_number(n):\n",
    "    l =[]\n",
    "    for i in range(n):\n",
    "        if(i%2 == 0):\n",
    "            l.append(i)\n",
    "    return l`\n",
    "            "
   ]
  },
  {
   "cell_type": "code",
   "execution_count": 77,
   "id": "1f2fe886",
   "metadata": {},
   "outputs": [
    {
     "name": "stdout",
     "output_type": "stream",
     "text": [
      "Enter Integer Value: 20\n",
      "[0, 2, 4, 6, 8, 10, 12, 14, 16, 18]\n"
     ]
    }
   ],
   "source": [
    "from Test import mod\n",
    "\n",
    "try:\n",
    "    #input = 20\n",
    "    res = mod.even_number(int(input(\"Enter Integer Value: \")))\n",
    "    print(res)\n",
    "except Exception as e:\n",
    "    print(\"Number is not integer: \",e)"
   ]
  },
  {
   "cell_type": "code",
   "execution_count": 80,
   "id": "c4f638a6",
   "metadata": {},
   "outputs": [
    {
     "name": "stdout",
     "output_type": "stream",
     "text": [
      "Enter Integer Value: ss\n",
      "Number is not integer:  invalid literal for int() with base 10: 'ss'\n"
     ]
    }
   ],
   "source": [
    "from Test import mod\n",
    "\n",
    "try:\n",
    "    #input = ss\n",
    "    res = mod.even_number(int(input(\"Enter Integer Value: \")))\n",
    "    print(res)\n",
    "except Exception as e:\n",
    "    print(\"Number is not integer: \",e)"
   ]
  },
  {
   "cell_type": "code",
   "execution_count": 83,
   "id": "6fbfb2a5",
   "metadata": {},
   "outputs": [
    {
     "name": "stdout",
     "output_type": "stream",
     "text": [
      "Enter Integer Value: ssa\n",
      "Number is not integer:  invalid literal for int() with base 10: 'ssa'\n"
     ]
    }
   ],
   "source": [
    "from Test import mod\n",
    "import logging as lg\n",
    "\n",
    "lg.basicConfig(filename = \"Test//even.log\", level=lg.ERROR, format = '%(name)s %(asctime)s %(levelname)s %(message)s')\n",
    "\n",
    "try:\n",
    "    lg.info(\"Call to even_number function\")\n",
    "    #input = ssa\n",
    "    res = mod.even_number(int(input(\"Enter Integer Value: \")))\n",
    "    print(res)\n",
    "except Exception as e:\n",
    "    print(\"Number is not integer: \",e)\n",
    "    lg.error(e)"
   ]
  },
  {
   "cell_type": "code",
   "execution_count": null,
   "id": "5b93129a",
   "metadata": {},
   "outputs": [],
   "source": []
  }
 ],
 "metadata": {
  "kernelspec": {
   "display_name": "Python 3 (ipykernel)",
   "language": "python",
   "name": "python3"
  },
  "language_info": {
   "codemirror_mode": {
    "name": "ipython",
    "version": 3
   },
   "file_extension": ".py",
   "mimetype": "text/x-python",
   "name": "python",
   "nbconvert_exporter": "python",
   "pygments_lexer": "ipython3",
   "version": "3.9.7"
  }
 },
 "nbformat": 4,
 "nbformat_minor": 5
}
