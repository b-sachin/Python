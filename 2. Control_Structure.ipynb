{
 "cells": [
  {
   "cell_type": "markdown",
   "metadata": {},
   "source": [
    "## Control Structure"
   ]
  },
  {
   "cell_type": "markdown",
   "metadata": {},
   "source": [
    "### 1. if statement"
   ]
  },
  {
   "cell_type": "code",
   "execution_count": 83,
   "metadata": {},
   "outputs": [
    {
     "name": "stdout",
     "output_type": "stream",
     "text": [
      "Enter your Age: 17\n"
     ]
    }
   ],
   "source": [
    "a = int(input(\"Enter your Age: \"))\n",
    "\n",
    "if a>18:\n",
    "    pass"
   ]
  },
  {
   "cell_type": "code",
   "execution_count": 84,
   "metadata": {},
   "outputs": [
    {
     "name": "stdout",
     "output_type": "stream",
     "text": [
      "Enter your Age: 19\n"
     ]
    }
   ],
   "source": [
    "a = int(input(\"Enter your Age: \"))\n",
    "\n",
    "if a>18:\n",
    "    pass"
   ]
  },
  {
   "cell_type": "code",
   "execution_count": 87,
   "metadata": {},
   "outputs": [
    {
     "ename": "SyntaxError",
     "evalue": "unexpected EOF while parsing (<ipython-input-87-48b9bd07cba8>, line 3)",
     "output_type": "error",
     "traceback": [
      "\u001b[1;36m  File \u001b[1;32m\"<ipython-input-87-48b9bd07cba8>\"\u001b[1;36m, line \u001b[1;32m3\u001b[0m\n\u001b[1;33m    if a>18:\u001b[0m\n\u001b[1;37m            ^\u001b[0m\n\u001b[1;31mSyntaxError\u001b[0m\u001b[1;31m:\u001b[0m unexpected EOF while parsing\n"
     ]
    }
   ],
   "source": [
    "a = int(input(\"Enter your Age: \"))\n",
    "\n",
    "if a>18:\n"
   ]
  },
  {
   "cell_type": "code",
   "execution_count": 88,
   "metadata": {},
   "outputs": [
    {
     "name": "stdout",
     "output_type": "stream",
     "text": [
      "Enter your Age: 19\n",
      "Eligible for Voting in India\n"
     ]
    }
   ],
   "source": [
    "a = int(input(\"Enter your Age: \"))\n",
    "\n",
    "if a>18:\n",
    "    print(\"Eligible for Voting in India\")"
   ]
  },
  {
   "cell_type": "code",
   "execution_count": 89,
   "metadata": {},
   "outputs": [
    {
     "name": "stdout",
     "output_type": "stream",
     "text": [
      "Enter your Age: 22\n",
      "Eligible for Voting in India\n"
     ]
    }
   ],
   "source": [
    "a = int(input(\"Enter your Age: \"))\n",
    "\n",
    "if a>18:\n",
    "    print(\"Eligible for Voting in India\")"
   ]
  },
  {
   "cell_type": "markdown",
   "metadata": {},
   "source": [
    "### 2. if-else statement"
   ]
  },
  {
   "cell_type": "code",
   "execution_count": 90,
   "metadata": {},
   "outputs": [
    {
     "name": "stdout",
     "output_type": "stream",
     "text": [
      "Enter your Age: 17\n",
      "Not Eligible for Voting in India\n"
     ]
    }
   ],
   "source": [
    "a = int(input(\"Enter your Age: \"))\n",
    "\n",
    "if a>18:\n",
    "    print(\"Eligible for Voting in India\")\n",
    "else:\n",
    "    print(\"Not Eligible for Voting in India\")"
   ]
  },
  {
   "cell_type": "code",
   "execution_count": 91,
   "metadata": {},
   "outputs": [
    {
     "name": "stdout",
     "output_type": "stream",
     "text": [
      "Enter your Age: 19\n",
      "Eligible for Voting in India\n"
     ]
    }
   ],
   "source": [
    "a = int(input(\"Enter your Age: \"))\n",
    "\n",
    "if a>18:\n",
    "    print(\"Eligible for Voting in India\")\n",
    "else:\n",
    "    print(\"Not Eligible for Voting in India\")"
   ]
  },
  {
   "cell_type": "markdown",
   "metadata": {},
   "source": [
    "### 3. if-else ladder"
   ]
  },
  {
   "cell_type": "code",
   "execution_count": 92,
   "metadata": {},
   "outputs": [
    {
     "name": "stdout",
     "output_type": "stream",
     "text": [
      "Enter your Age: 22\n",
      "Eligible for Marriage in India\n"
     ]
    }
   ],
   "source": [
    "a = int(input(\"Enter your Age: \"))\n",
    "\n",
    "if a>21:\n",
    "    print(\"Eligible for Marriage in India\")\n",
    "elif a>18:\n",
    "    print(\"Eligible for Voting in India\")\n",
    "else:\n",
    "    print(\"You are still a kid\")"
   ]
  },
  {
   "cell_type": "code",
   "execution_count": 1,
   "metadata": {},
   "outputs": [
    {
     "name": "stdout",
     "output_type": "stream",
     "text": [
      "Enter your Age: 19\n",
      "Eligible for Voting in India\n"
     ]
    }
   ],
   "source": [
    "a = int(input(\"Enter your Age: \"))\n",
    "\n",
    "if a>21:\n",
    "    print(\"Eligible for Marriage in India\")\n",
    "elif a>18:\n",
    "    print(\"Eligible for Voting in India\")\n",
    "else:\n",
    "    print(\"You are still a kid\")"
   ]
  },
  {
   "cell_type": "code",
   "execution_count": 2,
   "metadata": {},
   "outputs": [
    {
     "name": "stdout",
     "output_type": "stream",
     "text": [
      "Enter your Age: 15\n",
      "You are still a kid\n"
     ]
    }
   ],
   "source": [
    "a = int(input(\"Enter your Age: \"))\n",
    "\n",
    "if (a > 21):\n",
    "    print(\"Eligible for Marriage in India\")\n",
    "elif a > 18:\n",
    "    print(\"Eligible for Voting in India\")\n",
    "else:\n",
    "    print(\"You are still a kid\")"
   ]
  },
  {
   "cell_type": "markdown",
   "metadata": {},
   "source": [
    "### 4. nested-if"
   ]
  },
  {
   "cell_type": "code",
   "execution_count": 3,
   "metadata": {},
   "outputs": [
    {
     "name": "stdout",
     "output_type": "stream",
     "text": [
      "Enter your Age: 17\n",
      "You are Teenager\n"
     ]
    }
   ],
   "source": [
    "a = int(input(\"Enter your Age: \"))\n",
    "\n",
    "if (a > 18):\n",
    "    print(\"Eligible for Voting in India\")\n",
    "    \n",
    "    if a > 21:\n",
    "        print(\"Eligible for Marriage in India\")\n",
    "    \n",
    "elif a > 13:\n",
    "    print(\"You are Teenager\")\n",
    "    \n",
    "else:\n",
    "    print(\"You are still a kid\")"
   ]
  },
  {
   "cell_type": "code",
   "execution_count": 4,
   "metadata": {},
   "outputs": [
    {
     "name": "stdout",
     "output_type": "stream",
     "text": [
      "Enter your Age: 19\n",
      "Eligible for Voting in India\n"
     ]
    }
   ],
   "source": [
    "a = int(input(\"Enter your Age: \"))\n",
    "\n",
    "if (a > 18):\n",
    "    print(\"Eligible for Voting in India\")\n",
    "    \n",
    "    if a > 21:\n",
    "        print(\"Eligible for Marriage in India\")\n",
    "    \n",
    "elif a > 13:\n",
    "    print(\"You are Teenager\")\n",
    "    \n",
    "else:\n",
    "    print(\"You are still a kid\")"
   ]
  },
  {
   "cell_type": "code",
   "execution_count": 5,
   "metadata": {},
   "outputs": [
    {
     "name": "stdout",
     "output_type": "stream",
     "text": [
      "Enter your Age: 20\n",
      "Eligible for Voting in India\n"
     ]
    }
   ],
   "source": [
    "a = int(input(\"Enter your Age: \"))\n",
    "\n",
    "if (a > 18):\n",
    "    print(\"Eligible for Voting in India\")\n",
    "    \n",
    "    if a > 21:\n",
    "        print(\"Eligible for Marriage in India\")\n",
    "    \n",
    "elif a > 13:\n",
    "    print(\"You are Teenager\")\n",
    "    \n",
    "else:\n",
    "    print(\"You are still a kid\")"
   ]
  },
  {
   "cell_type": "code",
   "execution_count": 6,
   "metadata": {},
   "outputs": [
    {
     "name": "stdout",
     "output_type": "stream",
     "text": [
      "Enter your Age: 12\n",
      "You are still a kid\n"
     ]
    }
   ],
   "source": [
    "a = int(input(\"Enter your Age: \"))\n",
    "\n",
    "if (a > 18):\n",
    "    print(\"Eligible for Voting in India\")\n",
    "    \n",
    "    if a > 21:\n",
    "        print(\"Eligible for Marriage in India\")\n",
    "    \n",
    "elif a > 13:\n",
    "    print(\"You are Teenager\")\n",
    "    \n",
    "else:\n",
    "    print(\"You are still a kid\")"
   ]
  },
  {
   "cell_type": "markdown",
   "metadata": {},
   "source": [
    "### Relational Operation"
   ]
  },
  {
   "cell_type": "markdown",
   "metadata": {},
   "source": [
    "#### AND"
   ]
  },
  {
   "cell_type": "code",
   "execution_count": 7,
   "metadata": {},
   "outputs": [
    {
     "name": "stdout",
     "output_type": "stream",
     "text": [
      "This is a valid statement\n"
     ]
    }
   ],
   "source": [
    "a = 10\n",
    "b = 20\n",
    "\n",
    "if a == 10 and b == 20 :\n",
    "    print(\"This is a valid statement\")"
   ]
  },
  {
   "cell_type": "code",
   "execution_count": 8,
   "metadata": {},
   "outputs": [
    {
     "data": {
      "text/plain": [
       "True"
      ]
     },
     "execution_count": 8,
     "metadata": {},
     "output_type": "execute_result"
    }
   ],
   "source": [
    "a == 10 and b == 20"
   ]
  },
  {
   "cell_type": "code",
   "execution_count": 9,
   "metadata": {},
   "outputs": [
    {
     "data": {
      "text/plain": [
       "True"
      ]
     },
     "execution_count": 9,
     "metadata": {},
     "output_type": "execute_result"
    }
   ],
   "source": [
    "a == 10"
   ]
  },
  {
   "cell_type": "code",
   "execution_count": 10,
   "metadata": {},
   "outputs": [
    {
     "data": {
      "text/plain": [
       "True"
      ]
     },
     "execution_count": 10,
     "metadata": {},
     "output_type": "execute_result"
    }
   ],
   "source": [
    "b == 20"
   ]
  },
  {
   "cell_type": "code",
   "execution_count": 11,
   "metadata": {},
   "outputs": [],
   "source": [
    "a = 10\n",
    "b = 20\n",
    "\n",
    "if a == 10 and b > 20 :\n",
    "    print(\"This is a valid statement\")"
   ]
  },
  {
   "cell_type": "code",
   "execution_count": 12,
   "metadata": {
    "scrolled": true
   },
   "outputs": [
    {
     "data": {
      "text/plain": [
       "False"
      ]
     },
     "execution_count": 12,
     "metadata": {},
     "output_type": "execute_result"
    }
   ],
   "source": [
    "a == 10 and b > 20"
   ]
  },
  {
   "cell_type": "code",
   "execution_count": 13,
   "metadata": {},
   "outputs": [
    {
     "data": {
      "text/plain": [
       "False"
      ]
     },
     "execution_count": 13,
     "metadata": {},
     "output_type": "execute_result"
    }
   ],
   "source": [
    "b > 20"
   ]
  },
  {
   "cell_type": "markdown",
   "metadata": {},
   "source": [
    "As **b > 20** is False hence cannot go inside if statement."
   ]
  },
  {
   "cell_type": "code",
   "execution_count": 14,
   "metadata": {},
   "outputs": [
    {
     "name": "stdout",
     "output_type": "stream",
     "text": [
      "Condition is not valid\n"
     ]
    }
   ],
   "source": [
    "a = 10\n",
    "b = 20\n",
    "\n",
    "if a == 10 and b > 20 :\n",
    "    print(\"This is a valid statement\")\n",
    "else :\n",
    "    print(\"Condition is not valid\")"
   ]
  },
  {
   "cell_type": "code",
   "execution_count": 15,
   "metadata": {},
   "outputs": [
    {
     "name": "stdout",
     "output_type": "stream",
     "text": [
      "Condition is not valid\n"
     ]
    }
   ],
   "source": [
    "a = 10\n",
    "b = 20\n",
    "\n",
    "if a == 10 and b > 20 :\n",
    "    print(\"This is a valid statement\")\n",
    "elif a == 10 and b < 20 :\n",
    "    print(\"This statement is valid inside elif\")\n",
    "else :\n",
    "    print(\"Condition is not valid\")"
   ]
  },
  {
   "cell_type": "code",
   "execution_count": 16,
   "metadata": {},
   "outputs": [
    {
     "name": "stdout",
     "output_type": "stream",
     "text": [
      "This statement is valid inside elif\n"
     ]
    }
   ],
   "source": [
    "a = 10\n",
    "b = 20\n",
    "\n",
    "if a == 10 and b > 20 :\n",
    "    print(\"This is a valid statement\")\n",
    "elif a == 10 and b <= 20 :\n",
    "    print(\"This statement is valid inside elif\")\n",
    "else :\n",
    "    print(\"Condition is not valid\")"
   ]
  },
  {
   "cell_type": "markdown",
   "metadata": {},
   "source": [
    "#### OR"
   ]
  },
  {
   "cell_type": "code",
   "execution_count": 17,
   "metadata": {},
   "outputs": [
    {
     "name": "stdout",
     "output_type": "stream",
     "text": [
      "This is a valid statement\n"
     ]
    }
   ],
   "source": [
    "a = 10\n",
    "b = 20\n",
    "\n",
    "if a == 10 or b > 20 :\n",
    "    print(\"This is a valid statement\")\n",
    "elif a == 10 and b <= 20 :\n",
    "    print(\"This statement is valid inside elif\")\n",
    "else :\n",
    "    print(\"Condition is not valid\")"
   ]
  },
  {
   "cell_type": "markdown",
   "metadata": {},
   "source": [
    "In **or** condition 1st statement will be executed"
   ]
  },
  {
   "cell_type": "markdown",
   "metadata": {},
   "source": [
    "### Task:\n",
    "\n",
    "take a input from a keyboard as your first name and last name and then try to validte of write multiple condition by yourself"
   ]
  },
  {
   "cell_type": "code",
   "execution_count": 19,
   "metadata": {},
   "outputs": [
    {
     "name": "stdout",
     "output_type": "stream",
     "text": [
      "Enter First Name: Sachin\n",
      "Enter Last Name: Bhopi\n",
      "Login Successful\n"
     ]
    }
   ],
   "source": [
    "fname = input(\"Enter First Name: \")\n",
    "lname = input(\"Enter Last Name: \")\n",
    "\n",
    "if (fname == \"Sachin\" and lname == \"Bhopi\"):\n",
    "    print(\"Login Successful\")\n",
    "else :\n",
    "    print(\"Login Failed\")"
   ]
  },
  {
   "cell_type": "code",
   "execution_count": 20,
   "metadata": {},
   "outputs": [
    {
     "name": "stdout",
     "output_type": "stream",
     "text": [
      "Enter First Name: sachin\n",
      "Enter Last Name: bhopi\n",
      "Login Failed\n"
     ]
    }
   ],
   "source": [
    "fname = input(\"Enter First Name: \")\n",
    "lname = input(\"Enter Last Name: \")\n",
    "\n",
    "if (fname == \"Sachin\" and lname == \"Bhopi\"):\n",
    "    print(\"Login Successful\")\n",
    "else :\n",
    "    print(\"Login Failed\")"
   ]
  },
  {
   "cell_type": "code",
   "execution_count": 21,
   "metadata": {},
   "outputs": [
    {
     "name": "stdout",
     "output_type": "stream",
     "text": [
      "Enter First Name: sachin\n",
      "Enter Last Name: bhopi\n",
      "Login Successful\n"
     ]
    }
   ],
   "source": [
    "fname = input(\"Enter First Name: \")\n",
    "lname = input(\"Enter Last Name: \")\n",
    "\n",
    "if (fname == \"Sachin\" or fname == \"sachin\" or fname == \"SACHIN\")  and (lname == \"Bhopi\" or lname == \"bhopi\" or lname == \"BHOPI\"):\n",
    "    print(\"Login Successful\")\n",
    "else :\n",
    "    print(\"Login Failed\")"
   ]
  },
  {
   "cell_type": "markdown",
   "metadata": {},
   "source": [
    "### 5. While Loop"
   ]
  },
  {
   "cell_type": "code",
   "execution_count": 22,
   "metadata": {},
   "outputs": [
    {
     "name": "stdout",
     "output_type": "stream",
     "text": [
      "Current Speed is 0\n",
      "Current Speed is 1\n",
      "Current Speed is 2\n",
      "Current Speed is 3\n",
      "Current Speed is 4\n",
      "Current Speed is 5\n",
      "Current Speed is 6\n",
      "Current Speed is 7\n",
      "Current Speed is 8\n",
      "Current Speed is 9\n"
     ]
    }
   ],
   "source": [
    "current_speed = 0\n",
    "final_speed = 10\n",
    "\n",
    "while current_speed < final_speed:\n",
    "    print(\"Current Speed is\",current_speed)\n",
    "    current_speed = current_speed +1\n",
    "    "
   ]
  },
  {
   "cell_type": "code",
   "execution_count": 23,
   "metadata": {},
   "outputs": [
    {
     "name": "stdout",
     "output_type": "stream",
     "text": [
      "Current Speed is 0\n",
      "Current Speed is 1\n",
      "Current Speed is 2\n",
      "Current Speed is 3\n",
      "Current Speed is 4\n"
     ]
    }
   ],
   "source": [
    "current_speed = 0\n",
    "final_speed = 10\n",
    "\n",
    "while current_speed < final_speed:\n",
    "    print(\"Current Speed is\",current_speed)\n",
    "    current_speed = current_speed +1\n",
    "    if current_speed == 5:\n",
    "        break"
   ]
  },
  {
   "cell_type": "code",
   "execution_count": 24,
   "metadata": {},
   "outputs": [
    {
     "name": "stdout",
     "output_type": "stream",
     "text": [
      "1\n",
      "2\n",
      "3\n",
      "4\n"
     ]
    }
   ],
   "source": [
    "i = 1\n",
    "j = 5\n",
    "while i < j:\n",
    "    print(i)\n",
    "    i = i+1"
   ]
  },
  {
   "cell_type": "markdown",
   "metadata": {},
   "source": [
    "#### While - else"
   ]
  },
  {
   "cell_type": "code",
   "execution_count": 25,
   "metadata": {},
   "outputs": [
    {
     "name": "stdout",
     "output_type": "stream",
     "text": [
      "1\n",
      "2\n",
      "3\n",
      "4\n",
      "else stmt worked\n"
     ]
    }
   ],
   "source": [
    "notes = 5\n",
    "i = 1\n",
    "while i < notes:\n",
    "    print(i)\n",
    "    i += 1\n",
    "else:\n",
    "    print(\"else stmt worked\")"
   ]
  },
  {
   "cell_type": "markdown",
   "metadata": {},
   "source": [
    "### 6. For Loop"
   ]
  },
  {
   "cell_type": "code",
   "execution_count": 26,
   "metadata": {},
   "outputs": [
    {
     "name": "stdout",
     "output_type": "stream",
     "text": [
      "D\n",
      "a\n",
      "t\n",
      "a\n",
      " \n",
      "S\n",
      "c\n",
      "i\n",
      "e\n",
      "n\n",
      "c\n",
      "e\n"
     ]
    }
   ],
   "source": [
    "s = \"Data Science\"\n",
    "\n",
    "for i in s:\n",
    "    print(i)"
   ]
  },
  {
   "cell_type": "code",
   "execution_count": 27,
   "metadata": {},
   "outputs": [
    {
     "name": "stdout",
     "output_type": "stream",
     "text": [
      "D\n",
      "  a found\n",
      "a\n",
      "t\n",
      "  a found\n",
      "a\n",
      " \n",
      "S\n",
      "c\n",
      "i\n",
      "e\n",
      "n\n",
      "c\n",
      "e\n"
     ]
    }
   ],
   "source": [
    "s = \"Data Science\"\n",
    "\n",
    "for i in s:\n",
    "    if i == 'a':\n",
    "        print(\"  a found\")\n",
    "    print(i)"
   ]
  },
  {
   "cell_type": "code",
   "execution_count": 28,
   "metadata": {},
   "outputs": [
    {
     "name": "stdout",
     "output_type": "stream",
     "text": [
      "D\n",
      "a\n",
      "t\n",
      "a\n",
      " \n",
      "S\n",
      "c\n",
      "i\n",
      "e\n",
      "n\n",
      "c\n",
      "e\n",
      "This is a else condition\n"
     ]
    }
   ],
   "source": [
    "s = \"Data Science\"\n",
    "\n",
    "for i in s:\n",
    "    print(i)\n",
    "else:\n",
    "    print(\"This is a else condition\")"
   ]
  },
  {
   "cell_type": "code",
   "execution_count": 29,
   "metadata": {},
   "outputs": [
    {
     "name": "stdout",
     "output_type": "stream",
     "text": [
      "D\n",
      "a\n",
      "t\n",
      "a\n",
      " \n"
     ]
    }
   ],
   "source": [
    "s = \"Data Science\"\n",
    "\n",
    "for i in s:\n",
    "    if i == \"S\":\n",
    "        break\n",
    "    print(i)\n",
    "else:\n",
    "    print(\"This is a else condition\")"
   ]
  },
  {
   "cell_type": "markdown",
   "metadata": {},
   "source": [
    "**else** will executed only when loop terminates naturally. if loop breaks them **else** will not execute."
   ]
  },
  {
   "cell_type": "code",
   "execution_count": 30,
   "metadata": {},
   "outputs": [
    {
     "name": "stdout",
     "output_type": "stream",
     "text": [
      "D\n",
      "a\n",
      "t\n",
      "a\n",
      " \n",
      "c\n",
      "i\n",
      "e\n",
      "n\n",
      "c\n",
      "e\n",
      "This is a else condition\n"
     ]
    }
   ],
   "source": [
    "s = \"Data Science\"\n",
    "\n",
    "for i in s:\n",
    "    if i == \"S\":\n",
    "        continue\n",
    "    print(i)\n",
    "else:\n",
    "    print(\"This is a else condition\")"
   ]
  },
  {
   "cell_type": "markdown",
   "metadata": {},
   "source": [
    "**continue** will terminate current iteration and not terminate loop altogether thats why **else** statement will execute."
   ]
  },
  {
   "cell_type": "code",
   "execution_count": 31,
   "metadata": {},
   "outputs": [
    {
     "name": "stdout",
     "output_type": "stream",
     "text": [
      "ntalzaton\n"
     ]
    }
   ],
   "source": [
    "s = \"initialization\"\n",
    "ss = \"\"\n",
    "\n",
    "for j in s:\n",
    "    if j == \"i\":\n",
    "        continue\n",
    "    else:\n",
    "        ss = ss + j\n",
    "        \n",
    "print(ss)"
   ]
  },
  {
   "cell_type": "code",
   "execution_count": 32,
   "metadata": {},
   "outputs": [
    {
     "name": "stdout",
     "output_type": "stream",
     "text": [
      "iniializaion\n"
     ]
    }
   ],
   "source": [
    "s = \"initialization\"\n",
    "ss = \"\"\n",
    "\n",
    "for j in s:\n",
    "    if j == \"t\":\n",
    "        continue\n",
    "    else:\n",
    "        ss = ss + j\n",
    "        \n",
    "print(ss)"
   ]
  },
  {
   "cell_type": "code",
   "execution_count": 33,
   "metadata": {},
   "outputs": [
    {
     "name": "stdout",
     "output_type": "stream",
     "text": [
      "iniializaion\n"
     ]
    }
   ],
   "source": [
    "s = \"initialization\"\n",
    "ss = \"\"\n",
    "\n",
    "for j in range(len(s)):\n",
    "    if s[j] == \"t\":\n",
    "        continue\n",
    "    else:\n",
    "        ss = ss + s[j]\n",
    "        \n",
    "print(ss)"
   ]
  },
  {
   "cell_type": "markdown",
   "metadata": {},
   "source": [
    "#### nested-for loop"
   ]
  },
  {
   "cell_type": "code",
   "execution_count": 34,
   "metadata": {},
   "outputs": [
    {
     "name": "stdout",
     "output_type": "stream",
     "text": [
      "*\n",
      "**\n",
      "***\n",
      "****\n",
      "*****\n"
     ]
    }
   ],
   "source": [
    "n = 5\n",
    "for i in range(0,n):\n",
    "    for j in range(0,i+1):\n",
    "        print(\"*\", end = \"\")\n",
    "    print()"
   ]
  },
  {
   "cell_type": "code",
   "execution_count": 36,
   "metadata": {},
   "outputs": [
    {
     "name": "stdout",
     "output_type": "stream",
     "text": [
      "Enter number of levels: 5\n",
      "*\n",
      "**\n",
      "***\n",
      "****\n",
      "*****\n"
     ]
    }
   ],
   "source": [
    "n = int(input(\"Enter number of levels: \"))\n",
    "for i in range(0,n):\n",
    "    for j in range(0,i+1):\n",
    "        print(\"*\", end = \"\")\n",
    "    print()"
   ]
  },
  {
   "cell_type": "code",
   "execution_count": 37,
   "metadata": {},
   "outputs": [
    {
     "name": "stdout",
     "output_type": "stream",
     "text": [
      "Enter number of levels: 5\n",
      "*\n",
      "**\n",
      "***\n",
      "****\n",
      "*****\n"
     ]
    }
   ],
   "source": [
    "n = int(input(\"Enter number of levels: \"))\n",
    "for i in range(0,n):\n",
    "    for j in range(0,i+1):\n",
    "        print(\"*\", end = \"\")\n",
    "    print()"
   ]
  },
  {
   "cell_type": "code",
   "execution_count": 55,
   "metadata": {},
   "outputs": [
    {
     "name": "stdout",
     "output_type": "stream",
     "text": [
      " * * * * * * * \n",
      "  * * * * * * \n",
      "   * * * * * \n",
      "    * * * * \n",
      "     * * * \n",
      "      * * \n",
      "       * \n"
     ]
    }
   ],
   "source": [
    "n=7\n",
    "for i in range(0,n):\n",
    "    for k in range(i+1):\n",
    "        print(\" \",end =\"\")\n",
    "    for j in reversed(range(n-i)):\n",
    "        print(\"* \",end =\"\")\n",
    "\n",
    "    print()\n",
    "    "
   ]
  },
  {
   "cell_type": "code",
   "execution_count": 89,
   "metadata": {},
   "outputs": [
    {
     "name": "stdout",
     "output_type": "stream",
     "text": [
      "        \n",
      "       * \n",
      "      * * \n",
      "     * * * \n",
      "    * * * * \n",
      "   * * * * * \n",
      "  * * * * * * \n",
      " * * * * * * * \n"
     ]
    }
   ],
   "source": [
    "n = 7\n",
    "i = 0\n",
    "while i <= n:\n",
    "    j = 0\n",
    "    while j+i <= n:\n",
    "        print(\" \",end =\"\")\n",
    "        j += 1\n",
    "    j = 0\n",
    "    while n-i+j < n:\n",
    "        print(\"* \",end =\"\")\n",
    "        j += 1\n",
    "    print()\n",
    "    i += 1"
   ]
  },
  {
   "cell_type": "code",
   "execution_count": 95,
   "metadata": {},
   "outputs": [
    {
     "name": "stdout",
     "output_type": "stream",
     "text": [
      "        *\n",
      "       ***\n",
      "      *****\n",
      "     *******\n",
      "    *********\n",
      "   ***********\n",
      "  *************\n"
     ]
    }
   ],
   "source": [
    "n = 7\n",
    "i = 0\n",
    "while i < n:\n",
    "    \n",
    "    j = 0\n",
    "    while j+i <= n:\n",
    "        print(\" \",end =\"\")\n",
    "        j += 1\n",
    "    \n",
    "    j = 0\n",
    "    while n-i+j < n:\n",
    "        print(\"*\",end =\"\")\n",
    "        j += 1\n",
    "        \n",
    "    j = 0\n",
    "    while n-i+j-1 < n:\n",
    "        print(\"*\",end =\"\")\n",
    "        j += 1\n",
    "        \n",
    "    print()\n",
    "    i += 1"
   ]
  },
  {
   "cell_type": "code",
   "execution_count": 100,
   "metadata": {},
   "outputs": [
    {
     "name": "stdout",
     "output_type": "stream",
     "text": [
      "      * \n",
      "     * * \n",
      "    * * * \n",
      "   * * * * \n",
      "  * * * * * \n",
      " * * * * * * \n",
      "* * * * * * * \n"
     ]
    }
   ],
   "source": [
    "n=7\n",
    "i=0\n",
    "while i<n:\n",
    "    print(' '*(n-i-1) + '* '*(i+1))\n",
    "    i +=1"
   ]
  },
  {
   "cell_type": "code",
   "execution_count": null,
   "metadata": {},
   "outputs": [],
   "source": []
  }
 ],
 "metadata": {
  "kernelspec": {
   "display_name": "Python 3",
   "language": "python",
   "name": "python3"
  },
  "language_info": {
   "codemirror_mode": {
    "name": "ipython",
    "version": 3
   },
   "file_extension": ".py",
   "mimetype": "text/x-python",
   "name": "python",
   "nbconvert_exporter": "python",
   "pygments_lexer": "ipython3",
   "version": "3.8.5"
  }
 },
 "nbformat": 4,
 "nbformat_minor": 2
}
