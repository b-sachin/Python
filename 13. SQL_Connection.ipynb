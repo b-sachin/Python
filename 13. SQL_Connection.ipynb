{
 "cells": [
  {
   "cell_type": "code",
   "execution_count": 1,
   "id": "9f2b1dbc",
   "metadata": {},
   "outputs": [
    {
     "name": "stdout",
     "output_type": "stream",
     "text": [
      "Requirement already satisfied: mysql-connector-python in c:\\users\\it department\\anaconda3\\lib\\site-packages (8.0.27)\n",
      "Collecting protobuf>=3.0.0\n",
      "  Downloading protobuf-3.19.1-cp39-cp39-win_amd64.whl (895 kB)\n",
      "Installing collected packages: protobuf\n",
      "Successfully installed protobuf-3.19.1\n"
     ]
    }
   ],
   "source": [
    "!pip install mysql-connector-python"
   ]
  },
  {
   "cell_type": "markdown",
   "id": "eb63dfa5",
   "metadata": {},
   "source": [
    "## Create Database Connection and get all available databases in system"
   ]
  },
  {
   "cell_type": "code",
   "execution_count": 13,
   "id": "19698e99",
   "metadata": {},
   "outputs": [
    {
     "name": "stdout",
     "output_type": "stream",
     "text": [
      "[('information_schema',), ('mysql',), ('performance_schema',), ('sakila',), ('sys',), ('world',)]\n"
     ]
    }
   ],
   "source": [
    "import mysql.connector as connection\n",
    "\n",
    "try:\n",
    "    mydb = connection.connect(host = \"localhost\", user = \"root\", passwd = \"Sachin@123\", use_pure = True)\n",
    "    #check if the connection is established\n",
    "    \n",
    "    query = \"SHOW DATABASES\"\n",
    "    \n",
    "    cursor = mydb.cursor() # create a cursor to execute queries\n",
    "    cursor.execute(query)\n",
    "    print(cursor.fetchall())\n",
    "    \n",
    "except Exception as e:\n",
    "    mydb.close()\n",
    "    print(str(e))\n",
    "    "
   ]
  },
  {
   "cell_type": "markdown",
   "id": "3ac9b681",
   "metadata": {},
   "source": [
    "### Database Connection Step by Step"
   ]
  },
  {
   "cell_type": "markdown",
   "id": "e96d9608",
   "metadata": {},
   "source": [
    "#### 1. Install MySql Connector Package from pip repository"
   ]
  },
  {
   "cell_type": "code",
   "execution_count": 2,
   "id": "a39621c5",
   "metadata": {},
   "outputs": [
    {
     "name": "stdout",
     "output_type": "stream",
     "text": [
      "Requirement already satisfied: mysql-connector-python in c:\\users\\it department\\anaconda3\\lib\\site-packages (8.0.27)\n",
      "Requirement already satisfied: protobuf>=3.0.0 in c:\\users\\it department\\anaconda3\\lib\\site-packages (from mysql-connector-python) (3.19.1)\n"
     ]
    }
   ],
   "source": [
    "!pip install mysql-connector-python"
   ]
  },
  {
   "cell_type": "markdown",
   "id": "3086415a",
   "metadata": {},
   "source": [
    "#### 2. Import `mysql.connection` package which is required to use all the functions required to perform database related operation "
   ]
  },
  {
   "cell_type": "code",
   "execution_count": 14,
   "id": "f20307d2",
   "metadata": {},
   "outputs": [],
   "source": [
    "import mysql.connector as connection"
   ]
  },
  {
   "cell_type": "markdown",
   "id": "c5c32707",
   "metadata": {},
   "source": [
    "#### 3. Make connection from Jupyter notebook to mysql server"
   ]
  },
  {
   "cell_type": "code",
   "execution_count": 15,
   "id": "0e9a5a63",
   "metadata": {},
   "outputs": [],
   "source": [
    "conn = connection.Connect(host = \"localhost\", user = \"root\", passwd = \"Sachin@123\", use_pure = True)"
   ]
  },
  {
   "cell_type": "markdown",
   "id": "8b46e4c7",
   "metadata": {},
   "source": [
    "#### 4. Create `cursor()` which is nothing but pointer (iterable object) to point data inside database server"
   ]
  },
  {
   "cell_type": "code",
   "execution_count": 16,
   "id": "ee9ffd00",
   "metadata": {},
   "outputs": [],
   "source": [
    "cur = conn.cursor()"
   ]
  },
  {
   "cell_type": "markdown",
   "id": "66226c2f",
   "metadata": {},
   "source": [
    "#### 5. Execute query (query means what you want from database or to do with database) and get result where cursor will be pointing to fist location of the result data"
   ]
  },
  {
   "cell_type": "code",
   "execution_count": 17,
   "id": "b7701161",
   "metadata": {},
   "outputs": [],
   "source": [
    "cur.execute(\"show databases\")"
   ]
  },
  {
   "cell_type": "markdown",
   "id": "08c14a8e",
   "metadata": {},
   "source": [
    "#### 6. Instruct cursor to fetch whatever data we have in result"
   ]
  },
  {
   "cell_type": "code",
   "execution_count": 18,
   "id": "1df4e6bb",
   "metadata": {},
   "outputs": [],
   "source": [
    "res = cur.fetchall()"
   ]
  },
  {
   "cell_type": "code",
   "execution_count": 19,
   "id": "1b60ff4c",
   "metadata": {},
   "outputs": [
    {
     "data": {
      "text/plain": [
       "[('information_schema',),\n",
       " ('mysql',),\n",
       " ('performance_schema',),\n",
       " ('sakila',),\n",
       " ('sys',),\n",
       " ('world',)]"
      ]
     },
     "execution_count": 19,
     "metadata": {},
     "output_type": "execute_result"
    }
   ],
   "source": [
    "res"
   ]
  },
  {
   "cell_type": "code",
   "execution_count": 20,
   "id": "67deaf37",
   "metadata": {},
   "outputs": [
    {
     "data": {
      "text/plain": [
       "('mysql',)"
      ]
     },
     "execution_count": 20,
     "metadata": {},
     "output_type": "execute_result"
    }
   ],
   "source": [
    "res[1]"
   ]
  },
  {
   "cell_type": "markdown",
   "id": "ae350cff",
   "metadata": {},
   "source": [
    "#### 7. Close connection once your workdone"
   ]
  },
  {
   "cell_type": "code",
   "execution_count": 21,
   "id": "289916ca",
   "metadata": {},
   "outputs": [],
   "source": [
    "conn.close()"
   ]
  },
  {
   "cell_type": "code",
   "execution_count": 22,
   "id": "21b9eca2",
   "metadata": {},
   "outputs": [
    {
     "ename": "OperationalError",
     "evalue": "MySQL Connection not available.",
     "output_type": "error",
     "traceback": [
      "\u001b[1;31m---------------------------------------------------------------------------\u001b[0m",
      "\u001b[1;31mOperationalError\u001b[0m                          Traceback (most recent call last)",
      "\u001b[1;32mC:\\Users\\ITDEPA~1\\AppData\\Local\\Temp/ipykernel_8580/971124130.py\u001b[0m in \u001b[0;36m<module>\u001b[1;34m\u001b[0m\n\u001b[1;32m----> 1\u001b[1;33m \u001b[0mconn\u001b[0m\u001b[1;33m.\u001b[0m\u001b[0mcursor\u001b[0m\u001b[1;33m(\u001b[0m\u001b[1;33m)\u001b[0m\u001b[1;33m\u001b[0m\u001b[1;33m\u001b[0m\u001b[0m\n\u001b[0m",
      "\u001b[1;32m~\\anaconda3\\lib\\site-packages\\mysql\\connector\\connection.py\u001b[0m in \u001b[0;36mcursor\u001b[1;34m(self, buffered, raw, prepared, cursor_class, dictionary, named_tuple)\u001b[0m\n\u001b[0;32m   1204\u001b[0m \u001b[1;33m\u001b[0m\u001b[0m\n\u001b[0;32m   1205\u001b[0m         \u001b[1;32mif\u001b[0m \u001b[1;32mnot\u001b[0m \u001b[0mself\u001b[0m\u001b[1;33m.\u001b[0m\u001b[0mis_connected\u001b[0m\u001b[1;33m(\u001b[0m\u001b[1;33m)\u001b[0m\u001b[1;33m:\u001b[0m\u001b[1;33m\u001b[0m\u001b[1;33m\u001b[0m\u001b[0m\n\u001b[1;32m-> 1206\u001b[1;33m             \u001b[1;32mraise\u001b[0m \u001b[0merrors\u001b[0m\u001b[1;33m.\u001b[0m\u001b[0mOperationalError\u001b[0m\u001b[1;33m(\u001b[0m\u001b[1;34m\"MySQL Connection not available.\"\u001b[0m\u001b[1;33m)\u001b[0m\u001b[1;33m\u001b[0m\u001b[1;33m\u001b[0m\u001b[0m\n\u001b[0m\u001b[0;32m   1207\u001b[0m         \u001b[1;32mif\u001b[0m \u001b[0mcursor_class\u001b[0m \u001b[1;32mis\u001b[0m \u001b[1;32mnot\u001b[0m \u001b[1;32mNone\u001b[0m\u001b[1;33m:\u001b[0m\u001b[1;33m\u001b[0m\u001b[1;33m\u001b[0m\u001b[0m\n\u001b[0;32m   1208\u001b[0m             \u001b[1;32mif\u001b[0m \u001b[1;32mnot\u001b[0m \u001b[0missubclass\u001b[0m\u001b[1;33m(\u001b[0m\u001b[0mcursor_class\u001b[0m\u001b[1;33m,\u001b[0m \u001b[0mCursorBase\u001b[0m\u001b[1;33m)\u001b[0m\u001b[1;33m:\u001b[0m\u001b[1;33m\u001b[0m\u001b[1;33m\u001b[0m\u001b[0m\n",
      "\u001b[1;31mOperationalError\u001b[0m: MySQL Connection not available."
     ]
    }
   ],
   "source": [
    "conn.cursor()"
   ]
  },
  {
   "cell_type": "markdown",
   "id": "78bd12e1",
   "metadata": {},
   "source": [
    "### Create new database"
   ]
  },
  {
   "cell_type": "code",
   "execution_count": 23,
   "id": "c7f97e9d",
   "metadata": {},
   "outputs": [],
   "source": [
    "import mysql.connector as connection\n",
    "\n",
    "try:\n",
    "    conn = connection.connect(host = \"localhost\", user = \"root\", passwd = \"Sachin@123\", use_pure = True)\n",
    "    #check if the connection is established\n",
    "    \n",
    "    query = \"create database sach123\"\n",
    "    \n",
    "    cursor = conn.cursor() # create a cursor to execute queries\n",
    "    cursor.execute(query)\n",
    "    \n",
    "    \n",
    "except Exception as e:\n",
    "    conn.close()\n",
    "    print(str(e))"
   ]
  },
  {
   "cell_type": "code",
   "execution_count": 24,
   "id": "e778edeb",
   "metadata": {},
   "outputs": [
    {
     "name": "stdout",
     "output_type": "stream",
     "text": [
      "[('information_schema',), ('mysql',), ('performance_schema',), ('sach123',), ('sakila',), ('sys',), ('world',)]\n"
     ]
    }
   ],
   "source": [
    "conn = connection.connect(host = \"localhost\", user = \"root\", passwd = \"Sachin@123\", use_pure = True)\n",
    "cur = conn.cursor()\n",
    "query = \"show databases\"\n",
    "cur.execute(query)\n",
    "print(cur.fetchall())\n",
    "conn.close()"
   ]
  },
  {
   "cell_type": "markdown",
   "id": "21d22c8f",
   "metadata": {},
   "source": [
    "### Create table inside newly created database"
   ]
  },
  {
   "cell_type": "code",
   "execution_count": 25,
   "id": "332df2c5",
   "metadata": {},
   "outputs": [
    {
     "name": "stdout",
     "output_type": "stream",
     "text": [
      "True\n",
      "Table Created Successfully\n"
     ]
    }
   ],
   "source": [
    "import mysql.connector as connection\n",
    "\n",
    "try:\n",
    "    conn = connection.connect(host = \"localhost\", database = \"sach123\", user = \"root\", passwd = \"Sachin@123\", use_pure = True)\n",
    "    #check if the connection is established\n",
    "    print(conn.is_connected())\n",
    "    \n",
    "    query = \"CREATE TABLE StudentDetails (Sid INT(10) AUTO_INCREMENT PRIMARY KEY, FirstName VARCHAR(60), LastName VARCHAR(60), RegistrationDate DATE, Class Varchar(20), Section Varchar(10))\"\n",
    "    \n",
    "    cursor = conn.cursor() # create a cursor to execute queries\n",
    "    cursor.execute(query)\n",
    "    print(\"Table Created Successfully\")\n",
    "    conn.close()\n",
    "    \n",
    "except Exception as e:\n",
    "    conn.close()\n",
    "    print(str(e))"
   ]
  },
  {
   "cell_type": "markdown",
   "id": "c5d167b3",
   "metadata": {},
   "source": [
    "In above code:\n",
    " - In connection code; addition to host, user & password we need to give name of the database. In above case `database = \"sach123\"`\n",
    " - In query; need to write query for creating database table `\"CREATE TABLE tablename (col1 INT(10) AUTO_INCREMENT PRIMARY KEY, col2 VARCHAR(60), col3 DATE)\"\n",
    "    `"
   ]
  },
  {
   "cell_type": "markdown",
   "id": "0b0478ba",
   "metadata": {},
   "source": [
    "### Insert data into a table "
   ]
  },
  {
   "cell_type": "code",
   "execution_count": 32,
   "id": "d03ed0d5",
   "metadata": {},
   "outputs": [
    {
     "name": "stdout",
     "output_type": "stream",
     "text": [
      "True\n"
     ]
    }
   ],
   "source": [
    "import mysql.connector as connection\n",
    "\n",
    "try:\n",
    "    conn = connection.connect(host = \"localhost\", database = \"sach123\", user = \"root\", passwd = \"Sachin@123\")\n",
    "    print(conn.is_connected())\n",
    "    \n",
    "    query = \"INSERT INTO StudentDetails VALUES(101,'Sachin','Kumar', '1995-10-24', 'BE', 'IT')\"\n",
    "    \n",
    "    cur = conn.cursor()\n",
    "    cur.execute(query)\n",
    "    conn.commit()\n",
    "    conn.close()\n",
    "    \n",
    "except Exception as e:\n",
    "    conn.close()\n",
    "    print(str(e))"
   ]
  },
  {
   "cell_type": "markdown",
   "id": "6c2d46b9",
   "metadata": {},
   "source": [
    "#### Add multiple record in database"
   ]
  },
  {
   "cell_type": "code",
   "execution_count": 33,
   "id": "722a5c25",
   "metadata": {},
   "outputs": [],
   "source": [
    "import mysql.connector as connection\n",
    "conn = connection.connect(host = \"localhost\", database = \"sach123\", user = \"root\", passwd = \"Sachin@123\")\n",
    "cur = conn.cursor()"
   ]
  },
  {
   "cell_type": "code",
   "execution_count": 34,
   "id": "e9e5718d",
   "metadata": {},
   "outputs": [],
   "source": [
    "query = \"INSERT INTO StudentDetails VALUES(102,'Nitin','Patil', '1993-12-15', 'TE', 'Comps')\"\n",
    "cur.execute(query)\n",
    "conn.commit()"
   ]
  },
  {
   "cell_type": "code",
   "execution_count": 35,
   "id": "3344fafd",
   "metadata": {},
   "outputs": [],
   "source": [
    "query = \"INSERT INTO StudentDetails VALUES(103,'Harshal','Singh', '1994-06-18', 'SE', 'EXTC')\"\n",
    "cur.execute(query)"
   ]
  },
  {
   "cell_type": "code",
   "execution_count": 36,
   "id": "080dca62",
   "metadata": {},
   "outputs": [],
   "source": [
    "query = \"INSERT INTO StudentDetails VALUES(104,'Pooja','Sinha', '1993-08-19', 'FE', 'Civil')\"\n",
    "cur.execute(query)"
   ]
  },
  {
   "cell_type": "code",
   "execution_count": 37,
   "id": "2442a1dd",
   "metadata": {},
   "outputs": [],
   "source": [
    "conn.commit()"
   ]
  },
  {
   "cell_type": "code",
   "execution_count": 38,
   "id": "b5bf86e1",
   "metadata": {},
   "outputs": [],
   "source": [
    "conn.close()"
   ]
  },
  {
   "cell_type": "markdown",
   "id": "42342105",
   "metadata": {},
   "source": [
    "### Extract data from Database Table"
   ]
  },
  {
   "cell_type": "code",
   "execution_count": 13,
   "id": "8e24ce0e",
   "metadata": {},
   "outputs": [],
   "source": [
    "import mysql.connector as connection\n",
    "conn = connection.connect(host = \"localhost\", database = \"sach123\", user = \"root\", passwd = \"Sachin@123\")\n",
    "cur = conn.cursor()"
   ]
  },
  {
   "cell_type": "markdown",
   "id": "ef02801d",
   "metadata": {},
   "source": [
    "#### Get all reecord"
   ]
  },
  {
   "cell_type": "code",
   "execution_count": 61,
   "id": "4fb070a6",
   "metadata": {},
   "outputs": [],
   "source": [
    "query = \"SELECT * FROM StudentDetails\"\n",
    "cur.execute(query)"
   ]
  },
  {
   "cell_type": "code",
   "execution_count": 62,
   "id": "60e53309",
   "metadata": {},
   "outputs": [],
   "source": [
    "res = cur.fetchall()"
   ]
  },
  {
   "cell_type": "code",
   "execution_count": 63,
   "id": "1741b8d9",
   "metadata": {},
   "outputs": [
    {
     "data": {
      "text/plain": [
       "[(101, 'Sachin', 'Kumar', datetime.date(1995, 10, 24), 'BE', 'IT'),\n",
       " (102, 'Nitin', 'Patil', datetime.date(1993, 12, 15), 'TE', 'Comps'),\n",
       " (103, 'Harshal', 'Singh', datetime.date(1994, 6, 18), 'SE', 'EXTC'),\n",
       " (104, 'Pooja', 'Sinha', datetime.date(1993, 8, 19), 'FE', 'Civil')]"
      ]
     },
     "execution_count": 63,
     "metadata": {},
     "output_type": "execute_result"
    }
   ],
   "source": [
    "res"
   ]
  },
  {
   "cell_type": "code",
   "execution_count": 64,
   "id": "afbd021b",
   "metadata": {},
   "outputs": [
    {
     "name": "stdout",
     "output_type": "stream",
     "text": [
      "(101, 'Sachin', 'Kumar', datetime.date(1995, 10, 24), 'BE', 'IT')\n",
      "(102, 'Nitin', 'Patil', datetime.date(1993, 12, 15), 'TE', 'Comps')\n",
      "(103, 'Harshal', 'Singh', datetime.date(1994, 6, 18), 'SE', 'EXTC')\n",
      "(104, 'Pooja', 'Sinha', datetime.date(1993, 8, 19), 'FE', 'Civil')\n"
     ]
    }
   ],
   "source": [
    "for i in res:\n",
    "    print(i)"
   ]
  },
  {
   "cell_type": "markdown",
   "id": "e92cc749",
   "metadata": {},
   "source": [
    "#### Fetch only first 2 columns"
   ]
  },
  {
   "cell_type": "code",
   "execution_count": 83,
   "id": "fe645efb",
   "metadata": {},
   "outputs": [
    {
     "data": {
      "text/plain": [
       "[(101, 'Sachin'), (102, 'Nitin'), (103, 'Harshal'), (104, 'Pooja')]"
      ]
     },
     "execution_count": 83,
     "metadata": {},
     "output_type": "execute_result"
    }
   ],
   "source": [
    "query = \"SELECT Sid,FirstName FROM StudentDetails\"\n",
    "cur.execute(query)\n",
    "cur.fetchall()"
   ]
  },
  {
   "cell_type": "markdown",
   "id": "0fecddcf",
   "metadata": {},
   "source": [
    "### Easy way to See Records from Database using Pandas Library"
   ]
  },
  {
   "cell_type": "code",
   "execution_count": null,
   "id": "d360d493",
   "metadata": {},
   "outputs": [],
   "source": [
    "import pandas as pd"
   ]
  },
  {
   "cell_type": "code",
   "execution_count": 85,
   "id": "dc13de5d",
   "metadata": {},
   "outputs": [
    {
     "data": {
      "text/html": [
       "<div>\n",
       "<style scoped>\n",
       "    .dataframe tbody tr th:only-of-type {\n",
       "        vertical-align: middle;\n",
       "    }\n",
       "\n",
       "    .dataframe tbody tr th {\n",
       "        vertical-align: top;\n",
       "    }\n",
       "\n",
       "    .dataframe thead th {\n",
       "        text-align: right;\n",
       "    }\n",
       "</style>\n",
       "<table border=\"1\" class=\"dataframe\">\n",
       "  <thead>\n",
       "    <tr style=\"text-align: right;\">\n",
       "      <th></th>\n",
       "      <th>Sid</th>\n",
       "      <th>FirstName</th>\n",
       "      <th>LastName</th>\n",
       "      <th>RegistrationDate</th>\n",
       "      <th>Class</th>\n",
       "      <th>Section</th>\n",
       "    </tr>\n",
       "  </thead>\n",
       "  <tbody>\n",
       "    <tr>\n",
       "      <th>0</th>\n",
       "      <td>101</td>\n",
       "      <td>Sachin</td>\n",
       "      <td>Kumar</td>\n",
       "      <td>1995-10-24</td>\n",
       "      <td>BE</td>\n",
       "      <td>IT</td>\n",
       "    </tr>\n",
       "    <tr>\n",
       "      <th>1</th>\n",
       "      <td>102</td>\n",
       "      <td>Nitin</td>\n",
       "      <td>Patil</td>\n",
       "      <td>1993-12-15</td>\n",
       "      <td>TE</td>\n",
       "      <td>Comps</td>\n",
       "    </tr>\n",
       "    <tr>\n",
       "      <th>2</th>\n",
       "      <td>103</td>\n",
       "      <td>Harshal</td>\n",
       "      <td>Singh</td>\n",
       "      <td>1994-06-18</td>\n",
       "      <td>SE</td>\n",
       "      <td>EXTC</td>\n",
       "    </tr>\n",
       "    <tr>\n",
       "      <th>3</th>\n",
       "      <td>104</td>\n",
       "      <td>Pooja</td>\n",
       "      <td>Sinha</td>\n",
       "      <td>1993-08-19</td>\n",
       "      <td>FE</td>\n",
       "      <td>Civil</td>\n",
       "    </tr>\n",
       "  </tbody>\n",
       "</table>\n",
       "</div>"
      ],
      "text/plain": [
       "   Sid FirstName LastName RegistrationDate Class Section\n",
       "0  101    Sachin    Kumar       1995-10-24    BE      IT\n",
       "1  102     Nitin    Patil       1993-12-15    TE   Comps\n",
       "2  103   Harshal    Singh       1994-06-18    SE    EXTC\n",
       "3  104     Pooja    Sinha       1993-08-19    FE   Civil"
      ]
     },
     "execution_count": 85,
     "metadata": {},
     "output_type": "execute_result"
    }
   ],
   "source": [
    "pd.read_sql(\"select * from sach123.StudentDetails\",conn)"
   ]
  },
  {
   "cell_type": "code",
   "execution_count": 86,
   "id": "03c165cd",
   "metadata": {},
   "outputs": [
    {
     "data": {
      "text/html": [
       "<div>\n",
       "<style scoped>\n",
       "    .dataframe tbody tr th:only-of-type {\n",
       "        vertical-align: middle;\n",
       "    }\n",
       "\n",
       "    .dataframe tbody tr th {\n",
       "        vertical-align: top;\n",
       "    }\n",
       "\n",
       "    .dataframe thead th {\n",
       "        text-align: right;\n",
       "    }\n",
       "</style>\n",
       "<table border=\"1\" class=\"dataframe\">\n",
       "  <thead>\n",
       "    <tr style=\"text-align: right;\">\n",
       "      <th></th>\n",
       "      <th>Sid</th>\n",
       "      <th>FirstName</th>\n",
       "    </tr>\n",
       "  </thead>\n",
       "  <tbody>\n",
       "    <tr>\n",
       "      <th>0</th>\n",
       "      <td>101</td>\n",
       "      <td>Sachin</td>\n",
       "    </tr>\n",
       "    <tr>\n",
       "      <th>1</th>\n",
       "      <td>102</td>\n",
       "      <td>Nitin</td>\n",
       "    </tr>\n",
       "    <tr>\n",
       "      <th>2</th>\n",
       "      <td>103</td>\n",
       "      <td>Harshal</td>\n",
       "    </tr>\n",
       "    <tr>\n",
       "      <th>3</th>\n",
       "      <td>104</td>\n",
       "      <td>Pooja</td>\n",
       "    </tr>\n",
       "  </tbody>\n",
       "</table>\n",
       "</div>"
      ],
      "text/plain": [
       "   Sid FirstName\n",
       "0  101    Sachin\n",
       "1  102     Nitin\n",
       "2  103   Harshal\n",
       "3  104     Pooja"
      ]
     },
     "execution_count": 86,
     "metadata": {},
     "output_type": "execute_result"
    }
   ],
   "source": [
    "pd.read_sql(\"select Sid, FirstName from sach123.StudentDetails\",conn)"
   ]
  },
  {
   "cell_type": "code",
   "execution_count": 87,
   "id": "612fdda3",
   "metadata": {},
   "outputs": [
    {
     "data": {
      "text/html": [
       "<div>\n",
       "<style scoped>\n",
       "    .dataframe tbody tr th:only-of-type {\n",
       "        vertical-align: middle;\n",
       "    }\n",
       "\n",
       "    .dataframe tbody tr th {\n",
       "        vertical-align: top;\n",
       "    }\n",
       "\n",
       "    .dataframe thead th {\n",
       "        text-align: right;\n",
       "    }\n",
       "</style>\n",
       "<table border=\"1\" class=\"dataframe\">\n",
       "  <thead>\n",
       "    <tr style=\"text-align: right;\">\n",
       "      <th></th>\n",
       "      <th>Sid</th>\n",
       "      <th>Sid</th>\n",
       "    </tr>\n",
       "  </thead>\n",
       "  <tbody>\n",
       "    <tr>\n",
       "      <th>0</th>\n",
       "      <td>101</td>\n",
       "      <td>101</td>\n",
       "    </tr>\n",
       "    <tr>\n",
       "      <th>1</th>\n",
       "      <td>102</td>\n",
       "      <td>102</td>\n",
       "    </tr>\n",
       "    <tr>\n",
       "      <th>2</th>\n",
       "      <td>103</td>\n",
       "      <td>103</td>\n",
       "    </tr>\n",
       "    <tr>\n",
       "      <th>3</th>\n",
       "      <td>104</td>\n",
       "      <td>104</td>\n",
       "    </tr>\n",
       "  </tbody>\n",
       "</table>\n",
       "</div>"
      ],
      "text/plain": [
       "   Sid  Sid\n",
       "0  101  101\n",
       "1  102  102\n",
       "2  103  103\n",
       "3  104  104"
      ]
     },
     "execution_count": 87,
     "metadata": {},
     "output_type": "execute_result"
    }
   ],
   "source": [
    "pd.read_sql(\"select Sid, Sid from sach123.StudentDetails\",conn)"
   ]
  },
  {
   "cell_type": "markdown",
   "id": "06fccf32",
   "metadata": {},
   "source": [
    "#### How to store table data in csv file"
   ]
  },
  {
   "cell_type": "code",
   "execution_count": 14,
   "id": "1fce23ff",
   "metadata": {},
   "outputs": [],
   "source": [
    "result = pd.read_sql(\"select FirstName, LastName from sach123.StudentDetails\",conn)"
   ]
  },
  {
   "cell_type": "code",
   "execution_count": 15,
   "id": "d5e7ab86",
   "metadata": {},
   "outputs": [
    {
     "data": {
      "text/html": [
       "<div>\n",
       "<style scoped>\n",
       "    .dataframe tbody tr th:only-of-type {\n",
       "        vertical-align: middle;\n",
       "    }\n",
       "\n",
       "    .dataframe tbody tr th {\n",
       "        vertical-align: top;\n",
       "    }\n",
       "\n",
       "    .dataframe thead th {\n",
       "        text-align: right;\n",
       "    }\n",
       "</style>\n",
       "<table border=\"1\" class=\"dataframe\">\n",
       "  <thead>\n",
       "    <tr style=\"text-align: right;\">\n",
       "      <th></th>\n",
       "      <th>FirstName</th>\n",
       "      <th>LastName</th>\n",
       "    </tr>\n",
       "  </thead>\n",
       "  <tbody>\n",
       "    <tr>\n",
       "      <th>0</th>\n",
       "      <td>Sachin</td>\n",
       "      <td>Kumar</td>\n",
       "    </tr>\n",
       "    <tr>\n",
       "      <th>1</th>\n",
       "      <td>Nitin</td>\n",
       "      <td>Patil</td>\n",
       "    </tr>\n",
       "    <tr>\n",
       "      <th>2</th>\n",
       "      <td>Harshal</td>\n",
       "      <td>Singh</td>\n",
       "    </tr>\n",
       "    <tr>\n",
       "      <th>3</th>\n",
       "      <td>Pooja</td>\n",
       "      <td>Sinha</td>\n",
       "    </tr>\n",
       "  </tbody>\n",
       "</table>\n",
       "</div>"
      ],
      "text/plain": [
       "  FirstName LastName\n",
       "0    Sachin    Kumar\n",
       "1     Nitin    Patil\n",
       "2   Harshal    Singh\n",
       "3     Pooja    Sinha"
      ]
     },
     "execution_count": 15,
     "metadata": {},
     "output_type": "execute_result"
    }
   ],
   "source": [
    "result"
   ]
  },
  {
   "cell_type": "code",
   "execution_count": 16,
   "id": "b65b3f59",
   "metadata": {},
   "outputs": [],
   "source": [
    "result.to_csv(\"Stud_Details.csv\")"
   ]
  },
  {
   "cell_type": "code",
   "execution_count": 17,
   "id": "b63d0be3",
   "metadata": {},
   "outputs": [],
   "source": [
    "conn.close()"
   ]
  },
  {
   "cell_type": "markdown",
   "id": "87af10f3",
   "metadata": {},
   "source": [
    "### How to store file data into sql"
   ]
  },
  {
   "cell_type": "code",
   "execution_count": 19,
   "id": "a000c5ab",
   "metadata": {},
   "outputs": [],
   "source": [
    "import mysql.connector as connection\n",
    "con = connection.connect(host = \"localhost\", database = \"sach123\", user = \"root\", passwd = \"Sachin@123\")\n",
    "cur = con.cursor()"
   ]
  },
  {
   "cell_type": "code",
   "execution_count": 3,
   "id": "75d922b9",
   "metadata": {},
   "outputs": [],
   "source": [
    "cur.execute(\"create table stud_rec(c1 int(10), c2 varchar(20), c3 varchar(20))\")"
   ]
  },
  {
   "cell_type": "code",
   "execution_count": 23,
   "id": "c0a1496e",
   "metadata": {},
   "outputs": [
    {
     "name": "stdout",
     "output_type": "stream",
     "text": [
      "[',FirstName,LastName']\n",
      "['0,Sachin,Kumar']\n",
      "['1,Nitin,Patil']\n",
      "['2,Harshal,Singh']\n",
      "['3,Pooja,Sinha']\n"
     ]
    }
   ],
   "source": [
    "import csv\n",
    "\n",
    "with open('Stud_Details.csv','r') as data:\n",
    "    data_csv = csv.reader(data, delimiter = \"\\n\")\n",
    "    \n",
    "    for i in data_csv:\n",
    "        print(i) \n"
   ]
  },
  {
   "cell_type": "code",
   "execution_count": 27,
   "id": "6ad6186f",
   "metadata": {},
   "outputs": [
    {
     "name": "stdout",
     "output_type": "stream",
     "text": [
      "(0, [',FirstName,LastName'])\n",
      "(1, ['0,Sachin,Kumar'])\n",
      "(2, ['1,Nitin,Patil'])\n",
      "(3, ['2,Harshal,Singh'])\n",
      "(4, ['3,Pooja,Sinha'])\n"
     ]
    }
   ],
   "source": [
    "with open('Stud_Details.csv','r') as data:\n",
    "    data_csv = csv.reader(data, delimiter = \"\\n\")\n",
    "    \n",
    "    for i in enumerate(data_csv):\n",
    "        print(i)"
   ]
  },
  {
   "cell_type": "code",
   "execution_count": 79,
   "id": "481d4fc6",
   "metadata": {},
   "outputs": [
    {
     "name": "stdout",
     "output_type": "stream",
     "text": [
      "<_csv.reader object at 0x000000F57B239D00>\n",
      "(0, ['0,Sachin,Kumar'])\n",
      "(1, ['1,Nitin,Patil'])\n",
      "(2, ['2,Harshal,Singh'])\n",
      "(3, ['3,Pooja,Sinha'])\n",
      "All Record inserted\n"
     ]
    }
   ],
   "source": [
    "import mysql.connector as connection\n",
    "con = connection.connect(host = \"localhost\", user = \"root\", passwd = \"Sachin@123\")\n",
    "cur = con.cursor()\n",
    "\n",
    "with open('Stud_Details.csv','r') as data:\n",
    "    next(data)\n",
    "    data_csv = csv.reader(data, delimiter = \"\\n\")\n",
    "    print(data_csv)\n",
    "    for i in enumerate(data_csv):\n",
    "        print(i)\n",
    "        \n",
    "        for j in i[1]:\n",
    "            l = j.split(sep = \",\")\n",
    "            cur.execute('insert into sach123.stud_rec values ({c1},\"{c2}\",\"{c3}\")'.format(c1=(l[0]), c2=str(l[1]), c3=str(l[2])))\n",
    "    print(\"All Record inserted\")\n",
    "con.commit()"
   ]
  },
  {
   "cell_type": "markdown",
   "id": "dad6f5d3",
   "metadata": {},
   "source": [
    "### Delete Data From Database"
   ]
  },
  {
   "cell_type": "code",
   "execution_count": 8,
   "id": "67daa76a",
   "metadata": {},
   "outputs": [],
   "source": [
    "import mysql.connector as connection\n",
    "\n",
    "con = connection.connect(host = \"localhost\", database = \"sach123\", user = \"root\", passwd = \"Sachin@123\", use_pure = True)\n",
    "cur = con.cursor()\n",
    "\n",
    "query = \"DELETE FROM stud_rec WHERE c1 = 2;\"       \n",
    "cur.execute(query)\n",
    "con.commit()\n",
    "\n",
    "for result in cur.fetchall():\n",
    "    print(result)\n",
    "    \n",
    "con.close()"
   ]
  },
  {
   "cell_type": "markdown",
   "id": "5fe6d45f",
   "metadata": {},
   "source": [
    "#### To check above mentioned row is deleted or not"
   ]
  },
  {
   "cell_type": "code",
   "execution_count": 9,
   "id": "057286b7",
   "metadata": {},
   "outputs": [
    {
     "name": "stdout",
     "output_type": "stream",
     "text": [
      "(0, 'Sachin', 'Kumar')\n",
      "(1, 'Nitin', 'Patil')\n",
      "(3, 'Pooja', 'Sinha')\n"
     ]
    }
   ],
   "source": [
    "con = connection.connect(host = \"localhost\", database = \"sach123\", user = \"root\", passwd = \"Sachin@123\", use_pure = True)\n",
    "cur = con.cursor()\n",
    "\n",
    "query = \"SELECT * FROM stud_rec\"       \n",
    "cur.execute(query)\n",
    "\n",
    "for result in cur.fetchall():\n",
    "    print(result)\n",
    "    \n",
    "con.close()"
   ]
  },
  {
   "cell_type": "markdown",
   "id": "6bfe0300",
   "metadata": {},
   "source": [
    "### Update Table"
   ]
  },
  {
   "cell_type": "code",
   "execution_count": 11,
   "id": "9f1d0ee1",
   "metadata": {},
   "outputs": [],
   "source": [
    "con = connection.connect(host = \"localhost\", database = \"sach123\", user = \"root\", passwd = \"Sachin@123\", use_pure = True)\n",
    "cur = con.cursor()\n",
    "\n",
    "query = \"UPDATE stud_rec SET c2 = 'Rahul', c3 = 'Dravid' WHERE c1 = 1\"       \n",
    "cur.execute(query)\n",
    "con.commit()\n",
    "\n",
    "for result in cur.fetchall():\n",
    "    print(result)\n",
    "    \n",
    "con.close()"
   ]
  },
  {
   "cell_type": "markdown",
   "id": "a53e2511",
   "metadata": {},
   "source": [
    "#### To check above mentioned row is updated or not"
   ]
  },
  {
   "cell_type": "code",
   "execution_count": 12,
   "id": "4db952fa",
   "metadata": {},
   "outputs": [
    {
     "name": "stdout",
     "output_type": "stream",
     "text": [
      "(0, 'Sachin', 'Kumar')\n",
      "(1, 'Rahul', 'Dravid')\n",
      "(3, 'Pooja', 'Sinha')\n"
     ]
    }
   ],
   "source": [
    "con = connection.connect(host = \"localhost\", database = \"sach123\", user = \"root\", passwd = \"Sachin@123\", use_pure = True)\n",
    "cur = con.cursor()\n",
    "\n",
    "query = \"SELECT * FROM stud_rec\"       \n",
    "cur.execute(query)\n",
    "\n",
    "for result in cur.fetchall():\n",
    "    print(result)\n",
    "    \n",
    "con.close()"
   ]
  },
  {
   "cell_type": "code",
   "execution_count": null,
   "id": "39bf0531",
   "metadata": {},
   "outputs": [],
   "source": []
  }
 ],
 "metadata": {
  "kernelspec": {
   "display_name": "Python 3 (ipykernel)",
   "language": "python",
   "name": "python3"
  },
  "language_info": {
   "codemirror_mode": {
    "name": "ipython",
    "version": 3
   },
   "file_extension": ".py",
   "mimetype": "text/x-python",
   "name": "python",
   "nbconvert_exporter": "python",
   "pygments_lexer": "ipython3",
   "version": "3.9.7"
  }
 },
 "nbformat": 4,
 "nbformat_minor": 5
}
