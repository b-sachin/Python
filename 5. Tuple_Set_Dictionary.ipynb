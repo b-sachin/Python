{
 "cells": [
  {
   "cell_type": "markdown",
   "id": "4b50f92a",
   "metadata": {},
   "source": [
    "## Tuple"
   ]
  },
  {
   "cell_type": "code",
   "execution_count": 1,
   "id": "b2885ae3",
   "metadata": {},
   "outputs": [],
   "source": [
    "t =()"
   ]
  },
  {
   "cell_type": "markdown",
   "id": "c27adb4b",
   "metadata": {},
   "source": [
    "type(t)"
   ]
  },
  {
   "cell_type": "code",
   "execution_count": 3,
   "id": "f251e5f5",
   "metadata": {},
   "outputs": [],
   "source": [
    "l = []"
   ]
  },
  {
   "cell_type": "code",
   "execution_count": 4,
   "id": "7085fcd6",
   "metadata": {},
   "outputs": [
    {
     "data": {
      "text/plain": [
       "list"
      ]
     },
     "execution_count": 4,
     "metadata": {},
     "output_type": "execute_result"
    }
   ],
   "source": [
    "type(l)"
   ]
  },
  {
   "cell_type": "code",
   "execution_count": 5,
   "id": "aec07bd7",
   "metadata": {},
   "outputs": [],
   "source": [
    "t1 = (123, 45, \"sach\", 6.78, True)"
   ]
  },
  {
   "cell_type": "code",
   "execution_count": 6,
   "id": "ee0e712a",
   "metadata": {},
   "outputs": [],
   "source": [
    "l1 = [123, 45, \"sach\", 6.78, True]"
   ]
  },
  {
   "cell_type": "code",
   "execution_count": 7,
   "id": "450eec4e",
   "metadata": {},
   "outputs": [
    {
     "data": {
      "text/plain": [
       "(123, 45, 'sach', 6.78)"
      ]
     },
     "execution_count": 7,
     "metadata": {},
     "output_type": "execute_result"
    }
   ],
   "source": [
    "t1[0:4]"
   ]
  },
  {
   "cell_type": "code",
   "execution_count": 8,
   "id": "fe46ada0",
   "metadata": {},
   "outputs": [
    {
     "data": {
      "text/plain": [
       "(True, 6.78, 'sach', 45, 123)"
      ]
     },
     "execution_count": 8,
     "metadata": {},
     "output_type": "execute_result"
    }
   ],
   "source": [
    "t1[::-1]"
   ]
  },
  {
   "cell_type": "code",
   "execution_count": 9,
   "id": "f65c3789",
   "metadata": {},
   "outputs": [
    {
     "data": {
      "text/plain": [
       "True"
      ]
     },
     "execution_count": 9,
     "metadata": {},
     "output_type": "execute_result"
    }
   ],
   "source": [
    "t1[-1]"
   ]
  },
  {
   "cell_type": "code",
   "execution_count": 10,
   "id": "57250fb0",
   "metadata": {},
   "outputs": [
    {
     "data": {
      "text/plain": [
       "123"
      ]
     },
     "execution_count": 10,
     "metadata": {},
     "output_type": "execute_result"
    }
   ],
   "source": [
    "l1[0]"
   ]
  },
  {
   "cell_type": "code",
   "execution_count": 11,
   "id": "a03bf7dc",
   "metadata": {},
   "outputs": [],
   "source": [
    "l1[0] = \"xyz\""
   ]
  },
  {
   "cell_type": "code",
   "execution_count": 12,
   "id": "7363177d",
   "metadata": {},
   "outputs": [
    {
     "data": {
      "text/plain": [
       "['xyz', 45, 'sach', 6.78, True]"
      ]
     },
     "execution_count": 12,
     "metadata": {},
     "output_type": "execute_result"
    }
   ],
   "source": [
    "l1"
   ]
  },
  {
   "cell_type": "code",
   "execution_count": 13,
   "id": "d249b964",
   "metadata": {},
   "outputs": [
    {
     "data": {
      "text/plain": [
       "123"
      ]
     },
     "execution_count": 13,
     "metadata": {},
     "output_type": "execute_result"
    }
   ],
   "source": [
    "t1[0]"
   ]
  },
  {
   "cell_type": "code",
   "execution_count": 14,
   "id": "48c2f16b",
   "metadata": {},
   "outputs": [
    {
     "ename": "TypeError",
     "evalue": "'tuple' object does not support item assignment",
     "output_type": "error",
     "traceback": [
      "\u001b[1;31m---------------------------------------------------------------------------\u001b[0m",
      "\u001b[1;31mTypeError\u001b[0m                                 Traceback (most recent call last)",
      "\u001b[1;32mC:\\Users\\ITDEPA~1\\AppData\\Local\\Temp/ipykernel_5288/1428789884.py\u001b[0m in \u001b[0;36m<module>\u001b[1;34m\u001b[0m\n\u001b[1;32m----> 1\u001b[1;33m \u001b[0mt1\u001b[0m\u001b[1;33m[\u001b[0m\u001b[1;36m0\u001b[0m\u001b[1;33m]\u001b[0m \u001b[1;33m=\u001b[0m \u001b[1;34m\"xyz\"\u001b[0m\u001b[1;33m\u001b[0m\u001b[1;33m\u001b[0m\u001b[0m\n\u001b[0m",
      "\u001b[1;31mTypeError\u001b[0m: 'tuple' object does not support item assignment"
     ]
    }
   ],
   "source": [
    "t1[0] = \"xyz\""
   ]
  },
  {
   "cell_type": "markdown",
   "id": "8c20f71e",
   "metadata": {},
   "source": [
    "Item assignment is possible in case of List hence **List is Mutable Object**. \n",
    "Whereas Item assignment is not possible in casee of Tuples hence **Tuple is Immutable Object**."
   ]
  },
  {
   "cell_type": "code",
   "execution_count": 15,
   "id": "342f1d72",
   "metadata": {},
   "outputs": [],
   "source": [
    "t2 = (890, 12, 334)"
   ]
  },
  {
   "cell_type": "code",
   "execution_count": 16,
   "id": "c9a347a1",
   "metadata": {},
   "outputs": [
    {
     "data": {
      "text/plain": [
       "(123, 45, 'sach', 6.78, True, 890, 12, 334)"
      ]
     },
     "execution_count": 16,
     "metadata": {},
     "output_type": "execute_result"
    }
   ],
   "source": [
    "t1 + t2"
   ]
  },
  {
   "cell_type": "markdown",
   "id": "3ee2a8b9",
   "metadata": {},
   "source": [
    "Tuples are immutable so when addition of 2 tuples are done; new location is assigned for the result"
   ]
  },
  {
   "cell_type": "code",
   "execution_count": 18,
   "id": "f8f2443a",
   "metadata": {},
   "outputs": [
    {
     "data": {
      "text/plain": [
       "(123,\n",
       " 45,\n",
       " 'sach',\n",
       " 6.78,\n",
       " True,\n",
       " 123,\n",
       " 45,\n",
       " 'sach',\n",
       " 6.78,\n",
       " True,\n",
       " 123,\n",
       " 45,\n",
       " 'sach',\n",
       " 6.78,\n",
       " True)"
      ]
     },
     "execution_count": 18,
     "metadata": {},
     "output_type": "execute_result"
    }
   ],
   "source": [
    "t1*3"
   ]
  },
  {
   "cell_type": "code",
   "execution_count": 21,
   "id": "19ce4893",
   "metadata": {},
   "outputs": [
    {
     "data": {
      "text/plain": [
       "(890, 12, 334)"
      ]
     },
     "execution_count": 21,
     "metadata": {},
     "output_type": "execute_result"
    }
   ],
   "source": [
    "t2"
   ]
  },
  {
   "cell_type": "code",
   "execution_count": 22,
   "id": "6f59a5e7",
   "metadata": {},
   "outputs": [
    {
     "data": {
      "text/plain": [
       "(890, 12, 334, 890, 12, 334, 890, 12, 334)"
      ]
     },
     "execution_count": 22,
     "metadata": {},
     "output_type": "execute_result"
    }
   ],
   "source": [
    "t2*3"
   ]
  },
  {
   "cell_type": "code",
   "execution_count": 23,
   "id": "6adb263c",
   "metadata": {},
   "outputs": [
    {
     "data": {
      "text/plain": [
       "(123, 45, 'sach', 6.78, True)"
      ]
     },
     "execution_count": 23,
     "metadata": {},
     "output_type": "execute_result"
    }
   ],
   "source": [
    "t1"
   ]
  },
  {
   "cell_type": "code",
   "execution_count": 24,
   "id": "cb0fd04d",
   "metadata": {},
   "outputs": [
    {
     "data": {
      "text/plain": [
       "True"
      ]
     },
     "execution_count": 24,
     "metadata": {},
     "output_type": "execute_result"
    }
   ],
   "source": [
    "45 in t1"
   ]
  },
  {
   "cell_type": "code",
   "execution_count": 25,
   "id": "966a89bc",
   "metadata": {},
   "outputs": [
    {
     "data": {
      "text/plain": [
       "False"
      ]
     },
     "execution_count": 25,
     "metadata": {},
     "output_type": "execute_result"
    }
   ],
   "source": [
    "\"abc\" in t1"
   ]
  },
  {
   "cell_type": "code",
   "execution_count": 26,
   "id": "1690d20f",
   "metadata": {},
   "outputs": [
    {
     "ename": "TypeError",
     "evalue": "'>' not supported between instances of 'str' and 'int'",
     "output_type": "error",
     "traceback": [
      "\u001b[1;31m---------------------------------------------------------------------------\u001b[0m",
      "\u001b[1;31mTypeError\u001b[0m                                 Traceback (most recent call last)",
      "\u001b[1;32mC:\\Users\\ITDEPA~1\\AppData\\Local\\Temp/ipykernel_5288/3099455752.py\u001b[0m in \u001b[0;36m<module>\u001b[1;34m\u001b[0m\n\u001b[1;32m----> 1\u001b[1;33m \u001b[0mmax\u001b[0m\u001b[1;33m(\u001b[0m\u001b[0mt1\u001b[0m\u001b[1;33m)\u001b[0m\u001b[1;33m\u001b[0m\u001b[1;33m\u001b[0m\u001b[0m\n\u001b[0m",
      "\u001b[1;31mTypeError\u001b[0m: '>' not supported between instances of 'str' and 'int'"
     ]
    }
   ],
   "source": [
    "max(t1)"
   ]
  },
  {
   "cell_type": "code",
   "execution_count": 27,
   "id": "8a0e3ee6",
   "metadata": {},
   "outputs": [
    {
     "data": {
      "text/plain": [
       "890"
      ]
     },
     "execution_count": 27,
     "metadata": {},
     "output_type": "execute_result"
    }
   ],
   "source": [
    "max(t2)"
   ]
  },
  {
   "cell_type": "markdown",
   "id": "429e2357",
   "metadata": {},
   "source": [
    "When we have homogeneous data then max-min operations are possible in tuples "
   ]
  },
  {
   "cell_type": "code",
   "execution_count": 28,
   "id": "f606e599",
   "metadata": {},
   "outputs": [],
   "source": [
    "t3 = (\"abc\",\"def\",\"xyz\",\"pqr\",\"ijk\",\"bbb\",\"zz\")"
   ]
  },
  {
   "cell_type": "code",
   "execution_count": 29,
   "id": "f1852ba6",
   "metadata": {},
   "outputs": [
    {
     "data": {
      "text/plain": [
       "'abc'"
      ]
     },
     "execution_count": 29,
     "metadata": {},
     "output_type": "execute_result"
    }
   ],
   "source": [
    "min(t3)"
   ]
  },
  {
   "cell_type": "code",
   "execution_count": 30,
   "id": "d16f02ca",
   "metadata": {},
   "outputs": [
    {
     "data": {
      "text/plain": [
       "'zz'"
      ]
     },
     "execution_count": 30,
     "metadata": {},
     "output_type": "execute_result"
    }
   ],
   "source": [
    "max(t3)"
   ]
  },
  {
   "cell_type": "markdown",
   "id": "be94af70",
   "metadata": {},
   "source": [
    "### Insert Operation in Tuple\n",
    "\n",
    "Tuples are immutable hence insert operation is not possible."
   ]
  },
  {
   "cell_type": "code",
   "execution_count": 31,
   "id": "4c7e4473",
   "metadata": {},
   "outputs": [
    {
     "data": {
      "text/plain": [
       "(123, 45, 'sach', 6.78, True)"
      ]
     },
     "execution_count": 31,
     "metadata": {},
     "output_type": "execute_result"
    }
   ],
   "source": [
    "t1"
   ]
  },
  {
   "cell_type": "code",
   "execution_count": 32,
   "id": "a765c24f",
   "metadata": {},
   "outputs": [
    {
     "data": {
      "text/plain": [
       "(123, 45, 'sach', 6.78, True, 890, 12, 334)"
      ]
     },
     "execution_count": 32,
     "metadata": {},
     "output_type": "execute_result"
    }
   ],
   "source": [
    "t1 +t2"
   ]
  },
  {
   "cell_type": "code",
   "execution_count": 33,
   "id": "8c19f70a",
   "metadata": {},
   "outputs": [],
   "source": [
    "l2 = list (t1)"
   ]
  },
  {
   "cell_type": "code",
   "execution_count": 34,
   "id": "ea262095",
   "metadata": {},
   "outputs": [
    {
     "data": {
      "text/plain": [
       "[123, 45, 'sach', 6.78, True]"
      ]
     },
     "execution_count": 34,
     "metadata": {},
     "output_type": "execute_result"
    }
   ],
   "source": [
    "l2"
   ]
  },
  {
   "cell_type": "code",
   "execution_count": 35,
   "id": "c9a147fb",
   "metadata": {},
   "outputs": [],
   "source": [
    "l2.insert(3,t2)"
   ]
  },
  {
   "cell_type": "code",
   "execution_count": 36,
   "id": "5076df3e",
   "metadata": {},
   "outputs": [
    {
     "data": {
      "text/plain": [
       "[123, 45, 'sach', (890, 12, 334), 6.78, True]"
      ]
     },
     "execution_count": 36,
     "metadata": {},
     "output_type": "execute_result"
    }
   ],
   "source": [
    "l2"
   ]
  },
  {
   "cell_type": "code",
   "execution_count": 37,
   "id": "7cf4463a",
   "metadata": {},
   "outputs": [
    {
     "data": {
      "text/plain": [
       "(123, 45, 'sach', (890, 12, 334), 6.78, True)"
      ]
     },
     "execution_count": 37,
     "metadata": {},
     "output_type": "execute_result"
    }
   ],
   "source": [
    "tuple(l2)"
   ]
  },
  {
   "cell_type": "markdown",
   "id": "483fab5a",
   "metadata": {},
   "source": [
    "Here address will change. You cannot have updated tuple at same location."
   ]
  },
  {
   "cell_type": "markdown",
   "id": "797bfcf6",
   "metadata": {},
   "source": [
    "### Nested Tuples"
   ]
  },
  {
   "cell_type": "code",
   "execution_count": 44,
   "id": "8f259d9b",
   "metadata": {},
   "outputs": [],
   "source": [
    "tt = ((1,2,3,4,5,6), (\"abc\",55,66),(\"343\",78),23,88,123, [9,8,7,6,5])"
   ]
  },
  {
   "cell_type": "code",
   "execution_count": 45,
   "id": "6f31fcd4",
   "metadata": {},
   "outputs": [
    {
     "data": {
      "text/plain": [
       "((1, 2, 3, 4, 5, 6),\n",
       " ('abc', 55, 66),\n",
       " ('343', 78),\n",
       " 23,\n",
       " 88,\n",
       " 123,\n",
       " [9, 8, 7, 6, 5])"
      ]
     },
     "execution_count": 45,
     "metadata": {},
     "output_type": "execute_result"
    }
   ],
   "source": [
    "tt"
   ]
  },
  {
   "cell_type": "markdown",
   "id": "8c9ae7dd",
   "metadata": {},
   "source": [
    "1. Access 2nd element (i.e. 8) from list inside tuple"
   ]
  },
  {
   "cell_type": "code",
   "execution_count": 46,
   "id": "7597f468",
   "metadata": {},
   "outputs": [
    {
     "data": {
      "text/plain": [
       "[9, 8, 7, 6, 5]"
      ]
     },
     "execution_count": 46,
     "metadata": {},
     "output_type": "execute_result"
    }
   ],
   "source": [
    "tt[6]"
   ]
  },
  {
   "cell_type": "code",
   "execution_count": 47,
   "id": "30f909c0",
   "metadata": {},
   "outputs": [
    {
     "data": {
      "text/plain": [
       "8"
      ]
     },
     "execution_count": 47,
     "metadata": {},
     "output_type": "execute_result"
    }
   ],
   "source": [
    "tt[6][1]"
   ]
  },
  {
   "cell_type": "markdown",
   "id": "4a5e865b",
   "metadata": {},
   "source": [
    "2. Access 2nd to 4th (i.e. [8, 7, 6]) element from list inside tuple"
   ]
  },
  {
   "cell_type": "code",
   "execution_count": 49,
   "id": "ad7ed757",
   "metadata": {},
   "outputs": [
    {
     "data": {
      "text/plain": [
       "[8, 7, 6]"
      ]
     },
     "execution_count": 49,
     "metadata": {},
     "output_type": "execute_result"
    }
   ],
   "source": [
    "tt[6][1:4]"
   ]
  },
  {
   "cell_type": "code",
   "execution_count": 52,
   "id": "7f39153b",
   "metadata": {},
   "outputs": [
    {
     "data": {
      "text/plain": [
       "((1, 2, 3, 4, 5, 6),\n",
       " ('abc', 55, 66),\n",
       " ('343', 78),\n",
       " 23,\n",
       " 88,\n",
       " 123,\n",
       " [9, 8, 7, 6, 5])"
      ]
     },
     "execution_count": 52,
     "metadata": {},
     "output_type": "execute_result"
    }
   ],
   "source": [
    "tt"
   ]
  },
  {
   "cell_type": "code",
   "execution_count": 50,
   "id": "dac506cc",
   "metadata": {},
   "outputs": [
    {
     "name": "stdout",
     "output_type": "stream",
     "text": [
      "(1, 2, 3, 4, 5, 6)\n",
      "('abc', 55, 66)\n",
      "('343', 78)\n",
      "23\n",
      "88\n",
      "123\n",
      "[9, 8, 7, 6, 5]\n"
     ]
    }
   ],
   "source": [
    " for i in tt:\n",
    "        print(i)"
   ]
  },
  {
   "cell_type": "code",
   "execution_count": 51,
   "id": "e5a64de2",
   "metadata": {},
   "outputs": [
    {
     "name": "stdout",
     "output_type": "stream",
     "text": [
      "1\n",
      "abc\n",
      "343\n"
     ]
    }
   ],
   "source": [
    "for i in tt:\n",
    "    if type(i) == tuple:\n",
    "        print(i[0])"
   ]
  },
  {
   "cell_type": "code",
   "execution_count": 53,
   "id": "4776546e",
   "metadata": {},
   "outputs": [
    {
     "data": {
      "text/plain": [
       "(123, 45, 'sach', 6.78, True)"
      ]
     },
     "execution_count": 53,
     "metadata": {},
     "output_type": "execute_result"
    }
   ],
   "source": [
    "t1"
   ]
  },
  {
   "cell_type": "code",
   "execution_count": 54,
   "id": "345757a0",
   "metadata": {},
   "outputs": [
    {
     "data": {
      "text/plain": [
       "(890, 12, 334)"
      ]
     },
     "execution_count": 54,
     "metadata": {},
     "output_type": "execute_result"
    }
   ],
   "source": [
    "t2"
   ]
  },
  {
   "cell_type": "code",
   "execution_count": 55,
   "id": "03335ca4",
   "metadata": {},
   "outputs": [
    {
     "name": "stdout",
     "output_type": "stream",
     "text": [
      "Both are not of Same Length\n"
     ]
    }
   ],
   "source": [
    "if(len(t1)==len(t2)):\n",
    "    print(\"Both are of Same Length\")\n",
    "else :\n",
    "    print(\"Both are not of Same Length\")"
   ]
  },
  {
   "cell_type": "code",
   "execution_count": 56,
   "id": "1c963765",
   "metadata": {},
   "outputs": [],
   "source": [
    "tt2 = (4545, 234, \"abc\", 66,77,88,8,88, True, \"xyz\")"
   ]
  },
  {
   "cell_type": "code",
   "execution_count": 57,
   "id": "a2295b79",
   "metadata": {},
   "outputs": [
    {
     "name": "stdout",
     "output_type": "stream",
     "text": [
      "Please enter your inputabc\n",
      "Your input value present in tuple\n"
     ]
    }
   ],
   "source": [
    "i = \"abc\"\n",
    "# i = input(\"Please enter your input\")\n",
    "\n",
    "if i in tt2:\n",
    "    print(\"Your input value present in tuple\")\n",
    "else :\n",
    "    print(\"Your input value not present in tuple\")"
   ]
  },
  {
   "cell_type": "code",
   "execution_count": 58,
   "id": "8350c6e8",
   "metadata": {},
   "outputs": [
    {
     "name": "stdout",
     "output_type": "stream",
     "text": [
      "Your input value not present in tuple\n"
     ]
    }
   ],
   "source": [
    "i = \"sdfdf\"\n",
    "#i = input(\"Please enter your input\")\n",
    "\n",
    "if i in tt2:\n",
    "    print(\"Your input value present in tuple\")\n",
    "else :\n",
    "    print(\"Your input value not present in tuple\")"
   ]
  },
  {
   "cell_type": "code",
   "execution_count": 59,
   "id": "786049da",
   "metadata": {},
   "outputs": [
    {
     "ename": "SyntaxError",
     "evalue": "cannot delete literal (Temp/ipykernel_5288/368989734.py, line 1)",
     "output_type": "error",
     "traceback": [
      "\u001b[1;36m  File \u001b[1;32m\"C:\\Users\\ITDEPA~1\\AppData\\Local\\Temp/ipykernel_5288/368989734.py\"\u001b[1;36m, line \u001b[1;32m1\u001b[0m\n\u001b[1;33m    del(66)\u001b[0m\n\u001b[1;37m        ^\u001b[0m\n\u001b[1;31mSyntaxError\u001b[0m\u001b[1;31m:\u001b[0m cannot delete literal\n"
     ]
    }
   ],
   "source": [
    "del(66)"
   ]
  },
  {
   "cell_type": "code",
   "execution_count": 60,
   "id": "40657748",
   "metadata": {},
   "outputs": [
    {
     "data": {
      "text/plain": [
       "(4545, 234, 'abc', 66, 77, 88, 8, 88, True, 'xyz')"
      ]
     },
     "execution_count": 60,
     "metadata": {},
     "output_type": "execute_result"
    }
   ],
   "source": [
    "tt2"
   ]
  },
  {
   "cell_type": "code",
   "execution_count": 61,
   "id": "312ba358",
   "metadata": {},
   "outputs": [],
   "source": [
    "del(tt2)"
   ]
  },
  {
   "cell_type": "code",
   "execution_count": 62,
   "id": "0a8a9b4c",
   "metadata": {},
   "outputs": [
    {
     "ename": "NameError",
     "evalue": "name 'tt2' is not defined",
     "output_type": "error",
     "traceback": [
      "\u001b[1;31m---------------------------------------------------------------------------\u001b[0m",
      "\u001b[1;31mNameError\u001b[0m                                 Traceback (most recent call last)",
      "\u001b[1;32mC:\\Users\\ITDEPA~1\\AppData\\Local\\Temp/ipykernel_5288/2337106336.py\u001b[0m in \u001b[0;36m<module>\u001b[1;34m\u001b[0m\n\u001b[1;32m----> 1\u001b[1;33m \u001b[0mtt2\u001b[0m\u001b[1;33m\u001b[0m\u001b[1;33m\u001b[0m\u001b[0m\n\u001b[0m",
      "\u001b[1;31mNameError\u001b[0m: name 'tt2' is not defined"
     ]
    }
   ],
   "source": [
    "tt2"
   ]
  },
  {
   "cell_type": "code",
   "execution_count": 63,
   "id": "b6388231",
   "metadata": {},
   "outputs": [],
   "source": [
    "l3 = [23,45,78,989,\"dfsd\"]"
   ]
  },
  {
   "cell_type": "markdown",
   "id": "3e4bae38",
   "metadata": {},
   "source": [
    "l3. (Tab) will show you all operations that can be performed on list. Eg: append, clear, copy, count,extend, index and so on."
   ]
  },
  {
   "cell_type": "markdown",
   "id": "14c85e67",
   "metadata": {},
   "source": [
    "tt2. (Tab) will show you only **count** and **index** because tuple is immutable entity."
   ]
  },
  {
   "cell_type": "markdown",
   "id": "8ec2056b",
   "metadata": {},
   "source": [
    "## Set"
   ]
  },
  {
   "cell_type": "code",
   "execution_count": 64,
   "id": "fa837a63",
   "metadata": {},
   "outputs": [],
   "source": [
    "x = set()"
   ]
  },
  {
   "cell_type": "code",
   "execution_count": 65,
   "id": "86ef27e1",
   "metadata": {},
   "outputs": [
    {
     "data": {
      "text/plain": [
       "set"
      ]
     },
     "execution_count": 65,
     "metadata": {},
     "output_type": "execute_result"
    }
   ],
   "source": [
    "type(x)"
   ]
  },
  {
   "cell_type": "markdown",
   "id": "8694e115",
   "metadata": {},
   "source": [
    "Why set?"
   ]
  },
  {
   "cell_type": "code",
   "execution_count": 96,
   "id": "284695fa",
   "metadata": {},
   "outputs": [],
   "source": [
    "l = [ 34, 45, 45,34, 67,\"sach\",\"abc\",\"sach\",\"Sach\"]"
   ]
  },
  {
   "cell_type": "markdown",
   "id": "d1c283eb",
   "metadata": {},
   "source": [
    "If we need to remove all duplicate elements from above list then we need to write a code for comparing one will all and moving ahead with removing if found matching element.There is simple alternative to remove duplicate elements."
   ]
  },
  {
   "cell_type": "code",
   "execution_count": 97,
   "id": "9ec10d47",
   "metadata": {},
   "outputs": [
    {
     "data": {
      "text/plain": [
       "{34, 45, 67, 'Sach', 'abc', 'sach'}"
      ]
     },
     "execution_count": 97,
     "metadata": {},
     "output_type": "execute_result"
    }
   ],
   "source": [
    "set(l)"
   ]
  },
  {
   "cell_type": "markdown",
   "id": "2b6341f3",
   "metadata": {},
   "source": [
    "just converting list into set all duplicates are removed immediately."
   ]
  },
  {
   "cell_type": "markdown",
   "id": "2c6a8228",
   "metadata": {},
   "source": [
    "**Set** is a collection which always hold distinct elements. "
   ]
  },
  {
   "cell_type": "markdown",
   "id": "7266e59f",
   "metadata": {},
   "source": [
    "As you can observe **\"Sach\"** and **\"sach\"** both are present in the set because **Set is case sensitive**. It treats Upper and Lower cases as seperate elements."
   ]
  },
  {
   "cell_type": "code",
   "execution_count": 98,
   "id": "6491c995",
   "metadata": {},
   "outputs": [],
   "source": [
    "s = set(l)"
   ]
  },
  {
   "cell_type": "code",
   "execution_count": 99,
   "id": "47ded1ed",
   "metadata": {},
   "outputs": [
    {
     "data": {
      "text/plain": [
       "{34, 45, 67, 'Sach', 'abc', 'sach'}"
      ]
     },
     "execution_count": 99,
     "metadata": {},
     "output_type": "execute_result"
    }
   ],
   "source": [
    "s"
   ]
  },
  {
   "cell_type": "code",
   "execution_count": 100,
   "id": "a7c1fd85",
   "metadata": {},
   "outputs": [
    {
     "name": "stdout",
     "output_type": "stream",
     "text": [
      "34\n",
      "67\n",
      "sach\n",
      "45\n",
      "Sach\n",
      "abc\n"
     ]
    }
   ],
   "source": [
    "for i in s:\n",
    "    print(i)"
   ]
  },
  {
   "cell_type": "code",
   "execution_count": 101,
   "id": "5b975b58",
   "metadata": {},
   "outputs": [
    {
     "data": {
      "text/plain": [
       "True"
      ]
     },
     "execution_count": 101,
     "metadata": {},
     "output_type": "execute_result"
    }
   ],
   "source": [
    "67 in s"
   ]
  },
  {
   "cell_type": "code",
   "execution_count": 102,
   "id": "1b3e62fd",
   "metadata": {},
   "outputs": [
    {
     "data": {
      "text/plain": [
       "False"
      ]
     },
     "execution_count": 102,
     "metadata": {},
     "output_type": "execute_result"
    }
   ],
   "source": [
    "33 in s"
   ]
  },
  {
   "cell_type": "code",
   "execution_count": 103,
   "id": "1a3dad23",
   "metadata": {},
   "outputs": [
    {
     "ename": "TypeError",
     "evalue": "'set' object is not subscriptable",
     "output_type": "error",
     "traceback": [
      "\u001b[1;31m---------------------------------------------------------------------------\u001b[0m",
      "\u001b[1;31mTypeError\u001b[0m                                 Traceback (most recent call last)",
      "\u001b[1;32mC:\\Users\\ITDEPA~1\\AppData\\Local\\Temp/ipykernel_5288/243613605.py\u001b[0m in \u001b[0;36m<module>\u001b[1;34m\u001b[0m\n\u001b[1;32m----> 1\u001b[1;33m \u001b[0ms\u001b[0m\u001b[1;33m[\u001b[0m\u001b[1;36m0\u001b[0m\u001b[1;33m]\u001b[0m\u001b[1;33m\u001b[0m\u001b[1;33m\u001b[0m\u001b[0m\n\u001b[0m",
      "\u001b[1;31mTypeError\u001b[0m: 'set' object is not subscriptable"
     ]
    }
   ],
   "source": [
    "s[0]"
   ]
  },
  {
   "cell_type": "markdown",
   "id": "149bc655",
   "metadata": {},
   "source": [
    "We cannot perform indexing operation on set."
   ]
  },
  {
   "cell_type": "markdown",
   "id": "e5bc15b6",
   "metadata": {},
   "source": [
    "#### There is misconception that Set gives ordered/Sorted data."
   ]
  },
  {
   "cell_type": "code",
   "execution_count": 104,
   "id": "64e34418",
   "metadata": {},
   "outputs": [
    {
     "data": {
      "text/plain": [
       "{34, 45, 67, 'Sach', 'abc', 'sach'}"
      ]
     },
     "execution_count": 104,
     "metadata": {},
     "output_type": "execute_result"
    }
   ],
   "source": [
    "s"
   ]
  },
  {
   "cell_type": "code",
   "execution_count": 111,
   "id": "cd4504f3",
   "metadata": {},
   "outputs": [],
   "source": [
    "l.extend([35,12,\"Bob\",1243])"
   ]
  },
  {
   "cell_type": "code",
   "execution_count": 112,
   "id": "8ded9485",
   "metadata": {},
   "outputs": [],
   "source": [
    "s = set(l)"
   ]
  },
  {
   "cell_type": "code",
   "execution_count": 114,
   "id": "4a9f9c83",
   "metadata": {},
   "outputs": [
    {
     "data": {
      "text/plain": [
       "{12, 124, 1243, 34, 35, 45, 67, 68, 'Bob', 'Sach', 'a', 'abc', 'sach', 'ss'}"
      ]
     },
     "execution_count": 114,
     "metadata": {},
     "output_type": "execute_result"
    }
   ],
   "source": [
    "s"
   ]
  },
  {
   "cell_type": "code",
   "execution_count": 115,
   "id": "504143ee",
   "metadata": {},
   "outputs": [
    {
     "name": "stdout",
     "output_type": "stream",
     "text": [
      "a\n",
      "34\n",
      "67\n",
      "35\n",
      "68\n",
      "Bob\n",
      "sach\n",
      "12\n",
      "45\n",
      "Sach\n",
      "abc\n",
      "1243\n",
      "124\n",
      "ss\n"
     ]
    }
   ],
   "source": [
    "for i in s:\n",
    "    print(i)"
   ]
  },
  {
   "cell_type": "code",
   "execution_count": 116,
   "id": "a3d38868",
   "metadata": {},
   "outputs": [],
   "source": [
    "ss = set()"
   ]
  },
  {
   "cell_type": "code",
   "execution_count": 117,
   "id": "66465aad",
   "metadata": {},
   "outputs": [
    {
     "data": {
      "text/plain": [
       "set()"
      ]
     },
     "execution_count": 117,
     "metadata": {},
     "output_type": "execute_result"
    }
   ],
   "source": [
    "ss"
   ]
  },
  {
   "cell_type": "code",
   "execution_count": 118,
   "id": "8a01e2d9",
   "metadata": {},
   "outputs": [],
   "source": [
    "ss.add(33)"
   ]
  },
  {
   "cell_type": "code",
   "execution_count": 119,
   "id": "5056bdc2",
   "metadata": {},
   "outputs": [
    {
     "data": {
      "text/plain": [
       "{33}"
      ]
     },
     "execution_count": 119,
     "metadata": {},
     "output_type": "execute_result"
    }
   ],
   "source": [
    "ss"
   ]
  },
  {
   "cell_type": "code",
   "execution_count": 120,
   "id": "c4804fcf",
   "metadata": {},
   "outputs": [],
   "source": [
    "ss.add(\"abc\")"
   ]
  },
  {
   "cell_type": "code",
   "execution_count": 121,
   "id": "e28c339c",
   "metadata": {},
   "outputs": [],
   "source": [
    "ss.add(\"xyz\")"
   ]
  },
  {
   "cell_type": "code",
   "execution_count": 122,
   "id": "4ec191de",
   "metadata": {},
   "outputs": [
    {
     "data": {
      "text/plain": [
       "{33, 'abc', 'xyz'}"
      ]
     },
     "execution_count": 122,
     "metadata": {},
     "output_type": "execute_result"
    }
   ],
   "source": [
    "ss"
   ]
  },
  {
   "cell_type": "code",
   "execution_count": 123,
   "id": "33dd769a",
   "metadata": {},
   "outputs": [
    {
     "ename": "TypeError",
     "evalue": "unhashable type: 'list'",
     "output_type": "error",
     "traceback": [
      "\u001b[1;31m---------------------------------------------------------------------------\u001b[0m",
      "\u001b[1;31mTypeError\u001b[0m                                 Traceback (most recent call last)",
      "\u001b[1;32mC:\\Users\\ITDEPA~1\\AppData\\Local\\Temp/ipykernel_5288/1658925938.py\u001b[0m in \u001b[0;36m<module>\u001b[1;34m\u001b[0m\n\u001b[1;32m----> 1\u001b[1;33m \u001b[0mss\u001b[0m\u001b[1;33m.\u001b[0m\u001b[0madd\u001b[0m\u001b[1;33m(\u001b[0m\u001b[1;33m[\u001b[0m\u001b[1;36m123\u001b[0m\u001b[1;33m,\u001b[0m\u001b[1;36m45\u001b[0m\u001b[1;33m,\u001b[0m\u001b[1;34m\"ijk\"\u001b[0m\u001b[1;33m]\u001b[0m\u001b[1;33m)\u001b[0m\u001b[1;33m\u001b[0m\u001b[1;33m\u001b[0m\u001b[0m\n\u001b[0m",
      "\u001b[1;31mTypeError\u001b[0m: unhashable type: 'list'"
     ]
    }
   ],
   "source": [
    "ss.add([123,45,\"ijk\"])"
   ]
  },
  {
   "cell_type": "markdown",
   "id": "577d1629",
   "metadata": {},
   "source": [
    "Another collection is not possible inside Set. As we all know Set holds distinct element. To do so set has to perform comparison with element in order to remove duplicate element. but incase of nested collection (list/tuple) comparison won't be possible. "
   ]
  },
  {
   "cell_type": "code",
   "execution_count": 124,
   "id": "a765087a",
   "metadata": {},
   "outputs": [
    {
     "data": {
      "text/plain": [
       "{33, 'abc', 'xyz'}"
      ]
     },
     "execution_count": 124,
     "metadata": {},
     "output_type": "execute_result"
    }
   ],
   "source": [
    "ss"
   ]
  },
  {
   "cell_type": "code",
   "execution_count": 125,
   "id": "13530769",
   "metadata": {},
   "outputs": [],
   "source": [
    "ss.add(33)"
   ]
  },
  {
   "cell_type": "code",
   "execution_count": 126,
   "id": "2ff29af8",
   "metadata": {},
   "outputs": [
    {
     "data": {
      "text/plain": [
       "{33, 'abc', 'xyz'}"
      ]
     },
     "execution_count": 126,
     "metadata": {},
     "output_type": "execute_result"
    }
   ],
   "source": [
    "ss"
   ]
  },
  {
   "cell_type": "markdown",
   "id": "5ad760c9",
   "metadata": {},
   "source": [
    "Already available 33 so won't add"
   ]
  },
  {
   "cell_type": "code",
   "execution_count": 128,
   "id": "c0c43125",
   "metadata": {},
   "outputs": [],
   "source": [
    "ss.remove(33)"
   ]
  },
  {
   "cell_type": "code",
   "execution_count": 129,
   "id": "8c6a21d7",
   "metadata": {},
   "outputs": [
    {
     "data": {
      "text/plain": [
       "{'abc', 'xyz'}"
      ]
     },
     "execution_count": 129,
     "metadata": {},
     "output_type": "execute_result"
    }
   ],
   "source": [
    "ss"
   ]
  },
  {
   "cell_type": "code",
   "execution_count": 130,
   "id": "5aefb709",
   "metadata": {},
   "outputs": [
    {
     "ename": "KeyError",
     "evalue": "33",
     "output_type": "error",
     "traceback": [
      "\u001b[1;31m---------------------------------------------------------------------------\u001b[0m",
      "\u001b[1;31mKeyError\u001b[0m                                  Traceback (most recent call last)",
      "\u001b[1;32mC:\\Users\\ITDEPA~1\\AppData\\Local\\Temp/ipykernel_5288/3021962258.py\u001b[0m in \u001b[0;36m<module>\u001b[1;34m\u001b[0m\n\u001b[1;32m----> 1\u001b[1;33m \u001b[0mss\u001b[0m\u001b[1;33m.\u001b[0m\u001b[0mremove\u001b[0m\u001b[1;33m(\u001b[0m\u001b[1;36m33\u001b[0m\u001b[1;33m)\u001b[0m\u001b[1;33m\u001b[0m\u001b[1;33m\u001b[0m\u001b[0m\n\u001b[0m",
      "\u001b[1;31mKeyError\u001b[0m: 33"
     ]
    }
   ],
   "source": [
    "ss.remove(33)"
   ]
  },
  {
   "cell_type": "markdown",
   "id": "4ea815a1",
   "metadata": {},
   "source": [
    "Already removed hence error occured"
   ]
  },
  {
   "cell_type": "code",
   "execution_count": 131,
   "id": "0ba5ee1f",
   "metadata": {},
   "outputs": [
    {
     "data": {
      "text/plain": [
       "False"
      ]
     },
     "execution_count": 131,
     "metadata": {},
     "output_type": "execute_result"
    }
   ],
   "source": [
    "33 in ss"
   ]
  },
  {
   "cell_type": "code",
   "execution_count": 132,
   "id": "c7a0e0eb",
   "metadata": {},
   "outputs": [],
   "source": [
    "ss.clear()"
   ]
  },
  {
   "cell_type": "code",
   "execution_count": 133,
   "id": "00b89f54",
   "metadata": {},
   "outputs": [
    {
     "data": {
      "text/plain": [
       "set()"
      ]
     },
     "execution_count": 133,
     "metadata": {},
     "output_type": "execute_result"
    }
   ],
   "source": [
    "ss"
   ]
  },
  {
   "cell_type": "markdown",
   "id": "9003f08e",
   "metadata": {},
   "source": [
    "**Clear** removes all the element from Set"
   ]
  },
  {
   "cell_type": "code",
   "execution_count": 137,
   "id": "5926e122",
   "metadata": {},
   "outputs": [],
   "source": [
    "s1 = set(l)"
   ]
  },
  {
   "cell_type": "code",
   "execution_count": 138,
   "id": "19c009b2",
   "metadata": {},
   "outputs": [
    {
     "data": {
      "text/plain": [
       "{12, 124, 1243, 34, 35, 45, 67, 68, 'Bob', 'Sach', 'a', 'abc', 'sach', 'ss'}"
      ]
     },
     "execution_count": 138,
     "metadata": {},
     "output_type": "execute_result"
    }
   ],
   "source": [
    "s1"
   ]
  },
  {
   "cell_type": "code",
   "execution_count": 139,
   "id": "5ed8514c",
   "metadata": {},
   "outputs": [],
   "source": [
    "s2 = set()"
   ]
  },
  {
   "cell_type": "code",
   "execution_count": 140,
   "id": "a681d601",
   "metadata": {},
   "outputs": [],
   "source": [
    "s2.add(12)"
   ]
  },
  {
   "cell_type": "code",
   "execution_count": 141,
   "id": "52edfd67",
   "metadata": {},
   "outputs": [],
   "source": [
    "s2.add(\"ijk\")"
   ]
  },
  {
   "cell_type": "code",
   "execution_count": 142,
   "id": "b0f4ce92",
   "metadata": {},
   "outputs": [
    {
     "ename": "TypeError",
     "evalue": "unsupported operand type(s) for +: 'set' and 'set'",
     "output_type": "error",
     "traceback": [
      "\u001b[1;31m---------------------------------------------------------------------------\u001b[0m",
      "\u001b[1;31mTypeError\u001b[0m                                 Traceback (most recent call last)",
      "\u001b[1;32mC:\\Users\\ITDEPA~1\\AppData\\Local\\Temp/ipykernel_5288/1743780635.py\u001b[0m in \u001b[0;36m<module>\u001b[1;34m\u001b[0m\n\u001b[1;32m----> 1\u001b[1;33m \u001b[0ms1\u001b[0m \u001b[1;33m+\u001b[0m \u001b[0ms2\u001b[0m\u001b[1;33m\u001b[0m\u001b[1;33m\u001b[0m\u001b[0m\n\u001b[0m",
      "\u001b[1;31mTypeError\u001b[0m: unsupported operand type(s) for +: 'set' and 'set'"
     ]
    }
   ],
   "source": [
    "s1 + s2"
   ]
  },
  {
   "cell_type": "code",
   "execution_count": 143,
   "id": "6f8d24b4",
   "metadata": {},
   "outputs": [
    {
     "ename": "TypeError",
     "evalue": "unsupported operand type(s) for *: 'set' and 'int'",
     "output_type": "error",
     "traceback": [
      "\u001b[1;31m---------------------------------------------------------------------------\u001b[0m",
      "\u001b[1;31mTypeError\u001b[0m                                 Traceback (most recent call last)",
      "\u001b[1;32mC:\\Users\\ITDEPA~1\\AppData\\Local\\Temp/ipykernel_5288/1606297588.py\u001b[0m in \u001b[0;36m<module>\u001b[1;34m\u001b[0m\n\u001b[1;32m----> 1\u001b[1;33m \u001b[0ms2\u001b[0m \u001b[1;33m*\u001b[0m \u001b[1;36m4\u001b[0m\u001b[1;33m\u001b[0m\u001b[1;33m\u001b[0m\u001b[0m\n\u001b[0m",
      "\u001b[1;31mTypeError\u001b[0m: unsupported operand type(s) for *: 'set' and 'int'"
     ]
    }
   ],
   "source": [
    " s2 * 4"
   ]
  },
  {
   "cell_type": "markdown",
   "id": "76cd2308",
   "metadata": {},
   "source": [
    "Above operations are not allowed in Set"
   ]
  },
  {
   "cell_type": "markdown",
   "id": "dfa93292",
   "metadata": {},
   "source": [
    "#### To add Duplicate element convert Set data into List"
   ]
  },
  {
   "cell_type": "code",
   "execution_count": 149,
   "id": "f99b348a",
   "metadata": {},
   "outputs": [],
   "source": [
    "l4 = list(s2)"
   ]
  },
  {
   "cell_type": "code",
   "execution_count": 150,
   "id": "9d9e4cbd",
   "metadata": {},
   "outputs": [
    {
     "data": {
      "text/plain": [
       "['ijk', 12]"
      ]
     },
     "execution_count": 150,
     "metadata": {},
     "output_type": "execute_result"
    }
   ],
   "source": [
    "l4"
   ]
  },
  {
   "cell_type": "code",
   "execution_count": 151,
   "id": "56f1e24f",
   "metadata": {},
   "outputs": [],
   "source": [
    "l4.append(12)"
   ]
  },
  {
   "cell_type": "code",
   "execution_count": 152,
   "id": "d9283b1e",
   "metadata": {},
   "outputs": [],
   "source": [
    "l4.append(\"ijk\")"
   ]
  },
  {
   "cell_type": "code",
   "execution_count": 153,
   "id": "331b8efd",
   "metadata": {},
   "outputs": [
    {
     "data": {
      "text/plain": [
       "['ijk', 12, 12, 'ijk']"
      ]
     },
     "execution_count": 153,
     "metadata": {},
     "output_type": "execute_result"
    }
   ],
   "source": [
    "l4"
   ]
  },
  {
   "cell_type": "code",
   "execution_count": 154,
   "id": "905cb52e",
   "metadata": {},
   "outputs": [],
   "source": [
    "t4 = tuple(s2)"
   ]
  },
  {
   "cell_type": "code",
   "execution_count": 155,
   "id": "81277d22",
   "metadata": {},
   "outputs": [
    {
     "data": {
      "text/plain": [
       "('ijk', 12)"
      ]
     },
     "execution_count": 155,
     "metadata": {},
     "output_type": "execute_result"
    }
   ],
   "source": [
    "t4"
   ]
  },
  {
   "cell_type": "code",
   "execution_count": 156,
   "id": "0b059f52",
   "metadata": {},
   "outputs": [
    {
     "data": {
      "text/plain": [
       "{12, 'ijk'}"
      ]
     },
     "execution_count": 156,
     "metadata": {},
     "output_type": "execute_result"
    }
   ],
   "source": [
    "set(t4)"
   ]
  },
  {
   "cell_type": "markdown",
   "id": "f0c01bfc",
   "metadata": {},
   "source": [
    "## Dictionary\n",
    "\n",
    "Dictionary is a collection which holds the data in the form of Key-Value pair"
   ]
  },
  {
   "cell_type": "code",
   "execution_count": 161,
   "id": "6a4ab9df",
   "metadata": {},
   "outputs": [],
   "source": [
    "l = [] "
   ]
  },
  {
   "cell_type": "code",
   "execution_count": 162,
   "id": "1cd932f0",
   "metadata": {},
   "outputs": [
    {
     "data": {
      "text/plain": [
       "list"
      ]
     },
     "execution_count": 162,
     "metadata": {},
     "output_type": "execute_result"
    }
   ],
   "source": [
    "type(l)"
   ]
  },
  {
   "cell_type": "code",
   "execution_count": 163,
   "id": "7361bf90",
   "metadata": {},
   "outputs": [],
   "source": [
    "t = ()"
   ]
  },
  {
   "cell_type": "code",
   "execution_count": 164,
   "id": "82322f7e",
   "metadata": {},
   "outputs": [
    {
     "data": {
      "text/plain": [
       "tuple"
      ]
     },
     "execution_count": 164,
     "metadata": {},
     "output_type": "execute_result"
    }
   ],
   "source": [
    "type(t)"
   ]
  },
  {
   "cell_type": "code",
   "execution_count": 157,
   "id": "a8be74a0",
   "metadata": {},
   "outputs": [],
   "source": [
    "x = {}"
   ]
  },
  {
   "cell_type": "code",
   "execution_count": 158,
   "id": "a79952e4",
   "metadata": {},
   "outputs": [
    {
     "data": {
      "text/plain": [
       "dict"
      ]
     },
     "execution_count": 158,
     "metadata": {},
     "output_type": "execute_result"
    }
   ],
   "source": [
    "type(x)"
   ]
  },
  {
   "cell_type": "code",
   "execution_count": 159,
   "id": "8354830b",
   "metadata": {},
   "outputs": [],
   "source": [
    "x1 = {22,11}"
   ]
  },
  {
   "cell_type": "code",
   "execution_count": 160,
   "id": "8018d833",
   "metadata": {},
   "outputs": [
    {
     "data": {
      "text/plain": [
       "set"
      ]
     },
     "execution_count": 160,
     "metadata": {},
     "output_type": "execute_result"
    }
   ],
   "source": [
    "type(x1)"
   ]
  },
  {
   "cell_type": "code",
   "execution_count": 165,
   "id": "316f5bfb",
   "metadata": {},
   "outputs": [],
   "source": [
    "d = {\"name\":\"sach\", \"age\":40}"
   ]
  },
  {
   "cell_type": "code",
   "execution_count": 166,
   "id": "4fee1ee3",
   "metadata": {},
   "outputs": [
    {
     "data": {
      "text/plain": [
       "dict"
      ]
     },
     "execution_count": 166,
     "metadata": {},
     "output_type": "execute_result"
    }
   ],
   "source": [
    "type(d)"
   ]
  },
  {
   "cell_type": "code",
   "execution_count": 167,
   "id": "9b04dd64",
   "metadata": {},
   "outputs": [
    {
     "data": {
      "text/plain": [
       "{'name': 'sach', 'age': 40}"
      ]
     },
     "execution_count": 167,
     "metadata": {},
     "output_type": "execute_result"
    }
   ],
   "source": [
    "d"
   ]
  },
  {
   "cell_type": "code",
   "execution_count": 172,
   "id": "12eecde2",
   "metadata": {},
   "outputs": [],
   "source": [
    "d2 = {\"name\" : \"abc\", \"age\": 44,\"name\" : \"xyz\", True: \"adds\", \"key\": False, 2312:4545}"
   ]
  },
  {
   "cell_type": "code",
   "execution_count": 173,
   "id": "29bcb2b8",
   "metadata": {},
   "outputs": [
    {
     "data": {
      "text/plain": [
       "{'name': 'xyz', 'age': 44, True: 'adds', 'key': False, 2312: 4545}"
      ]
     },
     "execution_count": 173,
     "metadata": {},
     "output_type": "execute_result"
    }
   ],
   "source": [
    "d2"
   ]
  },
  {
   "cell_type": "markdown",
   "id": "46f7d400",
   "metadata": {},
   "source": [
    "We can take anything as key like String, boolean, integer. It can accept duplicate key (name) but keeps latest key-value (xyz) for duplicate key."
   ]
  },
  {
   "cell_type": "code",
   "execution_count": 174,
   "id": "a1d27a74",
   "metadata": {},
   "outputs": [],
   "source": [
    "d2 = {\"name\" : \"abc\", \"_age\": 44,\"name\" : \"xyz\", True: \"adds\", \"key\": False, 2312:4545}"
   ]
  },
  {
   "cell_type": "code",
   "execution_count": 175,
   "id": "6e002407",
   "metadata": {},
   "outputs": [
    {
     "ename": "NameError",
     "evalue": "name '_2312' is not defined",
     "output_type": "error",
     "traceback": [
      "\u001b[1;31m---------------------------------------------------------------------------\u001b[0m",
      "\u001b[1;31mNameError\u001b[0m                                 Traceback (most recent call last)",
      "\u001b[1;32mC:\\Users\\ITDEPA~1\\AppData\\Local\\Temp/ipykernel_5288/2464055532.py\u001b[0m in \u001b[0;36m<module>\u001b[1;34m\u001b[0m\n\u001b[1;32m----> 1\u001b[1;33m \u001b[0md2\u001b[0m \u001b[1;33m=\u001b[0m \u001b[1;33m{\u001b[0m\u001b[1;34m\"name\"\u001b[0m \u001b[1;33m:\u001b[0m \u001b[1;34m\"abc\"\u001b[0m\u001b[1;33m,\u001b[0m \u001b[1;34m\"age\"\u001b[0m\u001b[1;33m:\u001b[0m \u001b[1;36m44\u001b[0m\u001b[1;33m,\u001b[0m\u001b[1;34m\"name\"\u001b[0m \u001b[1;33m:\u001b[0m \u001b[1;34m\"xyz\"\u001b[0m\u001b[1;33m,\u001b[0m \u001b[1;32mTrue\u001b[0m\u001b[1;33m:\u001b[0m \u001b[1;34m\"adds\"\u001b[0m\u001b[1;33m,\u001b[0m \u001b[1;34m\"key\"\u001b[0m\u001b[1;33m:\u001b[0m \u001b[1;32mFalse\u001b[0m\u001b[1;33m,\u001b[0m \u001b[0m_2312\u001b[0m\u001b[1;33m:\u001b[0m\u001b[1;36m4545\u001b[0m\u001b[1;33m}\u001b[0m\u001b[1;33m\u001b[0m\u001b[1;33m\u001b[0m\u001b[0m\n\u001b[0m",
      "\u001b[1;31mNameError\u001b[0m: name '_2312' is not defined"
     ]
    }
   ],
   "source": [
    "d2 = {\"name\" : \"abc\", \"age\": 44,\"name\" : \"xyz\", True: \"adds\", \"key\": False, _2312:4545}"
   ]
  },
  {
   "cell_type": "code",
   "execution_count": 176,
   "id": "6cc66720",
   "metadata": {},
   "outputs": [
    {
     "ename": "TypeError",
     "evalue": "unhashable type: 'dict'",
     "output_type": "error",
     "traceback": [
      "\u001b[1;31m---------------------------------------------------------------------------\u001b[0m",
      "\u001b[1;31mTypeError\u001b[0m                                 Traceback (most recent call last)",
      "\u001b[1;32mC:\\Users\\ITDEPA~1\\AppData\\Local\\Temp/ipykernel_5288/1590700195.py\u001b[0m in \u001b[0;36m<module>\u001b[1;34m\u001b[0m\n\u001b[1;32m----> 1\u001b[1;33m \u001b[0md2\u001b[0m \u001b[1;33m=\u001b[0m \u001b[1;33m{\u001b[0m\u001b[1;34m\"name\"\u001b[0m \u001b[1;33m:\u001b[0m \u001b[1;34m\"abc\"\u001b[0m\u001b[1;33m,\u001b[0m \u001b[1;34m\"age\"\u001b[0m\u001b[1;33m:\u001b[0m \u001b[1;36m44\u001b[0m\u001b[1;33m,\u001b[0m\u001b[1;34m\"name\"\u001b[0m \u001b[1;33m:\u001b[0m \u001b[1;34m\"xyz\"\u001b[0m\u001b[1;33m,\u001b[0m \u001b[1;32mTrue\u001b[0m\u001b[1;33m:\u001b[0m \u001b[1;34m\"adds\"\u001b[0m\u001b[1;33m,\u001b[0m \u001b[1;34m\"key\"\u001b[0m\u001b[1;33m:\u001b[0m \u001b[1;32mFalse\u001b[0m\u001b[1;33m,\u001b[0m \u001b[0m_\u001b[0m\u001b[1;33m:\u001b[0m\u001b[1;36m4545\u001b[0m\u001b[1;33m}\u001b[0m\u001b[1;33m\u001b[0m\u001b[1;33m\u001b[0m\u001b[0m\n\u001b[0m",
      "\u001b[1;31mTypeError\u001b[0m: unhashable type: 'dict'"
     ]
    }
   ],
   "source": [
    "d2 = {\"name\" : \"abc\", \"age\": 44,\"name\" : \"xyz\", True: \"adds\", \"key\": False, _:4545}"
   ]
  },
  {
   "cell_type": "code",
   "execution_count": 177,
   "id": "c24255b8",
   "metadata": {},
   "outputs": [
    {
     "ename": "SyntaxError",
     "evalue": "invalid syntax (Temp/ipykernel_5288/255873381.py, line 1)",
     "output_type": "error",
     "traceback": [
      "\u001b[1;36m  File \u001b[1;32m\"C:\\Users\\ITDEPA~1\\AppData\\Local\\Temp/ipykernel_5288/255873381.py\"\u001b[1;36m, line \u001b[1;32m1\u001b[0m\n\u001b[1;33m    d2 = {\"name\" : \"abc\", \"age\": 44,\"name\" : \"xyz\", True: \"adds\", \"key\": False, %:4545}\u001b[0m\n\u001b[1;37m                                                                                ^\u001b[0m\n\u001b[1;31mSyntaxError\u001b[0m\u001b[1;31m:\u001b[0m invalid syntax\n"
     ]
    }
   ],
   "source": [
    "d2 = {\"name\" : \"abc\", \"age\": 44,\"name\" : \"xyz\", True: \"adds\", \"key\": False, %:4545}"
   ]
  },
  {
   "cell_type": "code",
   "execution_count": 181,
   "id": "9d925858",
   "metadata": {},
   "outputs": [],
   "source": [
    "d2 = {\"name\" : \"abc\", \"age\": 44,\"name\" : \"xyz\", True: \"adds\", \"key\": False, 2312:[12.23,123,\"sac\"]}"
   ]
  },
  {
   "cell_type": "code",
   "execution_count": 182,
   "id": "b1253a42",
   "metadata": {},
   "outputs": [],
   "source": [
    "d2 = {\"name\" : \"abc\", \"age\": (44,33,\"qwerty\"),\"name\" : \"xyz\", True: \"adds\", \"key\": False, 2312:[12.23,123,\"sac\"]}"
   ]
  },
  {
   "cell_type": "code",
   "execution_count": 183,
   "id": "b2ec5897",
   "metadata": {},
   "outputs": [],
   "source": [
    "d2 = {\"name\" : \"abc\", \"age\": (44,33,\"qwerty\"),\"set\" : {12,34,56,\"asdf\"}, True: \"adds\", \"key\": False, 2312:[12.23,123,\"sac\"]}"
   ]
  },
  {
   "cell_type": "markdown",
   "id": "b6fd8ed3",
   "metadata": {},
   "source": [
    "#### As Value String, Ineger, Float, Boolean, List, Tuple, Set and another dictionary are possible"
   ]
  },
  {
   "cell_type": "code",
   "execution_count": 185,
   "id": "3aaea099",
   "metadata": {},
   "outputs": [],
   "source": [
    "d2 = {\"name\" : \"abc\", \"age\":45, \"tuple\": (44,33,\"qwerty\"), \"set\" : {12,34,56,\"asdf\"}, \"list\": [\"adds\",78,90], \"dict\":{\"a\":1,\"b\":2,\"c\":3}, 2312:True, False: 222}"
   ]
  },
  {
   "cell_type": "markdown",
   "id": "dbafd203",
   "metadata": {},
   "source": [
    "#### As Key which types are allowed and which are not; showing as follows:"
   ]
  },
  {
   "cell_type": "markdown",
   "id": "7f8c550e",
   "metadata": {},
   "source": [
    "List as Key"
   ]
  },
  {
   "cell_type": "code",
   "execution_count": 186,
   "id": "df27746b",
   "metadata": {},
   "outputs": [
    {
     "ename": "TypeError",
     "evalue": "unhashable type: 'list'",
     "output_type": "error",
     "traceback": [
      "\u001b[1;31m---------------------------------------------------------------------------\u001b[0m",
      "\u001b[1;31mTypeError\u001b[0m                                 Traceback (most recent call last)",
      "\u001b[1;32mC:\\Users\\ITDEPA~1\\AppData\\Local\\Temp/ipykernel_5288/2094973399.py\u001b[0m in \u001b[0;36m<module>\u001b[1;34m\u001b[0m\n\u001b[1;32m----> 1\u001b[1;33m \u001b[0mx4\u001b[0m \u001b[1;33m=\u001b[0m \u001b[1;33m{\u001b[0m\u001b[1;33m[\u001b[0m\u001b[1;36m2\u001b[0m\u001b[1;33m,\u001b[0m\u001b[1;36m3\u001b[0m\u001b[1;33m,\u001b[0m\u001b[1;36m4\u001b[0m\u001b[1;33m,\u001b[0m\u001b[1;36m4\u001b[0m\u001b[1;33m]\u001b[0m\u001b[1;33m:\u001b[0m\u001b[1;34m\"abc\"\u001b[0m\u001b[1;33m,\u001b[0m \u001b[1;34m\"key\"\u001b[0m\u001b[1;33m:\u001b[0m \u001b[1;33m[\u001b[0m\u001b[1;36m12\u001b[0m\u001b[1;33m,\u001b[0m\u001b[1;36m23\u001b[0m\u001b[1;33m,\u001b[0m\u001b[1;36m34\u001b[0m\u001b[1;33m]\u001b[0m\u001b[1;33m}\u001b[0m\u001b[1;33m\u001b[0m\u001b[1;33m\u001b[0m\u001b[0m\n\u001b[0m",
      "\u001b[1;31mTypeError\u001b[0m: unhashable type: 'list'"
     ]
    }
   ],
   "source": [
    "x4 = {[2,3,4,4]:\"abc\", \"key\": [12,23,34]}"
   ]
  },
  {
   "cell_type": "markdown",
   "id": "0793638c",
   "metadata": {},
   "source": [
    "Tuple as Key"
   ]
  },
  {
   "cell_type": "code",
   "execution_count": 187,
   "id": "f9d2262b",
   "metadata": {},
   "outputs": [],
   "source": [
    "x5 = {(2,3,4,4):\"abc\", \"key\": [12,23,34]}"
   ]
  },
  {
   "cell_type": "markdown",
   "id": "5f3ac885",
   "metadata": {},
   "source": [
    "Set as Key"
   ]
  },
  {
   "cell_type": "code",
   "execution_count": 188,
   "id": "dbdc9db5",
   "metadata": {},
   "outputs": [
    {
     "ename": "TypeError",
     "evalue": "unhashable type: 'set'",
     "output_type": "error",
     "traceback": [
      "\u001b[1;31m---------------------------------------------------------------------------\u001b[0m",
      "\u001b[1;31mTypeError\u001b[0m                                 Traceback (most recent call last)",
      "\u001b[1;32mC:\\Users\\ITDEPA~1\\AppData\\Local\\Temp/ipykernel_5288/959205067.py\u001b[0m in \u001b[0;36m<module>\u001b[1;34m\u001b[0m\n\u001b[1;32m----> 1\u001b[1;33m \u001b[0mx5\u001b[0m \u001b[1;33m=\u001b[0m \u001b[1;33m{\u001b[0m\u001b[1;33m{\u001b[0m\u001b[1;36m2\u001b[0m\u001b[1;33m,\u001b[0m\u001b[1;36m3\u001b[0m\u001b[1;33m,\u001b[0m\u001b[1;36m4\u001b[0m\u001b[1;33m,\u001b[0m\u001b[1;36m4\u001b[0m\u001b[1;33m}\u001b[0m\u001b[1;33m:\u001b[0m\u001b[1;34m\"abc\"\u001b[0m\u001b[1;33m,\u001b[0m \u001b[1;34m\"key\"\u001b[0m\u001b[1;33m:\u001b[0m \u001b[1;33m[\u001b[0m\u001b[1;36m12\u001b[0m\u001b[1;33m,\u001b[0m\u001b[1;36m23\u001b[0m\u001b[1;33m,\u001b[0m\u001b[1;36m34\u001b[0m\u001b[1;33m]\u001b[0m\u001b[1;33m}\u001b[0m\u001b[1;33m\u001b[0m\u001b[1;33m\u001b[0m\u001b[0m\n\u001b[0m",
      "\u001b[1;31mTypeError\u001b[0m: unhashable type: 'set'"
     ]
    }
   ],
   "source": [
    "x5 = {{2,3,4,4}:\"abc\", \"key\": [12,23,34]}"
   ]
  },
  {
   "cell_type": "markdown",
   "id": "9e0c4f93",
   "metadata": {},
   "source": [
    "dict as Key"
   ]
  },
  {
   "cell_type": "code",
   "execution_count": 189,
   "id": "d6587389",
   "metadata": {},
   "outputs": [
    {
     "ename": "TypeError",
     "evalue": "unhashable type: 'dict'",
     "output_type": "error",
     "traceback": [
      "\u001b[1;31m---------------------------------------------------------------------------\u001b[0m",
      "\u001b[1;31mTypeError\u001b[0m                                 Traceback (most recent call last)",
      "\u001b[1;32mC:\\Users\\ITDEPA~1\\AppData\\Local\\Temp/ipykernel_5288/3771445353.py\u001b[0m in \u001b[0;36m<module>\u001b[1;34m\u001b[0m\n\u001b[1;32m----> 1\u001b[1;33m \u001b[0mx5\u001b[0m \u001b[1;33m=\u001b[0m \u001b[1;33m{\u001b[0m\u001b[1;33m{\u001b[0m\u001b[1;34m\"a\"\u001b[0m\u001b[1;33m:\u001b[0m\u001b[1;36m1\u001b[0m\u001b[1;33m,\u001b[0m\u001b[1;34m'b'\u001b[0m\u001b[1;33m:\u001b[0m\u001b[1;36m2\u001b[0m\u001b[1;33m}\u001b[0m\u001b[1;33m:\u001b[0m\u001b[1;34m\"abc\"\u001b[0m\u001b[1;33m,\u001b[0m \u001b[1;34m\"key\"\u001b[0m\u001b[1;33m:\u001b[0m \u001b[1;33m[\u001b[0m\u001b[1;36m12\u001b[0m\u001b[1;33m,\u001b[0m\u001b[1;36m23\u001b[0m\u001b[1;33m,\u001b[0m\u001b[1;36m34\u001b[0m\u001b[1;33m]\u001b[0m\u001b[1;33m}\u001b[0m\u001b[1;33m\u001b[0m\u001b[1;33m\u001b[0m\u001b[0m\n\u001b[0m",
      "\u001b[1;31mTypeError\u001b[0m: unhashable type: 'dict'"
     ]
    }
   ],
   "source": [
    "x5 = {{\"a\":1,'b':2}:\"abc\", \"key\": [12,23,34]}"
   ]
  },
  {
   "cell_type": "markdown",
   "id": "18773b34",
   "metadata": {},
   "source": [
    "#### Data Access"
   ]
  },
  {
   "cell_type": "code",
   "execution_count": 205,
   "id": "82096699",
   "metadata": {},
   "outputs": [],
   "source": [
    "d3 = {\"name\" : \"abc\", \"age\":45, \"tuple\": (44,33,\"qwerty\"), \"set\" : {12,34,56,\"asdf\"}, \"list\": [\"adds\",78,90], \"dict\":{\"a\":1,\"b\":2,\"c\":[11,22,33]}, 2312:True, False: 222}"
   ]
  },
  {
   "cell_type": "code",
   "execution_count": 206,
   "id": "901738e9",
   "metadata": {},
   "outputs": [
    {
     "data": {
      "text/plain": [
       "'abc'"
      ]
     },
     "execution_count": 206,
     "metadata": {},
     "output_type": "execute_result"
    }
   ],
   "source": [
    "d3[\"name\"]"
   ]
  },
  {
   "cell_type": "code",
   "execution_count": 207,
   "id": "e0632d9f",
   "metadata": {},
   "outputs": [
    {
     "data": {
      "text/plain": [
       "45"
      ]
     },
     "execution_count": 207,
     "metadata": {},
     "output_type": "execute_result"
    }
   ],
   "source": [
    "d3[\"age\"]"
   ]
  },
  {
   "cell_type": "code",
   "execution_count": 208,
   "id": "8a71c375",
   "metadata": {},
   "outputs": [
    {
     "data": {
      "text/plain": [
       "True"
      ]
     },
     "execution_count": 208,
     "metadata": {},
     "output_type": "execute_result"
    }
   ],
   "source": [
    "d3[2312]"
   ]
  },
  {
   "cell_type": "code",
   "execution_count": 209,
   "id": "2b7a4973",
   "metadata": {},
   "outputs": [
    {
     "data": {
      "text/plain": [
       "222"
      ]
     },
     "execution_count": 209,
     "metadata": {},
     "output_type": "execute_result"
    }
   ],
   "source": [
    "d3[False]"
   ]
  },
  {
   "cell_type": "code",
   "execution_count": 210,
   "id": "55c72b99",
   "metadata": {},
   "outputs": [
    {
     "data": {
      "text/plain": [
       "['adds', 78, 90]"
      ]
     },
     "execution_count": 210,
     "metadata": {},
     "output_type": "execute_result"
    }
   ],
   "source": [
    "d3[\"list\"]"
   ]
  },
  {
   "cell_type": "code",
   "execution_count": 211,
   "id": "eab4001e",
   "metadata": {},
   "outputs": [
    {
     "data": {
      "text/plain": [
       "{'name': 'abc',\n",
       " 'age': 45,\n",
       " 'tuple': (44, 33, 'qwerty'),\n",
       " 'set': {12, 34, 56, 'asdf'},\n",
       " 'list': ['adds', 78, 90],\n",
       " 'dict': {'a': 1, 'b': 2, 'c': [11, 22, 33]},\n",
       " 2312: True,\n",
       " False: 222}"
      ]
     },
     "execution_count": 211,
     "metadata": {},
     "output_type": "execute_result"
    }
   ],
   "source": [
    "d3"
   ]
  },
  {
   "cell_type": "code",
   "execution_count": 212,
   "id": "4c9de098",
   "metadata": {},
   "outputs": [
    {
     "data": {
      "text/plain": [
       "['adds', 78, 90]"
      ]
     },
     "execution_count": 212,
     "metadata": {},
     "output_type": "execute_result"
    }
   ],
   "source": [
    "d3[\"list\"]"
   ]
  },
  {
   "cell_type": "code",
   "execution_count": 213,
   "id": "05f45814",
   "metadata": {},
   "outputs": [
    {
     "data": {
      "text/plain": [
       "78"
      ]
     },
     "execution_count": 213,
     "metadata": {},
     "output_type": "execute_result"
    }
   ],
   "source": [
    "d3[\"list\"][1]"
   ]
  },
  {
   "cell_type": "code",
   "execution_count": 214,
   "id": "a8086293",
   "metadata": {},
   "outputs": [
    {
     "data": {
      "text/plain": [
       "{'a': 1, 'b': 2, 'c': [11, 22, 33]}"
      ]
     },
     "execution_count": 214,
     "metadata": {},
     "output_type": "execute_result"
    }
   ],
   "source": [
    " d3[\"dict\"]"
   ]
  },
  {
   "cell_type": "code",
   "execution_count": 216,
   "id": "ab5c0ffe",
   "metadata": {},
   "outputs": [
    {
     "data": {
      "text/plain": [
       "[11, 22, 33]"
      ]
     },
     "execution_count": 216,
     "metadata": {},
     "output_type": "execute_result"
    }
   ],
   "source": [
    " d3[\"dict\"][\"c\"]"
   ]
  },
  {
   "cell_type": "code",
   "execution_count": 217,
   "id": "856a3f0b",
   "metadata": {},
   "outputs": [
    {
     "data": {
      "text/plain": [
       "22"
      ]
     },
     "execution_count": 217,
     "metadata": {},
     "output_type": "execute_result"
    }
   ],
   "source": [
    " d3[\"dict\"][\"c\"][1]"
   ]
  },
  {
   "cell_type": "code",
   "execution_count": 218,
   "id": "1a6c6fcb",
   "metadata": {},
   "outputs": [
    {
     "ename": "TypeError",
     "evalue": "unsupported operand type(s) for +: 'dict' and 'dict'",
     "output_type": "error",
     "traceback": [
      "\u001b[1;31m---------------------------------------------------------------------------\u001b[0m",
      "\u001b[1;31mTypeError\u001b[0m                                 Traceback (most recent call last)",
      "\u001b[1;32mC:\\Users\\ITDEPA~1\\AppData\\Local\\Temp/ipykernel_5288/2884743602.py\u001b[0m in \u001b[0;36m<module>\u001b[1;34m\u001b[0m\n\u001b[1;32m----> 1\u001b[1;33m \u001b[0md2\u001b[0m\u001b[1;33m+\u001b[0m\u001b[0md3\u001b[0m\u001b[1;33m\u001b[0m\u001b[1;33m\u001b[0m\u001b[0m\n\u001b[0m",
      "\u001b[1;31mTypeError\u001b[0m: unsupported operand type(s) for +: 'dict' and 'dict'"
     ]
    }
   ],
   "source": [
    "d2+d3"
   ]
  },
  {
   "cell_type": "code",
   "execution_count": 219,
   "id": "4009ea62",
   "metadata": {},
   "outputs": [
    {
     "ename": "TypeError",
     "evalue": "unsupported operand type(s) for *: 'dict' and 'int'",
     "output_type": "error",
     "traceback": [
      "\u001b[1;31m---------------------------------------------------------------------------\u001b[0m",
      "\u001b[1;31mTypeError\u001b[0m                                 Traceback (most recent call last)",
      "\u001b[1;32mC:\\Users\\ITDEPA~1\\AppData\\Local\\Temp/ipykernel_5288/2058004066.py\u001b[0m in \u001b[0;36m<module>\u001b[1;34m\u001b[0m\n\u001b[1;32m----> 1\u001b[1;33m \u001b[0md3\u001b[0m\u001b[1;33m*\u001b[0m\u001b[1;36m3\u001b[0m\u001b[1;33m\u001b[0m\u001b[1;33m\u001b[0m\u001b[0m\n\u001b[0m",
      "\u001b[1;31mTypeError\u001b[0m: unsupported operand type(s) for *: 'dict' and 'int'"
     ]
    }
   ],
   "source": [
    "d3*3"
   ]
  },
  {
   "cell_type": "code",
   "execution_count": 220,
   "id": "c37da757",
   "metadata": {},
   "outputs": [
    {
     "data": {
      "text/plain": [
       "{'name': 'abc',\n",
       " 'age': 45,\n",
       " 'tuple': (44, 33, 'qwerty'),\n",
       " 'set': {12, 34, 56, 'asdf'},\n",
       " 'list': ['adds', 78, 90],\n",
       " 'dict': {'a': 1, 'b': 2, 'c': [11, 22, 33]},\n",
       " 2312: True,\n",
       " False: 222}"
      ]
     },
     "execution_count": 220,
     "metadata": {},
     "output_type": "execute_result"
    }
   ],
   "source": [
    "d3"
   ]
  },
  {
   "cell_type": "code",
   "execution_count": 221,
   "id": "0eadde3d",
   "metadata": {},
   "outputs": [],
   "source": [
    "d3['age']=60"
   ]
  },
  {
   "cell_type": "code",
   "execution_count": 222,
   "id": "6df3b892",
   "metadata": {},
   "outputs": [
    {
     "data": {
      "text/plain": [
       "{'name': 'abc',\n",
       " 'age': 60,\n",
       " 'tuple': (44, 33, 'qwerty'),\n",
       " 'set': {12, 34, 56, 'asdf'},\n",
       " 'list': ['adds', 78, 90],\n",
       " 'dict': {'a': 1, 'b': 2, 'c': [11, 22, 33]},\n",
       " 2312: True,\n",
       " False: 222}"
      ]
     },
     "execution_count": 222,
     "metadata": {},
     "output_type": "execute_result"
    }
   ],
   "source": [
    "d3"
   ]
  },
  {
   "cell_type": "code",
   "execution_count": 223,
   "id": "5a0063bc",
   "metadata": {},
   "outputs": [],
   "source": [
    "d3['age']-=10"
   ]
  },
  {
   "cell_type": "code",
   "execution_count": 224,
   "id": "91f89f6b",
   "metadata": {},
   "outputs": [
    {
     "data": {
      "text/plain": [
       "{'name': 'abc',\n",
       " 'age': 50,\n",
       " 'tuple': (44, 33, 'qwerty'),\n",
       " 'set': {12, 34, 56, 'asdf'},\n",
       " 'list': ['adds', 78, 90],\n",
       " 'dict': {'a': 1, 'b': 2, 'c': [11, 22, 33]},\n",
       " 2312: True,\n",
       " False: 222}"
      ]
     },
     "execution_count": 224,
     "metadata": {},
     "output_type": "execute_result"
    }
   ],
   "source": [
    "d3"
   ]
  },
  {
   "cell_type": "code",
   "execution_count": 225,
   "id": "d5970f41",
   "metadata": {},
   "outputs": [
    {
     "data": {
      "text/plain": [
       "dict_keys(['name', 'age', 'tuple', 'set', 'list', 'dict', 2312, False])"
      ]
     },
     "execution_count": 225,
     "metadata": {},
     "output_type": "execute_result"
    }
   ],
   "source": [
    "d3.keys()"
   ]
  },
  {
   "cell_type": "code",
   "execution_count": 226,
   "id": "a3af6650",
   "metadata": {},
   "outputs": [
    {
     "data": {
      "text/plain": [
       "True"
      ]
     },
     "execution_count": 226,
     "metadata": {},
     "output_type": "execute_result"
    }
   ],
   "source": [
    "\"age\" in d3.keys()"
   ]
  },
  {
   "cell_type": "code",
   "execution_count": 227,
   "id": "bec35645",
   "metadata": {},
   "outputs": [
    {
     "name": "stdout",
     "output_type": "stream",
     "text": [
      "name\n",
      "age\n",
      "tuple\n",
      "set\n",
      "list\n",
      "dict\n",
      "2312\n",
      "False\n"
     ]
    }
   ],
   "source": [
    "for i in d3.keys():\n",
    "    print(i)"
   ]
  },
  {
   "cell_type": "code",
   "execution_count": 228,
   "id": "dc0856ce",
   "metadata": {},
   "outputs": [
    {
     "name": "stdout",
     "output_type": "stream",
     "text": [
      "abc\n",
      "50\n",
      "(44, 33, 'qwerty')\n",
      "{56, 34, 12, 'asdf'}\n",
      "['adds', 78, 90]\n",
      "{'a': 1, 'b': 2, 'c': [11, 22, 33]}\n",
      "True\n",
      "222\n"
     ]
    }
   ],
   "source": [
    "for i in d3.keys():\n",
    "    print(d3[i])"
   ]
  },
  {
   "cell_type": "code",
   "execution_count": 230,
   "id": "072699f7",
   "metadata": {},
   "outputs": [
    {
     "name": "stdout",
     "output_type": "stream",
     "text": [
      "<class 'str'>\n",
      "<class 'int'>\n",
      "<class 'tuple'>\n",
      "<class 'set'>\n",
      "<class 'list'>\n",
      "<class 'dict'>\n",
      "<class 'bool'>\n",
      "<class 'int'>\n"
     ]
    }
   ],
   "source": [
    "for i in d3.keys():\n",
    "    print(type(d3[i]))"
   ]
  },
  {
   "cell_type": "code",
   "execution_count": 232,
   "id": "ea83f815",
   "metadata": {},
   "outputs": [
    {
     "data": {
      "text/plain": [
       "dict_items([('name', 'abc'), ('age', 50), ('tuple', (44, 33, 'qwerty')), ('set', {56, 34, 12, 'asdf'}), ('list', ['adds', 78, 90]), ('dict', {'a': 1, 'b': 2, 'c': [11, 22, 33]}), (2312, True), (False, 222)])"
      ]
     },
     "execution_count": 232,
     "metadata": {},
     "output_type": "execute_result"
    }
   ],
   "source": [
    "d3.items()"
   ]
  },
  {
   "cell_type": "code",
   "execution_count": 233,
   "id": "a3bae045",
   "metadata": {},
   "outputs": [
    {
     "name": "stdout",
     "output_type": "stream",
     "text": [
      "('name', 'abc')\n",
      "('age', 50)\n",
      "('tuple', (44, 33, 'qwerty'))\n",
      "('set', {56, 34, 12, 'asdf'})\n",
      "('list', ['adds', 78, 90])\n",
      "('dict', {'a': 1, 'b': 2, 'c': [11, 22, 33]})\n",
      "(2312, True)\n",
      "(False, 222)\n"
     ]
    }
   ],
   "source": [
    "for i in d3.items():\n",
    "    print(i)"
   ]
  },
  {
   "cell_type": "code",
   "execution_count": 234,
   "id": "9965f0de",
   "metadata": {},
   "outputs": [
    {
     "name": "stdout",
     "output_type": "stream",
     "text": [
      "name\n",
      "age\n",
      "tuple\n",
      "set\n",
      "list\n",
      "dict\n",
      "2312\n",
      "False\n"
     ]
    }
   ],
   "source": [
    "for i in d3.items():\n",
    "    print(i[0])"
   ]
  },
  {
   "cell_type": "code",
   "execution_count": 235,
   "id": "a4791b19",
   "metadata": {},
   "outputs": [
    {
     "name": "stdout",
     "output_type": "stream",
     "text": [
      "abc\n",
      "50\n",
      "(44, 33, 'qwerty')\n",
      "{56, 34, 12, 'asdf'}\n",
      "['adds', 78, 90]\n",
      "{'a': 1, 'b': 2, 'c': [11, 22, 33]}\n",
      "True\n",
      "222\n"
     ]
    }
   ],
   "source": [
    "for i in d3.items():\n",
    "    print(i[1])"
   ]
  },
  {
   "cell_type": "code",
   "execution_count": 236,
   "id": "10143096",
   "metadata": {},
   "outputs": [],
   "source": [
    "d4 = {(1,2,3):\"asdf;lkj\"}"
   ]
  },
  {
   "cell_type": "code",
   "execution_count": 237,
   "id": "e1508e5a",
   "metadata": {},
   "outputs": [
    {
     "data": {
      "text/plain": [
       "'asdf;lkj'"
      ]
     },
     "execution_count": 237,
     "metadata": {},
     "output_type": "execute_result"
    }
   ],
   "source": [
    "d4[(1,2,3)]"
   ]
  },
  {
   "cell_type": "code",
   "execution_count": 238,
   "id": "7a4dc923",
   "metadata": {},
   "outputs": [
    {
     "data": {
      "text/plain": [
       "8"
      ]
     },
     "execution_count": 238,
     "metadata": {},
     "output_type": "execute_result"
    }
   ],
   "source": [
    "len(d3)"
   ]
  },
  {
   "cell_type": "code",
   "execution_count": 239,
   "id": "b010f916",
   "metadata": {},
   "outputs": [
    {
     "data": {
      "text/plain": [
       "1"
      ]
     },
     "execution_count": 239,
     "metadata": {},
     "output_type": "execute_result"
    }
   ],
   "source": [
    "len(d4)"
   ]
  },
  {
   "cell_type": "markdown",
   "id": "0731e5f5",
   "metadata": {},
   "source": [
    "### Exercise 1:\n",
    "\n",
    "0. Take input as a paragraph by using input function\n",
    "1. convert all of this input into list of words\n",
    "2. Remove all the duplicate element from your list\n",
    "3. use above distinct elements as a key for dictionary and assign your name as a value to all the keys for dictionary\n",
    "4. Try to print tuple of all the values\n",
    "5. Try to print list of all the keys"
   ]
  },
  {
   "cell_type": "code",
   "execution_count": 295,
   "id": "91f67cee",
   "metadata": {},
   "outputs": [
    {
     "name": "stdout",
     "output_type": "stream",
     "text": [
      "\n",
      "List:\n",
      "\n",
      "['A', 'computer', 'is', 'a', 'machine', 'that', 'can', 'be', 'programmed', 'to', 'carry', 'out', 'sequences', 'of', 'arithmetic', 'or', 'logical', 'operations', 'automatically.', 'Modern', 'computers', 'can', 'perform', 'generic', 'sets', 'of', 'operations', 'known', 'as', 'programs.', 'These', 'programs', 'enable', 'computers', 'to', 'perform', 'a', 'wide', 'range', 'of', 'tasks.']\n",
      "\n",
      "Set:\n",
      "\n",
      "{'is', 'that', 'or', 'programs.', 'programmed', 'generic', 'A', 'can', 'tasks.', 'range', 'a', 'be', 'computers', 'These', 'as', 'wide', 'sets', 'perform', 'computer', 'automatically.', 'known', 'logical', 'enable', 'arithmetic', 'out', 'sequences', 'of', 'carry', 'to', 'operations', 'machine', 'Modern', 'programs'}\n",
      "\n",
      "Dictionary:\n",
      "\n",
      "{'is': 'sachin', 'that': 'sachin', 'or': 'sachin', 'programs.': 'sachin', 'programmed': 'sachin', 'generic': 'sachin', 'A': 'sachin', 'can': 'sachin', 'tasks.': 'sachin', 'range': 'sachin', 'a': 'sachin', 'be': 'sachin', 'computers': 'sachin', 'These': 'sachin', 'as': 'sachin', 'wide': 'sachin', 'sets': 'sachin', 'perform': 'sachin', 'computer': 'sachin', 'automatically.': 'sachin', 'known': 'sachin', 'logical': 'sachin', 'enable': 'sachin', 'arithmetic': 'sachin', 'out': 'sachin', 'sequences': 'sachin', 'of': 'sachin', 'carry': 'sachin', 'to': 'sachin', 'operations': 'sachin', 'machine': 'sachin', 'Modern': 'sachin', 'programs': 'sachin'}\n",
      "\n",
      "All Values:\n",
      "\n",
      "('sachin', 'sachin', 'sachin', 'sachin', 'sachin', 'sachin', 'sachin', 'sachin', 'sachin', 'sachin', 'sachin', 'sachin', 'sachin', 'sachin', 'sachin', 'sachin', 'sachin', 'sachin', 'sachin', 'sachin', 'sachin', 'sachin', 'sachin', 'sachin', 'sachin', 'sachin', 'sachin', 'sachin', 'sachin', 'sachin', 'sachin', 'sachin', 'sachin')\n",
      "\n",
      "All Keys:\n",
      "\n",
      "['is', 'that', 'or', 'programs.', 'programmed', 'generic', 'A', 'can', 'tasks.', 'range', 'a', 'be', 'computers', 'These', 'as', 'wide', 'sets', 'perform', 'computer', 'automatically.', 'known', 'logical', 'enable', 'arithmetic', 'out', 'sequences', 'of', 'carry', 'to', 'operations', 'machine', 'Modern', 'programs']\n"
     ]
    }
   ],
   "source": [
    "# 0. \n",
    "\n",
    "a = \"A computer is a machine that can be programmed to carry out sequences of arithmetic or logical operations automatically. Modern computers can perform generic sets of operations known as programs. These programs enable computers to perform a wide range of tasks.\"\n",
    "#a = input(\"Enter your data\")\n",
    " \n",
    "# 1.\n",
    "\n",
    "l = a.split()\n",
    "print(\"\\nList:\\n\")\n",
    "print(l)\n",
    "len(l)\n",
    "\n",
    "# 2.\n",
    "\n",
    "s = set(l)\n",
    "print(\"\\nSet:\\n\")\n",
    "print(s)\n",
    "len(s)\n",
    "\n",
    "# 3.\n",
    "\n",
    "d = {}\n",
    "\n",
    "for i in s:\n",
    "    d[i] = \"sachin\"\n",
    "\n",
    "print(\"\\nDictionary:\\n\")\n",
    "print(d)\n",
    "\n",
    "# 4.\n",
    "\n",
    "print(\"\\nAll Values:\\n\")\n",
    "\n",
    "\"\"\"for i in d.values():\n",
    "    print(i)\n",
    "\"\"\"\n",
    "\n",
    "print(tuple(d.values()))\n",
    "\n",
    "# 5.\n",
    "\n",
    "print(\"\\nAll Keys:\\n\")\n",
    "\n",
    "\"\"\"for i in d.keys():\n",
    "    print(i)\n",
    "\"\"\"\n",
    "\n",
    "print(list(d.keys()))"
   ]
  },
  {
   "cell_type": "markdown",
   "id": "84dfff8a",
   "metadata": {},
   "source": [
    "### Exercise 2:"
   ]
  },
  {
   "cell_type": "code",
   "execution_count": 296,
   "id": "acbe9f3a",
   "metadata": {},
   "outputs": [],
   "source": [
    "d = {\"name\":\"Sachin\", \"place\": \"Navi Mumbai\", \"year\": 2016}"
   ]
  },
  {
   "cell_type": "code",
   "execution_count": 298,
   "id": "c03098b3",
   "metadata": {},
   "outputs": [
    {
     "data": {
      "text/plain": [
       "True"
      ]
     },
     "execution_count": 298,
     "metadata": {},
     "output_type": "execute_result"
    }
   ],
   "source": [
    "\"place\" in d"
   ]
  },
  {
   "cell_type": "code",
   "execution_count": 299,
   "id": "8d417f79",
   "metadata": {},
   "outputs": [
    {
     "name": "stdout",
     "output_type": "stream",
     "text": [
      "Key:  name ; Value:  Sachin\n",
      "Key:  place ; Value:  Navi Mumbai\n",
      "Key:  year ; Value:  2016\n"
     ]
    }
   ],
   "source": [
    "for i in d:\n",
    "    print(\"Key: \", i, \";\", \"Value: \", d[i])"
   ]
  },
  {
   "cell_type": "code",
   "execution_count": 301,
   "id": "b318553f",
   "metadata": {},
   "outputs": [],
   "source": [
    "for i in d:\n",
    "    if i == \"year\":\n",
    "        if d[i] > 2020:\n",
    "            print(\"year is fine\")\n",
    "        else:\n",
    "            d[i] = 2021"
   ]
  },
  {
   "cell_type": "code",
   "execution_count": 302,
   "id": "c2863720",
   "metadata": {
    "scrolled": true
   },
   "outputs": [
    {
     "data": {
      "text/plain": [
       "{'name': 'Sachin', 'place': 'Navi Mumbai', 'year': 2021}"
      ]
     },
     "execution_count": 302,
     "metadata": {},
     "output_type": "execute_result"
    }
   ],
   "source": [
    "d"
   ]
  },
  {
   "cell_type": "markdown",
   "id": "a750c5be",
   "metadata": {},
   "source": [
    "#### Dictionary Comprehension "
   ]
  },
  {
   "cell_type": "markdown",
   "id": "8ab3cc02",
   "metadata": {},
   "source": [
    "Program: Key is sequential number and value should be power of key."
   ]
  },
  {
   "cell_type": "code",
   "execution_count": 303,
   "id": "7d433dac",
   "metadata": {},
   "outputs": [],
   "source": [
    "dd = {}\n",
    "for i in range(10):\n",
    "    dd[i] = i*i"
   ]
  },
  {
   "cell_type": "code",
   "execution_count": 304,
   "id": "03373295",
   "metadata": {},
   "outputs": [
    {
     "data": {
      "text/plain": [
       "{0: 0, 1: 1, 2: 4, 3: 9, 4: 16, 5: 25, 6: 36, 7: 49, 8: 64, 9: 81}"
      ]
     },
     "execution_count": 304,
     "metadata": {},
     "output_type": "execute_result"
    }
   ],
   "source": [
    "dd"
   ]
  },
  {
   "cell_type": "code",
   "execution_count": 305,
   "id": "d996f65f",
   "metadata": {},
   "outputs": [
    {
     "data": {
      "text/plain": [
       "{0: 0, 1: 1, 2: 4, 3: 9, 4: 16, 5: 25, 6: 36, 7: 49, 8: 64, 9: 81}"
      ]
     },
     "execution_count": 305,
     "metadata": {},
     "output_type": "execute_result"
    }
   ],
   "source": [
    "{i:i*i for i in range(10)}"
   ]
  },
  {
   "cell_type": "code",
   "execution_count": null,
   "id": "0e48e784",
   "metadata": {},
   "outputs": [],
   "source": []
  }
 ],
 "metadata": {
  "kernelspec": {
   "display_name": "Python 3 (ipykernel)",
   "language": "python",
   "name": "python3"
  },
  "language_info": {
   "codemirror_mode": {
    "name": "ipython",
    "version": 3
   },
   "file_extension": ".py",
   "mimetype": "text/x-python",
   "name": "python",
   "nbconvert_exporter": "python",
   "pygments_lexer": "ipython3",
   "version": "3.9.7"
  }
 },
 "nbformat": 4,
 "nbformat_minor": 5
}
