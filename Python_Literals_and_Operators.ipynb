{
 "cells": [
  {
   "cell_type": "markdown",
   "id": "f20c3541",
   "metadata": {},
   "source": [
    "# Literals"
   ]
  },
  {
   "cell_type": "code",
   "execution_count": 2,
   "id": "0934b899",
   "metadata": {},
   "outputs": [],
   "source": [
    "text1 = 'hello\\\n",
    "user'"
   ]
  },
  {
   "cell_type": "code",
   "execution_count": 3,
   "id": "0b72bb7a",
   "metadata": {},
   "outputs": [
    {
     "name": "stdout",
     "output_type": "stream",
     "text": [
      "hellouser\n"
     ]
    }
   ],
   "source": [
    "print(text1)"
   ]
  },
  {
   "cell_type": "code",
   "execution_count": 4,
   "id": "013b7166",
   "metadata": {},
   "outputs": [],
   "source": [
    "str2 = \"\"\"hello\n",
    "user\"\"\""
   ]
  },
  {
   "cell_type": "code",
   "execution_count": 5,
   "id": "946eafd7",
   "metadata": {},
   "outputs": [
    {
     "name": "stdout",
     "output_type": "stream",
     "text": [
      "hello\n",
      "user\n"
     ]
    }
   ],
   "source": [
    "print(str2)"
   ]
  },
  {
   "cell_type": "code",
   "execution_count": 9,
   "id": "60555f8c",
   "metadata": {},
   "outputs": [
    {
     "ename": "SyntaxError",
     "evalue": "invalid syntax (Temp/ipykernel_6328/1356885050.py, line 1)",
     "output_type": "error",
     "traceback": [
      "\u001b[1;36m  File \u001b[1;32m\"C:\\Users\\ITDEPA~1\\AppData\\Local\\Temp/ipykernel_6328/1356885050.py\"\u001b[1;36m, line \u001b[1;32m1\u001b[0m\n\u001b[1;33m    a = 2000000000000000000000000000000000000L\u001b[0m\n\u001b[1;37m                                             ^\u001b[0m\n\u001b[1;31mSyntaxError\u001b[0m\u001b[1;31m:\u001b[0m invalid syntax\n"
     ]
    }
   ],
   "source": [
    "a = 2000000000000000000000000000000000000L\n",
    "print(type(a))"
   ]
  },
  {
   "cell_type": "code",
   "execution_count": 10,
   "id": "274541d7",
   "metadata": {},
   "outputs": [
    {
     "name": "stdout",
     "output_type": "stream",
     "text": [
      "20 100 141 301\n",
      "100.5 150.0\n",
      "(5+3.14j) 3.14 5.0\n"
     ]
    }
   ],
   "source": [
    "x = 0b10100 #Binary Literals  \n",
    "y = 100 #Decimal Literal   \n",
    "z = 0o215 #Octal Literal  \n",
    "u = 0x12d #Hexadecimal Literal  \n",
    "  \n",
    "#Float Literal  \n",
    "float_1 = 100.5   \n",
    "float_2 = 1.5e2  \n",
    "  \n",
    "#Complex Literal   \n",
    "a = 5+3.14j  \n",
    "  \n",
    "print(x, y, z, u)  \n",
    "print(float_1, float_2)  \n",
    "print(a, a.imag, a.real)  "
   ]
  },
  {
   "cell_type": "code",
   "execution_count": 11,
   "id": "90cb2f13",
   "metadata": {},
   "outputs": [
    {
     "name": "stdout",
     "output_type": "stream",
     "text": [
      "x is True\n",
      "y is False\n",
      "z is False\n",
      "a: 11\n",
      "b: 10\n"
     ]
    }
   ],
   "source": [
    "x = (1 == True)  \n",
    "y = (2 == False)  \n",
    "z = (3 == True)  \n",
    "a = True + 10  \n",
    "b = False + 10  \n",
    "  \n",
    "print(\"x is\", x)  \n",
    "print(\"y is\", y)  \n",
    "print(\"z is\", z)  \n",
    "print(\"a:\", a)  \n",
    "print(\"b:\", b)  "
   ]
  },
  {
   "cell_type": "code",
   "execution_count": 22,
   "id": "f0d6edbd",
   "metadata": {},
   "outputs": [
    {
     "data": {
      "text/plain": [
       "False"
      ]
     },
     "execution_count": 22,
     "metadata": {},
     "output_type": "execute_result"
    }
   ],
   "source": [
    "3 == True"
   ]
  },
  {
   "cell_type": "code",
   "execution_count": 20,
   "id": "eef8ad03",
   "metadata": {},
   "outputs": [
    {
     "data": {
      "text/plain": [
       "True"
      ]
     },
     "execution_count": 20,
     "metadata": {},
     "output_type": "execute_result"
    }
   ],
   "source": [
    "bool(-7)"
   ]
  },
  {
   "cell_type": "code",
   "execution_count": 23,
   "id": "c8274362",
   "metadata": {},
   "outputs": [
    {
     "name": "stdout",
     "output_type": "stream",
     "text": [
      "10 None\n"
     ]
    }
   ],
   "source": [
    "val1=10    \n",
    "val2=None    \n",
    "print(val1, val2)     "
   ]
  },
  {
   "cell_type": "markdown",
   "id": "f538c84b",
   "metadata": {},
   "source": [
    "# Operators"
   ]
  },
  {
   "cell_type": "code",
   "execution_count": 35,
   "id": "ae12d07a",
   "metadata": {},
   "outputs": [
    {
     "name": "stdout",
     "output_type": "stream",
     "text": [
      "Add:  30\n",
      "Sub:  10\n",
      "Mul:  200\n",
      "Div:  2.0\n",
      "Remainder:  0\n",
      "Quotient:  2\n",
      "Exponent:  10240000000000\n"
     ]
    }
   ],
   "source": [
    "# Arithmetic Operators\n",
    "a = 20\n",
    "b = 10\n",
    "print('Add: ',a+b)\n",
    "print('Sub: ',a-b)\n",
    "print('Mul: ',a*b)\n",
    "print('Div: ',a/b)\n",
    "print('Remainder: ',a%b)\n",
    "print('Quotient: ',a//b)\n",
    "print('Exponent: ',a**b)"
   ]
  },
  {
   "cell_type": "code",
   "execution_count": 38,
   "id": "0302bcff",
   "metadata": {},
   "outputs": [
    {
     "name": "stdout",
     "output_type": "stream",
     "text": [
      "a==b :  False\n",
      "a!=b :  True\n",
      "a<=b :  False\n",
      "a>=b :  True\n",
      "a>b :  True\n",
      "a<b :  False\n"
     ]
    }
   ],
   "source": [
    "# Comparison Operators\n",
    "a = 20\n",
    "b = 10\n",
    "print('a==b : ',a==b)\n",
    "print('a!=b : ',a!=b)\n",
    "print('a<=b : ',a<=b)\n",
    "print('a>=b : ',a>=b)\n",
    "print('a>b : ',a>b)\n",
    "print('a<b : ',a<b)"
   ]
  },
  {
   "cell_type": "code",
   "execution_count": 50,
   "id": "4bbad671",
   "metadata": {},
   "outputs": [
    {
     "name": "stdout",
     "output_type": "stream",
     "text": [
      "a=b :  10\n",
      "a+=b :  20\n",
      "a-=b :  10\n",
      "a*=b :  100\n",
      "a/=b :  10.0\n",
      "a%=b :  0.0\n",
      "a**=b :  0.0\n",
      "a//=b :  0.0\n"
     ]
    }
   ],
   "source": [
    "# Assignment Operators\n",
    "a = 20\n",
    "b = 10\n",
    "a=b\n",
    "print('a=b : ',a)\n",
    "a+=b\n",
    "print('a+=b : ',a)\n",
    "a-=b\n",
    "print('a-=b : ',a)\n",
    "a*=b\n",
    "print('a*=b : ',a)\n",
    "a/=b\n",
    "print('a/=b : ',a)\n",
    "a%=b\n",
    "print('a%=b : ',a)\n",
    "a**=b\n",
    "print('a**=b : ',a)\n",
    "a//=b\n",
    "print('a//=b : ',a)"
   ]
  },
  {
   "cell_type": "code",
   "execution_count": 56,
   "id": "17811438",
   "metadata": {},
   "outputs": [
    {
     "name": "stdout",
     "output_type": "stream",
     "text": [
      "a&b :  1\n",
      "a|b :  13\n",
      "a^b :  12\n",
      "~a :  -6\n",
      "b<<2 :  36\n",
      "b>>1 :  4\n"
     ]
    }
   ],
   "source": [
    "# Bitwise Operators\n",
    "a = 5\n",
    "b = 9\n",
    "print('a&b : ',a&b)\n",
    "print('a|b : ',a|b)\n",
    "print('a^b : ',a^b)\n",
    "print('~a : ',~a)\n",
    "print('b<<2 : ',b<<2)\n",
    "print('b>>1 : ',b>>1)"
   ]
  },
  {
   "cell_type": "code",
   "execution_count": 57,
   "id": "9d4bbde3",
   "metadata": {},
   "outputs": [
    {
     "name": "stdout",
     "output_type": "stream",
     "text": [
      "a and b :  False\n",
      "a or b :  True\n",
      "not b :  True\n"
     ]
    }
   ],
   "source": [
    "# Logical Operators\n",
    "a = True\n",
    "b = False\n",
    "print('a and b : ',a and b)\n",
    "print('a or b : ',a or b)\n",
    "print('not b : ',not b)"
   ]
  },
  {
   "cell_type": "code",
   "execution_count": 58,
   "id": "4987711a",
   "metadata": {},
   "outputs": [
    {
     "name": "stdout",
     "output_type": "stream",
     "text": [
      "x in list1 :  True\n",
      "x not in list1 :  False\n"
     ]
    }
   ],
   "source": [
    "# Membershp Operators\n",
    "x = 3.5\n",
    "list1 = [1,'Two',3.5,4,True]\n",
    "\n",
    "print('x in list1 : ',x in list1)\n",
    "print('x not in list1 : ',x not in list1)"
   ]
  },
  {
   "cell_type": "code",
   "execution_count": 59,
   "id": "d52f3fb9",
   "metadata": {},
   "outputs": [
    {
     "name": "stdout",
     "output_type": "stream",
     "text": [
      "a is String :  True\n",
      "a is not String :  False\n"
     ]
    }
   ],
   "source": [
    "a = 'Sach'\n",
    "\n",
    "print('a is String : ',type(a) is str)\n",
    "print('a is not String : ',type(a) is not str)"
   ]
  },
  {
   "cell_type": "code",
   "execution_count": null,
   "id": "c9de9355",
   "metadata": {},
   "outputs": [],
   "source": []
  }
 ],
 "metadata": {
  "kernelspec": {
   "display_name": "Python 3 (ipykernel)",
   "language": "python",
   "name": "python3"
  },
  "language_info": {
   "codemirror_mode": {
    "name": "ipython",
    "version": 3
   },
   "file_extension": ".py",
   "mimetype": "text/x-python",
   "name": "python",
   "nbconvert_exporter": "python",
   "pygments_lexer": "ipython3",
   "version": "3.9.7"
  }
 },
 "nbformat": 4,
 "nbformat_minor": 5
}
