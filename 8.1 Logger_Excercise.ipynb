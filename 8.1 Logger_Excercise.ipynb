{
 "cells": [
  {
   "cell_type": "markdown",
   "id": "dc0b48b1",
   "metadata": {},
   "source": [
    "### Exercise\n",
    "\n",
    "1. Create a logger in your code \n",
    "2. create one function which can take any number of input as an argument and it will be able to return sum of it.\n",
    "3. capture user input in log\n",
    "4. give user instruction in log file\n",
    "5. read a log file from python code and show all the log in console."
   ]
  },
  {
   "cell_type": "code",
   "execution_count": 1,
   "id": "3baff290",
   "metadata": {},
   "outputs": [],
   "source": [
    "# 1. Create a logger in your code \n",
    "\n",
    "import logging as lg\n",
    "import os\n",
    "\n",
    "os.mkdir(\"Logger\")\n",
    "os.chdir(os.getcwd()+\"\\\\Logger\")\n",
    "lg.basicConfig(filename = \"logger.log\", level=lg.INFO)"
   ]
  },
  {
   "cell_type": "code",
   "execution_count": 11,
   "id": "36bcb79b",
   "metadata": {},
   "outputs": [],
   "source": [
    "# 2. create one function which can take any number of input as an argument and it will be able to return sum of it.\n",
    "\n",
    "def add(*args):\n",
    "    # 4. give user instruction in log file\n",
    "    lg.info(\"Inside add(*args) function\")\n",
    "    res = 0\n",
    "    for i in args:\n",
    "        # 3. capture user input in log\n",
    "        lg.info(i)\n",
    "        res += i\n",
    "    lg.info(\"Result generated: \"+str(res))\n",
    "    return res"
   ]
  },
  {
   "cell_type": "code",
   "execution_count": 12,
   "id": "76ad600e",
   "metadata": {},
   "outputs": [
    {
     "data": {
      "text/plain": [
       "150"
      ]
     },
     "execution_count": 12,
     "metadata": {},
     "output_type": "execute_result"
    }
   ],
   "source": [
    "add(10,20,30,40,50)"
   ]
  },
  {
   "cell_type": "code",
   "execution_count": 10,
   "id": "95bff7e7",
   "metadata": {},
   "outputs": [
    {
     "data": {
      "text/plain": [
       "500"
      ]
     },
     "execution_count": 10,
     "metadata": {},
     "output_type": "execute_result"
    }
   ],
   "source": [
    "add(200,300)"
   ]
  },
  {
   "cell_type": "code",
   "execution_count": 14,
   "id": "c2563b98",
   "metadata": {},
   "outputs": [
    {
     "name": "stdout",
     "output_type": "stream",
     "text": [
      "INFO:root:10\n",
      "INFO:root:20\n",
      "INFO:root:30\n",
      "INFO:root:40\n",
      "INFO:root:50\n",
      "INFO:root:200\n",
      "INFO:root:300\n",
      "INFO:root:Inside add(*args) function\n",
      "INFO:root:10\n",
      "INFO:root:20\n",
      "INFO:root:30\n",
      "INFO:root:40\n",
      "INFO:root:50\n",
      "INFO:root:Result generated: 150\n",
      "\n"
     ]
    }
   ],
   "source": [
    "# 5. read a log file from python code and show all the log in console.\n",
    "f = open(os.getcwd()+\"\\\\logger.log\",\"r\")\n",
    "print(f.read())"
   ]
  },
  {
   "cell_type": "code",
   "execution_count": null,
   "id": "73330e22",
   "metadata": {},
   "outputs": [],
   "source": []
  }
 ],
 "metadata": {
  "kernelspec": {
   "display_name": "Python 3 (ipykernel)",
   "language": "python",
   "name": "python3"
  },
  "language_info": {
   "codemirror_mode": {
    "name": "ipython",
    "version": 3
   },
   "file_extension": ".py",
   "mimetype": "text/x-python",
   "name": "python",
   "nbconvert_exporter": "python",
   "pygments_lexer": "ipython3",
   "version": "3.9.7"
  }
 },
 "nbformat": 4,
 "nbformat_minor": 5
}
