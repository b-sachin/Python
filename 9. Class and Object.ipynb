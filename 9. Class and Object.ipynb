{
 "cells": [
  {
   "cell_type": "code",
   "execution_count": 1,
   "id": "d107fdc9",
   "metadata": {},
   "outputs": [
    {
     "ename": "IndentationError",
     "evalue": "expected an indented block (Temp/ipykernel_4928/1907965033.py, line 2)",
     "output_type": "error",
     "traceback": [
      "\u001b[1;36m  File \u001b[1;32m\"C:\\Users\\ITDEPA~1\\AppData\\Local\\Temp/ipykernel_4928/1907965033.py\"\u001b[1;36m, line \u001b[1;32m2\u001b[0m\n\u001b[1;33m    \u001b[0m\n\u001b[1;37m    ^\u001b[0m\n\u001b[1;31mIndentationError\u001b[0m\u001b[1;31m:\u001b[0m expected an indented block\n"
     ]
    }
   ],
   "source": [
    " class car:\n",
    "        "
   ]
  },
  {
   "cell_type": "code",
   "execution_count": 2,
   "id": "2f1b0247",
   "metadata": {},
   "outputs": [],
   "source": [
    "class car:\n",
    "    pass"
   ]
  },
  {
   "cell_type": "code",
   "execution_count": 3,
   "id": "8699acfd",
   "metadata": {},
   "outputs": [],
   "source": [
    "audi = car()"
   ]
  },
  {
   "cell_type": "code",
   "execution_count": 4,
   "id": "96fdefdc",
   "metadata": {},
   "outputs": [
    {
     "data": {
      "text/plain": [
       "<__main__.car at 0xaac59b4280>"
      ]
     },
     "execution_count": 4,
     "metadata": {},
     "output_type": "execute_result"
    }
   ],
   "source": [
    "audi"
   ]
  },
  {
   "cell_type": "code",
   "execution_count": 6,
   "id": "b53f6cec",
   "metadata": {},
   "outputs": [],
   "source": [
    "audi.milage = 10\n",
    "audi.year = 2020\n",
    "audi.make = 234\n",
    "audi.model = \"q7\""
   ]
  },
  {
   "cell_type": "code",
   "execution_count": 7,
   "id": "d69846d2",
   "metadata": {},
   "outputs": [
    {
     "data": {
      "text/plain": [
       "10"
      ]
     },
     "execution_count": 7,
     "metadata": {},
     "output_type": "execute_result"
    }
   ],
   "source": [
    "audi.milage"
   ]
  },
  {
   "cell_type": "code",
   "execution_count": 8,
   "id": "1014c01b",
   "metadata": {},
   "outputs": [
    {
     "ename": "NameError",
     "evalue": "name 'milage' is not defined",
     "output_type": "error",
     "traceback": [
      "\u001b[1;31m---------------------------------------------------------------------------\u001b[0m",
      "\u001b[1;31mNameError\u001b[0m                                 Traceback (most recent call last)",
      "\u001b[1;32mC:\\Users\\ITDEPA~1\\AppData\\Local\\Temp/ipykernel_4928/1524662372.py\u001b[0m in \u001b[0;36m<module>\u001b[1;34m\u001b[0m\n\u001b[1;32m----> 1\u001b[1;33m \u001b[0mmilage\u001b[0m\u001b[1;33m\u001b[0m\u001b[1;33m\u001b[0m\u001b[0m\n\u001b[0m",
      "\u001b[1;31mNameError\u001b[0m: name 'milage' is not defined"
     ]
    }
   ],
   "source": [
    "milage"
   ]
  },
  {
   "cell_type": "code",
   "execution_count": 9,
   "id": "785ae5ff",
   "metadata": {},
   "outputs": [],
   "source": [
    "nano = car()"
   ]
  },
  {
   "cell_type": "code",
   "execution_count": 11,
   "id": "117ae47b",
   "metadata": {},
   "outputs": [],
   "source": [
    "nano.milage = 20\n",
    "nano.year = 2021\n",
    "nano.make = 777\n",
    "nano.model = \"S\"\n",
    "nano.engineno = 123456789"
   ]
  },
  {
   "cell_type": "code",
   "execution_count": 12,
   "id": "af76f854",
   "metadata": {},
   "outputs": [
    {
     "name": "stdout",
     "output_type": "stream",
     "text": [
      "20 10\n"
     ]
    }
   ],
   "source": [
    "print(nano.milage,audi.milage)"
   ]
  },
  {
   "cell_type": "markdown",
   "id": "461edfe4",
   "metadata": {},
   "source": [
    "If we need to create 100 such objects (like audi and nano) we need to create all the variable like milage,year,make and model again and again. So thos is bad way of writing OOP."
   ]
  },
  {
   "cell_type": "markdown",
   "id": "4798ee72",
   "metadata": {},
   "source": [
    "### Best Practice for OOP"
   ]
  },
  {
   "cell_type": "code",
   "execution_count": 13,
   "id": "ab04ece0",
   "metadata": {},
   "outputs": [],
   "source": [
    "class car:\n",
    "    def __init__(self, milage, year, make, model):\n",
    "        self.milage = milage\n",
    "        self.year = year\n",
    "        self.make = make\n",
    "        self.model = model"
   ]
  },
  {
   "cell_type": "code",
   "execution_count": 14,
   "id": "66fe6594",
   "metadata": {
    "scrolled": true
   },
   "outputs": [
    {
     "ename": "TypeError",
     "evalue": "__init__() missing 4 required positional arguments: 'milage', 'year', 'make', and 'model'",
     "output_type": "error",
     "traceback": [
      "\u001b[1;31m---------------------------------------------------------------------------\u001b[0m",
      "\u001b[1;31mTypeError\u001b[0m                                 Traceback (most recent call last)",
      "\u001b[1;32mC:\\Users\\ITDEPA~1\\AppData\\Local\\Temp/ipykernel_4928/583999665.py\u001b[0m in \u001b[0;36m<module>\u001b[1;34m\u001b[0m\n\u001b[1;32m----> 1\u001b[1;33m \u001b[0mnano1\u001b[0m \u001b[1;33m=\u001b[0m \u001b[0mcar\u001b[0m\u001b[1;33m(\u001b[0m\u001b[1;33m)\u001b[0m\u001b[1;33m\u001b[0m\u001b[1;33m\u001b[0m\u001b[0m\n\u001b[0m",
      "\u001b[1;31mTypeError\u001b[0m: __init__() missing 4 required positional arguments: 'milage', 'year', 'make', and 'model'"
     ]
    }
   ],
   "source": [
    "nano1 = car()"
   ]
  },
  {
   "cell_type": "code",
   "execution_count": 15,
   "id": "d612eca8",
   "metadata": {},
   "outputs": [],
   "source": [
    "nano1 = car(20,2021,888,\"M\")"
   ]
  },
  {
   "cell_type": "code",
   "execution_count": 16,
   "id": "b8a33546",
   "metadata": {},
   "outputs": [],
   "source": [
    "audi1 = car(10,2020,1234,\"Q8\")"
   ]
  },
  {
   "cell_type": "code",
   "execution_count": 17,
   "id": "72eb671e",
   "metadata": {},
   "outputs": [
    {
     "data": {
      "text/plain": [
       "20"
      ]
     },
     "execution_count": 17,
     "metadata": {},
     "output_type": "execute_result"
    }
   ],
   "source": [
    "nano1.milage"
   ]
  },
  {
   "cell_type": "code",
   "execution_count": 18,
   "id": "23215d70",
   "metadata": {},
   "outputs": [],
   "source": [
    "nano2 = car(22,2022,999,\"L\")\n",
    "audi2 = car(15,2020,5678,\"Q2\")"
   ]
  },
  {
   "cell_type": "code",
   "execution_count": 19,
   "id": "eae6b8c8",
   "metadata": {},
   "outputs": [
    {
     "data": {
      "text/plain": [
       "2020"
      ]
     },
     "execution_count": 19,
     "metadata": {},
     "output_type": "execute_result"
    }
   ],
   "source": [
    "audi2.year"
   ]
  },
  {
   "cell_type": "code",
   "execution_count": 20,
   "id": "8e846a0a",
   "metadata": {},
   "outputs": [],
   "source": [
    "class car:\n",
    "    def __init__(self, mi, yr, mk, mdl):\n",
    "        self.milage = mi\n",
    "        self.year = yr\n",
    "        self.make = mk\n",
    "        self.model = mdl"
   ]
  },
  {
   "cell_type": "code",
   "execution_count": 21,
   "id": "8e6aadb3",
   "metadata": {},
   "outputs": [],
   "source": [
    "nano3 = car(25,2019,444,\"XXL\")\n",
    "audi3 = car(18,2018,555,\"Q5\")"
   ]
  },
  {
   "cell_type": "code",
   "execution_count": 23,
   "id": "54379245",
   "metadata": {},
   "outputs": [
    {
     "data": {
      "text/plain": [
       "444"
      ]
     },
     "execution_count": 23,
     "metadata": {},
     "output_type": "execute_result"
    }
   ],
   "source": [
    "nano3.make"
   ]
  },
  {
   "cell_type": "code",
   "execution_count": 22,
   "id": "bca53ebd",
   "metadata": {},
   "outputs": [
    {
     "data": {
      "text/plain": [
       "2019"
      ]
     },
     "execution_count": 22,
     "metadata": {},
     "output_type": "execute_result"
    }
   ],
   "source": [
    "nano3.year"
   ]
  },
  {
   "cell_type": "code",
   "execution_count": 24,
   "id": "f7e0afe3",
   "metadata": {},
   "outputs": [
    {
     "data": {
      "text/plain": [
       "'Q5'"
      ]
     },
     "execution_count": 24,
     "metadata": {},
     "output_type": "execute_result"
    }
   ],
   "source": [
    "audi3.model"
   ]
  },
  {
   "cell_type": "markdown",
   "id": "3e15002b",
   "metadata": {},
   "source": [
    "### Class Method"
   ]
  },
  {
   "cell_type": "code",
   "execution_count": 30,
   "id": "278a3068",
   "metadata": {},
   "outputs": [],
   "source": [
    "class car:\n",
    "    def __init__(a, mi, yr, mk, mdl):\n",
    "        a.milage = mi\n",
    "        a.year = yr\n",
    "        a.make = mk\n",
    "        a.model = mdl\n",
    "        \n",
    "    def age(b,current_year):\n",
    "        return current_year - b.year"
   ]
  },
  {
   "cell_type": "code",
   "execution_count": 31,
   "id": "1fa71957",
   "metadata": {},
   "outputs": [],
   "source": [
    "nano4 = car(27,2017,233,\"XXXL\")"
   ]
  },
  {
   "cell_type": "code",
   "execution_count": 32,
   "id": "db150bb3",
   "metadata": {},
   "outputs": [
    {
     "data": {
      "text/plain": [
       "4"
      ]
     },
     "execution_count": 32,
     "metadata": {},
     "output_type": "execute_result"
    }
   ],
   "source": [
    "nano4.age(2021)"
   ]
  },
  {
   "cell_type": "code",
   "execution_count": 33,
   "id": "5524d011",
   "metadata": {},
   "outputs": [
    {
     "data": {
      "text/plain": [
       "27"
      ]
     },
     "execution_count": 33,
     "metadata": {},
     "output_type": "execute_result"
    }
   ],
   "source": [
    "nano4.milage"
   ]
  },
  {
   "cell_type": "code",
   "execution_count": 39,
   "id": "cbd3b350",
   "metadata": {},
   "outputs": [],
   "source": [
    "class car:\n",
    "    def __init__(a, mi, yr, mk, mdl):\n",
    "        a.milage = mi\n",
    "        a.year = yr\n",
    "        a.make = mk\n",
    "        a.model = mdl\n",
    "        \n",
    "    # Parameterized Method\n",
    "    def age(b,current_year):\n",
    "        return current_year - b.year\n",
    "    \n",
    "    # Method with no parameter\n",
    "    def mil(c):\n",
    "        return c.milage"
   ]
  },
  {
   "cell_type": "code",
   "execution_count": 40,
   "id": "ca0b1fad",
   "metadata": {},
   "outputs": [],
   "source": [
    "nano5 = car(29,2016,111,\"XS\")"
   ]
  },
  {
   "cell_type": "code",
   "execution_count": 41,
   "id": "79fdf66e",
   "metadata": {},
   "outputs": [
    {
     "data": {
      "text/plain": [
       "29"
      ]
     },
     "execution_count": 41,
     "metadata": {},
     "output_type": "execute_result"
    }
   ],
   "source": [
    "nano5.milage"
   ]
  },
  {
   "cell_type": "code",
   "execution_count": 42,
   "id": "37cdfe13",
   "metadata": {},
   "outputs": [
    {
     "data": {
      "text/plain": [
       "29"
      ]
     },
     "execution_count": 42,
     "metadata": {},
     "output_type": "execute_result"
    }
   ],
   "source": [
    "nano5.mil()"
   ]
  },
  {
   "cell_type": "code",
   "execution_count": 43,
   "id": "a90ec710",
   "metadata": {},
   "outputs": [
    {
     "data": {
      "text/plain": [
       "<__main__.car at 0xaac7bc3be0>"
      ]
     },
     "execution_count": 43,
     "metadata": {},
     "output_type": "execute_result"
    }
   ],
   "source": [
    "nano5"
   ]
  },
  {
   "cell_type": "code",
   "execution_count": 44,
   "id": "bdac6487",
   "metadata": {},
   "outputs": [],
   "source": [
    "class car:\n",
    "    def __init__(a, mi, yr, mk, mdl):\n",
    "        a.milage = mi\n",
    "        a.year = yr\n",
    "        a.make = mk\n",
    "        a.model = mdl\n",
    "        \n",
    "    # Parameterized Method\n",
    "    def age(b,current_year):\n",
    "        return current_year - b.year\n",
    "    \n",
    "    # Method with no parameter\n",
    "    def mil(c):\n",
    "        return c.milage\n",
    "    \n",
    "    def __str__(d):\n",
    "        return \"this is my car class\""
   ]
  },
  {
   "cell_type": "code",
   "execution_count": 45,
   "id": "b839464f",
   "metadata": {},
   "outputs": [],
   "source": [
    "nano6 = car(32,2015,113,\"SS\")"
   ]
  },
  {
   "cell_type": "code",
   "execution_count": 46,
   "id": "325c74c7",
   "metadata": {},
   "outputs": [
    {
     "name": "stdout",
     "output_type": "stream",
     "text": [
      "this is my car class\n"
     ]
    }
   ],
   "source": [
    "print(nano6)"
   ]
  },
  {
   "cell_type": "markdown",
   "id": "30962421",
   "metadata": {},
   "source": [
    "### Create Student class"
   ]
  },
  {
   "cell_type": "code",
   "execution_count": 63,
   "id": "f03758e4",
   "metadata": {},
   "outputs": [],
   "source": [
    "class Student:\n",
    "    def __init__(self, rollno, name, branch, join_year):\n",
    "        self.rollno = rollno\n",
    "        self.name = name\n",
    "        self.branch = branch\n",
    "        self.join_year = join_year\n",
    "                \n",
    "    def st_branch(self):\n",
    "        print(\"student branch is\", self.branch)\n",
    "        \n",
    "    def str_rollno(self):\n",
    "        if type(self.rollno) == str:\n",
    "            print(\"do Nothing\")\n",
    "        else:\n",
    "            return str(self.rollno)\n",
    "    \n",
    "    def duration(self,current_year):\n",
    "        print(self.name+\"'s duration in collage is\", current_year - self.join_year, 'years')\n",
    "        \n",
    "    def __str__(self):\n",
    "        return \"This is Student class where they can input their own data\""
   ]
  },
  {
   "cell_type": "code",
   "execution_count": 64,
   "id": "47580ab7",
   "metadata": {},
   "outputs": [],
   "source": [
    "sach = Student(101, \"Sachin\", \"IT\", 2016)"
   ]
  },
  {
   "cell_type": "code",
   "execution_count": 65,
   "id": "9b059d02",
   "metadata": {},
   "outputs": [
    {
     "name": "stdout",
     "output_type": "stream",
     "text": [
      "Sachin's duration in collage is 5 years\n"
     ]
    }
   ],
   "source": [
    "sach.duration(2021)"
   ]
  },
  {
   "cell_type": "code",
   "execution_count": 66,
   "id": "55decf1d",
   "metadata": {},
   "outputs": [
    {
     "data": {
      "text/plain": [
       "'101'"
      ]
     },
     "execution_count": 66,
     "metadata": {},
     "output_type": "execute_result"
    }
   ],
   "source": [
    "sach.str_rollno()"
   ]
  },
  {
   "cell_type": "code",
   "execution_count": 67,
   "id": "4d85a76a",
   "metadata": {},
   "outputs": [
    {
     "name": "stdout",
     "output_type": "stream",
     "text": [
      "This is Student class where they can input their own data\n"
     ]
    }
   ],
   "source": [
    "print(sach)"
   ]
  },
  {
   "cell_type": "code",
   "execution_count": 68,
   "id": "6df56b1e",
   "metadata": {},
   "outputs": [],
   "source": [
    "nitin = Student(201, \"Nitin\", \"EXTC\", 2017)"
   ]
  },
  {
   "cell_type": "code",
   "execution_count": 69,
   "id": "3ad44594",
   "metadata": {},
   "outputs": [
    {
     "name": "stdout",
     "output_type": "stream",
     "text": [
      "student branch is EXTC\n"
     ]
    }
   ],
   "source": [
    "nitin.st_branch()"
   ]
  },
  {
   "cell_type": "markdown",
   "id": "02afb895",
   "metadata": {},
   "source": [
    "### You can pass list,tuple,set of names"
   ]
  },
  {
   "cell_type": "code",
   "execution_count": 80,
   "id": "7ace80c9",
   "metadata": {},
   "outputs": [],
   "source": [
    "class Employee:\n",
    "    \n",
    "    def __init__(self,eid,name,doj,company):\n",
    "        self.eid = eid\n",
    "        self.name = name\n",
    "        self.doj = doj\n",
    "        self.company = company\n",
    "        \n",
    "    def name_parsing(self):\n",
    "        if type(self.name) == list:\n",
    "            for i in self.name:\n",
    "                print(\"name of the student\", i)\n",
    "        else:\n",
    "            print(\"PRovided name is not in a list\")\n",
    "    \n",
    "    def curCompany(self):\n",
    "        print(\"Current Comany is\",self.company)\n",
    "        \n",
    "    def str_eid(self):\n",
    "        if type(self.eid) == str:\n",
    "            print(\"do nothing\")\n",
    "        else:\n",
    "            return str(self.eid)\n",
    "        \n",
    "    def experience(self,current_year):\n",
    "        print(self.name,\"'s experince is \",current_year - self.doj)\n",
    "        \n",
    "    def __str__(self):\n",
    "        return \"This is Employee class\""
   ]
  },
  {
   "cell_type": "code",
   "execution_count": 81,
   "id": "9fbfcdf2",
   "metadata": {},
   "outputs": [],
   "source": [
    "together = Employee([3001,3002,3003],[\"Tushar\",\"Pratik\",\"Ashish\"],2018,'ABC Corporation')"
   ]
  },
  {
   "cell_type": "code",
   "execution_count": 82,
   "id": "c3091a07",
   "metadata": {},
   "outputs": [
    {
     "data": {
      "text/plain": [
       "['Tushar', 'Pratik', 'Ashish']"
      ]
     },
     "execution_count": 82,
     "metadata": {},
     "output_type": "execute_result"
    }
   ],
   "source": [
    "together.name"
   ]
  },
  {
   "cell_type": "code",
   "execution_count": 83,
   "id": "0cc71af5",
   "metadata": {},
   "outputs": [
    {
     "name": "stdout",
     "output_type": "stream",
     "text": [
      "name of the student Tushar\n",
      "name of the student Pratik\n",
      "name of the student Ashish\n"
     ]
    }
   ],
   "source": [
    "together.name_parsing()"
   ]
  },
  {
   "cell_type": "code",
   "execution_count": 84,
   "id": "88ca444f",
   "metadata": {},
   "outputs": [
    {
     "name": "stdout",
     "output_type": "stream",
     "text": [
      "Current Comany is ABC Corporation\n"
     ]
    }
   ],
   "source": [
    "together.curCompany()"
   ]
  },
  {
   "cell_type": "code",
   "execution_count": 85,
   "id": "2755ad4d",
   "metadata": {},
   "outputs": [
    {
     "data": {
      "text/plain": [
       "'[3001, 3002, 3003]'"
      ]
     },
     "execution_count": 85,
     "metadata": {},
     "output_type": "execute_result"
    }
   ],
   "source": [
    "together.str_eid()"
   ]
  },
  {
   "cell_type": "code",
   "execution_count": 86,
   "id": "4e7b1ef6",
   "metadata": {},
   "outputs": [
    {
     "name": "stdout",
     "output_type": "stream",
     "text": [
      "['Tushar', 'Pratik', 'Ashish'] 's experince is  3\n"
     ]
    }
   ],
   "source": [
    "together.experience(2021)"
   ]
  },
  {
   "cell_type": "code",
   "execution_count": 87,
   "id": "26668b9f",
   "metadata": {},
   "outputs": [
    {
     "name": "stdout",
     "output_type": "stream",
     "text": [
      "This is Employee class\n"
     ]
    }
   ],
   "source": [
    "print(together)"
   ]
  },
  {
   "cell_type": "markdown",
   "id": "8441bc27",
   "metadata": {},
   "source": [
    "### Exercise:\n",
    "\n",
    "**Level 1:**\n",
    "- Create class as `Data` with variable -> `file_name`,`file_type` and `data`\n",
    "    \n",
    "- Create function `file_open()` -> should create file if not present and write something in a file.\n",
    "    \n",
    "- Create function `file_read()` -> Content of the file should be returned.\n",
    "    \n",
    "- Create a function `file_append()` -> should append additional data in a same file."
   ]
  },
  {
   "cell_type": "code",
   "execution_count": 139,
   "id": "031e1d32",
   "metadata": {},
   "outputs": [],
   "source": [
    "# Level 1\n",
    "\n",
    "class Data:\n",
    "    def __init__(self,file_name,file_type,data,size):\n",
    "        self.file_name = file_name\n",
    "        self.file_type = file_type\n",
    "        self.data = data\n",
    "        self.size = size\n",
    "    def file_open(self):\n",
    "        f = open(self.file_name,\"w\")\n",
    "        f.write(\"File Created in class\")\n",
    "        f.close()\n",
    "        \n",
    "    def file_read(self):\n",
    "        f = open(self.file_name,\"r\")\n",
    "        ff = f.read()\n",
    "        f.close()\n",
    "        return ff\n",
    "    \n",
    "    def file_append(self):\n",
    "        f = open(self.file_name,\"a\")\n",
    "        f.write(\" --> Appended data !!! <--\")\n",
    "        f.close()\n",
    "        return self.file_read()\n",
    "        "
   ]
  },
  {
   "cell_type": "code",
   "execution_count": 140,
   "id": "a1011ccc",
   "metadata": {},
   "outputs": [],
   "source": [
    "abc = Data(\"aaa.txt\",\"txt\",1,10)"
   ]
  },
  {
   "cell_type": "code",
   "execution_count": 141,
   "id": "12f1c7dc",
   "metadata": {},
   "outputs": [],
   "source": [
    "abc.file_open()"
   ]
  },
  {
   "cell_type": "code",
   "execution_count": 142,
   "id": "7de863d4",
   "metadata": {},
   "outputs": [
    {
     "data": {
      "text/plain": [
       "'File Created in class'"
      ]
     },
     "execution_count": 142,
     "metadata": {},
     "output_type": "execute_result"
    }
   ],
   "source": [
    "abc.file_read()"
   ]
  },
  {
   "cell_type": "code",
   "execution_count": 143,
   "id": "b5aa14cc",
   "metadata": {},
   "outputs": [
    {
     "data": {
      "text/plain": [
       "'File Created in class --> Appended data !!! <--'"
      ]
     },
     "execution_count": 143,
     "metadata": {},
     "output_type": "execute_result"
    }
   ],
   "source": [
    "abc.file_append()"
   ]
  },
  {
   "cell_type": "markdown",
   "id": "62803512",
   "metadata": {},
   "source": [
    "### Exercise (Continue):\n",
    "\n",
    "**Level 2:**\n",
    "- Must have exception handling (try-except) in all function\n",
    "- Implement Logger -> create seperate function for logger and call that function to perform log operation\n"
   ]
  },
  {
   "cell_type": "code",
   "execution_count": 155,
   "id": "7cd25363",
   "metadata": {},
   "outputs": [],
   "source": [
    "# Level 2\n",
    "\n",
    "import logging as lg\n",
    "\n",
    "class Data:\n",
    "    def __init__(self,file_name,file_type,data,size):\n",
    "        self.file_name = file_name\n",
    "        self.file_type = file_type\n",
    "        self.data = data\n",
    "        self.size = size\n",
    "        lg.basicConfig(filename = \"class_logging.log\",level = lg.INFO, format = '%(name)s %(asctime)s %(levelname)s %(message)s')\n",
    "        self.logger(1,\"Object Created\")\n",
    "    def file_open(self):\n",
    "        try:\n",
    "            f = open(self.file_name,\"w\")\n",
    "            f.write(\"File Created in class\")\n",
    "            f.close()\n",
    "            self.logger(1,\"File Created and Content Added\")\n",
    "        except Exception as e:\n",
    "            print(\"File Opening Error\",e)\n",
    "\n",
    "    def file_read(self):\n",
    "        try:\n",
    "            f = open(self.file_name,\"r\")\n",
    "            ff = f.read()\n",
    "            f.close()\n",
    "            self.logger(1,\"Inside file_read() function\")\n",
    "            return ff\n",
    "        except Exception as e:\n",
    "            print(\"File Reading Eror\",e)\n",
    "            \n",
    "    def file_append(self):\n",
    "        try:\n",
    "            f = open(self.file_name,\"a\")\n",
    "            f.write(\" --> Appended data !!! <--\")\n",
    "            f.close()\n",
    "            self.logger(1,\"Inside file_append() function\")\n",
    "            return self.file_read()\n",
    "        except Exception as e:\n",
    "            print(\"File Appending Error\",e)\n",
    "    \n",
    "    def logger(self,mode,msg):\n",
    "        if(mode == 1):\n",
    "            lg.info(msg)\n",
    "        elif(mode == 2):\n",
    "            lg.debug(msg)\n",
    "        elif(mode == 3):\n",
    "            lg.error(msg)\n",
    "        else:\n",
    "            lg.info(msg)\n",
    " "
   ]
  },
  {
   "cell_type": "code",
   "execution_count": 156,
   "id": "abe899fd",
   "metadata": {},
   "outputs": [],
   "source": [
    "ss = Data(\"bbb.txt\",\"txt\",1,10)"
   ]
  },
  {
   "cell_type": "code",
   "execution_count": 157,
   "id": "4438ea55",
   "metadata": {},
   "outputs": [],
   "source": [
    "ss.file_open()"
   ]
  },
  {
   "cell_type": "code",
   "execution_count": 158,
   "id": "feaa5ba4",
   "metadata": {},
   "outputs": [
    {
     "data": {
      "text/plain": [
       "'File Created in class'"
      ]
     },
     "execution_count": 158,
     "metadata": {},
     "output_type": "execute_result"
    }
   ],
   "source": [
    "ss.file_read()"
   ]
  },
  {
   "cell_type": "code",
   "execution_count": null,
   "id": "7f565f84",
   "metadata": {},
   "outputs": [],
   "source": []
  }
 ],
 "metadata": {
  "kernelspec": {
   "display_name": "Python 3 (ipykernel)",
   "language": "python",
   "name": "python3"
  },
  "language_info": {
   "codemirror_mode": {
    "name": "ipython",
    "version": 3
   },
   "file_extension": ".py",
   "mimetype": "text/x-python",
   "name": "python",
   "nbconvert_exporter": "python",
   "pygments_lexer": "ipython3",
   "version": "3.9.7"
  }
 },
 "nbformat": 4,
 "nbformat_minor": 5
}
