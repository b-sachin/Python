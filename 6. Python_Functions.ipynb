{
 "cells": [
  {
   "cell_type": "code",
   "execution_count": 1,
   "id": "7ed946a5",
   "metadata": {},
   "outputs": [
    {
     "data": {
      "text/plain": [
       "3"
      ]
     },
     "execution_count": 1,
     "metadata": {},
     "output_type": "execute_result"
    }
   ],
   "source": [
    "a = 1\n",
    "b = 2\n",
    "a+b"
   ]
  },
  {
   "cell_type": "code",
   "execution_count": 2,
   "id": "d95000da",
   "metadata": {},
   "outputs": [
    {
     "data": {
      "text/plain": [
       "30"
      ]
     },
     "execution_count": 2,
     "metadata": {},
     "output_type": "execute_result"
    }
   ],
   "source": [
    "a = 10\n",
    "b = 20\n",
    "a+b"
   ]
  },
  {
   "cell_type": "code",
   "execution_count": 9,
   "id": "70c66ab5",
   "metadata": {},
   "outputs": [],
   "source": [
    "def add(x,y):\n",
    "    print(x+y)"
   ]
  },
  {
   "cell_type": "code",
   "execution_count": 10,
   "id": "db84cad9",
   "metadata": {},
   "outputs": [
    {
     "data": {
      "text/plain": [
       "<function __main__.add(x, y)>"
      ]
     },
     "execution_count": 10,
     "metadata": {},
     "output_type": "execute_result"
    }
   ],
   "source": [
    "add"
   ]
  },
  {
   "cell_type": "code",
   "execution_count": 11,
   "id": "989b8b7f",
   "metadata": {},
   "outputs": [
    {
     "name": "stdout",
     "output_type": "stream",
     "text": [
      "5\n"
     ]
    }
   ],
   "source": [
    "add(2,3)"
   ]
  },
  {
   "cell_type": "code",
   "execution_count": 12,
   "id": "3080e1a9",
   "metadata": {},
   "outputs": [
    {
     "name": "stdout",
     "output_type": "stream",
     "text": [
      "3\n"
     ]
    }
   ],
   "source": [
    "add(1,2)"
   ]
  },
  {
   "cell_type": "code",
   "execution_count": 13,
   "id": "bb9477d4",
   "metadata": {},
   "outputs": [
    {
     "name": "stdout",
     "output_type": "stream",
     "text": [
      "30\n"
     ]
    }
   ],
   "source": [
    "add(10,20)"
   ]
  },
  {
   "cell_type": "code",
   "execution_count": 14,
   "id": "d482c628",
   "metadata": {},
   "outputs": [
    {
     "ename": "TypeError",
     "evalue": "add() missing 2 required positional arguments: 'x' and 'y'",
     "output_type": "error",
     "traceback": [
      "\u001b[1;31m---------------------------------------------------------------------------\u001b[0m",
      "\u001b[1;31mTypeError\u001b[0m                                 Traceback (most recent call last)",
      "\u001b[1;32mC:\\Users\\ITDEPA~1\\AppData\\Local\\Temp/ipykernel_5624/3064714114.py\u001b[0m in \u001b[0;36m<module>\u001b[1;34m\u001b[0m\n\u001b[1;32m----> 1\u001b[1;33m \u001b[0madd\u001b[0m\u001b[1;33m(\u001b[0m\u001b[1;33m)\u001b[0m\u001b[1;33m\u001b[0m\u001b[1;33m\u001b[0m\u001b[0m\n\u001b[0m",
      "\u001b[1;31mTypeError\u001b[0m: add() missing 2 required positional arguments: 'x' and 'y'"
     ]
    }
   ],
   "source": [
    "add()"
   ]
  },
  {
   "cell_type": "code",
   "execution_count": 15,
   "id": "82c6400e",
   "metadata": {},
   "outputs": [],
   "source": [
    "def mul(m,n):\n",
    "    return m*n"
   ]
  },
  {
   "cell_type": "code",
   "execution_count": 16,
   "id": "3a038495",
   "metadata": {},
   "outputs": [
    {
     "data": {
      "text/plain": [
       "12"
      ]
     },
     "execution_count": 16,
     "metadata": {},
     "output_type": "execute_result"
    }
   ],
   "source": [
    "mul(3,4)"
   ]
  },
  {
   "cell_type": "code",
   "execution_count": 17,
   "id": "e15ede32",
   "metadata": {},
   "outputs": [
    {
     "data": {
      "text/plain": [
       "15"
      ]
     },
     "execution_count": 17,
     "metadata": {},
     "output_type": "execute_result"
    }
   ],
   "source": [
    "mul(5,3)"
   ]
  },
  {
   "cell_type": "markdown",
   "id": "9350a5c6",
   "metadata": {},
   "source": [
    "What is the difference between printing in function and returning result"
   ]
  },
  {
   "cell_type": "code",
   "execution_count": 19,
   "id": "ebc11cbc",
   "metadata": {},
   "outputs": [
    {
     "name": "stdout",
     "output_type": "stream",
     "text": [
      "7\n"
     ]
    }
   ],
   "source": [
    "add(3,4)"
   ]
  },
  {
   "cell_type": "code",
   "execution_count": 20,
   "id": "ebdded68",
   "metadata": {},
   "outputs": [
    {
     "data": {
      "text/plain": [
       "12"
      ]
     },
     "execution_count": 20,
     "metadata": {},
     "output_type": "execute_result"
    }
   ],
   "source": [
    "mul(3,4)"
   ]
  },
  {
   "cell_type": "code",
   "execution_count": 21,
   "id": "11e1f5ab",
   "metadata": {},
   "outputs": [
    {
     "data": {
      "text/plain": [
       "17"
      ]
     },
     "execution_count": 21,
     "metadata": {},
     "output_type": "execute_result"
    }
   ],
   "source": [
    "mul(3,4)+5 "
   ]
  },
  {
   "cell_type": "code",
   "execution_count": 22,
   "id": "a82f2d7d",
   "metadata": {},
   "outputs": [
    {
     "name": "stdout",
     "output_type": "stream",
     "text": [
      "7\n"
     ]
    },
    {
     "ename": "TypeError",
     "evalue": "unsupported operand type(s) for +: 'NoneType' and 'int'",
     "output_type": "error",
     "traceback": [
      "\u001b[1;31m---------------------------------------------------------------------------\u001b[0m",
      "\u001b[1;31mTypeError\u001b[0m                                 Traceback (most recent call last)",
      "\u001b[1;32mC:\\Users\\ITDEPA~1\\AppData\\Local\\Temp/ipykernel_5624/195568559.py\u001b[0m in \u001b[0;36m<module>\u001b[1;34m\u001b[0m\n\u001b[1;32m----> 1\u001b[1;33m \u001b[0madd\u001b[0m\u001b[1;33m(\u001b[0m\u001b[1;36m3\u001b[0m\u001b[1;33m,\u001b[0m\u001b[1;36m4\u001b[0m\u001b[1;33m)\u001b[0m\u001b[1;33m+\u001b[0m\u001b[1;36m5\u001b[0m\u001b[1;33m\u001b[0m\u001b[1;33m\u001b[0m\u001b[0m\n\u001b[0m",
      "\u001b[1;31mTypeError\u001b[0m: unsupported operand type(s) for +: 'NoneType' and 'int'"
     ]
    }
   ],
   "source": [
    "add(3,4)+5"
   ]
  },
  {
   "cell_type": "code",
   "execution_count": 24,
   "id": "dd8538c5",
   "metadata": {},
   "outputs": [
    {
     "name": "stdout",
     "output_type": "stream",
     "text": [
      "7\n"
     ]
    },
    {
     "data": {
      "text/plain": [
       "NoneType"
      ]
     },
     "execution_count": 24,
     "metadata": {},
     "output_type": "execute_result"
    }
   ],
   "source": [
    "type(add(3,4))"
   ]
  },
  {
   "cell_type": "code",
   "execution_count": 25,
   "id": "6e30c7a7",
   "metadata": {},
   "outputs": [
    {
     "data": {
      "text/plain": [
       "int"
      ]
     },
     "execution_count": 25,
     "metadata": {},
     "output_type": "execute_result"
    }
   ],
   "source": [
    "type(mul(3,4))"
   ]
  },
  {
   "cell_type": "markdown",
   "id": "9e6fe9cc",
   "metadata": {},
   "source": [
    "In **mul()** function return type returns result as **integer** so later we can perform operation *(int + int)* but in **add()** function we are prining result inside function itself and not returning anything hence type is **NoneType** therefore we got error saying *unsupported operand type(s) for +: 'NoneType' and 'int'*"
   ]
  },
  {
   "cell_type": "code",
   "execution_count": 45,
   "id": "758adaad",
   "metadata": {},
   "outputs": [
    {
     "name": "stdout",
     "output_type": "stream",
     "text": [
      "7\n"
     ]
    }
   ],
   "source": [
    "j = add(3,4)"
   ]
  },
  {
   "cell_type": "code",
   "execution_count": 46,
   "id": "fb400769",
   "metadata": {},
   "outputs": [],
   "source": [
    "k = mul(3,4)"
   ]
  },
  {
   "cell_type": "code",
   "execution_count": 47,
   "id": "95c4c38e",
   "metadata": {},
   "outputs": [],
   "source": [
    "j"
   ]
  },
  {
   "cell_type": "code",
   "execution_count": 48,
   "id": "b345133f",
   "metadata": {},
   "outputs": [
    {
     "data": {
      "text/plain": [
       "12"
      ]
     },
     "execution_count": 48,
     "metadata": {},
     "output_type": "execute_result"
    }
   ],
   "source": [
    "k"
   ]
  },
  {
   "cell_type": "code",
   "execution_count": 49,
   "id": "63a8b13f",
   "metadata": {},
   "outputs": [
    {
     "data": {
      "text/plain": [
       "NoneType"
      ]
     },
     "execution_count": 49,
     "metadata": {},
     "output_type": "execute_result"
    }
   ],
   "source": [
    "type(j)"
   ]
  },
  {
   "cell_type": "code",
   "execution_count": 50,
   "id": "72b71c0d",
   "metadata": {},
   "outputs": [
    {
     "data": {
      "text/plain": [
       "int"
      ]
     },
     "execution_count": 50,
     "metadata": {},
     "output_type": "execute_result"
    }
   ],
   "source": [
    "type(k)"
   ]
  },
  {
   "cell_type": "markdown",
   "id": "d5fb6256",
   "metadata": {},
   "source": []
  },
  {
   "cell_type": "code",
   "execution_count": 51,
   "id": "7afe2b76",
   "metadata": {},
   "outputs": [],
   "source": [
    "def test(a,b,c):\n",
    "    return a+b"
   ]
  },
  {
   "cell_type": "code",
   "execution_count": 52,
   "id": "67048da6",
   "metadata": {},
   "outputs": [
    {
     "ename": "TypeError",
     "evalue": "test() missing 1 required positional argument: 'c'",
     "output_type": "error",
     "traceback": [
      "\u001b[1;31m---------------------------------------------------------------------------\u001b[0m",
      "\u001b[1;31mTypeError\u001b[0m                                 Traceback (most recent call last)",
      "\u001b[1;32mC:\\Users\\ITDEPA~1\\AppData\\Local\\Temp/ipykernel_5624/265589679.py\u001b[0m in \u001b[0;36m<module>\u001b[1;34m\u001b[0m\n\u001b[1;32m----> 1\u001b[1;33m \u001b[0mtest\u001b[0m\u001b[1;33m(\u001b[0m\u001b[1;36m2\u001b[0m\u001b[1;33m,\u001b[0m\u001b[1;36m3\u001b[0m\u001b[1;33m)\u001b[0m\u001b[1;33m\u001b[0m\u001b[1;33m\u001b[0m\u001b[0m\n\u001b[0m",
      "\u001b[1;31mTypeError\u001b[0m: test() missing 1 required positional argument: 'c'"
     ]
    }
   ],
   "source": [
    "test(2,3)"
   ]
  },
  {
   "cell_type": "code",
   "execution_count": 53,
   "id": "9267494b",
   "metadata": {},
   "outputs": [
    {
     "data": {
      "text/plain": [
       "5"
      ]
     },
     "execution_count": 53,
     "metadata": {},
     "output_type": "execute_result"
    }
   ],
   "source": [
    "test(2,3,0)"
   ]
  },
  {
   "cell_type": "code",
   "execution_count": 56,
   "id": "491178d9",
   "metadata": {},
   "outputs": [],
   "source": [
    "def test2(a,b):\n",
    "    return a*10, b*20, a+b"
   ]
  },
  {
   "cell_type": "code",
   "execution_count": 57,
   "id": "e3602b05",
   "metadata": {},
   "outputs": [
    {
     "data": {
      "text/plain": [
       "(50, 120, 11)"
      ]
     },
     "execution_count": 57,
     "metadata": {},
     "output_type": "execute_result"
    }
   ],
   "source": [
    "test2(5,6)"
   ]
  },
  {
   "cell_type": "code",
   "execution_count": 58,
   "id": "6d7b8967",
   "metadata": {},
   "outputs": [
    {
     "data": {
      "text/plain": [
       "tuple"
      ]
     },
     "execution_count": 58,
     "metadata": {},
     "output_type": "execute_result"
    }
   ],
   "source": [
    "type(test2(5,6))"
   ]
  },
  {
   "cell_type": "markdown",
   "id": "bc89958a",
   "metadata": {},
   "source": []
  },
  {
   "cell_type": "code",
   "execution_count": 60,
   "id": "aea2af7e",
   "metadata": {},
   "outputs": [],
   "source": [
    "x,y,z = test2(5,6)"
   ]
  },
  {
   "cell_type": "code",
   "execution_count": 61,
   "id": "da0046c6",
   "metadata": {},
   "outputs": [
    {
     "data": {
      "text/plain": [
       "50"
      ]
     },
     "execution_count": 61,
     "metadata": {},
     "output_type": "execute_result"
    }
   ],
   "source": [
    "x"
   ]
  },
  {
   "cell_type": "code",
   "execution_count": 62,
   "id": "f6a7a8eb",
   "metadata": {},
   "outputs": [
    {
     "data": {
      "text/plain": [
       "120"
      ]
     },
     "execution_count": 62,
     "metadata": {},
     "output_type": "execute_result"
    }
   ],
   "source": [
    "y"
   ]
  },
  {
   "cell_type": "code",
   "execution_count": 63,
   "id": "96e03ccd",
   "metadata": {},
   "outputs": [
    {
     "data": {
      "text/plain": [
       "11"
      ]
     },
     "execution_count": 63,
     "metadata": {},
     "output_type": "execute_result"
    }
   ],
   "source": [
    "z"
   ]
  },
  {
   "cell_type": "markdown",
   "id": "570c4a6d",
   "metadata": {},
   "source": []
  },
  {
   "cell_type": "markdown",
   "id": "55e390dc",
   "metadata": {},
   "source": [
    "if you dont need all the output"
   ]
  },
  {
   "cell_type": "code",
   "execution_count": 68,
   "id": "66b3deb0",
   "metadata": {},
   "outputs": [],
   "source": [
    "i,j,_ = test2(5,6,)"
   ]
  },
  {
   "cell_type": "code",
   "execution_count": 69,
   "id": "8dd08b08",
   "metadata": {},
   "outputs": [
    {
     "data": {
      "text/plain": [
       "50"
      ]
     },
     "execution_count": 69,
     "metadata": {},
     "output_type": "execute_result"
    }
   ],
   "source": [
    "i"
   ]
  },
  {
   "cell_type": "code",
   "execution_count": 70,
   "id": "6e379ccb",
   "metadata": {},
   "outputs": [
    {
     "data": {
      "text/plain": [
       "120"
      ]
     },
     "execution_count": 70,
     "metadata": {},
     "output_type": "execute_result"
    }
   ],
   "source": [
    "j"
   ]
  },
  {
   "cell_type": "code",
   "execution_count": 71,
   "id": "d3238c60",
   "metadata": {},
   "outputs": [
    {
     "data": {
      "text/plain": [
       "11"
      ]
     },
     "execution_count": 71,
     "metadata": {},
     "output_type": "execute_result"
    }
   ],
   "source": [
    "_"
   ]
  },
  {
   "cell_type": "code",
   "execution_count": 76,
   "id": "3b19baa6",
   "metadata": {},
   "outputs": [],
   "source": [
    "i,_,_ = test2(5,6)"
   ]
  },
  {
   "cell_type": "code",
   "execution_count": 77,
   "id": "3e566f5a",
   "metadata": {},
   "outputs": [
    {
     "data": {
      "text/plain": [
       "50"
      ]
     },
     "execution_count": 77,
     "metadata": {},
     "output_type": "execute_result"
    }
   ],
   "source": [
    "i"
   ]
  },
  {
   "cell_type": "code",
   "execution_count": 78,
   "id": "6741e9c3",
   "metadata": {},
   "outputs": [
    {
     "data": {
      "text/plain": [
       "11"
      ]
     },
     "execution_count": 78,
     "metadata": {},
     "output_type": "execute_result"
    }
   ],
   "source": [
    "_"
   ]
  },
  {
   "cell_type": "code",
   "execution_count": 80,
   "id": "e8f3e670",
   "metadata": {},
   "outputs": [],
   "source": [
    "_,_,_ = test2(5,6)"
   ]
  },
  {
   "cell_type": "code",
   "execution_count": 81,
   "id": "0a67b1ed",
   "metadata": {},
   "outputs": [
    {
     "data": {
      "text/plain": [
       "11"
      ]
     },
     "execution_count": 81,
     "metadata": {},
     "output_type": "execute_result"
    }
   ],
   "source": [
    "_"
   ]
  },
  {
   "cell_type": "markdown",
   "id": "a91bc567",
   "metadata": {},
   "source": []
  },
  {
   "cell_type": "code",
   "execution_count": 82,
   "id": "e0246155",
   "metadata": {},
   "outputs": [],
   "source": [
    "def test3():\n",
    "    print(\"this is my first function\")"
   ]
  },
  {
   "cell_type": "code",
   "execution_count": 83,
   "id": "745de88f",
   "metadata": {},
   "outputs": [
    {
     "name": "stdout",
     "output_type": "stream",
     "text": [
      "this is my first function\n"
     ]
    }
   ],
   "source": [
    "m = test3()"
   ]
  },
  {
   "cell_type": "code",
   "execution_count": 84,
   "id": "6f640164",
   "metadata": {},
   "outputs": [
    {
     "ename": "TypeError",
     "evalue": "unsupported operand type(s) for +: 'NoneType' and 'str'",
     "output_type": "error",
     "traceback": [
      "\u001b[1;31m---------------------------------------------------------------------------\u001b[0m",
      "\u001b[1;31mTypeError\u001b[0m                                 Traceback (most recent call last)",
      "\u001b[1;32mC:\\Users\\ITDEPA~1\\AppData\\Local\\Temp/ipykernel_5624/2659564319.py\u001b[0m in \u001b[0;36m<module>\u001b[1;34m\u001b[0m\n\u001b[1;32m----> 1\u001b[1;33m \u001b[0mm\u001b[0m \u001b[1;33m+\u001b[0m \u001b[1;34m\"abcd\"\u001b[0m\u001b[1;33m\u001b[0m\u001b[1;33m\u001b[0m\u001b[0m\n\u001b[0m",
      "\u001b[1;31mTypeError\u001b[0m: unsupported operand type(s) for +: 'NoneType' and 'str'"
     ]
    }
   ],
   "source": [
    "m + \"abcd\""
   ]
  },
  {
   "cell_type": "code",
   "execution_count": 85,
   "id": "2c179a87",
   "metadata": {},
   "outputs": [],
   "source": [
    "def test4():\n",
    "    return \"this is my first class\""
   ]
  },
  {
   "cell_type": "code",
   "execution_count": 87,
   "id": "708cb161",
   "metadata": {},
   "outputs": [],
   "source": [
    "n = test4()"
   ]
  },
  {
   "cell_type": "code",
   "execution_count": 88,
   "id": "2487142b",
   "metadata": {},
   "outputs": [
    {
     "data": {
      "text/plain": [
       "'this is my first classasdf'"
      ]
     },
     "execution_count": 88,
     "metadata": {},
     "output_type": "execute_result"
    }
   ],
   "source": [
    "n + \"asdf\""
   ]
  },
  {
   "cell_type": "code",
   "execution_count": 89,
   "id": "d85ffb32",
   "metadata": {},
   "outputs": [],
   "source": [
    "def test5(n):\n",
    "    return n*2"
   ]
  },
  {
   "cell_type": "code",
   "execution_count": 91,
   "id": "e9b316cd",
   "metadata": {},
   "outputs": [
    {
     "data": {
      "text/plain": [
       "12"
      ]
     },
     "execution_count": 91,
     "metadata": {},
     "output_type": "execute_result"
    }
   ],
   "source": [
    "test5(6)"
   ]
  },
  {
   "cell_type": "code",
   "execution_count": 93,
   "id": "274999d5",
   "metadata": {},
   "outputs": [
    {
     "data": {
      "text/plain": [
       "[1, 2, 3, 1, 2, 3]"
      ]
     },
     "execution_count": 93,
     "metadata": {},
     "output_type": "execute_result"
    }
   ],
   "source": [
    "test5([1,2,3])"
   ]
  },
  {
   "cell_type": "code",
   "execution_count": 94,
   "id": "0008a3b2",
   "metadata": {},
   "outputs": [],
   "source": [
    "def test6(n):\n",
    "    return n,n*2"
   ]
  },
  {
   "cell_type": "code",
   "execution_count": 95,
   "id": "366c2e75",
   "metadata": {},
   "outputs": [],
   "source": [
    "b = test6([1,2,3,4])"
   ]
  },
  {
   "cell_type": "code",
   "execution_count": 96,
   "id": "93eeda5d",
   "metadata": {},
   "outputs": [
    {
     "data": {
      "text/plain": [
       "([1, 2, 3, 4], [1, 2, 3, 4, 1, 2, 3, 4])"
      ]
     },
     "execution_count": 96,
     "metadata": {},
     "output_type": "execute_result"
    }
   ],
   "source": [
    "b"
   ]
  },
  {
   "cell_type": "code",
   "execution_count": 97,
   "id": "74c5119a",
   "metadata": {},
   "outputs": [
    {
     "data": {
      "text/plain": [
       "[1, 2, 3, 4]"
      ]
     },
     "execution_count": 97,
     "metadata": {},
     "output_type": "execute_result"
    }
   ],
   "source": [
    "b[0]"
   ]
  },
  {
   "cell_type": "code",
   "execution_count": 98,
   "id": "7e0fe3d7",
   "metadata": {},
   "outputs": [
    {
     "data": {
      "text/plain": [
       "[1, 2, 3, 4, 1, 2, 3, 4]"
      ]
     },
     "execution_count": 98,
     "metadata": {},
     "output_type": "execute_result"
    }
   ],
   "source": [
    "b[1]"
   ]
  },
  {
   "cell_type": "markdown",
   "id": "887e5134",
   "metadata": {},
   "source": []
  },
  {
   "cell_type": "code",
   "execution_count": 101,
   "id": "2eaa0b76",
   "metadata": {},
   "outputs": [],
   "source": [
    "def test7(a, b = 50):\n",
    "    return a+b"
   ]
  },
  {
   "cell_type": "code",
   "execution_count": 102,
   "id": "373f3932",
   "metadata": {},
   "outputs": [
    {
     "data": {
      "text/plain": [
       "90"
      ]
     },
     "execution_count": 102,
     "metadata": {},
     "output_type": "execute_result"
    }
   ],
   "source": [
    "test7(40)"
   ]
  },
  {
   "cell_type": "code",
   "execution_count": 103,
   "id": "998db29a",
   "metadata": {},
   "outputs": [
    {
     "data": {
      "text/plain": [
       "100"
      ]
     },
     "execution_count": 103,
     "metadata": {},
     "output_type": "execute_result"
    }
   ],
   "source": [
    "test7(40,60)"
   ]
  },
  {
   "cell_type": "markdown",
   "id": "38378155",
   "metadata": {},
   "source": []
  },
  {
   "cell_type": "code",
   "execution_count": 104,
   "id": "2b7a8929",
   "metadata": {},
   "outputs": [],
   "source": [
    "def boolx(x = True, y = False):\n",
    "    return x + y"
   ]
  },
  {
   "cell_type": "code",
   "execution_count": 105,
   "id": "a68298fd",
   "metadata": {},
   "outputs": [
    {
     "data": {
      "text/plain": [
       "1"
      ]
     },
     "execution_count": 105,
     "metadata": {},
     "output_type": "execute_result"
    }
   ],
   "source": [
    "boolx()"
   ]
  },
  {
   "cell_type": "code",
   "execution_count": 106,
   "id": "090237e6",
   "metadata": {},
   "outputs": [
    {
     "data": {
      "text/plain": [
       "0"
      ]
     },
     "execution_count": 106,
     "metadata": {},
     "output_type": "execute_result"
    }
   ],
   "source": [
    "boolx(False)"
   ]
  },
  {
   "cell_type": "code",
   "execution_count": 107,
   "id": "f8d4a556",
   "metadata": {},
   "outputs": [
    {
     "data": {
      "text/plain": [
       "0"
      ]
     },
     "execution_count": 107,
     "metadata": {},
     "output_type": "execute_result"
    }
   ],
   "source": [
    "boolx(False,0)"
   ]
  },
  {
   "cell_type": "code",
   "execution_count": 110,
   "id": "41237f26",
   "metadata": {},
   "outputs": [
    {
     "data": {
      "text/plain": [
       "2"
      ]
     },
     "execution_count": 110,
     "metadata": {},
     "output_type": "execute_result"
    }
   ],
   "source": [
    "boolx(y = True)"
   ]
  },
  {
   "cell_type": "code",
   "execution_count": 111,
   "id": "0a12a1a9",
   "metadata": {},
   "outputs": [
    {
     "data": {
      "text/plain": [
       "8"
      ]
     },
     "execution_count": 111,
     "metadata": {},
     "output_type": "execute_result"
    }
   ],
   "source": [
    "boolx(False, 8)"
   ]
  },
  {
   "cell_type": "code",
   "execution_count": 112,
   "id": "4f222f3a",
   "metadata": {},
   "outputs": [
    {
     "data": {
      "text/plain": [
       "1"
      ]
     },
     "execution_count": 112,
     "metadata": {},
     "output_type": "execute_result"
    }
   ],
   "source": [
    "True + False"
   ]
  },
  {
   "cell_type": "markdown",
   "id": "b5765928",
   "metadata": {},
   "source": []
  },
  {
   "cell_type": "code",
   "execution_count": 115,
   "id": "fe1c790c",
   "metadata": {},
   "outputs": [],
   "source": [
    "def travel(bike = True, car = False):\n",
    "    plan_travel = bike or car\n",
    "    return bike, car, plan_travel"
   ]
  },
  {
   "cell_type": "code",
   "execution_count": 116,
   "id": "ee847f68",
   "metadata": {},
   "outputs": [
    {
     "data": {
      "text/plain": [
       "(True, False, True)"
      ]
     },
     "execution_count": 116,
     "metadata": {},
     "output_type": "execute_result"
    }
   ],
   "source": [
    "travel()"
   ]
  },
  {
   "cell_type": "code",
   "execution_count": 117,
   "id": "67ee6233",
   "metadata": {},
   "outputs": [
    {
     "data": {
      "text/plain": [
       "(False, False, False)"
      ]
     },
     "execution_count": 117,
     "metadata": {},
     "output_type": "execute_result"
    }
   ],
   "source": [
    "travel(False)"
   ]
  },
  {
   "cell_type": "code",
   "execution_count": 118,
   "id": "0820bb2c",
   "metadata": {},
   "outputs": [
    {
     "data": {
      "text/plain": [
       "(True, False, True)"
      ]
     },
     "execution_count": 118,
     "metadata": {},
     "output_type": "execute_result"
    }
   ],
   "source": [
    "travel(True)"
   ]
  },
  {
   "cell_type": "code",
   "execution_count": 119,
   "id": "3047a9b0",
   "metadata": {},
   "outputs": [
    {
     "data": {
      "text/plain": [
       "(True, True, True)"
      ]
     },
     "execution_count": 119,
     "metadata": {},
     "output_type": "execute_result"
    }
   ],
   "source": [
    "travel( car = True)"
   ]
  },
  {
   "cell_type": "markdown",
   "id": "a9f0a808",
   "metadata": {},
   "source": [
    "### Variable Arguments"
   ]
  },
  {
   "cell_type": "markdown",
   "id": "d0c0f7cc",
   "metadata": {},
   "source": [
    "#### *args"
   ]
  },
  {
   "cell_type": "code",
   "execution_count": 135,
   "id": "5c4a9abf",
   "metadata": {},
   "outputs": [],
   "source": [
    "def test8(*args):\n",
    "    return args"
   ]
  },
  {
   "cell_type": "code",
   "execution_count": 137,
   "id": "26d531a9",
   "metadata": {},
   "outputs": [
    {
     "data": {
      "text/plain": [
       "(1,)"
      ]
     },
     "execution_count": 137,
     "metadata": {},
     "output_type": "execute_result"
    }
   ],
   "source": [
    "test8(1)"
   ]
  },
  {
   "cell_type": "code",
   "execution_count": 139,
   "id": "dabbb432",
   "metadata": {},
   "outputs": [
    {
     "data": {
      "text/plain": [
       "('abc', 'pqr')"
      ]
     },
     "execution_count": 139,
     "metadata": {},
     "output_type": "execute_result"
    }
   ],
   "source": [
    "test8(\"abc\",\"pqr\")"
   ]
  },
  {
   "cell_type": "code",
   "execution_count": 138,
   "id": "4f7e5b8e",
   "metadata": {},
   "outputs": [
    {
     "data": {
      "text/plain": [
       "('abc', 'xyz', 23, [12, 34, 567, 99])"
      ]
     },
     "execution_count": 138,
     "metadata": {},
     "output_type": "execute_result"
    }
   ],
   "source": [
    "test8(\"abc\",\"xyz\",23,[12,34,567,99])"
   ]
  },
  {
   "cell_type": "code",
   "execution_count": 144,
   "id": "f15014f4",
   "metadata": {},
   "outputs": [],
   "source": [
    "def test9(*args):\n",
    "    x = list()\n",
    "    for i in args:\n",
    "        x.extend(i)\n",
    "    return x"
   ]
  },
  {
   "cell_type": "code",
   "execution_count": 145,
   "id": "998ecedd",
   "metadata": {},
   "outputs": [
    {
     "data": {
      "text/plain": [
       "[23, 345, 345, 12]"
      ]
     },
     "execution_count": 145,
     "metadata": {},
     "output_type": "execute_result"
    }
   ],
   "source": [
    "test9([23,345],[345,12])"
   ]
  },
  {
   "cell_type": "code",
   "execution_count": 153,
   "id": "f3926922",
   "metadata": {},
   "outputs": [
    {
     "data": {
      "text/plain": [
       "[23, 345, 'abc', 'ss']"
      ]
     },
     "execution_count": 153,
     "metadata": {},
     "output_type": "execute_result"
    }
   ],
   "source": [
    "test9([23,345],[\"abc\",\"ss\"])"
   ]
  },
  {
   "cell_type": "code",
   "execution_count": 155,
   "id": "ac8744e5",
   "metadata": {},
   "outputs": [
    {
     "ename": "TypeError",
     "evalue": "'int' object is not iterable",
     "output_type": "error",
     "traceback": [
      "\u001b[1;31m---------------------------------------------------------------------------\u001b[0m",
      "\u001b[1;31mTypeError\u001b[0m                                 Traceback (most recent call last)",
      "\u001b[1;32mC:\\Users\\ITDEPA~1\\AppData\\Local\\Temp/ipykernel_5624/3026779318.py\u001b[0m in \u001b[0;36m<module>\u001b[1;34m\u001b[0m\n\u001b[1;32m----> 1\u001b[1;33m \u001b[0mtest9\u001b[0m\u001b[1;33m(\u001b[0m\u001b[1;36m10\u001b[0m\u001b[1;33m,\u001b[0m\u001b[1;34m\"aaa\"\u001b[0m\u001b[1;33m,\u001b[0m\u001b[1;33m[\u001b[0m\u001b[1;36m23\u001b[0m\u001b[1;33m,\u001b[0m\u001b[1;36m345\u001b[0m\u001b[1;33m]\u001b[0m\u001b[1;33m,\u001b[0m\u001b[1;33m[\u001b[0m\u001b[1;34m\"abc\"\u001b[0m\u001b[1;33m,\u001b[0m\u001b[1;34m\"ss\"\u001b[0m\u001b[1;33m]\u001b[0m\u001b[1;33m)\u001b[0m\u001b[1;33m\u001b[0m\u001b[1;33m\u001b[0m\u001b[0m\n\u001b[0m",
      "\u001b[1;32mC:\\Users\\ITDEPA~1\\AppData\\Local\\Temp/ipykernel_5624/1569970784.py\u001b[0m in \u001b[0;36mtest9\u001b[1;34m(*args)\u001b[0m\n\u001b[0;32m      2\u001b[0m     \u001b[0mx\u001b[0m \u001b[1;33m=\u001b[0m \u001b[0mlist\u001b[0m\u001b[1;33m(\u001b[0m\u001b[1;33m)\u001b[0m\u001b[1;33m\u001b[0m\u001b[1;33m\u001b[0m\u001b[0m\n\u001b[0;32m      3\u001b[0m     \u001b[1;32mfor\u001b[0m \u001b[0mi\u001b[0m \u001b[1;32min\u001b[0m \u001b[0margs\u001b[0m\u001b[1;33m:\u001b[0m\u001b[1;33m\u001b[0m\u001b[1;33m\u001b[0m\u001b[0m\n\u001b[1;32m----> 4\u001b[1;33m         \u001b[0mx\u001b[0m\u001b[1;33m.\u001b[0m\u001b[0mextend\u001b[0m\u001b[1;33m(\u001b[0m\u001b[0mi\u001b[0m\u001b[1;33m)\u001b[0m\u001b[1;33m\u001b[0m\u001b[1;33m\u001b[0m\u001b[0m\n\u001b[0m\u001b[0;32m      5\u001b[0m     \u001b[1;32mreturn\u001b[0m \u001b[0mx\u001b[0m\u001b[1;33m\u001b[0m\u001b[1;33m\u001b[0m\u001b[0m\n",
      "\u001b[1;31mTypeError\u001b[0m: 'int' object is not iterable"
     ]
    }
   ],
   "source": [
    "test9(10,\"aaa\",[23,345],[\"abc\",\"ss\"])"
   ]
  },
  {
   "cell_type": "code",
   "execution_count": 158,
   "id": "33c2a87d",
   "metadata": {},
   "outputs": [],
   "source": [
    "def test10(*args):\n",
    "    x = list()\n",
    "    for i in args:\n",
    "        if type(i) == list:\n",
    "            x.extend(i)\n",
    "    return x"
   ]
  },
  {
   "cell_type": "code",
   "execution_count": 159,
   "id": "3d12968c",
   "metadata": {},
   "outputs": [
    {
     "data": {
      "text/plain": [
       "[23, 345, 'abc', 'ss']"
      ]
     },
     "execution_count": 159,
     "metadata": {},
     "output_type": "execute_result"
    }
   ],
   "source": [
    "test10(10,\"aaa\",[23,345],[\"abc\",\"ss\"])"
   ]
  },
  {
   "cell_type": "markdown",
   "id": "9fdea9da",
   "metadata": {},
   "source": [
    "#### **kwargs\n",
    "\n",
    "It will take Variable arguments in the form of **Key-Value** pair"
   ]
  },
  {
   "cell_type": "code",
   "execution_count": 179,
   "id": "cfaa9f69",
   "metadata": {},
   "outputs": [],
   "source": [
    "def test11(**kwargs):\n",
    "    return kwargs"
   ]
  },
  {
   "cell_type": "code",
   "execution_count": 185,
   "id": "5df64def",
   "metadata": {},
   "outputs": [
    {
     "data": {
      "text/plain": [
       "{'a': 2, 'b': 8, 'c': 7, 'd': 'sac'}"
      ]
     },
     "execution_count": 185,
     "metadata": {},
     "output_type": "execute_result"
    }
   ],
   "source": [
    "test11(a = 2, b = 8, c = 7, d = \"sac\")"
   ]
  },
  {
   "cell_type": "code",
   "execution_count": 186,
   "id": "c8b0a5a6",
   "metadata": {},
   "outputs": [
    {
     "data": {
      "text/plain": [
       "{'a': 2, 'b': [8, 7, 6, 5], 'c': (7, 8, 9), 'd': 'sac'}"
      ]
     },
     "execution_count": 186,
     "metadata": {},
     "output_type": "execute_result"
    }
   ],
   "source": [
    "test11(a = 2, b = [8,7,6,5], c = (7,8,9), d = \"sac\")"
   ]
  },
  {
   "cell_type": "markdown",
   "id": "728450e4",
   "metadata": {},
   "source": [
    "### Exercise\n",
    "\n",
    "1. Create a function to take any number of mixed data (list, tuple, set, dictionary, string, integer, float etc.) and try to create a list of seperate data based on datatype and return multiple result. \n",
    "\n",
    "2. Create a function which will be able to use \\*args and \\*\\*kwargs and it will be able to do all the list value concatenation and return a list"
   ]
  },
  {
   "cell_type": "code",
   "execution_count": 461,
   "id": "ce180060",
   "metadata": {},
   "outputs": [],
   "source": [
    "# Q.1 \n",
    "\n",
    "def one(*args):\n",
    "    i = []\n",
    "    f = []\n",
    "    l = []\n",
    "    t = []\n",
    "    s = []\n",
    "    d = []\n",
    "    stg = []\n",
    "    for x in args:\n",
    "        if type(x) == int:\n",
    "            i.append(x)\n",
    "        elif type(x) == float:\n",
    "            f.append(x)\n",
    "        elif type(x) == list:\n",
    "            l.extend(x)\n",
    "        elif type(x) == tuple:\n",
    "            t.extend(x)\n",
    "        elif type(x) == set:\n",
    "            s.extend(x)\n",
    "        elif type(x) == dict:\n",
    "            d.extend(x)\n",
    "        else:\n",
    "            stg.extend(x)\n",
    "    return i,f,l,t,s,d,stg   "
   ]
  },
  {
   "cell_type": "code",
   "execution_count": 462,
   "id": "52744ce3",
   "metadata": {},
   "outputs": [
    {
     "data": {
      "text/plain": [
       "([10, 66],\n",
       " [34.2],\n",
       " [12, 23, 34],\n",
       " [11, 22, 33],\n",
       " [56, 67, 88],\n",
       " [],\n",
       " ['a', 'b', 'c'])"
      ]
     },
     "execution_count": 462,
     "metadata": {},
     "output_type": "execute_result"
    }
   ],
   "source": [
    "one(10,34.2,66,[12,23,34],(11,22,33),{56,67,88},\"abc\")    "
   ]
  },
  {
   "cell_type": "code",
   "execution_count": 463,
   "id": "ce299cae",
   "metadata": {},
   "outputs": [
    {
     "ename": "TypeError",
     "evalue": "'complex' object is not iterable",
     "output_type": "error",
     "traceback": [
      "\u001b[1;31m---------------------------------------------------------------------------\u001b[0m",
      "\u001b[1;31mTypeError\u001b[0m                                 Traceback (most recent call last)",
      "\u001b[1;32mC:\\Users\\ITDEPA~1\\AppData\\Local\\Temp/ipykernel_5624/3003149442.py\u001b[0m in \u001b[0;36m<module>\u001b[1;34m\u001b[0m\n\u001b[1;32m----> 1\u001b[1;33m \u001b[0mone\u001b[0m\u001b[1;33m(\u001b[0m\u001b[1;36m10\u001b[0m\u001b[1;33m,\u001b[0m\u001b[1;36m34.2\u001b[0m\u001b[1;33m,\u001b[0m\u001b[1;36m66\u001b[0m\u001b[1;33m,\u001b[0m\u001b[1;33m[\u001b[0m\u001b[1;36m12\u001b[0m\u001b[1;33m,\u001b[0m\u001b[1;36m23\u001b[0m\u001b[1;33m,\u001b[0m\u001b[1;36m34\u001b[0m\u001b[1;33m]\u001b[0m\u001b[1;33m,\u001b[0m\u001b[1;33m(\u001b[0m\u001b[1;36m11\u001b[0m\u001b[1;33m,\u001b[0m\u001b[1;36m22\u001b[0m\u001b[1;33m,\u001b[0m\u001b[1;36m33\u001b[0m\u001b[1;33m)\u001b[0m\u001b[1;33m,\u001b[0m\u001b[1;33m{\u001b[0m\u001b[1;36m56\u001b[0m\u001b[1;33m,\u001b[0m\u001b[1;36m67\u001b[0m\u001b[1;33m,\u001b[0m\u001b[1;36m88\u001b[0m\u001b[1;33m}\u001b[0m\u001b[1;33m,\u001b[0m\u001b[1;34m\"abc\"\u001b[0m\u001b[1;33m,\u001b[0m\u001b[1;36m4\u001b[0m\u001b[1;33m+\u001b[0m\u001b[1;36m2j\u001b[0m\u001b[1;33m)\u001b[0m\u001b[1;33m\u001b[0m\u001b[1;33m\u001b[0m\u001b[0m\n\u001b[0m",
      "\u001b[1;32mC:\\Users\\ITDEPA~1\\AppData\\Local\\Temp/ipykernel_5624/238301932.py\u001b[0m in \u001b[0;36mone\u001b[1;34m(*args)\u001b[0m\n\u001b[0;32m     21\u001b[0m             \u001b[0md\u001b[0m\u001b[1;33m.\u001b[0m\u001b[0mextend\u001b[0m\u001b[1;33m(\u001b[0m\u001b[0mx\u001b[0m\u001b[1;33m)\u001b[0m\u001b[1;33m\u001b[0m\u001b[1;33m\u001b[0m\u001b[0m\n\u001b[0;32m     22\u001b[0m         \u001b[1;32melse\u001b[0m\u001b[1;33m:\u001b[0m\u001b[1;33m\u001b[0m\u001b[1;33m\u001b[0m\u001b[0m\n\u001b[1;32m---> 23\u001b[1;33m             \u001b[0mstg\u001b[0m\u001b[1;33m.\u001b[0m\u001b[0mextend\u001b[0m\u001b[1;33m(\u001b[0m\u001b[0mx\u001b[0m\u001b[1;33m)\u001b[0m\u001b[1;33m\u001b[0m\u001b[1;33m\u001b[0m\u001b[0m\n\u001b[0m\u001b[0;32m     24\u001b[0m     \u001b[1;32mreturn\u001b[0m \u001b[0mi\u001b[0m\u001b[1;33m,\u001b[0m\u001b[0mf\u001b[0m\u001b[1;33m,\u001b[0m\u001b[0ml\u001b[0m\u001b[1;33m,\u001b[0m\u001b[0mt\u001b[0m\u001b[1;33m,\u001b[0m\u001b[0ms\u001b[0m\u001b[1;33m,\u001b[0m\u001b[0md\u001b[0m\u001b[1;33m,\u001b[0m\u001b[0mstg\u001b[0m\u001b[1;33m\u001b[0m\u001b[1;33m\u001b[0m\u001b[0m\n",
      "\u001b[1;31mTypeError\u001b[0m: 'complex' object is not iterable"
     ]
    }
   ],
   "source": [
    "one(10,34.2,66,[12,23,34],(11,22,33),{56,67,88},\"abc\",4+2j) "
   ]
  },
  {
   "cell_type": "code",
   "execution_count": 525,
   "id": "d61e5dfa",
   "metadata": {},
   "outputs": [],
   "source": [
    "# Q.1 (Optimized)\n",
    "\n",
    "def Aone(*args):\n",
    "    l = []\n",
    "    bkt = []\n",
    "\n",
    "    for x in args:\n",
    "        if type(x) not in l:\n",
    "            l.append(type(x))\n",
    "            bkt.append([x])\n",
    "        else:\n",
    "            for i in range(0,len(bkt)):\n",
    "                if type(bkt[i][0]) == type(x):\n",
    "                    bkt[i].append(x)   \n",
    "    return bkt"
   ]
  },
  {
   "cell_type": "code",
   "execution_count": 526,
   "id": "312b0ef7",
   "metadata": {},
   "outputs": [
    {
     "data": {
      "text/plain": [
       "[[10, 10],\n",
       " [20.2, 20.2],\n",
       " [True, True],\n",
       " [[32, 22], [32, 22]],\n",
       " [(23, 12), (23, 12)],\n",
       " [(3+8j), (3+8j)],\n",
       " ['sach', 'sach'],\n",
       " [{2, 3, 4}, {2, 3, 4}],\n",
       " [{1: 'a', 'b': 2}, {1: 'a', 'b': 2}]]"
      ]
     },
     "execution_count": 526,
     "metadata": {},
     "output_type": "execute_result"
    }
   ],
   "source": [
    "Aone(10,20.2,True,[32,22],(23,12),3+8j,\"sach\",{2,3,4},{1:\"a\",\"b\":2},10,20.2,True,[32,22],(23,12),3+8j,\"sach\",{2,3,4},{1:\"a\",\"b\":2})"
   ]
  },
  {
   "cell_type": "code",
   "execution_count": 527,
   "id": "54b7c349",
   "metadata": {},
   "outputs": [
    {
     "data": {
      "text/plain": [
       "[[None], [2, 3], [56.7]]"
      ]
     },
     "execution_count": 527,
     "metadata": {},
     "output_type": "execute_result"
    }
   ],
   "source": [
    "Aone(None,2,3,56.7)"
   ]
  },
  {
   "cell_type": "code",
   "execution_count": 528,
   "id": "828ca5e3",
   "metadata": {},
   "outputs": [],
   "source": [
    "# Q.2 \n",
    "\n",
    "def two(*args, **kwargs):\n",
    "    l = []\n",
    "    m = []\n",
    "    for i in args:\n",
    "        if type(i) == list or type(i) == tuple or type(i) == set:\n",
    "            l.extend(i)\n",
    "        elif type(i) == dict:\n",
    "            l.extend(list(i.values()))\n",
    "        else :\n",
    "            l.append(i)\n",
    "        \n",
    "    for j in kwargs.values():\n",
    "            if type(j) == list:\n",
    "                m.extend(j) \n",
    "    \n",
    "    return l , m"
   ]
  },
  {
   "cell_type": "code",
   "execution_count": 529,
   "id": "b44d6809",
   "metadata": {},
   "outputs": [
    {
     "data": {
      "text/plain": [
       "([23, 34, 1, 2, 'abc', 34, 56, 90, 78, 34, 1, 2], [11, 12, 456, 34, 12])"
      ]
     },
     "execution_count": 529,
     "metadata": {},
     "output_type": "execute_result"
    }
   ],
   "source": [
    "two(23,34,[1,2,\"abc\"], (34,56),{78,90},34,{\"a\":1,\"b\":2}, x =34, y = [11,12], z = [456,34,12])"
   ]
  },
  {
   "cell_type": "markdown",
   "id": "bdbdc7b7",
   "metadata": {},
   "source": [
    "### Lambda Function"
   ]
  },
  {
   "cell_type": "code",
   "execution_count": 530,
   "id": "7636335b",
   "metadata": {},
   "outputs": [],
   "source": [
    "def fun1(name, mail_id):\n",
    "    con = name + mail_id\n",
    "    return mail_id, name, con"
   ]
  },
  {
   "cell_type": "code",
   "execution_count": 539,
   "id": "3a586ca8",
   "metadata": {},
   "outputs": [
    {
     "data": {
      "text/plain": [
       "('xyz@example.com', 'abc', 'abcxyz@example.com')"
      ]
     },
     "execution_count": 539,
     "metadata": {},
     "output_type": "execute_result"
    }
   ],
   "source": [
    "fun1(\"abc\", \"xyz@example.com\")"
   ]
  },
  {
   "cell_type": "code",
   "execution_count": 540,
   "id": "a9067c6f",
   "metadata": {},
   "outputs": [],
   "source": [
    "a = 10\n",
    "b = 20\n",
    "\n",
    "def fun2(x, y):\n",
    "    return x+ y"
   ]
  },
  {
   "cell_type": "code",
   "execution_count": 541,
   "id": "59bf04fa",
   "metadata": {},
   "outputs": [
    {
     "data": {
      "text/plain": [
       "30"
      ]
     },
     "execution_count": 541,
     "metadata": {},
     "output_type": "execute_result"
    }
   ],
   "source": [
    "fun2(a,b)"
   ]
  },
  {
   "cell_type": "code",
   "execution_count": 542,
   "id": "7ff5c5d8",
   "metadata": {},
   "outputs": [],
   "source": [
    "m = lambda x,y : x+y"
   ]
  },
  {
   "cell_type": "code",
   "execution_count": 543,
   "id": "d878a7ba",
   "metadata": {},
   "outputs": [
    {
     "data": {
      "text/plain": [
       "30"
      ]
     },
     "execution_count": 543,
     "metadata": {},
     "output_type": "execute_result"
    }
   ],
   "source": [
    "m(a,b)"
   ]
  },
  {
   "cell_type": "code",
   "execution_count": 544,
   "id": "fe73d2a2",
   "metadata": {},
   "outputs": [
    {
     "data": {
      "text/plain": [
       "'abcxyz@example.com'"
      ]
     },
     "execution_count": 544,
     "metadata": {},
     "output_type": "execute_result"
    }
   ],
   "source": [
    "m(\"abc\",\"xyz@example.com\")"
   ]
  },
  {
   "cell_type": "code",
   "execution_count": 547,
   "id": "e3763de4",
   "metadata": {},
   "outputs": [],
   "source": [
    "c = \"pqr\"\n",
    "d = \"ijk\"\n",
    "g = lambda arg1,arg2 : print(arg1,arg2)"
   ]
  },
  {
   "cell_type": "code",
   "execution_count": 549,
   "id": "08217aa8",
   "metadata": {},
   "outputs": [
    {
     "name": "stdout",
     "output_type": "stream",
     "text": [
      "pqr ijk\n"
     ]
    }
   ],
   "source": [
    "g(c,d)"
   ]
  },
  {
   "cell_type": "markdown",
   "id": "0c0a476f",
   "metadata": {},
   "source": [
    "### Global and Local Variable"
   ]
  },
  {
   "cell_type": "code",
   "execution_count": 563,
   "id": "00d11cf1",
   "metadata": {},
   "outputs": [],
   "source": [
    "r = 10\n",
    "\n",
    "def fun3(a,b):\n",
    "    r = a/b\n",
    "    print(r)"
   ]
  },
  {
   "cell_type": "code",
   "execution_count": 564,
   "id": "7ea9c773",
   "metadata": {},
   "outputs": [
    {
     "name": "stdout",
     "output_type": "stream",
     "text": [
      "10.0\n"
     ]
    }
   ],
   "source": [
    "fun3(100,10)"
   ]
  },
  {
   "cell_type": "code",
   "execution_count": 565,
   "id": "601c88d8",
   "metadata": {},
   "outputs": [
    {
     "name": "stdout",
     "output_type": "stream",
     "text": [
      "2.0\n"
     ]
    }
   ],
   "source": [
    "fun3(10,5)"
   ]
  },
  {
   "cell_type": "code",
   "execution_count": 566,
   "id": "43d6cef3",
   "metadata": {},
   "outputs": [
    {
     "name": "stdout",
     "output_type": "stream",
     "text": [
      "10\n"
     ]
    }
   ],
   "source": [
    "print(r)"
   ]
  },
  {
   "cell_type": "markdown",
   "id": "fd5a12f9",
   "metadata": {},
   "source": [
    "### Docstring\n",
    "\n",
    "**print() -> shift+tab** will show detail about function definition and argument detail. This is nothing but dotstring."
   ]
  },
  {
   "cell_type": "markdown",
   "id": "c5639bd4",
   "metadata": {},
   "source": [
    "We can create Docstring for our own function."
   ]
  },
  {
   "cell_type": "code",
   "execution_count": 567,
   "id": "ae5647e2",
   "metadata": {},
   "outputs": [],
   "source": [
    "def fun4():\n",
    "    print(\"My function\")"
   ]
  },
  {
   "cell_type": "code",
   "execution_count": 569,
   "id": "24b333b5",
   "metadata": {},
   "outputs": [
    {
     "name": "stdout",
     "output_type": "stream",
     "text": [
      "My function\n"
     ]
    }
   ],
   "source": [
    "fun4()"
   ]
  },
  {
   "cell_type": "code",
   "execution_count": 570,
   "id": "aced2a54",
   "metadata": {},
   "outputs": [],
   "source": [
    "def fun4():\n",
    "    \"\"\"\n",
    "    This function just print message \"My function\"\n",
    "    \"\"\"\n",
    "    print(\"My function\")"
   ]
  },
  {
   "cell_type": "markdown",
   "id": "258649de",
   "metadata": {},
   "source": [
    "fun4() -> shift+tab will show our message in docstring"
   ]
  },
  {
   "cell_type": "markdown",
   "id": "1d98c030",
   "metadata": {},
   "source": [
    "### Iterator, Iterable & Generator"
   ]
  },
  {
   "cell_type": "code",
   "execution_count": 598,
   "id": "f469193a",
   "metadata": {},
   "outputs": [],
   "source": [
    "a = 10"
   ]
  },
  {
   "cell_type": "code",
   "execution_count": 599,
   "id": "61470d16",
   "metadata": {},
   "outputs": [
    {
     "ename": "TypeError",
     "evalue": "'int' object is not iterable",
     "output_type": "error",
     "traceback": [
      "\u001b[1;31m---------------------------------------------------------------------------\u001b[0m",
      "\u001b[1;31mTypeError\u001b[0m                                 Traceback (most recent call last)",
      "\u001b[1;32mC:\\Users\\ITDEPA~1\\AppData\\Local\\Temp/ipykernel_5624/3114545233.py\u001b[0m in \u001b[0;36m<module>\u001b[1;34m\u001b[0m\n\u001b[1;32m----> 1\u001b[1;33m \u001b[1;32mfor\u001b[0m \u001b[0mi\u001b[0m \u001b[1;32min\u001b[0m \u001b[0ma\u001b[0m\u001b[1;33m:\u001b[0m\u001b[1;33m\u001b[0m\u001b[1;33m\u001b[0m\u001b[0m\n\u001b[0m\u001b[0;32m      2\u001b[0m     \u001b[0mprint\u001b[0m\u001b[1;33m(\u001b[0m\u001b[0mi\u001b[0m\u001b[1;33m)\u001b[0m\u001b[1;33m\u001b[0m\u001b[1;33m\u001b[0m\u001b[0m\n",
      "\u001b[1;31mTypeError\u001b[0m: 'int' object is not iterable"
     ]
    }
   ],
   "source": [
    "for i in a:\n",
    "    print(i)"
   ]
  },
  {
   "cell_type": "code",
   "execution_count": 600,
   "id": "3d66dc47",
   "metadata": {},
   "outputs": [
    {
     "name": "stdout",
     "output_type": "stream",
     "text": [
      "s\n",
      "a\n",
      "c\n",
      "h\n"
     ]
    }
   ],
   "source": [
    "for i in \"sach\":\n",
    "    print(i)"
   ]
  },
  {
   "cell_type": "code",
   "execution_count": 601,
   "id": "1e5b58d5",
   "metadata": {},
   "outputs": [
    {
     "ename": "TypeError",
     "evalue": "'str' object is not an iterator",
     "output_type": "error",
     "traceback": [
      "\u001b[1;31m---------------------------------------------------------------------------\u001b[0m",
      "\u001b[1;31mTypeError\u001b[0m                                 Traceback (most recent call last)",
      "\u001b[1;32mC:\\Users\\ITDEPA~1\\AppData\\Local\\Temp/ipykernel_5624/3058655446.py\u001b[0m in \u001b[0;36m<module>\u001b[1;34m\u001b[0m\n\u001b[0;32m      1\u001b[0m \u001b[0ms\u001b[0m \u001b[1;33m=\u001b[0m \u001b[1;34m\"sach\"\u001b[0m\u001b[1;33m\u001b[0m\u001b[1;33m\u001b[0m\u001b[0m\n\u001b[1;32m----> 2\u001b[1;33m \u001b[0mnext\u001b[0m\u001b[1;33m(\u001b[0m\u001b[0ms\u001b[0m\u001b[1;33m)\u001b[0m\u001b[1;33m\u001b[0m\u001b[1;33m\u001b[0m\u001b[0m\n\u001b[0m",
      "\u001b[1;31mTypeError\u001b[0m: 'str' object is not an iterator"
     ]
    }
   ],
   "source": [
    "s = \"sach\"\n",
    "next(s)"
   ]
  },
  {
   "cell_type": "code",
   "execution_count": 602,
   "id": "a93a2b71",
   "metadata": {},
   "outputs": [],
   "source": [
    "i = iter(s)"
   ]
  },
  {
   "cell_type": "code",
   "execution_count": 603,
   "id": "237f2d34",
   "metadata": {},
   "outputs": [
    {
     "data": {
      "text/plain": [
       "'s'"
      ]
     },
     "execution_count": 603,
     "metadata": {},
     "output_type": "execute_result"
    }
   ],
   "source": [
    "next(i)"
   ]
  },
  {
   "cell_type": "code",
   "execution_count": 604,
   "id": "4117b94b",
   "metadata": {},
   "outputs": [
    {
     "ename": "TypeError",
     "evalue": "'int' object is not an iterator",
     "output_type": "error",
     "traceback": [
      "\u001b[1;31m---------------------------------------------------------------------------\u001b[0m",
      "\u001b[1;31mTypeError\u001b[0m                                 Traceback (most recent call last)",
      "\u001b[1;32mC:\\Users\\ITDEPA~1\\AppData\\Local\\Temp/ipykernel_5624/3477243099.py\u001b[0m in \u001b[0;36m<module>\u001b[1;34m\u001b[0m\n\u001b[0;32m      1\u001b[0m \u001b[0ma\u001b[0m \u001b[1;33m=\u001b[0m \u001b[1;36m10\u001b[0m\u001b[1;33m\u001b[0m\u001b[1;33m\u001b[0m\u001b[0m\n\u001b[1;32m----> 2\u001b[1;33m \u001b[0mnext\u001b[0m\u001b[1;33m(\u001b[0m\u001b[0ma\u001b[0m\u001b[1;33m)\u001b[0m\u001b[1;33m\u001b[0m\u001b[1;33m\u001b[0m\u001b[0m\n\u001b[0m",
      "\u001b[1;31mTypeError\u001b[0m: 'int' object is not an iterator"
     ]
    }
   ],
   "source": [
    "a = 10\n",
    "next(a)"
   ]
  },
  {
   "cell_type": "code",
   "execution_count": 605,
   "id": "bb06c8bc",
   "metadata": {},
   "outputs": [
    {
     "ename": "TypeError",
     "evalue": "'int' object is not iterable",
     "output_type": "error",
     "traceback": [
      "\u001b[1;31m---------------------------------------------------------------------------\u001b[0m",
      "\u001b[1;31mTypeError\u001b[0m                                 Traceback (most recent call last)",
      "\u001b[1;32mC:\\Users\\ITDEPA~1\\AppData\\Local\\Temp/ipykernel_5624/329571149.py\u001b[0m in \u001b[0;36m<module>\u001b[1;34m\u001b[0m\n\u001b[1;32m----> 1\u001b[1;33m \u001b[0mi\u001b[0m \u001b[1;33m=\u001b[0m \u001b[0miter\u001b[0m\u001b[1;33m(\u001b[0m\u001b[0ma\u001b[0m\u001b[1;33m)\u001b[0m\u001b[1;33m\u001b[0m\u001b[1;33m\u001b[0m\u001b[0m\n\u001b[0m",
      "\u001b[1;31mTypeError\u001b[0m: 'int' object is not iterable"
     ]
    }
   ],
   "source": [
    "i = iter(a)"
   ]
  },
  {
   "cell_type": "code",
   "execution_count": 606,
   "id": "66c311a5",
   "metadata": {},
   "outputs": [],
   "source": [
    "s = \"sach\"\n",
    "i = iter(s)\n"
   ]
  },
  {
   "cell_type": "code",
   "execution_count": 607,
   "id": "a0f4c926",
   "metadata": {},
   "outputs": [
    {
     "data": {
      "text/plain": [
       "'s'"
      ]
     },
     "execution_count": 607,
     "metadata": {},
     "output_type": "execute_result"
    }
   ],
   "source": [
    "next(i)"
   ]
  },
  {
   "cell_type": "code",
   "execution_count": 608,
   "id": "8dfdfb08",
   "metadata": {},
   "outputs": [
    {
     "data": {
      "text/plain": [
       "'a'"
      ]
     },
     "execution_count": 608,
     "metadata": {},
     "output_type": "execute_result"
    }
   ],
   "source": [
    "next(i)"
   ]
  },
  {
   "cell_type": "code",
   "execution_count": 609,
   "id": "dc9b5477",
   "metadata": {},
   "outputs": [
    {
     "data": {
      "text/plain": [
       "'c'"
      ]
     },
     "execution_count": 609,
     "metadata": {},
     "output_type": "execute_result"
    }
   ],
   "source": [
    "next(i)"
   ]
  },
  {
   "cell_type": "code",
   "execution_count": 610,
   "id": "b2ebc8b5",
   "metadata": {},
   "outputs": [
    {
     "data": {
      "text/plain": [
       "'h'"
      ]
     },
     "execution_count": 610,
     "metadata": {},
     "output_type": "execute_result"
    }
   ],
   "source": [
    "next(i)"
   ]
  },
  {
   "cell_type": "code",
   "execution_count": 611,
   "id": "36d0e168",
   "metadata": {},
   "outputs": [
    {
     "ename": "StopIteration",
     "evalue": "",
     "output_type": "error",
     "traceback": [
      "\u001b[1;31m---------------------------------------------------------------------------\u001b[0m",
      "\u001b[1;31mStopIteration\u001b[0m                             Traceback (most recent call last)",
      "\u001b[1;32mC:\\Users\\ITDEPA~1\\AppData\\Local\\Temp/ipykernel_5624/1939748483.py\u001b[0m in \u001b[0;36m<module>\u001b[1;34m\u001b[0m\n\u001b[1;32m----> 1\u001b[1;33m \u001b[0mnext\u001b[0m\u001b[1;33m(\u001b[0m\u001b[0mi\u001b[0m\u001b[1;33m)\u001b[0m\u001b[1;33m\u001b[0m\u001b[1;33m\u001b[0m\u001b[0m\n\u001b[0m",
      "\u001b[1;31mStopIteration\u001b[0m: "
     ]
    }
   ],
   "source": [
    "next(i)"
   ]
  },
  {
   "cell_type": "code",
   "execution_count": 612,
   "id": "ea496ee0",
   "metadata": {},
   "outputs": [],
   "source": [
    "l = [1,2,3,4]"
   ]
  },
  {
   "cell_type": "code",
   "execution_count": 613,
   "id": "18e5b32e",
   "metadata": {},
   "outputs": [
    {
     "ename": "TypeError",
     "evalue": "'list' object is not an iterator",
     "output_type": "error",
     "traceback": [
      "\u001b[1;31m---------------------------------------------------------------------------\u001b[0m",
      "\u001b[1;31mTypeError\u001b[0m                                 Traceback (most recent call last)",
      "\u001b[1;32mC:\\Users\\ITDEPA~1\\AppData\\Local\\Temp/ipykernel_5624/2016234150.py\u001b[0m in \u001b[0;36m<module>\u001b[1;34m\u001b[0m\n\u001b[1;32m----> 1\u001b[1;33m \u001b[0mnext\u001b[0m\u001b[1;33m(\u001b[0m\u001b[0ml\u001b[0m\u001b[1;33m)\u001b[0m\u001b[1;33m\u001b[0m\u001b[1;33m\u001b[0m\u001b[0m\n\u001b[0m",
      "\u001b[1;31mTypeError\u001b[0m: 'list' object is not an iterator"
     ]
    }
   ],
   "source": [
    "next(l)"
   ]
  },
  {
   "cell_type": "code",
   "execution_count": 614,
   "id": "cc217fb7",
   "metadata": {},
   "outputs": [],
   "source": [
    "i = iter(l)"
   ]
  },
  {
   "cell_type": "code",
   "execution_count": 615,
   "id": "8983da21",
   "metadata": {},
   "outputs": [
    {
     "data": {
      "text/plain": [
       "1"
      ]
     },
     "execution_count": 615,
     "metadata": {},
     "output_type": "execute_result"
    }
   ],
   "source": [
    "next(i)"
   ]
  },
  {
   "cell_type": "code",
   "execution_count": 616,
   "id": "f0dfe77f",
   "metadata": {},
   "outputs": [
    {
     "data": {
      "text/plain": [
       "2"
      ]
     },
     "execution_count": 616,
     "metadata": {},
     "output_type": "execute_result"
    }
   ],
   "source": [
    "next(i)"
   ]
  },
  {
   "cell_type": "code",
   "execution_count": 617,
   "id": "d5c33934",
   "metadata": {},
   "outputs": [
    {
     "data": {
      "text/plain": [
       "3"
      ]
     },
     "execution_count": 617,
     "metadata": {},
     "output_type": "execute_result"
    }
   ],
   "source": [
    "next(i)"
   ]
  },
  {
   "cell_type": "code",
   "execution_count": 618,
   "id": "16b46f50",
   "metadata": {},
   "outputs": [
    {
     "data": {
      "text/plain": [
       "4"
      ]
     },
     "execution_count": 618,
     "metadata": {},
     "output_type": "execute_result"
    }
   ],
   "source": [
    "next(i)"
   ]
  },
  {
   "cell_type": "code",
   "execution_count": 619,
   "id": "cefbcf40",
   "metadata": {},
   "outputs": [
    {
     "ename": "StopIteration",
     "evalue": "",
     "output_type": "error",
     "traceback": [
      "\u001b[1;31m---------------------------------------------------------------------------\u001b[0m",
      "\u001b[1;31mStopIteration\u001b[0m                             Traceback (most recent call last)",
      "\u001b[1;32mC:\\Users\\ITDEPA~1\\AppData\\Local\\Temp/ipykernel_5624/1939748483.py\u001b[0m in \u001b[0;36m<module>\u001b[1;34m\u001b[0m\n\u001b[1;32m----> 1\u001b[1;33m \u001b[0mnext\u001b[0m\u001b[1;33m(\u001b[0m\u001b[0mi\u001b[0m\u001b[1;33m)\u001b[0m\u001b[1;33m\u001b[0m\u001b[1;33m\u001b[0m\u001b[0m\n\u001b[0m",
      "\u001b[1;31mStopIteration\u001b[0m: "
     ]
    }
   ],
   "source": [
    "next(i)"
   ]
  },
  {
   "cell_type": "markdown",
   "id": "083ac685",
   "metadata": {},
   "source": [
    "#### TypeError: 'int' object is not iterable\n",
    "- We cannot break integer object for indexing (78 as 7 & 8) hence it is not **iterable**\n",
    "\n",
    "#### TypeError: 'str' object is not an iterator\n",
    "- String Object cannot give index by itself hence it is not **iterator**.\n",
    "- But **String object is iterable** means it can break for indexing. (\"sach\" as 's','a','c','h')\n",
    "- It will need help from ***iter()*** to hold index location and ***next()*** function to print current index value and increment iter pointer to next location."
   ]
  },
  {
   "cell_type": "markdown",
   "id": "6af631a4",
   "metadata": {},
   "source": [
    "### Generator"
   ]
  },
  {
   "cell_type": "code",
   "execution_count": 632,
   "id": "c42fe813",
   "metadata": {},
   "outputs": [],
   "source": [
    "def fun5(n):\n",
    "    l = []\n",
    "    \n",
    "    for i in range(n):\n",
    "        l.append(i**3)\n",
    "    \n",
    "    return l"
   ]
  },
  {
   "cell_type": "code",
   "execution_count": 633,
   "id": "9339038b",
   "metadata": {},
   "outputs": [
    {
     "data": {
      "text/plain": [
       "[0, 1, 8, 27, 64, 125]"
      ]
     },
     "execution_count": 633,
     "metadata": {},
     "output_type": "execute_result"
    }
   ],
   "source": [
    "fun5(6)"
   ]
  },
  {
   "cell_type": "code",
   "execution_count": 634,
   "id": "09a71d1d",
   "metadata": {},
   "outputs": [],
   "source": [
    "def fun6(n):\n",
    "    for i in range(n):\n",
    "        yield i**3"
   ]
  },
  {
   "cell_type": "code",
   "execution_count": 635,
   "id": "64f71a90",
   "metadata": {},
   "outputs": [
    {
     "data": {
      "text/plain": [
       "<generator object fun6 at 0x000000C4CF1A6120>"
      ]
     },
     "execution_count": 635,
     "metadata": {},
     "output_type": "execute_result"
    }
   ],
   "source": [
    "fun6(6)"
   ]
  },
  {
   "cell_type": "code",
   "execution_count": 636,
   "id": "34fbf615",
   "metadata": {},
   "outputs": [
    {
     "data": {
      "text/plain": [
       "range(0, 6)"
      ]
     },
     "execution_count": 636,
     "metadata": {},
     "output_type": "execute_result"
    }
   ],
   "source": [
    "range(6)"
   ]
  },
  {
   "cell_type": "code",
   "execution_count": 637,
   "id": "574eb9b3",
   "metadata": {},
   "outputs": [
    {
     "name": "stdout",
     "output_type": "stream",
     "text": [
      "0\n",
      "1\n",
      "2\n",
      "3\n",
      "4\n",
      "5\n"
     ]
    }
   ],
   "source": [
    "for i in range(6):\n",
    "    print(i)"
   ]
  },
  {
   "cell_type": "code",
   "execution_count": 638,
   "id": "1c3dbe6b",
   "metadata": {},
   "outputs": [
    {
     "name": "stdout",
     "output_type": "stream",
     "text": [
      "0\n",
      "1\n",
      "8\n",
      "27\n",
      "64\n",
      "125\n"
     ]
    }
   ],
   "source": [
    "for i in fun6(6):\n",
    "    print(i)"
   ]
  },
  {
   "cell_type": "markdown",
   "id": "4a949585",
   "metadata": {},
   "source": [
    "### Fibonacci Series"
   ]
  },
  {
   "cell_type": "markdown",
   "id": "d15de925",
   "metadata": {},
   "source": [
    "#### Normal Operation"
   ]
  },
  {
   "cell_type": "code",
   "execution_count": 642,
   "id": "cac3b16f",
   "metadata": {},
   "outputs": [],
   "source": [
    "def fib(n):\n",
    "    a = 1\n",
    "    b = 1\n",
    "    output = []\n",
    "    for i in range(n):\n",
    "        output.append(a)\n",
    "        a,b = b, a+b\n",
    "    return output"
   ]
  },
  {
   "cell_type": "code",
   "execution_count": 643,
   "id": "4d98f4f2",
   "metadata": {},
   "outputs": [
    {
     "data": {
      "text/plain": [
       "[1, 1, 2, 3, 5, 8, 13, 21, 34, 55]"
      ]
     },
     "execution_count": 643,
     "metadata": {},
     "output_type": "execute_result"
    }
   ],
   "source": [
    "fib(10)"
   ]
  },
  {
   "cell_type": "markdown",
   "id": "f9901451",
   "metadata": {},
   "source": [
    "#### Generator Object"
   ]
  },
  {
   "cell_type": "code",
   "execution_count": 3,
   "id": "4291471e",
   "metadata": {},
   "outputs": [],
   "source": [
    "def fib2(n):\n",
    "    a = 1\n",
    "    b = 1\n",
    "    \n",
    "    for i in range(n):\n",
    "        yield a\n",
    "        a, b = b, a+b"
   ]
  },
  {
   "cell_type": "code",
   "execution_count": 4,
   "id": "9d64e75c",
   "metadata": {},
   "outputs": [
    {
     "data": {
      "text/plain": [
       "<generator object fib2 at 0x00000011927A6350>"
      ]
     },
     "execution_count": 4,
     "metadata": {},
     "output_type": "execute_result"
    }
   ],
   "source": [
    "fib2(10)"
   ]
  },
  {
   "cell_type": "code",
   "execution_count": 5,
   "id": "1ecc2070",
   "metadata": {},
   "outputs": [
    {
     "name": "stdout",
     "output_type": "stream",
     "text": [
      "1\n",
      "1\n",
      "2\n",
      "3\n",
      "5\n",
      "8\n",
      "13\n",
      "21\n",
      "34\n",
      "55\n"
     ]
    }
   ],
   "source": [
    "for i in fib2(10):\n",
    "    print(i)"
   ]
  },
  {
   "cell_type": "code",
   "execution_count": 6,
   "id": "93d8d529",
   "metadata": {},
   "outputs": [
    {
     "name": "stdout",
     "output_type": "stream",
     "text": [
      "1\n",
      "1\n",
      "2\n",
      "3\n",
      "5\n",
      "8\n",
      "13\n",
      "21\n",
      "34\n",
      "55\n"
     ]
    }
   ],
   "source": [
    "for i in fib2(10):\n",
    "    print(i)"
   ]
  },
  {
   "cell_type": "code",
   "execution_count": 7,
   "id": "54c0a9af",
   "metadata": {},
   "outputs": [
    {
     "data": {
      "text/plain": [
       "10"
      ]
     },
     "execution_count": 7,
     "metadata": {},
     "output_type": "execute_result"
    }
   ],
   "source": [
    "a=10\n",
    "a"
   ]
  },
  {
   "cell_type": "code",
   "execution_count": null,
   "id": "268e9ff6",
   "metadata": {},
   "outputs": [],
   "source": []
  }
 ],
 "metadata": {
  "kernelspec": {
   "display_name": "Python 3 (ipykernel)",
   "language": "python",
   "name": "python3"
  },
  "language_info": {
   "codemirror_mode": {
    "name": "ipython",
    "version": 3
   },
   "file_extension": ".py",
   "mimetype": "text/x-python",
   "name": "python",
   "nbconvert_exporter": "python",
   "pygments_lexer": "ipython3",
   "version": "3.9.7"
  }
 },
 "nbformat": 4,
 "nbformat_minor": 5
}
