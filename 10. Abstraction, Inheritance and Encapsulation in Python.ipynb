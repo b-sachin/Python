{
 "cells": [
  {
   "cell_type": "markdown",
   "id": "a7b67cae",
   "metadata": {},
   "source": [
    "## Abstraction"
   ]
  },
  {
   "cell_type": "markdown",
   "id": "6b813ccb",
   "metadata": {},
   "source": [
    "### Public Access"
   ]
  },
  {
   "cell_type": "code",
   "execution_count": 1,
   "id": "d306ec33",
   "metadata": {},
   "outputs": [],
   "source": [
    "class Abc:\n",
    "    def __init__(self,a,b,c,d):\n",
    "        self.a = a\n",
    "        self.b = b\n",
    "        self.c = c\n",
    "        self.d = d\n",
    "    \n",
    "    def Abc_custom(self,v):\n",
    "        return v - self.a\n",
    "    \n",
    "    def __str__(self):\n",
    "        return \"This is my code for abstraction\"\n",
    "    "
   ]
  },
  {
   "cell_type": "code",
   "execution_count": 4,
   "id": "7292041d",
   "metadata": {},
   "outputs": [],
   "source": [
    "ob = Abc(4,5,6,7)"
   ]
  },
  {
   "cell_type": "code",
   "execution_count": 5,
   "id": "2cf14032",
   "metadata": {},
   "outputs": [
    {
     "data": {
      "text/plain": [
       "4"
      ]
     },
     "execution_count": 5,
     "metadata": {},
     "output_type": "execute_result"
    }
   ],
   "source": [
    "ob.Abc_custom(8)"
   ]
  },
  {
   "cell_type": "code",
   "execution_count": 6,
   "id": "692a6d9d",
   "metadata": {},
   "outputs": [
    {
     "name": "stdout",
     "output_type": "stream",
     "text": [
      "This is my code for abstraction\n"
     ]
    }
   ],
   "source": [
    "print(ob)"
   ]
  },
  {
   "cell_type": "markdown",
   "id": "038d533f",
   "metadata": {},
   "source": [
    "### Protected Access (_a)"
   ]
  },
  {
   "cell_type": "code",
   "execution_count": 7,
   "id": "1b7966de",
   "metadata": {},
   "outputs": [],
   "source": [
    "class Abc:\n",
    "    def __init__(self,a,b,c,d):\n",
    "        self._a = a\n",
    "        self.b = b\n",
    "        self.c = c\n",
    "        self.d = d\n",
    "    \n",
    "    def Abc_custom(self,v):\n",
    "        return v - self.a\n",
    "    \n",
    "    def __str__(self):\n",
    "        return \"This is my code for abstraction\""
   ]
  },
  {
   "cell_type": "code",
   "execution_count": 8,
   "id": "63e2cc72",
   "metadata": {},
   "outputs": [],
   "source": [
    "ob1 = Abc(4,5,6,7)"
   ]
  },
  {
   "cell_type": "code",
   "execution_count": 9,
   "id": "12555b12",
   "metadata": {},
   "outputs": [
    {
     "ename": "AttributeError",
     "evalue": "'Abc' object has no attribute 'a'",
     "output_type": "error",
     "traceback": [
      "\u001b[1;31m---------------------------------------------------------------------------\u001b[0m",
      "\u001b[1;31mAttributeError\u001b[0m                            Traceback (most recent call last)",
      "\u001b[1;32mC:\\Users\\ITDEPA~1\\AppData\\Local\\Temp/ipykernel_196/3285738045.py\u001b[0m in \u001b[0;36m<module>\u001b[1;34m\u001b[0m\n\u001b[1;32m----> 1\u001b[1;33m \u001b[0mob1\u001b[0m\u001b[1;33m.\u001b[0m\u001b[0mAbc_custom\u001b[0m\u001b[1;33m(\u001b[0m\u001b[1;36m8\u001b[0m\u001b[1;33m)\u001b[0m\u001b[1;33m\u001b[0m\u001b[1;33m\u001b[0m\u001b[0m\n\u001b[0m",
      "\u001b[1;32mC:\\Users\\ITDEPA~1\\AppData\\Local\\Temp/ipykernel_196/1240822987.py\u001b[0m in \u001b[0;36mAbc_custom\u001b[1;34m(self, v)\u001b[0m\n\u001b[0;32m      7\u001b[0m \u001b[1;33m\u001b[0m\u001b[0m\n\u001b[0;32m      8\u001b[0m     \u001b[1;32mdef\u001b[0m \u001b[0mAbc_custom\u001b[0m\u001b[1;33m(\u001b[0m\u001b[0mself\u001b[0m\u001b[1;33m,\u001b[0m\u001b[0mv\u001b[0m\u001b[1;33m)\u001b[0m\u001b[1;33m:\u001b[0m\u001b[1;33m\u001b[0m\u001b[1;33m\u001b[0m\u001b[0m\n\u001b[1;32m----> 9\u001b[1;33m         \u001b[1;32mreturn\u001b[0m \u001b[0mv\u001b[0m \u001b[1;33m-\u001b[0m \u001b[0mself\u001b[0m\u001b[1;33m.\u001b[0m\u001b[0ma\u001b[0m\u001b[1;33m\u001b[0m\u001b[1;33m\u001b[0m\u001b[0m\n\u001b[0m\u001b[0;32m     10\u001b[0m \u001b[1;33m\u001b[0m\u001b[0m\n\u001b[0;32m     11\u001b[0m     \u001b[1;32mdef\u001b[0m \u001b[0m__str__\u001b[0m\u001b[1;33m(\u001b[0m\u001b[0mself\u001b[0m\u001b[1;33m)\u001b[0m\u001b[1;33m:\u001b[0m\u001b[1;33m\u001b[0m\u001b[1;33m\u001b[0m\u001b[0m\n",
      "\u001b[1;31mAttributeError\u001b[0m: 'Abc' object has no attribute 'a'"
     ]
    }
   ],
   "source": [
    "ob1.Abc_custom(8)"
   ]
  },
  {
   "cell_type": "code",
   "execution_count": 10,
   "id": "f0909a64",
   "metadata": {},
   "outputs": [],
   "source": [
    "class Abc:\n",
    "    def __init__(self,a,b,c,d):\n",
    "        self._a = a\n",
    "        self.b = b\n",
    "        self.c = c\n",
    "        self.d = d\n",
    "    \n",
    "    def Abc_custom(self,v):\n",
    "        return v - self._a\n",
    "    \n",
    "    def __str__(self):\n",
    "        return \"This is my code for abstraction\""
   ]
  },
  {
   "cell_type": "code",
   "execution_count": 14,
   "id": "202d350a",
   "metadata": {},
   "outputs": [
    {
     "data": {
      "text/plain": [
       "4"
      ]
     },
     "execution_count": 14,
     "metadata": {},
     "output_type": "execute_result"
    }
   ],
   "source": [
    "ob1 = Abc(4,5,6,7)\n",
    "ob1.Abc_custom(8)"
   ]
  },
  {
   "cell_type": "code",
   "execution_count": 15,
   "id": "4f781e9e",
   "metadata": {},
   "outputs": [
    {
     "data": {
      "text/plain": [
       "4"
      ]
     },
     "execution_count": 15,
     "metadata": {},
     "output_type": "execute_result"
    }
   ],
   "source": [
    "ob1._a"
   ]
  },
  {
   "cell_type": "markdown",
   "id": "aec82813",
   "metadata": {},
   "source": [
    "### Private Access (_ _a)"
   ]
  },
  {
   "cell_type": "code",
   "execution_count": 16,
   "id": "47f93a6b",
   "metadata": {},
   "outputs": [],
   "source": [
    "class Abc:\n",
    "    def __init__(self,a,b,c,d):\n",
    "        self.__a = a\n",
    "        self.b = b\n",
    "        self.c = c\n",
    "        self.d = d\n",
    "    \n",
    "    def Abc_custom(self,v):\n",
    "        return v - self.__a\n",
    "    \n",
    "    def __str__(self):\n",
    "        return \"This is my code for abstraction\""
   ]
  },
  {
   "cell_type": "code",
   "execution_count": 17,
   "id": "21b39536",
   "metadata": {},
   "outputs": [
    {
     "data": {
      "text/plain": [
       "4"
      ]
     },
     "execution_count": 17,
     "metadata": {},
     "output_type": "execute_result"
    }
   ],
   "source": [
    "ob1 = Abc(4,5,6,7)\n",
    "ob1.Abc_custom(8)"
   ]
  },
  {
   "cell_type": "code",
   "execution_count": 18,
   "id": "ecd9467e",
   "metadata": {},
   "outputs": [
    {
     "ename": "AttributeError",
     "evalue": "'Abc' object has no attribute '__a'",
     "output_type": "error",
     "traceback": [
      "\u001b[1;31m---------------------------------------------------------------------------\u001b[0m",
      "\u001b[1;31mAttributeError\u001b[0m                            Traceback (most recent call last)",
      "\u001b[1;32mC:\\Users\\ITDEPA~1\\AppData\\Local\\Temp/ipykernel_196/3016245490.py\u001b[0m in \u001b[0;36m<module>\u001b[1;34m\u001b[0m\n\u001b[1;32m----> 1\u001b[1;33m \u001b[0mob1\u001b[0m\u001b[1;33m.\u001b[0m\u001b[0m__a\u001b[0m\u001b[1;33m\u001b[0m\u001b[1;33m\u001b[0m\u001b[0m\n\u001b[0m",
      "\u001b[1;31mAttributeError\u001b[0m: 'Abc' object has no attribute '__a'"
     ]
    }
   ],
   "source": [
    "ob1.__a"
   ]
  },
  {
   "cell_type": "markdown",
   "id": "3980a2ca",
   "metadata": {},
   "source": [
    "### Python never applies abstraction strictly"
   ]
  },
  {
   "cell_type": "code",
   "execution_count": 19,
   "id": "8ad911b0",
   "metadata": {},
   "outputs": [
    {
     "data": {
      "text/plain": [
       "4"
      ]
     },
     "execution_count": 19,
     "metadata": {},
     "output_type": "execute_result"
    }
   ],
   "source": [
    "ob1._Abc__a"
   ]
  },
  {
   "cell_type": "markdown",
   "id": "c6f0a4b7",
   "metadata": {},
   "source": [
    "In Python Abstraction:\n",
    "`_a` single underscore means protected and `__a` double underscore means private."
   ]
  },
  {
   "cell_type": "markdown",
   "id": "97d2d026",
   "metadata": {},
   "source": [
    "# Inheritance"
   ]
  },
  {
   "cell_type": "code",
   "execution_count": 34,
   "id": "87c4bbe8",
   "metadata": {},
   "outputs": [
    {
     "name": "stdout",
     "output_type": "stream",
     "text": [
      "Geek1 False\n",
      "Geek2 True\n"
     ]
    }
   ],
   "source": [
    "# A Python program to demonstrate inheritance \n",
    "   \n",
    "class Person:\n",
    "       \n",
    "    # Constructor\n",
    "    def __init__(self, name):\n",
    "        self.name = name\n",
    "   \n",
    "    # To get name\n",
    "    def getName(self):\n",
    "        return self.name\n",
    "   \n",
    "    # To check if this person is an employee\n",
    "    def isEmployee(self):\n",
    "        return False\n",
    "   \n",
    "   \n",
    "# Inherited or Subclass (Note Person in bracket)\n",
    "class Employee(Person):\n",
    "   \n",
    "    # Here we return true\n",
    "    def isEmployee(self):\n",
    "        return True\n",
    "   \n",
    "# Driver code\n",
    "emp = Person(\"Geek1\")  # An Object of Person\n",
    "print(emp.getName(), emp.isEmployee())\n",
    "   \n",
    "emp = Employee(\"Geek2\") # An Object of Employee\n",
    "print(emp.getName(), emp.isEmployee())"
   ]
  },
  {
   "cell_type": "markdown",
   "id": "7de678a2",
   "metadata": {},
   "source": [
    "### Python code to demonstrate how parent constructors are called."
   ]
  },
  {
   "cell_type": "code",
   "execution_count": 38,
   "id": "64c03a40",
   "metadata": {},
   "outputs": [
    {
     "name": "stdout",
     "output_type": "stream",
     "text": [
      "Rahul\n",
      "886012\n"
     ]
    }
   ],
   "source": [
    "# parent class\n",
    "class Person( object ):    \n",
    "  \n",
    "        # __init__ is known as the constructor         \n",
    "        def __init__(self, name, idnumber):   \n",
    "                self.name = name\n",
    "                self.idnumber = idnumber\n",
    "        def display(self):\n",
    "                print(self.name)\n",
    "                print(self.idnumber)\n",
    "  \n",
    "# child class\n",
    "class Employee( Person ):           \n",
    "        def __init__(self, name, idnumber, salary, post):\n",
    "                self.salary = salary\n",
    "                self.post = post\n",
    "  \n",
    "                # invoking the __init__ of the parent class \n",
    "                Person.__init__(self, name, idnumber) \n",
    "  \n",
    "                  \n",
    "# creation of an object variable or an instance\n",
    "a = Employee('Rahul', 886012, 200000, \"Intern\")    \n",
    "  \n",
    "# calling a function of the class Person using its instance\n",
    "a.display() "
   ]
  },
  {
   "cell_type": "markdown",
   "id": "6f08e058",
   "metadata": {},
   "source": [
    "### error if we forget to invoke __init__() of the parent."
   ]
  },
  {
   "cell_type": "code",
   "execution_count": 39,
   "id": "633c1a7e",
   "metadata": {},
   "outputs": [
    {
     "ename": "AttributeError",
     "evalue": "'B' object has no attribute 'name'",
     "output_type": "error",
     "traceback": [
      "\u001b[1;31m---------------------------------------------------------------------------\u001b[0m",
      "\u001b[1;31mAttributeError\u001b[0m                            Traceback (most recent call last)",
      "\u001b[1;32mC:\\Users\\ITDEPA~1\\AppData\\Local\\Temp/ipykernel_196/555782310.py\u001b[0m in \u001b[0;36m<module>\u001b[1;34m\u001b[0m\n\u001b[0;32m      7\u001b[0m \u001b[1;33m\u001b[0m\u001b[0m\n\u001b[0;32m      8\u001b[0m \u001b[0mobject\u001b[0m \u001b[1;33m=\u001b[0m \u001b[0mB\u001b[0m\u001b[1;33m(\u001b[0m\u001b[1;36m23\u001b[0m\u001b[1;33m)\u001b[0m\u001b[1;33m\u001b[0m\u001b[1;33m\u001b[0m\u001b[0m\n\u001b[1;32m----> 9\u001b[1;33m \u001b[0mprint\u001b[0m \u001b[1;33m(\u001b[0m\u001b[0mobject\u001b[0m\u001b[1;33m.\u001b[0m\u001b[0mname\u001b[0m\u001b[1;33m)\u001b[0m\u001b[1;33m\u001b[0m\u001b[1;33m\u001b[0m\u001b[0m\n\u001b[0m",
      "\u001b[1;31mAttributeError\u001b[0m: 'B' object has no attribute 'name'"
     ]
    }
   ],
   "source": [
    "class A:\n",
    "      def __init__(self, n = 'Rahul'):\n",
    "              self.name = n\n",
    "class B(A):\n",
    "      def __init__(self, roll):\n",
    "              self.roll = roll\n",
    "  \n",
    "object = B(23)\n",
    "print (object.name)"
   ]
  },
  {
   "cell_type": "markdown",
   "id": "173f996b",
   "metadata": {},
   "source": [
    "### Multiple Inheritance"
   ]
  },
  {
   "cell_type": "code",
   "execution_count": 42,
   "id": "0ab93b19",
   "metadata": {},
   "outputs": [
    {
     "name": "stdout",
     "output_type": "stream",
     "text": [
      "Base1\n",
      "Base2\n",
      "Derived\n",
      "Geek1 Geek2\n"
     ]
    }
   ],
   "source": [
    "class Base1:\n",
    "    def __init__(self):\n",
    "        self.str1 = \"Geek1\"\n",
    "        print(\"Base1\")\n",
    "  \n",
    "class Base2:\n",
    "    def __init__(self):\n",
    "        self.str2 = \"Geek2\"        \n",
    "        print(\"Base2\")\n",
    "  \n",
    "class Derived(Base1, Base2):\n",
    "    def __init__(self):\n",
    "          \n",
    "        # Calling constructors of Base1\n",
    "        # and Base2 classes\n",
    "        Base1.__init__(self)\n",
    "        Base2.__init__(self)\n",
    "        print(\"Derived\")\n",
    "          \n",
    "    def printStrs(self):\n",
    "        print(self.str1, self.str2)\n",
    "         \n",
    "  \n",
    "ob = Derived()\n",
    "ob.printStrs()"
   ]
  },
  {
   "cell_type": "markdown",
   "id": "542831e5",
   "metadata": {},
   "source": [
    "### Multilevel inheritance"
   ]
  },
  {
   "cell_type": "code",
   "execution_count": 44,
   "id": "89e720fe",
   "metadata": {},
   "outputs": [
    {
     "name": "stdout",
     "output_type": "stream",
     "text": [
      "Geek1 23 Noida\n"
     ]
    }
   ],
   "source": [
    "class Base:\n",
    "      \n",
    "    # Constructor\n",
    "    def __init__(self, name):\n",
    "        self.name = name\n",
    "  \n",
    "    # To get name\n",
    "    def getName(self):\n",
    "        return self.name\n",
    "  \n",
    "  \n",
    "# Inherited or Sub class (Note Person in bracket)\n",
    "class Child(Base):\n",
    "      \n",
    "    # Constructor\n",
    "    def __init__(self, name, age):\n",
    "        Base.__init__(self, name)\n",
    "        self.age = age\n",
    "  \n",
    "    # To get name\n",
    "    def getAge(self):\n",
    "        return self.age\n",
    "  \n",
    "# Inherited or Sub class (Note Person in bracket)\n",
    "class GrandChild(Child):\n",
    "      \n",
    "    # Constructor\n",
    "    def __init__(self, name, age, address):\n",
    "        Child.__init__(self, name, age)\n",
    "        self.address = address\n",
    "  \n",
    "    # To get address\n",
    "    def getAddress(self):\n",
    "        return self.address        \n",
    "  \n",
    "# Driver code\n",
    "g = GrandChild(\"Geek1\", 23, \"Noida\")  \n",
    "print(g.getName(), g.getAge(), g.getAddress())"
   ]
  },
  {
   "cell_type": "markdown",
   "id": "0fbaa1aa",
   "metadata": {},
   "source": [
    "### Calling Superclass constructor with super keyword"
   ]
  },
  {
   "cell_type": "code",
   "execution_count": 36,
   "id": "9244469c",
   "metadata": {},
   "outputs": [],
   "source": [
    "class Parent:\n",
    "    def __init__(self,a,b,c,d):\n",
    "        self.a = a\n",
    "        self.b = b\n",
    "        self.c = c\n",
    "        self.d = d\n",
    "    \n",
    "    def Parent_custom(self,v):\n",
    "        return v - self.a\n",
    "    \n",
    "    def __str__(self):\n",
    "        return \"This is my code for abstraction\""
   ]
  },
  {
   "cell_type": "code",
   "execution_count": 37,
   "id": "56c6b118",
   "metadata": {},
   "outputs": [
    {
     "data": {
      "text/plain": [
       "6"
      ]
     },
     "execution_count": 37,
     "metadata": {},
     "output_type": "execute_result"
    }
   ],
   "source": [
    "class Child(Parent):\n",
    "    def __init__(self,j,*args):\n",
    "        super(Child,self).__init__(*args)\n",
    "        self.j = j\n",
    "        \n",
    "obj = Child(4,5,6,7,8)\n",
    "obj.b"
   ]
  },
  {
   "cell_type": "code",
   "execution_count": 25,
   "id": "0e543ce3",
   "metadata": {},
   "outputs": [
    {
     "data": {
      "text/plain": [
       "4"
      ]
     },
     "execution_count": 25,
     "metadata": {},
     "output_type": "execute_result"
    }
   ],
   "source": [
    "obj.j"
   ]
  },
  {
   "cell_type": "code",
   "execution_count": 27,
   "id": "f8974a10",
   "metadata": {},
   "outputs": [
    {
     "data": {
      "text/plain": [
       "10"
      ]
     },
     "execution_count": 27,
     "metadata": {},
     "output_type": "execute_result"
    }
   ],
   "source": [
    "obj.Parent_custom(15)"
   ]
  },
  {
   "cell_type": "code",
   "execution_count": 30,
   "id": "5d3830c5",
   "metadata": {},
   "outputs": [
    {
     "data": {
      "text/plain": [
       "7"
      ]
     },
     "execution_count": 30,
     "metadata": {},
     "output_type": "execute_result"
    }
   ],
   "source": [
    "obj.c"
   ]
  },
  {
   "cell_type": "markdown",
   "id": "173e36db",
   "metadata": {},
   "source": [
    "Above Inheritance is **Single Inheritance** where only one Parent class and one child class."
   ]
  },
  {
   "cell_type": "markdown",
   "id": "c97992d2",
   "metadata": {},
   "source": [
    "## Encapsulation"
   ]
  },
  {
   "cell_type": "code",
   "execution_count": 57,
   "id": "9cc2eb9a",
   "metadata": {},
   "outputs": [
    {
     "name": "stdout",
     "output_type": "stream",
     "text": [
      "Name: \n",
      "\tToyota\n",
      "Tyres: \n",
      " \tBranch: Firelli\n",
      " \tBelted-bias: True\n",
      " \tOptimal PRessure: 2.0\n",
      "Engine: \n",
      " \tFuel Type: Diesel\n",
      " \tNoise Level3\n",
      "Body: \n",
      " \tSize: Medium\n"
     ]
    }
   ],
   "source": [
    "class Tyre:\n",
    "    def __init__(self, branch, belted_bias, opt_pressure):\n",
    "        self.branch = branch\n",
    "        self.belted_bias = belted_bias\n",
    "        self.opt_pressure = opt_pressure\n",
    "        \n",
    "    def __str__(self):\n",
    "        return (\"Tyres: \\n \\tBranch: \" + self.branch + \n",
    "               \"\\n \\tBelted-bias: \" + str(self.belted_bias) +\n",
    "                \"\\n \\tOptimal PRessure: \" + str(self.opt_pressure))\n",
    "    \n",
    "class Engine:\n",
    "    def __init__(self, fuel_type, noise_level):\n",
    "        self.fuel_type = fuel_type\n",
    "        self.noise_level = noise_level\n",
    "        \n",
    "    def __str__(self):\n",
    "        return (\"Engine: \\n \\tFuel Type: \" + self.fuel_type +\n",
    "               \"\\n \\tNoise Level\" + str(self.noise_level))\n",
    "    \n",
    "class Body:\n",
    "    def __init__(self, size):\n",
    "        self.size = size\n",
    "        \n",
    "    def __str__(self):\n",
    "        return (\"Body: \\n \\tSize: \" + self.size)\n",
    "    \n",
    "class Car:\n",
    "    def __init__(self, name, tyre, engine, body):\n",
    "        self.name = name\n",
    "        self. tyre = tyre\n",
    "        self. engine = engine\n",
    "        self.body = body\n",
    "        \n",
    "    def __str__(self):\n",
    "        return (\"Name: \\n\\t\" + str(self.name) + \"\\n\" + str(self.tyre) + \"\\n\" + str(self.engine) + \"\\n\" + str(self.body))\n",
    "    \n",
    "t = Tyre(\"Firelli\", True, 2.0)\n",
    "e = Engine(\"Diesel\", 3)\n",
    "b = Body(\"Medium\")\n",
    "\n",
    "c = Car(\"Toyota\", t, e, b)\n",
    "\n",
    "print(c)"
   ]
  },
  {
   "cell_type": "markdown",
   "id": "416a7cef",
   "metadata": {},
   "source": [
    "### Example 2"
   ]
  },
  {
   "cell_type": "code",
   "execution_count": 31,
   "id": "876ddaa1",
   "metadata": {},
   "outputs": [
    {
     "name": "stdout",
     "output_type": "stream",
     "text": [
      "Tiger is a labrador born in 2000.\n"
     ]
    }
   ],
   "source": [
    "class Dog:\n",
    "    def __init__(self, name, birth_year, breed):\n",
    "        self.name = name\n",
    "        self.birth_year = birth_year\n",
    "        self.breed = breed\n",
    "        \n",
    "    def __str__(self):\n",
    "        return \"%s is a %s born in %s.\"%(self.name, self.breed, self.birth_year)\n",
    "    \n",
    "dog1 = Dog(\"Tiger\", 2000, \"labrador\")\n",
    "dog2 = Dog(\"Summer\", 2001, \"Husky\")\n",
    "dog3 = Dog(\"Bruno\", 2002, \"German_Shepherd\")\n",
    "\n",
    "print(dog1)"
   ]
  },
  {
   "cell_type": "code",
   "execution_count": 32,
   "id": "1ee4702f",
   "metadata": {},
   "outputs": [],
   "source": [
    "class Student:\n",
    "    def __init__(self, name, student_id, school_name, address):\n",
    "        self.name = name\n",
    "        self.student_id = student_id\n",
    "        self.school_name = school_name\n",
    "        self.address = address\n",
    "        \n",
    "    def __str__(self):\n",
    "        return str(self.name) + \" \" + str(self.school_name) + \" \" + str(self.address)\n",
    "        "
   ]
  },
  {
   "cell_type": "code",
   "execution_count": 38,
   "id": "613de15c",
   "metadata": {},
   "outputs": [],
   "source": [
    "stud1 = Student(\"sach\", 101, \"NMMC\", \"Navi_Mumbai\")"
   ]
  },
  {
   "cell_type": "code",
   "execution_count": 39,
   "id": "fae6cc01",
   "metadata": {},
   "outputs": [
    {
     "name": "stdout",
     "output_type": "stream",
     "text": [
      "sach NMMC Navi_Mumbai\n"
     ]
    }
   ],
   "source": [
    "print(stud1)"
   ]
  },
  {
   "cell_type": "code",
   "execution_count": 40,
   "id": "aa137ae5",
   "metadata": {},
   "outputs": [],
   "source": [
    "stud_dog = Student(dog1,201,\"Dog_School\", \"Pune\")"
   ]
  },
  {
   "cell_type": "code",
   "execution_count": 41,
   "id": "aeb9089b",
   "metadata": {},
   "outputs": [
    {
     "name": "stdout",
     "output_type": "stream",
     "text": [
      "Tiger is a labrador born in 2000. Dog_School Pune\n"
     ]
    }
   ],
   "source": [
    "print(stud_dog)"
   ]
  },
  {
   "cell_type": "code",
   "execution_count": 42,
   "id": "6e4980f2",
   "metadata": {},
   "outputs": [
    {
     "name": "stdout",
     "output_type": "stream",
     "text": [
      "Summer is a Husky born in 2001. Dog_School Pune\n"
     ]
    }
   ],
   "source": [
    "stud_dog2 = Student(dog2,201,\"Dog_School\", \"Pune\")\n",
    "print(stud_dog2)"
   ]
  },
  {
   "cell_type": "code",
   "execution_count": 43,
   "id": "323d65f8",
   "metadata": {},
   "outputs": [
    {
     "name": "stdout",
     "output_type": "stream",
     "text": [
      "Bruno is a German_Shepherd born in 2002. Dog_School Pune\n"
     ]
    }
   ],
   "source": [
    "stud_dog3 = Student(dog3,201,\"Dog_School\", \"Pune\")\n",
    "print(stud_dog3)"
   ]
  },
  {
   "cell_type": "markdown",
   "id": "7627c2db",
   "metadata": {},
   "source": [
    "### Example 3"
   ]
  },
  {
   "cell_type": "code",
   "execution_count": 73,
   "id": "be3e472f",
   "metadata": {},
   "outputs": [],
   "source": [
    "class BonusDistribution:\n",
    "    def __init__(self, employeeId, employeeRating):\n",
    "        self.empId = employeeId\n",
    "        self.empRating = employeeRating\n",
    "        self.__bonusforRatingA = \"70%\" #making value private\n",
    "        self.__bonusforRatingB = \"60%\" #making value private\n",
    "        self.__bonusforRatingC = \"50%\" #making value private\n",
    "        self.__bonusforRatingD = \"30%\" #making value private\n",
    "        self.__bonusforRatingRest = \"No Bonus\" #making value private\n",
    "        \n",
    "    def bonusCalculator(self):\n",
    "        if self.empRating == \"A\":\n",
    "            bonus = self.__bonusforRatingA\n",
    "            msg = \"Bonus for this employee is : \"+ bonus\n",
    "            return msg\n",
    "        elif self.empRating == \"B\":\n",
    "            bonus = self.__bonusforRatingB\n",
    "            msg = \"Bonus for this employee is : \"+ bonus\n",
    "            return msg\n",
    "        elif self.empRating == \"C\":\n",
    "            bonus = self.__bonusforRatingC\n",
    "            msg = \"Bonus for this employee is : \"+ bonus\n",
    "            return msg\n",
    "        elif self.empRating == \"D\":\n",
    "            bonus = self.__bonusforRatingD\n",
    "            msg = \"Bonus for this employee is : \"+ bonus\n",
    "            return msg\n",
    "        else:\n",
    "            bonus = self.__bonusforRatingRest\n",
    "            msg = \"Bonus for this employee is : \"+ bonus\n",
    "            return msg"
   ]
  },
  {
   "cell_type": "code",
   "execution_count": 74,
   "id": "3d5ef7b5",
   "metadata": {},
   "outputs": [],
   "source": [
    "emp1 = BonusDistribution(1001,'B')\n",
    "emp2 = BonusDistribution(1002,\"A\")\n",
    "emp3 = BonusDistribution(1003,\"E\")"
   ]
  },
  {
   "cell_type": "code",
   "execution_count": 77,
   "id": "502c1eb3",
   "metadata": {},
   "outputs": [
    {
     "data": {
      "text/plain": [
       "'Bonus for this employee is : No Bonus'"
      ]
     },
     "execution_count": 77,
     "metadata": {},
     "output_type": "execute_result"
    }
   ],
   "source": [
    "emp3.bonusCalculator()"
   ]
  },
  {
   "cell_type": "code",
   "execution_count": 78,
   "id": "c6d9cfde",
   "metadata": {},
   "outputs": [
    {
     "data": {
      "text/plain": [
       "'Bonus for this employee is : 70%'"
      ]
     },
     "execution_count": 78,
     "metadata": {},
     "output_type": "execute_result"
    }
   ],
   "source": [
    "emp2.bonusCalculator()"
   ]
  },
  {
   "cell_type": "code",
   "execution_count": 79,
   "id": "5d5a7f7b",
   "metadata": {},
   "outputs": [
    {
     "data": {
      "text/plain": [
       "'Bonus for this employee is : 60%'"
      ]
     },
     "execution_count": 79,
     "metadata": {},
     "output_type": "execute_result"
    }
   ],
   "source": [
    "emp1.bonusCalculator()"
   ]
  },
  {
   "cell_type": "markdown",
   "id": "2fedcfbb",
   "metadata": {},
   "source": [
    "### If we want to change bonus for Rating B "
   ]
  },
  {
   "cell_type": "code",
   "execution_count": 80,
   "id": "29dc181d",
   "metadata": {},
   "outputs": [],
   "source": [
    "emp1._bonusRatingB = \"90%\""
   ]
  },
  {
   "cell_type": "code",
   "execution_count": 81,
   "id": "8e8a2b39",
   "metadata": {},
   "outputs": [
    {
     "data": {
      "text/plain": [
       "'Bonus for this employee is : 60%'"
      ]
     },
     "execution_count": 81,
     "metadata": {},
     "output_type": "execute_result"
    }
   ],
   "source": [
    "emp1.bonusCalculator()"
   ]
  },
  {
   "cell_type": "code",
   "execution_count": 82,
   "id": "d43e4295",
   "metadata": {},
   "outputs": [],
   "source": [
    "emp1._BonusDistribution__bonusforRatingB = \"85%\""
   ]
  },
  {
   "cell_type": "code",
   "execution_count": 83,
   "id": "00016214",
   "metadata": {},
   "outputs": [
    {
     "data": {
      "text/plain": [
       "'Bonus for this employee is : 85%'"
      ]
     },
     "execution_count": 83,
     "metadata": {},
     "output_type": "execute_result"
    }
   ],
   "source": [
    "emp1.bonusCalculator()"
   ]
  },
  {
   "cell_type": "markdown",
   "id": "dc14f22c",
   "metadata": {},
   "source": [
    "Above emtion way does the work but this is not right way to do it."
   ]
  },
  {
   "cell_type": "code",
   "execution_count": 84,
   "id": "acf81095",
   "metadata": {},
   "outputs": [],
   "source": [
    "class BonusDistribution:\n",
    "    def __init__(self, employeeId, employeeRating):\n",
    "        self.empId = employeeId\n",
    "        self.empRating = employeeRating\n",
    "        self.__bonusforRatingA = \"70%\" #making value private\n",
    "        self.__bonusforRatingB = \"60%\" #making value private\n",
    "        self.__bonusforRatingC = \"50%\" #making value private\n",
    "        self.__bonusforRatingD = \"30%\" #making value private\n",
    "        self.__bonusforRatingRest = \"No Bonus\" #making value private\n",
    "        \n",
    "    def bonusCalculator(self):\n",
    "        if self.empRating == \"A\":\n",
    "            bonus = self.__bonusforRatingA\n",
    "            msg = \"Bonus for this employee is : \"+ bonus\n",
    "            return msg\n",
    "        elif self.empRating == \"B\":\n",
    "            bonus = self.__bonusforRatingB\n",
    "            msg = \"Bonus for this employee is : \"+ bonus\n",
    "            return msg\n",
    "        elif self.empRating == \"C\":\n",
    "            bonus = self.__bonusforRatingC\n",
    "            msg = \"Bonus for this employee is : \"+ bonus\n",
    "            return msg\n",
    "        elif self.empRating == \"D\":\n",
    "            bonus = self.__bonusforRatingD\n",
    "            msg = \"Bonus for this employee is : \"+ bonus\n",
    "            return msg\n",
    "        else:\n",
    "            bonus = self.__bonusforRatingRest\n",
    "            msg = \"Bonus for this employee is : \"+ bonus\n",
    "            return msg\n",
    "        \n",
    "    def changeVariable(self, value):\n",
    "        self.__bonusforRatingB = value"
   ]
  },
  {
   "cell_type": "code",
   "execution_count": 88,
   "id": "c78426d5",
   "metadata": {},
   "outputs": [],
   "source": [
    "emp4 = BonusDistribution(1004,'B')\n",
    "emp5 = BonusDistribution(1005,\"A\")\n",
    "emp6 = BonusDistribution(1006,\"B\")"
   ]
  },
  {
   "cell_type": "code",
   "execution_count": 89,
   "id": "a116b86a",
   "metadata": {},
   "outputs": [],
   "source": [
    "emp4.changeVariable('80%')"
   ]
  },
  {
   "cell_type": "code",
   "execution_count": 87,
   "id": "1526bbcf",
   "metadata": {},
   "outputs": [
    {
     "data": {
      "text/plain": [
       "'Bonus for this employee is : 80%'"
      ]
     },
     "execution_count": 87,
     "metadata": {},
     "output_type": "execute_result"
    }
   ],
   "source": [
    "emp4.bonusCalculator()"
   ]
  },
  {
   "cell_type": "code",
   "execution_count": 90,
   "id": "94f63706",
   "metadata": {},
   "outputs": [
    {
     "data": {
      "text/plain": [
       "'Bonus for this employee is : 60%'"
      ]
     },
     "execution_count": 90,
     "metadata": {},
     "output_type": "execute_result"
    }
   ],
   "source": [
    "emp6.bonusCalculator()"
   ]
  },
  {
   "cell_type": "markdown",
   "id": "3155091d",
   "metadata": {},
   "source": [
    "Here, you can see change 60% to 80% happens only for emp4 i.e. object. When we check rating for emp6 with Rating \"B\" then we get answer 60% only."
   ]
  },
  {
   "cell_type": "markdown",
   "id": "375a6077",
   "metadata": {},
   "source": [
    "### Example 4"
   ]
  },
  {
   "cell_type": "code",
   "execution_count": 101,
   "id": "cb84ec5c",
   "metadata": {},
   "outputs": [],
   "source": [
    "class multiplynumeric:\n",
    "    def __init__(self,a):\n",
    "        self.a = a"
   ]
  },
  {
   "cell_type": "code",
   "execution_count": 102,
   "id": "04637c02",
   "metadata": {},
   "outputs": [],
   "source": [
    "mul1 = multiplynumeric(9)\n",
    "mul2 = multiplynumeric(2)"
   ]
  },
  {
   "cell_type": "code",
   "execution_count": 103,
   "id": "5c43329b",
   "metadata": {},
   "outputs": [
    {
     "ename": "TypeError",
     "evalue": "unsupported operand type(s) for *: 'multiplynumeric' and 'multiplynumeric'",
     "output_type": "error",
     "traceback": [
      "\u001b[1;31m---------------------------------------------------------------------------\u001b[0m",
      "\u001b[1;31mTypeError\u001b[0m                                 Traceback (most recent call last)",
      "\u001b[1;32mC:\\Users\\ITDEPA~1\\AppData\\Local\\Temp/ipykernel_9044/3181322358.py\u001b[0m in \u001b[0;36m<module>\u001b[1;34m\u001b[0m\n\u001b[1;32m----> 1\u001b[1;33m \u001b[0mmul1\u001b[0m\u001b[1;33m*\u001b[0m\u001b[0mmul2\u001b[0m\u001b[1;33m\u001b[0m\u001b[1;33m\u001b[0m\u001b[0m\n\u001b[0m",
      "\u001b[1;31mTypeError\u001b[0m: unsupported operand type(s) for *: 'multiplynumeric' and 'multiplynumeric'"
     ]
    }
   ],
   "source": [
    "mul1*mul2"
   ]
  },
  {
   "cell_type": "code",
   "execution_count": 104,
   "id": "1f22ab47",
   "metadata": {},
   "outputs": [
    {
     "data": {
      "text/plain": [
       "18"
      ]
     },
     "execution_count": 104,
     "metadata": {},
     "output_type": "execute_result"
    }
   ],
   "source": [
    "mul1.a * mul2.a"
   ]
  },
  {
   "cell_type": "code",
   "execution_count": 105,
   "id": "2bfd72be",
   "metadata": {},
   "outputs": [],
   "source": [
    "  class multiplynumeric:\n",
    "    def __init__(self,a):\n",
    "        self.a = a\n",
    "        \n",
    "    def __mul__(self, other):\n",
    "        return self.a * other.a"
   ]
  },
  {
   "cell_type": "code",
   "execution_count": 106,
   "id": "0d9cdf5f",
   "metadata": {},
   "outputs": [],
   "source": [
    "mul1 = multiplynumeric(9)\n",
    "mul2 = multiplynumeric(2)"
   ]
  },
  {
   "cell_type": "code",
   "execution_count": 107,
   "id": "9f090024",
   "metadata": {},
   "outputs": [
    {
     "data": {
      "text/plain": [
       "18"
      ]
     },
     "execution_count": 107,
     "metadata": {},
     "output_type": "execute_result"
    }
   ],
   "source": [
    "mul1 * mul2"
   ]
  },
  {
   "cell_type": "markdown",
   "id": "b7a9176c",
   "metadata": {},
   "source": [
    "### Operator Overloading"
   ]
  },
  {
   "cell_type": "markdown",
   "id": "6fadce03",
   "metadata": {},
   "source": [
    "1. mul() method is override to perform addition operation for multiplication symbol (i.e. *)"
   ]
  },
  {
   "cell_type": "code",
   "execution_count": 108,
   "id": "795860b2",
   "metadata": {},
   "outputs": [],
   "source": [
    "class multiplynumeric:\n",
    "    def __init__(self,a):\n",
    "        self.a = a\n",
    "\n",
    "    def __mul__(self, other):\n",
    "        return self.a + other.a"
   ]
  },
  {
   "cell_type": "code",
   "execution_count": 109,
   "id": "18a14520",
   "metadata": {},
   "outputs": [],
   "source": [
    "mul1 = multiplynumeric(9)\n",
    "mul2 = multiplynumeric(2)"
   ]
  },
  {
   "cell_type": "code",
   "execution_count": 110,
   "id": "f7273d27",
   "metadata": {},
   "outputs": [
    {
     "data": {
      "text/plain": [
       "11"
      ]
     },
     "execution_count": 110,
     "metadata": {},
     "output_type": "execute_result"
    }
   ],
   "source": [
    "mul1 * mul2"
   ]
  },
  {
   "cell_type": "markdown",
   "id": "ed9c4c88",
   "metadata": {},
   "source": [
    "1. mul() method is override to perform subtraction operation for multiplication symbol (i.e. *)"
   ]
  },
  {
   "cell_type": "code",
   "execution_count": 113,
   "id": "24be69bf",
   "metadata": {},
   "outputs": [
    {
     "data": {
      "text/plain": [
       "7"
      ]
     },
     "execution_count": 113,
     "metadata": {},
     "output_type": "execute_result"
    }
   ],
   "source": [
    "class multiplynumeric:\n",
    "    def __init__(self,a):\n",
    "        self.a = a\n",
    "\n",
    "    def __mul__(self, other):\n",
    "        return self.a - other.a\n",
    "    \n",
    "##################################\n",
    "mul1 = multiplynumeric(9)\n",
    "mul2 = multiplynumeric(2)\n",
    "\n",
    "##################################\n",
    "mul1 * mul2"
   ]
  },
  {
   "cell_type": "code",
   "execution_count": 114,
   "id": "2f68b5d8",
   "metadata": {},
   "outputs": [],
   "source": [
    "def test(a,b):\n",
    "    return a+b"
   ]
  },
  {
   "cell_type": "markdown",
   "id": "3dff22b7",
   "metadata": {},
   "source": [
    "### Polymorphism"
   ]
  },
  {
   "cell_type": "code",
   "execution_count": 118,
   "id": "cd93f059",
   "metadata": {},
   "outputs": [
    {
     "name": "stdout",
     "output_type": "stream",
     "text": [
      "11\n",
      "sach B\n",
      "[3, 4, 5, 6, 7, 8, 8, 7, 6, 5, 4, 3]\n"
     ]
    }
   ],
   "source": [
    "print(test(5,6))\n",
    "print(test(\"sach \",\"B\"))\n",
    "print(test([3,4,5,6,7,8],[8,7,6,5,4,3]))"
   ]
  },
  {
   "cell_type": "markdown",
   "id": "f0a7892d",
   "metadata": {},
   "source": [
    "Same function behave differently with different data that is Polymorphism"
   ]
  },
  {
   "cell_type": "code",
   "execution_count": 128,
   "id": "008da53f",
   "metadata": {},
   "outputs": [],
   "source": [
    "class Abc:\n",
    "    def msg(self):\n",
    "        print(\"this msg is to Abc\")\n",
    "\n",
    "class Xyz:\n",
    "    def msg(self):\n",
    "        print(\"this msg is to Xyz\")        "
   ]
  },
  {
   "cell_type": "code",
   "execution_count": 129,
   "id": "797f1ccc",
   "metadata": {},
   "outputs": [],
   "source": [
    "def test(notes):\n",
    "    notes.msg()"
   ]
  },
  {
   "cell_type": "code",
   "execution_count": 130,
   "id": "7c1fc92d",
   "metadata": {},
   "outputs": [],
   "source": [
    "a = Abc()\n",
    "x = Xyz()"
   ]
  },
  {
   "cell_type": "code",
   "execution_count": 131,
   "id": "038391af",
   "metadata": {},
   "outputs": [
    {
     "name": "stdout",
     "output_type": "stream",
     "text": [
      "this msg is to Abc\n"
     ]
    }
   ],
   "source": [
    "test(a)"
   ]
  },
  {
   "cell_type": "code",
   "execution_count": 132,
   "id": "f1170711",
   "metadata": {},
   "outputs": [
    {
     "name": "stdout",
     "output_type": "stream",
     "text": [
      "this msg is to Xyz\n"
     ]
    }
   ],
   "source": [
    "test(x)"
   ]
  },
  {
   "cell_type": "markdown",
   "id": "74a3b18d",
   "metadata": {},
   "source": [
    "In above example, `test()` method behave differently with different object so this is again example of Polymorphism"
   ]
  },
  {
   "cell_type": "code",
   "execution_count": null,
   "id": "fe4092e3",
   "metadata": {},
   "outputs": [],
   "source": []
  }
 ],
 "metadata": {
  "kernelspec": {
   "display_name": "Python 3 (ipykernel)",
   "language": "python",
   "name": "python3"
  },
  "language_info": {
   "codemirror_mode": {
    "name": "ipython",
    "version": 3
   },
   "file_extension": ".py",
   "mimetype": "text/x-python",
   "name": "python",
   "nbconvert_exporter": "python",
   "pygments_lexer": "ipython3",
   "version": "3.9.7"
  }
 },
 "nbformat": 4,
 "nbformat_minor": 5
}
